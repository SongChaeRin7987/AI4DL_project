{
  "cells": [
    {
      "cell_type": "markdown",
      "source": [
        "# 라이브러리 설치,import, 데이터 준비\n",
        "\n"
      ],
      "metadata": {
        "id": "93y-No3c9vFa"
      }
    },
    {
      "cell_type": "code",
      "source": [
        "!pip install keras_preprocessing"
      ],
      "metadata": {
        "id": "s5GNjkvXn6jh",
        "outputId": "1e1d7ece-9913-4208-dd60-64fd0b11894f",
        "colab": {
          "base_uri": "https://localhost:8080/"
        }
      },
      "execution_count": null,
      "outputs": [
        {
          "output_type": "stream",
          "name": "stdout",
          "text": [
            "Looking in indexes: https://pypi.org/simple, https://us-python.pkg.dev/colab-wheels/public/simple/\n",
            "Requirement already satisfied: keras_preprocessing in /usr/local/lib/python3.10/dist-packages (1.1.2)\n",
            "Requirement already satisfied: numpy>=1.9.1 in /usr/local/lib/python3.10/dist-packages (from keras_preprocessing) (1.22.4)\n",
            "Requirement already satisfied: six>=1.9.0 in /usr/local/lib/python3.10/dist-packages (from keras_preprocessing) (1.16.0)\n"
          ]
        }
      ]
    },
    {
      "cell_type": "code",
      "source": [
        "!pip install emoji"
      ],
      "metadata": {
        "id": "ms11RtN3q7K1",
        "outputId": "e1cde156-534f-487d-f907-d9849793ebce",
        "colab": {
          "base_uri": "https://localhost:8080/"
        }
      },
      "execution_count": null,
      "outputs": [
        {
          "output_type": "stream",
          "name": "stdout",
          "text": [
            "Looking in indexes: https://pypi.org/simple, https://us-python.pkg.dev/colab-wheels/public/simple/\n",
            "Requirement already satisfied: emoji in /usr/local/lib/python3.10/dist-packages (2.4.0)\n"
          ]
        }
      ]
    },
    {
      "cell_type": "code",
      "source": [
        "!pip install autocorrect"
      ],
      "metadata": {
        "colab": {
          "base_uri": "https://localhost:8080/"
        },
        "id": "zaN9KLEadOp9",
        "outputId": "e95653fb-13d0-4ac0-d0b1-22534ffe2127"
      },
      "execution_count": null,
      "outputs": [
        {
          "output_type": "stream",
          "name": "stdout",
          "text": [
            "Looking in indexes: https://pypi.org/simple, https://us-python.pkg.dev/colab-wheels/public/simple/\n",
            "Requirement already satisfied: autocorrect in /usr/local/lib/python3.10/dist-packages (2.6.1)\n"
          ]
        }
      ]
    },
    {
      "cell_type": "code",
      "source": [
        "import nltk\n",
        "nltk.download('punkt')\n",
        "nltk.download('stopwords')\n",
        "\n",
        "from nltk.corpus import stopwords\n",
        "stop=set(stopwords.words('english'))"
      ],
      "metadata": {
        "id": "1m4AvoWrnYw7",
        "outputId": "a2c58bf9-561c-42af-c873-3adc32e5062e",
        "colab": {
          "base_uri": "https://localhost:8080/"
        }
      },
      "execution_count": null,
      "outputs": [
        {
          "output_type": "stream",
          "name": "stderr",
          "text": [
            "[nltk_data] Downloading package punkt to /root/nltk_data...\n",
            "[nltk_data]   Package punkt is already up-to-date!\n",
            "[nltk_data] Downloading package stopwords to /root/nltk_data...\n",
            "[nltk_data]   Package stopwords is already up-to-date!\n"
          ]
        }
      ]
    },
    {
      "cell_type": "code",
      "source": [
        "import pandas as pd\n",
        "import matplotlib.pyplot as plt\n",
        "import seaborn as sns\n",
        "import numpy as np\n",
        "\n",
        "from nltk.util import ngrams\n",
        "from sklearn.feature_extraction.text import CountVectorizer\n",
        "from collections import defaultdict\n",
        "from collections import  Counter\n",
        "plt.style.use('ggplot')\n",
        "\n",
        "import re\n",
        "from nltk.tokenize import word_tokenize\n",
        "import wordcloud\n",
        "import gensim\n",
        "import string\n",
        "from keras.preprocessing.text import Tokenizer\n",
        "from keras_preprocessing.sequence import pad_sequences #keras_preprocessing\n",
        "\n",
        "from tqdm import tqdm\n",
        "from keras.models import Sequential\n",
        "from keras.layers import Embedding,LSTM,Dense,SpatialDropout1D\n",
        "from keras.initializers import Constant\n",
        "from sklearn.model_selection import train_test_split\n",
        "\n",
        "import os \n",
        "import warnings\n",
        "warnings.filterwarnings(action  = 'ignore')\n",
        "\n",
        "import tensorflow as tf\n",
        "from tensorflow import keras\n",
        "from tensorflow.keras import layers\n",
        "from tensorflow.keras.optimizers import Adam\n",
        "from tensorflow.keras.callbacks import EarlyStopping\n",
        "from tensorflow.keras.initializers import TruncatedNormal\n",
        "from tensorflow.keras.losses import CategoricalCrossentropy,BinaryCrossentropy\n",
        "from tensorflow.keras.metrics import CategoricalAccuracy,BinaryAccuracy\n",
        "from tensorflow.keras.utils import to_categorical\n",
        "from tensorflow.keras.utils import plot_model\n",
        "\n",
        "from autocorrect import Speller "
      ],
      "metadata": {
        "id": "kgMw6dTnnMCX"
      },
      "execution_count": null,
      "outputs": []
    },
    {
      "cell_type": "code",
      "source": [
        "#%config Completer.use_jedi = False"
      ],
      "metadata": {
        "id": "yMQH_aeInMNe"
      },
      "execution_count": null,
      "outputs": []
    },
    {
      "cell_type": "code",
      "source": [
        "from google.colab import drive\n",
        "drive.mount('/content/drive')"
      ],
      "metadata": {
        "id": "mnf4tDo-oxeZ",
        "outputId": "614f1427-7541-4e4f-c5ca-66ee01af6f42",
        "colab": {
          "base_uri": "https://localhost:8080/"
        }
      },
      "execution_count": null,
      "outputs": [
        {
          "output_type": "stream",
          "name": "stdout",
          "text": [
            "Drive already mounted at /content/drive; to attempt to forcibly remount, call drive.mount(\"/content/drive\", force_remount=True).\n"
          ]
        }
      ]
    },
    {
      "cell_type": "code",
      "source": [
        "df_train = pd.read_csv('drive/MyDrive/AI4DL_project/train.csv')\n",
        "df_test = pd.read_csv('drive/MyDrive/AI4DL_project/test.csv')\n",
        "df_sample = pd.read_csv('drive/MyDrive/AI4DL_project/sample_submission.csv')"
      ],
      "metadata": {
        "id": "8oSs_FkQoo5L"
      },
      "execution_count": null,
      "outputs": []
    },
    {
      "cell_type": "code",
      "source": [
        "df_train.head()"
      ],
      "metadata": {
        "id": "sMx-tzcTnMQI",
        "outputId": "bb90de60-a831-400a-eacf-b7bdd8a6af83",
        "colab": {
          "base_uri": "https://localhost:8080/",
          "height": 206
        }
      },
      "execution_count": null,
      "outputs": [
        {
          "output_type": "execute_result",
          "data": {
            "text/plain": [
              "   id keyword location                                               text  \\\n",
              "0   1     NaN      NaN  Our Deeds are the Reason of this #earthquake M...   \n",
              "1   4     NaN      NaN             Forest fire near La Ronge Sask. Canada   \n",
              "2   5     NaN      NaN  All residents asked to 'shelter in place' are ...   \n",
              "3   6     NaN      NaN  13,000 people receive #wildfires evacuation or...   \n",
              "4   7     NaN      NaN  Just got sent this photo from Ruby #Alaska as ...   \n",
              "\n",
              "   target  \n",
              "0       1  \n",
              "1       1  \n",
              "2       1  \n",
              "3       1  \n",
              "4       1  "
            ],
            "text/html": [
              "\n",
              "  <div id=\"df-62997c6c-844b-4aed-8131-2992c54f6e51\">\n",
              "    <div class=\"colab-df-container\">\n",
              "      <div>\n",
              "<style scoped>\n",
              "    .dataframe tbody tr th:only-of-type {\n",
              "        vertical-align: middle;\n",
              "    }\n",
              "\n",
              "    .dataframe tbody tr th {\n",
              "        vertical-align: top;\n",
              "    }\n",
              "\n",
              "    .dataframe thead th {\n",
              "        text-align: right;\n",
              "    }\n",
              "</style>\n",
              "<table border=\"1\" class=\"dataframe\">\n",
              "  <thead>\n",
              "    <tr style=\"text-align: right;\">\n",
              "      <th></th>\n",
              "      <th>id</th>\n",
              "      <th>keyword</th>\n",
              "      <th>location</th>\n",
              "      <th>text</th>\n",
              "      <th>target</th>\n",
              "    </tr>\n",
              "  </thead>\n",
              "  <tbody>\n",
              "    <tr>\n",
              "      <th>0</th>\n",
              "      <td>1</td>\n",
              "      <td>NaN</td>\n",
              "      <td>NaN</td>\n",
              "      <td>Our Deeds are the Reason of this #earthquake M...</td>\n",
              "      <td>1</td>\n",
              "    </tr>\n",
              "    <tr>\n",
              "      <th>1</th>\n",
              "      <td>4</td>\n",
              "      <td>NaN</td>\n",
              "      <td>NaN</td>\n",
              "      <td>Forest fire near La Ronge Sask. Canada</td>\n",
              "      <td>1</td>\n",
              "    </tr>\n",
              "    <tr>\n",
              "      <th>2</th>\n",
              "      <td>5</td>\n",
              "      <td>NaN</td>\n",
              "      <td>NaN</td>\n",
              "      <td>All residents asked to 'shelter in place' are ...</td>\n",
              "      <td>1</td>\n",
              "    </tr>\n",
              "    <tr>\n",
              "      <th>3</th>\n",
              "      <td>6</td>\n",
              "      <td>NaN</td>\n",
              "      <td>NaN</td>\n",
              "      <td>13,000 people receive #wildfires evacuation or...</td>\n",
              "      <td>1</td>\n",
              "    </tr>\n",
              "    <tr>\n",
              "      <th>4</th>\n",
              "      <td>7</td>\n",
              "      <td>NaN</td>\n",
              "      <td>NaN</td>\n",
              "      <td>Just got sent this photo from Ruby #Alaska as ...</td>\n",
              "      <td>1</td>\n",
              "    </tr>\n",
              "  </tbody>\n",
              "</table>\n",
              "</div>\n",
              "      <button class=\"colab-df-convert\" onclick=\"convertToInteractive('df-62997c6c-844b-4aed-8131-2992c54f6e51')\"\n",
              "              title=\"Convert this dataframe to an interactive table.\"\n",
              "              style=\"display:none;\">\n",
              "        \n",
              "  <svg xmlns=\"http://www.w3.org/2000/svg\" height=\"24px\"viewBox=\"0 0 24 24\"\n",
              "       width=\"24px\">\n",
              "    <path d=\"M0 0h24v24H0V0z\" fill=\"none\"/>\n",
              "    <path d=\"M18.56 5.44l.94 2.06.94-2.06 2.06-.94-2.06-.94-.94-2.06-.94 2.06-2.06.94zm-11 1L8.5 8.5l.94-2.06 2.06-.94-2.06-.94L8.5 2.5l-.94 2.06-2.06.94zm10 10l.94 2.06.94-2.06 2.06-.94-2.06-.94-.94-2.06-.94 2.06-2.06.94z\"/><path d=\"M17.41 7.96l-1.37-1.37c-.4-.4-.92-.59-1.43-.59-.52 0-1.04.2-1.43.59L10.3 9.45l-7.72 7.72c-.78.78-.78 2.05 0 2.83L4 21.41c.39.39.9.59 1.41.59.51 0 1.02-.2 1.41-.59l7.78-7.78 2.81-2.81c.8-.78.8-2.07 0-2.86zM5.41 20L4 18.59l7.72-7.72 1.47 1.35L5.41 20z\"/>\n",
              "  </svg>\n",
              "      </button>\n",
              "      \n",
              "  <style>\n",
              "    .colab-df-container {\n",
              "      display:flex;\n",
              "      flex-wrap:wrap;\n",
              "      gap: 12px;\n",
              "    }\n",
              "\n",
              "    .colab-df-convert {\n",
              "      background-color: #E8F0FE;\n",
              "      border: none;\n",
              "      border-radius: 50%;\n",
              "      cursor: pointer;\n",
              "      display: none;\n",
              "      fill: #1967D2;\n",
              "      height: 32px;\n",
              "      padding: 0 0 0 0;\n",
              "      width: 32px;\n",
              "    }\n",
              "\n",
              "    .colab-df-convert:hover {\n",
              "      background-color: #E2EBFA;\n",
              "      box-shadow: 0px 1px 2px rgba(60, 64, 67, 0.3), 0px 1px 3px 1px rgba(60, 64, 67, 0.15);\n",
              "      fill: #174EA6;\n",
              "    }\n",
              "\n",
              "    [theme=dark] .colab-df-convert {\n",
              "      background-color: #3B4455;\n",
              "      fill: #D2E3FC;\n",
              "    }\n",
              "\n",
              "    [theme=dark] .colab-df-convert:hover {\n",
              "      background-color: #434B5C;\n",
              "      box-shadow: 0px 1px 3px 1px rgba(0, 0, 0, 0.15);\n",
              "      filter: drop-shadow(0px 1px 2px rgba(0, 0, 0, 0.3));\n",
              "      fill: #FFFFFF;\n",
              "    }\n",
              "  </style>\n",
              "\n",
              "      <script>\n",
              "        const buttonEl =\n",
              "          document.querySelector('#df-62997c6c-844b-4aed-8131-2992c54f6e51 button.colab-df-convert');\n",
              "        buttonEl.style.display =\n",
              "          google.colab.kernel.accessAllowed ? 'block' : 'none';\n",
              "\n",
              "        async function convertToInteractive(key) {\n",
              "          const element = document.querySelector('#df-62997c6c-844b-4aed-8131-2992c54f6e51');\n",
              "          const dataTable =\n",
              "            await google.colab.kernel.invokeFunction('convertToInteractive',\n",
              "                                                     [key], {});\n",
              "          if (!dataTable) return;\n",
              "\n",
              "          const docLinkHtml = 'Like what you see? Visit the ' +\n",
              "            '<a target=\"_blank\" href=https://colab.research.google.com/notebooks/data_table.ipynb>data table notebook</a>'\n",
              "            + ' to learn more about interactive tables.';\n",
              "          element.innerHTML = '';\n",
              "          dataTable['output_type'] = 'display_data';\n",
              "          await google.colab.output.renderOutput(dataTable, element);\n",
              "          const docLink = document.createElement('div');\n",
              "          docLink.innerHTML = docLinkHtml;\n",
              "          element.appendChild(docLink);\n",
              "        }\n",
              "      </script>\n",
              "    </div>\n",
              "  </div>\n",
              "  "
            ]
          },
          "metadata": {},
          "execution_count": 10
        }
      ]
    },
    {
      "cell_type": "code",
      "source": [
        "df_train.shape"
      ],
      "metadata": {
        "id": "zi58Xu9qqKJf",
        "outputId": "8613828e-ef8b-4140-8f2b-e91985b318b4",
        "colab": {
          "base_uri": "https://localhost:8080/"
        }
      },
      "execution_count": null,
      "outputs": [
        {
          "output_type": "execute_result",
          "data": {
            "text/plain": [
              "(7613, 5)"
            ]
          },
          "metadata": {},
          "execution_count": 11
        }
      ]
    },
    {
      "cell_type": "code",
      "source": [
        "df_test.shape"
      ],
      "metadata": {
        "id": "eqq3SSkDqISy",
        "outputId": "3427cfba-3a4b-4885-efe0-601a4903120d",
        "colab": {
          "base_uri": "https://localhost:8080/"
        }
      },
      "execution_count": null,
      "outputs": [
        {
          "output_type": "execute_result",
          "data": {
            "text/plain": [
              "(3263, 4)"
            ]
          },
          "metadata": {},
          "execution_count": 12
        }
      ]
    },
    {
      "cell_type": "code",
      "source": [
        "df_test.head()"
      ],
      "metadata": {
        "colab": {
          "base_uri": "https://localhost:8080/",
          "height": 206
        },
        "id": "qTxk3CgWoGA4",
        "outputId": "626832cd-ea8f-43a8-d3b8-9a8a1af2cbf7"
      },
      "execution_count": null,
      "outputs": [
        {
          "output_type": "execute_result",
          "data": {
            "text/plain": [
              "   id keyword location                                               text\n",
              "0   0     NaN      NaN                 Just happened a terrible car crash\n",
              "1   2     NaN      NaN  Heard about #earthquake is different cities, s...\n",
              "2   3     NaN      NaN  there is a forest fire at spot pond, geese are...\n",
              "3   9     NaN      NaN           Apocalypse lighting. #Spokane #wildfires\n",
              "4  11     NaN      NaN      Typhoon Soudelor kills 28 in China and Taiwan"
            ],
            "text/html": [
              "\n",
              "  <div id=\"df-d6473f30-6b4e-45b2-850d-13cab96cb5c7\">\n",
              "    <div class=\"colab-df-container\">\n",
              "      <div>\n",
              "<style scoped>\n",
              "    .dataframe tbody tr th:only-of-type {\n",
              "        vertical-align: middle;\n",
              "    }\n",
              "\n",
              "    .dataframe tbody tr th {\n",
              "        vertical-align: top;\n",
              "    }\n",
              "\n",
              "    .dataframe thead th {\n",
              "        text-align: right;\n",
              "    }\n",
              "</style>\n",
              "<table border=\"1\" class=\"dataframe\">\n",
              "  <thead>\n",
              "    <tr style=\"text-align: right;\">\n",
              "      <th></th>\n",
              "      <th>id</th>\n",
              "      <th>keyword</th>\n",
              "      <th>location</th>\n",
              "      <th>text</th>\n",
              "    </tr>\n",
              "  </thead>\n",
              "  <tbody>\n",
              "    <tr>\n",
              "      <th>0</th>\n",
              "      <td>0</td>\n",
              "      <td>NaN</td>\n",
              "      <td>NaN</td>\n",
              "      <td>Just happened a terrible car crash</td>\n",
              "    </tr>\n",
              "    <tr>\n",
              "      <th>1</th>\n",
              "      <td>2</td>\n",
              "      <td>NaN</td>\n",
              "      <td>NaN</td>\n",
              "      <td>Heard about #earthquake is different cities, s...</td>\n",
              "    </tr>\n",
              "    <tr>\n",
              "      <th>2</th>\n",
              "      <td>3</td>\n",
              "      <td>NaN</td>\n",
              "      <td>NaN</td>\n",
              "      <td>there is a forest fire at spot pond, geese are...</td>\n",
              "    </tr>\n",
              "    <tr>\n",
              "      <th>3</th>\n",
              "      <td>9</td>\n",
              "      <td>NaN</td>\n",
              "      <td>NaN</td>\n",
              "      <td>Apocalypse lighting. #Spokane #wildfires</td>\n",
              "    </tr>\n",
              "    <tr>\n",
              "      <th>4</th>\n",
              "      <td>11</td>\n",
              "      <td>NaN</td>\n",
              "      <td>NaN</td>\n",
              "      <td>Typhoon Soudelor kills 28 in China and Taiwan</td>\n",
              "    </tr>\n",
              "  </tbody>\n",
              "</table>\n",
              "</div>\n",
              "      <button class=\"colab-df-convert\" onclick=\"convertToInteractive('df-d6473f30-6b4e-45b2-850d-13cab96cb5c7')\"\n",
              "              title=\"Convert this dataframe to an interactive table.\"\n",
              "              style=\"display:none;\">\n",
              "        \n",
              "  <svg xmlns=\"http://www.w3.org/2000/svg\" height=\"24px\"viewBox=\"0 0 24 24\"\n",
              "       width=\"24px\">\n",
              "    <path d=\"M0 0h24v24H0V0z\" fill=\"none\"/>\n",
              "    <path d=\"M18.56 5.44l.94 2.06.94-2.06 2.06-.94-2.06-.94-.94-2.06-.94 2.06-2.06.94zm-11 1L8.5 8.5l.94-2.06 2.06-.94-2.06-.94L8.5 2.5l-.94 2.06-2.06.94zm10 10l.94 2.06.94-2.06 2.06-.94-2.06-.94-.94-2.06-.94 2.06-2.06.94z\"/><path d=\"M17.41 7.96l-1.37-1.37c-.4-.4-.92-.59-1.43-.59-.52 0-1.04.2-1.43.59L10.3 9.45l-7.72 7.72c-.78.78-.78 2.05 0 2.83L4 21.41c.39.39.9.59 1.41.59.51 0 1.02-.2 1.41-.59l7.78-7.78 2.81-2.81c.8-.78.8-2.07 0-2.86zM5.41 20L4 18.59l7.72-7.72 1.47 1.35L5.41 20z\"/>\n",
              "  </svg>\n",
              "      </button>\n",
              "      \n",
              "  <style>\n",
              "    .colab-df-container {\n",
              "      display:flex;\n",
              "      flex-wrap:wrap;\n",
              "      gap: 12px;\n",
              "    }\n",
              "\n",
              "    .colab-df-convert {\n",
              "      background-color: #E8F0FE;\n",
              "      border: none;\n",
              "      border-radius: 50%;\n",
              "      cursor: pointer;\n",
              "      display: none;\n",
              "      fill: #1967D2;\n",
              "      height: 32px;\n",
              "      padding: 0 0 0 0;\n",
              "      width: 32px;\n",
              "    }\n",
              "\n",
              "    .colab-df-convert:hover {\n",
              "      background-color: #E2EBFA;\n",
              "      box-shadow: 0px 1px 2px rgba(60, 64, 67, 0.3), 0px 1px 3px 1px rgba(60, 64, 67, 0.15);\n",
              "      fill: #174EA6;\n",
              "    }\n",
              "\n",
              "    [theme=dark] .colab-df-convert {\n",
              "      background-color: #3B4455;\n",
              "      fill: #D2E3FC;\n",
              "    }\n",
              "\n",
              "    [theme=dark] .colab-df-convert:hover {\n",
              "      background-color: #434B5C;\n",
              "      box-shadow: 0px 1px 3px 1px rgba(0, 0, 0, 0.15);\n",
              "      filter: drop-shadow(0px 1px 2px rgba(0, 0, 0, 0.3));\n",
              "      fill: #FFFFFF;\n",
              "    }\n",
              "  </style>\n",
              "\n",
              "      <script>\n",
              "        const buttonEl =\n",
              "          document.querySelector('#df-d6473f30-6b4e-45b2-850d-13cab96cb5c7 button.colab-df-convert');\n",
              "        buttonEl.style.display =\n",
              "          google.colab.kernel.accessAllowed ? 'block' : 'none';\n",
              "\n",
              "        async function convertToInteractive(key) {\n",
              "          const element = document.querySelector('#df-d6473f30-6b4e-45b2-850d-13cab96cb5c7');\n",
              "          const dataTable =\n",
              "            await google.colab.kernel.invokeFunction('convertToInteractive',\n",
              "                                                     [key], {});\n",
              "          if (!dataTable) return;\n",
              "\n",
              "          const docLinkHtml = 'Like what you see? Visit the ' +\n",
              "            '<a target=\"_blank\" href=https://colab.research.google.com/notebooks/data_table.ipynb>data table notebook</a>'\n",
              "            + ' to learn more about interactive tables.';\n",
              "          element.innerHTML = '';\n",
              "          dataTable['output_type'] = 'display_data';\n",
              "          await google.colab.output.renderOutput(dataTable, element);\n",
              "          const docLink = document.createElement('div');\n",
              "          docLink.innerHTML = docLinkHtml;\n",
              "          element.appendChild(docLink);\n",
              "        }\n",
              "      </script>\n",
              "    </div>\n",
              "  </div>\n",
              "  "
            ]
          },
          "metadata": {},
          "execution_count": 13
        }
      ]
    },
    {
      "cell_type": "markdown",
      "source": [
        "# EDA"
      ],
      "metadata": {
        "id": "jkxF_Rw8_Bfi"
      }
    },
    {
      "cell_type": "code",
      "source": [
        "def create_corpus(target):\n",
        "    corpus = []\n",
        "    for x in df_train[df_train[\"target\"] == target][\"text\"].str.split():\n",
        "        print(x)\n",
        "        for i in x:\n",
        "            corpus.append(i)\n",
        "            \n",
        "    return corpus"
      ],
      "metadata": {
        "id": "4MQAzX2J4dKS"
      },
      "execution_count": null,
      "outputs": []
    },
    {
      "cell_type": "code",
      "source": [
        "corpus = create_corpus(0)\n",
        "\n",
        "stop = set(stopwords.words(\"english\"))\n",
        "\n",
        "dictionary = defaultdict(int)\n",
        "for word in corpus:\n",
        "    if word in stop:\n",
        "        dictionary[word] +=1\n",
        "        \n",
        "top = sorted(dictionary.items(), key = lambda x:x[1], reverse=True)[:10]"
      ],
      "metadata": {
        "id": "-OWzND5o4hk2"
      },
      "execution_count": null,
      "outputs": []
    },
    {
      "cell_type": "code",
      "source": [
        "x, y = zip(*top)\n",
        "\n",
        "plt.grid()\n",
        "plt.bar(x,y)\n",
        "plt.title(\"top words 0\")"
      ],
      "metadata": {
        "colab": {
          "base_uri": "https://localhost:8080/"
        },
        "id": "4EJJ-sfQ6LwJ",
        "outputId": "cf49ce79-06fd-4e6c-d4e8-db1abf0f3fae"
      },
      "execution_count": null,
      "outputs": [
        {
          "output_type": "execute_result",
          "data": {
            "text/plain": [
              "Text(0.5, 1.0, 'top words 0')"
            ]
          },
          "metadata": {},
          "execution_count": 16
        },
        {
          "output_type": "display_data",
          "data": {
            "text/plain": [
              "<Figure size 640x480 with 1 Axes>"
            ],
            "image/png": "[encoded data removed]"
          },
          "metadata": {}
        }
      ]
    },
    {
      "cell_type": "code",
      "source": [
        "corpus = create_corpus(1)\n",
        "\n",
        "stop = set(stopwords.words(\"english\"))\n",
        "\n",
        "dictionary = defaultdict(int)\n",
        "for word in corpus:\n",
        "    if word in stop:\n",
        "        dictionary[word] +=1\n",
        "        \n",
        "top = sorted(dictionary.items(), key = lambda x:x[1], reverse=True)[:10]"
      ],
      "metadata": {
        "id": "0c6oX8EH6PAi"
      },
      "execution_count": null,
      "outputs": []
    },
    {
      "cell_type": "code",
      "source": [
        "x, y = zip(*top)\n",
        "\n",
        "plt.grid()\n",
        "plt.bar(x,y, color = 'r')\n",
        "plt.title(\"top words 1\")"
      ],
      "metadata": {
        "colab": {
          "base_uri": "https://localhost:8080/"
        },
        "id": "62wmk00t6wU4",
        "outputId": "98aebfa0-5dd2-4b75-aa1b-3f5182791845"
      },
      "execution_count": null,
      "outputs": [
        {
          "output_type": "execute_result",
          "data": {
            "text/plain": [
              "Text(0.5, 1.0, 'top words 1')"
            ]
          },
          "metadata": {},
          "execution_count": 18
        },
        {
          "output_type": "display_data",
          "data": {
            "text/plain": [
              "<Figure size 640x480 with 1 Axes>"
            ],
            "image/png": "[encoded data removed]"
          },
          "metadata": {}
        }
      ]
    },
    {
      "cell_type": "code",
      "source": [
        "corpus = create_corpus(1)\n",
        "\n",
        "dictionary = defaultdict(int)\n",
        "\n",
        "import string\n",
        "\n",
        "special_char = string.punctuation\n",
        "\n",
        "for i in corpus:\n",
        "    if i in special_char:\n",
        "        dictionary[i] +=1"
      ],
      "metadata": {
        "id": "srfmXCED61lP"
      },
      "execution_count": null,
      "outputs": []
    },
    {
      "cell_type": "code",
      "source": [
        "x,y = zip(*dictionary.items())\n",
        "\n",
        "plt.grid()\n",
        "plt.bar(x,y)\n",
        "plt.title(\"Punctuation disaster 1\")"
      ],
      "metadata": {
        "colab": {
          "base_uri": "https://localhost:8080/"
        },
        "id": "iR8b_9Fv6NF-",
        "outputId": "0522662a-8382-4498-ac03-0c23f9f36360"
      },
      "execution_count": null,
      "outputs": [
        {
          "output_type": "execute_result",
          "data": {
            "text/plain": [
              "Text(0.5, 1.0, 'Punctuation disaster 1')"
            ]
          },
          "metadata": {},
          "execution_count": 20
        },
        {
          "output_type": "display_data",
          "data": {
            "text/plain": [
              "<Figure size 640x480 with 1 Axes>"
            ],
            "image/png": "[encoded data removed]"
          },
          "metadata": {}
        }
      ]
    },
    {
      "cell_type": "code",
      "source": [
        "corpus = create_corpus(0)\n",
        "\n",
        "dictionary = defaultdict(int)\n",
        "\n",
        "import string\n",
        "\n",
        "special_char = string.punctuation\n",
        "\n",
        "for i in corpus:\n",
        "    if i in special_char:\n",
        "        dictionary[i] +=1"
      ],
      "metadata": {
        "id": "7ViSlo2X7GxP"
      },
      "execution_count": null,
      "outputs": []
    },
    {
      "cell_type": "code",
      "source": [
        "x,y = zip(*dictionary.items())\n",
        "\n",
        "plt.grid()\n",
        "plt.bar(x,y, color = 'r')\n",
        "plt.title(\"Punctuation disaster 0\")"
      ],
      "metadata": {
        "colab": {
          "base_uri": "https://localhost:8080/"
        },
        "id": "LkI86-kH7Vlk",
        "outputId": "cc860e15-216e-4b2f-c139-57dace1a29a0"
      },
      "execution_count": null,
      "outputs": [
        {
          "output_type": "execute_result",
          "data": {
            "text/plain": [
              "Text(0.5, 1.0, 'Punctuation disaster 0')"
            ]
          },
          "metadata": {},
          "execution_count": 22
        },
        {
          "output_type": "display_data",
          "data": {
            "text/plain": [
              "<Figure size 640x480 with 1 Axes>"
            ],
            "image/png": "[encoded data removed]"
          },
          "metadata": {}
        }
      ]
    },
    {
      "cell_type": "code",
      "source": [
        "counter = Counter(corpus)\n",
        "most = counter.most_common()\n",
        "x = []\n",
        "y = []\n",
        "\n",
        "for word, count in most[:40]:\n",
        "    if word not in stop:\n",
        "        x.append(word)\n",
        "        y.append(count)"
      ],
      "metadata": {
        "id": "I3stcZvv7fbQ"
      },
      "execution_count": null,
      "outputs": []
    },
    {
      "cell_type": "code",
      "source": [
        "plt.title(\"most common words\")\n",
        "plt.grid()\n",
        "sns.barplot(x = y, y = x)"
      ],
      "metadata": {
        "colab": {
          "base_uri": "https://localhost:8080/"
        },
        "id": "fjeZVaZE7hWQ",
        "outputId": "9d8b5f7c-8a42-4c5c-ef24-c17a7540aaca"
      },
      "execution_count": null,
      "outputs": [
        {
          "output_type": "execute_result",
          "data": {
            "text/plain": [
              "<Axes: title={'center': 'most common words'}>"
            ]
          },
          "metadata": {},
          "execution_count": 24
        },
        {
          "output_type": "display_data",
          "data": {
            "text/plain": [
              "<Figure size 640x480 with 1 Axes>"
            ],
            "image/png": "[encoded data removed]"
          },
          "metadata": {}
        }
      ]
    },
    {
      "cell_type": "markdown",
      "source": [
        "# 데이터 전처리"
      ],
      "metadata": {
        "id": "BwCp4wUX_INK"
      }
    },
    {
      "cell_type": "code",
      "source": [
        "import emoji\n",
        "\n",
        "def text_preproccessing(df):  \n",
        "    \n",
        "    df = df.copy()\n",
        "    \n",
        "    def remove_URL(text):\n",
        "        url = re.compile(r'https?://\\S+|www\\.\\S+')\n",
        "        return url.sub(r'',text)\n",
        "\n",
        "    def remove_html(text):\n",
        "        html=re.compile(r'<.*?>')\n",
        "        return html.sub(r'',text)\n",
        "\n",
        "    def remove_punct(text):\n",
        "        table=str.maketrans('','',string.punctuation)\n",
        "        return text.translate(table)\n",
        "\n",
        "    # Reference : https://gist.github.com/slowkow/7a7f61f495e3dbb7e3d767f97bd7304b\n",
        "    def remove_emoji(text):\n",
        "        emoji_pattern = re.compile(\"[\"\n",
        "                               u\"\\U0001F600-\\U0001F64F\"  # emoticons\n",
        "                               u\"\\U0001F300-\\U0001F5FF\"  # symbols & pictographs\n",
        "                               u\"\\U0001F680-\\U0001F6FF\"  # transport & map symbols\n",
        "                               u\"\\U0001F1E0-\\U0001F1FF\"  # flags (iOS)\n",
        "                               u\"\\U00002702-\\U000027B0\"\n",
        "                               u\"\\U000024C2-\\U0001F251\"\n",
        "                               \"]+\", flags=re.UNICODE)\n",
        "        return emoji_pattern.sub(r'', text)\n",
        "\n",
        "    def remove_stopwords(x):\n",
        "        return ' '.join([i for i in x.split() if i not in wordcloud.STOPWORDS])\n",
        "\n",
        "    def spell_check(x):\n",
        "        spell = Speller(lang='en')\n",
        "        return \" \".join([spell(i) for i in x.split()])\n",
        "\n",
        "    df['text']=df['text'].apply(lambda x : remove_URL(x))\n",
        "    df['text']=df['text'].apply(lambda x : remove_html(x))\n",
        "    df['text']=df['text'].apply(lambda x : remove_punct(x))\n",
        "    df['text']=df['text'].apply(lambda x : remove_emoji(x))\n",
        "    #df['text']=df['text'].apply(lambda x : remove_stopwords(x))\n",
        "    #df['text']=df['text'].apply(lambda x : spell_check(x))\n",
        "\n",
        "    return df\n"
      ],
      "metadata": {
        "id": "H5LB77HDq0yE"
      },
      "execution_count": null,
      "outputs": []
    },
    {
      "cell_type": "code",
      "source": [
        "df_train = text_preproccessing(df_train)\n",
        "df_test = text_preproccessing(df_test)"
      ],
      "metadata": {
        "id": "JS3VdyZ7hzAv"
      },
      "execution_count": null,
      "outputs": []
    },
    {
      "cell_type": "code",
      "source": [
        "df_train.shape"
      ],
      "metadata": {
        "id": "KYdrMISrufO1",
        "outputId": "22bbcab8-61af-45d4-f170-0733dfd7ed95",
        "colab": {
          "base_uri": "https://localhost:8080/"
        }
      },
      "execution_count": null,
      "outputs": [
        {
          "output_type": "execute_result",
          "data": {
            "text/plain": [
              "(7613, 5)"
            ]
          },
          "metadata": {},
          "execution_count": 59
        }
      ]
    },
    {
      "cell_type": "code",
      "source": [
        "df_train.head()"
      ],
      "metadata": {
        "colab": {
          "base_uri": "https://localhost:8080/",
          "height": 206
        },
        "id": "MPuBo_0XiNLS",
        "outputId": "2d176560-4ae3-49ef-bbc7-5b8ddd64bc8e"
      },
      "execution_count": null,
      "outputs": [
        {
          "output_type": "execute_result",
          "data": {
            "text/plain": [
              "   id keyword location                                               text  \\\n",
              "0   1     NaN      NaN  Our Deeds are the Reason of this earthquake Ma...   \n",
              "1   4     NaN      NaN              Forest fire near La Ronge Sask Canada   \n",
              "2   5     NaN      NaN  All residents asked to shelter in place are be...   \n",
              "3   6     NaN      NaN  13000 people receive wildfires evacuation orde...   \n",
              "4   7     NaN      NaN  Just got sent this photo from Ruby Alaska as s...   \n",
              "\n",
              "   target  \n",
              "0       1  \n",
              "1       1  \n",
              "2       1  \n",
              "3       1  \n",
              "4       1  "
            ],
            "text/html": [
              "\n",
              "  <div id=\"df-043b4369-8c68-4561-8fff-ee9eb86a6c9a\">\n",
              "    <div class=\"colab-df-container\">\n",
              "      <div>\n",
              "<style scoped>\n",
              "    .dataframe tbody tr th:only-of-type {\n",
              "        vertical-align: middle;\n",
              "    }\n",
              "\n",
              "    .dataframe tbody tr th {\n",
              "        vertical-align: top;\n",
              "    }\n",
              "\n",
              "    .dataframe thead th {\n",
              "        text-align: right;\n",
              "    }\n",
              "</style>\n",
              "<table border=\"1\" class=\"dataframe\">\n",
              "  <thead>\n",
              "    <tr style=\"text-align: right;\">\n",
              "      <th></th>\n",
              "      <th>id</th>\n",
              "      <th>keyword</th>\n",
              "      <th>location</th>\n",
              "      <th>text</th>\n",
              "      <th>target</th>\n",
              "    </tr>\n",
              "  </thead>\n",
              "  <tbody>\n",
              "    <tr>\n",
              "      <th>0</th>\n",
              "      <td>1</td>\n",
              "      <td>NaN</td>\n",
              "      <td>NaN</td>\n",
              "      <td>Our Deeds are the Reason of this earthquake Ma...</td>\n",
              "      <td>1</td>\n",
              "    </tr>\n",
              "    <tr>\n",
              "      <th>1</th>\n",
              "      <td>4</td>\n",
              "      <td>NaN</td>\n",
              "      <td>NaN</td>\n",
              "      <td>Forest fire near La Ronge Sask Canada</td>\n",
              "      <td>1</td>\n",
              "    </tr>\n",
              "    <tr>\n",
              "      <th>2</th>\n",
              "      <td>5</td>\n",
              "      <td>NaN</td>\n",
              "      <td>NaN</td>\n",
              "      <td>All residents asked to shelter in place are be...</td>\n",
              "      <td>1</td>\n",
              "    </tr>\n",
              "    <tr>\n",
              "      <th>3</th>\n",
              "      <td>6</td>\n",
              "      <td>NaN</td>\n",
              "      <td>NaN</td>\n",
              "      <td>13000 people receive wildfires evacuation orde...</td>\n",
              "      <td>1</td>\n",
              "    </tr>\n",
              "    <tr>\n",
              "      <th>4</th>\n",
              "      <td>7</td>\n",
              "      <td>NaN</td>\n",
              "      <td>NaN</td>\n",
              "      <td>Just got sent this photo from Ruby Alaska as s...</td>\n",
              "      <td>1</td>\n",
              "    </tr>\n",
              "  </tbody>\n",
              "</table>\n",
              "</div>\n",
              "      <button class=\"colab-df-convert\" onclick=\"convertToInteractive('df-043b4369-8c68-4561-8fff-ee9eb86a6c9a')\"\n",
              "              title=\"Convert this dataframe to an interactive table.\"\n",
              "              style=\"display:none;\">\n",
              "        \n",
              "  <svg xmlns=\"http://www.w3.org/2000/svg\" height=\"24px\"viewBox=\"0 0 24 24\"\n",
              "       width=\"24px\">\n",
              "    <path d=\"M0 0h24v24H0V0z\" fill=\"none\"/>\n",
              "    <path d=\"M18.56 5.44l.94 2.06.94-2.06 2.06-.94-2.06-.94-.94-2.06-.94 2.06-2.06.94zm-11 1L8.5 8.5l.94-2.06 2.06-.94-2.06-.94L8.5 2.5l-.94 2.06-2.06.94zm10 10l.94 2.06.94-2.06 2.06-.94-2.06-.94-.94-2.06-.94 2.06-2.06.94z\"/><path d=\"M17.41 7.96l-1.37-1.37c-.4-.4-.92-.59-1.43-.59-.52 0-1.04.2-1.43.59L10.3 9.45l-7.72 7.72c-.78.78-.78 2.05 0 2.83L4 21.41c.39.39.9.59 1.41.59.51 0 1.02-.2 1.41-.59l7.78-7.78 2.81-2.81c.8-.78.8-2.07 0-2.86zM5.41 20L4 18.59l7.72-7.72 1.47 1.35L5.41 20z\"/>\n",
              "  </svg>\n",
              "      </button>\n",
              "      \n",
              "  <style>\n",
              "    .colab-df-container {\n",
              "      display:flex;\n",
              "      flex-wrap:wrap;\n",
              "      gap: 12px;\n",
              "    }\n",
              "\n",
              "    .colab-df-convert {\n",
              "      background-color: #E8F0FE;\n",
              "      border: none;\n",
              "      border-radius: 50%;\n",
              "      cursor: pointer;\n",
              "      display: none;\n",
              "      fill: #1967D2;\n",
              "      height: 32px;\n",
              "      padding: 0 0 0 0;\n",
              "      width: 32px;\n",
              "    }\n",
              "\n",
              "    .colab-df-convert:hover {\n",
              "      background-color: #E2EBFA;\n",
              "      box-shadow: 0px 1px 2px rgba(60, 64, 67, 0.3), 0px 1px 3px 1px rgba(60, 64, 67, 0.15);\n",
              "      fill: #174EA6;\n",
              "    }\n",
              "\n",
              "    [theme=dark] .colab-df-convert {\n",
              "      background-color: #3B4455;\n",
              "      fill: #D2E3FC;\n",
              "    }\n",
              "\n",
              "    [theme=dark] .colab-df-convert:hover {\n",
              "      background-color: #434B5C;\n",
              "      box-shadow: 0px 1px 3px 1px rgba(0, 0, 0, 0.15);\n",
              "      filter: drop-shadow(0px 1px 2px rgba(0, 0, 0, 0.3));\n",
              "      fill: #FFFFFF;\n",
              "    }\n",
              "  </style>\n",
              "\n",
              "      <script>\n",
              "        const buttonEl =\n",
              "          document.querySelector('#df-043b4369-8c68-4561-8fff-ee9eb86a6c9a button.colab-df-convert');\n",
              "        buttonEl.style.display =\n",
              "          google.colab.kernel.accessAllowed ? 'block' : 'none';\n",
              "\n",
              "        async function convertToInteractive(key) {\n",
              "          const element = document.querySelector('#df-043b4369-8c68-4561-8fff-ee9eb86a6c9a');\n",
              "          const dataTable =\n",
              "            await google.colab.kernel.invokeFunction('convertToInteractive',\n",
              "                                                     [key], {});\n",
              "          if (!dataTable) return;\n",
              "\n",
              "          const docLinkHtml = 'Like what you see? Visit the ' +\n",
              "            '<a target=\"_blank\" href=https://colab.research.google.com/notebooks/data_table.ipynb>data table notebook</a>'\n",
              "            + ' to learn more about interactive tables.';\n",
              "          element.innerHTML = '';\n",
              "          dataTable['output_type'] = 'display_data';\n",
              "          await google.colab.output.renderOutput(dataTable, element);\n",
              "          const docLink = document.createElement('div');\n",
              "          docLink.innerHTML = docLinkHtml;\n",
              "          element.appendChild(docLink);\n",
              "        }\n",
              "      </script>\n",
              "    </div>\n",
              "  </div>\n",
              "  "
            ]
          },
          "metadata": {},
          "execution_count": 60
        }
      ]
    },
    {
      "cell_type": "code",
      "source": [
        "df_test.shape"
      ],
      "metadata": {
        "id": "07YGosD8u4m2",
        "outputId": "7c6cce52-58e4-469a-84c7-8a5777b90266",
        "colab": {
          "base_uri": "https://localhost:8080/"
        }
      },
      "execution_count": null,
      "outputs": [
        {
          "output_type": "execute_result",
          "data": {
            "text/plain": [
              "(3263, 4)"
            ]
          },
          "metadata": {},
          "execution_count": 61
        }
      ]
    },
    {
      "cell_type": "code",
      "source": [
        "df_test.head()"
      ],
      "metadata": {
        "colab": {
          "base_uri": "https://localhost:8080/",
          "height": 206
        },
        "id": "_w4IUpGnhcMw",
        "outputId": "3bf012d1-7349-4818-cad5-a00b02980086"
      },
      "execution_count": null,
      "outputs": [
        {
          "output_type": "execute_result",
          "data": {
            "text/plain": [
              "   id keyword location                                               text\n",
              "0   0     NaN      NaN                 Just happened a terrible car crash\n",
              "1   2     NaN      NaN  Heard about earthquake is different cities sta...\n",
              "2   3     NaN      NaN  there is a forest fire at spot pond geese are ...\n",
              "3   9     NaN      NaN              Apocalypse lighting Spokane wildfires\n",
              "4  11     NaN      NaN      Typhoon Soudelor kills 28 in China and Taiwan"
            ],
            "text/html": [
              "\n",
              "  <div id=\"df-57a45655-3076-4ef6-8dd8-7e6f937a4424\">\n",
              "    <div class=\"colab-df-container\">\n",
              "      <div>\n",
              "<style scoped>\n",
              "    .dataframe tbody tr th:only-of-type {\n",
              "        vertical-align: middle;\n",
              "    }\n",
              "\n",
              "    .dataframe tbody tr th {\n",
              "        vertical-align: top;\n",
              "    }\n",
              "\n",
              "    .dataframe thead th {\n",
              "        text-align: right;\n",
              "    }\n",
              "</style>\n",
              "<table border=\"1\" class=\"dataframe\">\n",
              "  <thead>\n",
              "    <tr style=\"text-align: right;\">\n",
              "      <th></th>\n",
              "      <th>id</th>\n",
              "      <th>keyword</th>\n",
              "      <th>location</th>\n",
              "      <th>text</th>\n",
              "    </tr>\n",
              "  </thead>\n",
              "  <tbody>\n",
              "    <tr>\n",
              "      <th>0</th>\n",
              "      <td>0</td>\n",
              "      <td>NaN</td>\n",
              "      <td>NaN</td>\n",
              "      <td>Just happened a terrible car crash</td>\n",
              "    </tr>\n",
              "    <tr>\n",
              "      <th>1</th>\n",
              "      <td>2</td>\n",
              "      <td>NaN</td>\n",
              "      <td>NaN</td>\n",
              "      <td>Heard about earthquake is different cities sta...</td>\n",
              "    </tr>\n",
              "    <tr>\n",
              "      <th>2</th>\n",
              "      <td>3</td>\n",
              "      <td>NaN</td>\n",
              "      <td>NaN</td>\n",
              "      <td>there is a forest fire at spot pond geese are ...</td>\n",
              "    </tr>\n",
              "    <tr>\n",
              "      <th>3</th>\n",
              "      <td>9</td>\n",
              "      <td>NaN</td>\n",
              "      <td>NaN</td>\n",
              "      <td>Apocalypse lighting Spokane wildfires</td>\n",
              "    </tr>\n",
              "    <tr>\n",
              "      <th>4</th>\n",
              "      <td>11</td>\n",
              "      <td>NaN</td>\n",
              "      <td>NaN</td>\n",
              "      <td>Typhoon Soudelor kills 28 in China and Taiwan</td>\n",
              "    </tr>\n",
              "  </tbody>\n",
              "</table>\n",
              "</div>\n",
              "      <button class=\"colab-df-convert\" onclick=\"convertToInteractive('df-57a45655-3076-4ef6-8dd8-7e6f937a4424')\"\n",
              "              title=\"Convert this dataframe to an interactive table.\"\n",
              "              style=\"display:none;\">\n",
              "        \n",
              "  <svg xmlns=\"http://www.w3.org/2000/svg\" height=\"24px\"viewBox=\"0 0 24 24\"\n",
              "       width=\"24px\">\n",
              "    <path d=\"M0 0h24v24H0V0z\" fill=\"none\"/>\n",
              "    <path d=\"M18.56 5.44l.94 2.06.94-2.06 2.06-.94-2.06-.94-.94-2.06-.94 2.06-2.06.94zm-11 1L8.5 8.5l.94-2.06 2.06-.94-2.06-.94L8.5 2.5l-.94 2.06-2.06.94zm10 10l.94 2.06.94-2.06 2.06-.94-2.06-.94-.94-2.06-.94 2.06-2.06.94z\"/><path d=\"M17.41 7.96l-1.37-1.37c-.4-.4-.92-.59-1.43-.59-.52 0-1.04.2-1.43.59L10.3 9.45l-7.72 7.72c-.78.78-.78 2.05 0 2.83L4 21.41c.39.39.9.59 1.41.59.51 0 1.02-.2 1.41-.59l7.78-7.78 2.81-2.81c.8-.78.8-2.07 0-2.86zM5.41 20L4 18.59l7.72-7.72 1.47 1.35L5.41 20z\"/>\n",
              "  </svg>\n",
              "      </button>\n",
              "      \n",
              "  <style>\n",
              "    .colab-df-container {\n",
              "      display:flex;\n",
              "      flex-wrap:wrap;\n",
              "      gap: 12px;\n",
              "    }\n",
              "\n",
              "    .colab-df-convert {\n",
              "      background-color: #E8F0FE;\n",
              "      border: none;\n",
              "      border-radius: 50%;\n",
              "      cursor: pointer;\n",
              "      display: none;\n",
              "      fill: #1967D2;\n",
              "      height: 32px;\n",
              "      padding: 0 0 0 0;\n",
              "      width: 32px;\n",
              "    }\n",
              "\n",
              "    .colab-df-convert:hover {\n",
              "      background-color: #E2EBFA;\n",
              "      box-shadow: 0px 1px 2px rgba(60, 64, 67, 0.3), 0px 1px 3px 1px rgba(60, 64, 67, 0.15);\n",
              "      fill: #174EA6;\n",
              "    }\n",
              "\n",
              "    [theme=dark] .colab-df-convert {\n",
              "      background-color: #3B4455;\n",
              "      fill: #D2E3FC;\n",
              "    }\n",
              "\n",
              "    [theme=dark] .colab-df-convert:hover {\n",
              "      background-color: #434B5C;\n",
              "      box-shadow: 0px 1px 3px 1px rgba(0, 0, 0, 0.15);\n",
              "      filter: drop-shadow(0px 1px 2px rgba(0, 0, 0, 0.3));\n",
              "      fill: #FFFFFF;\n",
              "    }\n",
              "  </style>\n",
              "\n",
              "      <script>\n",
              "        const buttonEl =\n",
              "          document.querySelector('#df-57a45655-3076-4ef6-8dd8-7e6f937a4424 button.colab-df-convert');\n",
              "        buttonEl.style.display =\n",
              "          google.colab.kernel.accessAllowed ? 'block' : 'none';\n",
              "\n",
              "        async function convertToInteractive(key) {\n",
              "          const element = document.querySelector('#df-57a45655-3076-4ef6-8dd8-7e6f937a4424');\n",
              "          const dataTable =\n",
              "            await google.colab.kernel.invokeFunction('convertToInteractive',\n",
              "                                                     [key], {});\n",
              "          if (!dataTable) return;\n",
              "\n",
              "          const docLinkHtml = 'Like what you see? Visit the ' +\n",
              "            '<a target=\"_blank\" href=https://colab.research.google.com/notebooks/data_table.ipynb>data table notebook</a>'\n",
              "            + ' to learn more about interactive tables.';\n",
              "          element.innerHTML = '';\n",
              "          dataTable['output_type'] = 'display_data';\n",
              "          await google.colab.output.renderOutput(dataTable, element);\n",
              "          const docLink = document.createElement('div');\n",
              "          docLink.innerHTML = docLinkHtml;\n",
              "          element.appendChild(docLink);\n",
              "        }\n",
              "      </script>\n",
              "    </div>\n",
              "  </div>\n",
              "  "
            ]
          },
          "metadata": {},
          "execution_count": 62
        }
      ]
    },
    {
      "cell_type": "code",
      "source": [
        "df=pd.concat([df_train,df_test])\n",
        "df.shape"
      ],
      "metadata": {
        "colab": {
          "base_uri": "https://localhost:8080/"
        },
        "id": "5P6QY6DBSqxT",
        "outputId": "e18028b9-dd43-4e23-f365-61d820a57983"
      },
      "execution_count": null,
      "outputs": [
        {
          "output_type": "execute_result",
          "data": {
            "text/plain": [
              "(10876, 5)"
            ]
          },
          "metadata": {},
          "execution_count": 63
        }
      ]
    },
    {
      "cell_type": "markdown",
      "source": [
        "# GLOVE"
      ],
      "metadata": {
        "id": "GtXo_job9ZkC"
      }
    },
    {
      "cell_type": "code",
      "source": [
        "def create_corpus(df):\n",
        "    corpus=[]\n",
        "    for tweet in tqdm(df['text']):\n",
        "        words=[word.lower() for word in word_tokenize(tweet) if((word.isalpha()==1) & (word not in stop))]\n",
        "        corpus.append(words)\n",
        "    return corpus"
      ],
      "metadata": {
        "id": "ABinmDVqUeFQ"
      },
      "execution_count": null,
      "outputs": []
    },
    {
      "cell_type": "code",
      "source": [
        "corpus=create_corpus(df)"
      ],
      "metadata": {
        "colab": {
          "base_uri": "https://localhost:8080/"
        },
        "id": "yOqh8ghvU46G",
        "outputId": "ca4d95a0-f863-4f71-fd8c-ef7666c3bddd"
      },
      "execution_count": null,
      "outputs": [
        {
          "output_type": "stream",
          "name": "stderr",
          "text": [
            "100%|██████████| 10876/10876 [00:01<00:00, 8109.41it/s]\n"
          ]
        }
      ]
    },
    {
      "cell_type": "code",
      "source": [
        "from urllib.request import urlretrieve, urlopen\n",
        "import gzip\n",
        "import zipfile\n",
        "\n",
        "#pre-trained word embedding download\n",
        "urlretrieve(\"http://nlp.stanford.edu/data/glove.6B.zip\", filename=\"glove.6B.zip\")\n",
        "zf = zipfile.ZipFile('glove.6B.zip')\n",
        "zf.extractall() \n",
        "zf.close()"
      ],
      "metadata": {
        "id": "v5FQpeyuGB-s"
      },
      "execution_count": null,
      "outputs": []
    },
    {
      "cell_type": "code",
      "source": [
        "embedding_dict = dict()\n",
        "\n",
        "f = open('glove.6B.100d.txt', encoding=\"utf8\")\n",
        "\n",
        "for line in f:\n",
        "    word_vector = line.split()\n",
        "    word = word_vector[0]\n",
        "\n",
        "    #100개의 값을 가지는 array로 변환\n",
        "    word_vector_arr = np.asarray(word_vector[1:], dtype='float32')\n",
        "    embedding_dict[word] = word_vector_arr\n",
        "f.close()\n",
        "\n",
        "print('%s개의 Embedding vector가 있습니다.' % len(embedding_dict))"
      ],
      "metadata": {
        "id": "ueNE__xpGppP",
        "colab": {
          "base_uri": "https://localhost:8080/"
        },
        "outputId": "3bffbc83-c591-49f8-9de2-40682a907939"
      },
      "execution_count": null,
      "outputs": [
        {
          "output_type": "stream",
          "name": "stdout",
          "text": [
            "400000개의 Embedding vector가 있습니다.\n"
          ]
        }
      ]
    },
    {
      "cell_type": "code",
      "source": [
        "embedding_dict['described']\n",
        "#임의의 단어의 임베딩 벡터"
      ],
      "metadata": {
        "id": "HjiFhGE8QRdP",
        "colab": {
          "base_uri": "https://localhost:8080/"
        },
        "outputId": "9848cea9-6cf5-4abd-c242-493d860fff4e"
      },
      "execution_count": null,
      "outputs": [
        {
          "output_type": "execute_result",
          "data": {
            "text/plain": [
              "array([-0.77675  , -0.39544  , -0.23503  ,  0.12374  , -0.062412 ,\n",
              "        0.16114  ,  0.41224  , -0.1183   , -0.24595  , -0.0042676,\n",
              "       -0.46711  , -0.1773   ,  0.22936  , -0.15351  ,  0.19196  ,\n",
              "        0.3456   ,  0.19291  , -0.48402  , -0.62981  , -0.05973  ,\n",
              "        0.30394  , -0.20145  ,  0.12788  , -0.29756  ,  0.014653 ,\n",
              "       -0.042935 , -0.097113 ,  0.043257 ,  0.02393  ,  0.73688  ,\n",
              "        0.22381  ,  0.18879  , -0.30323  ,  0.012293 ,  0.29425  ,\n",
              "        0.24309  ,  0.048583 ,  0.26707  , -0.056675 , -0.10544  ,\n",
              "       -0.80896  ,  0.23054  ,  0.70457  ,  0.37263  , -0.036724 ,\n",
              "       -0.23211  ,  0.12504  ,  0.044823 , -0.060565 , -0.14451  ,\n",
              "        0.66952  , -0.42189  ,  0.94151  ,  0.78102  , -0.50328  ,\n",
              "       -2.0984   , -0.18119  , -0.18671  ,  0.6576   ,  0.55676  ,\n",
              "       -0.081965 ,  0.61956  , -0.18996  , -0.38323  ,  0.94778  ,\n",
              "       -0.45197  ,  0.62815  ,  0.42958  ,  0.20367  ,  0.18164  ,\n",
              "       -0.2055   ,  0.35146  , -0.19534  , -0.034256 ,  0.2947   ,\n",
              "       -0.23132  ,  0.42717  , -0.19503  , -1.2855   ,  0.012154 ,\n",
              "        0.11264  ,  0.16971  , -0.2398   , -0.14967  , -1.1604   ,\n",
              "       -0.41215  , -0.19192  , -0.53752  , -0.61696  , -0.40836  ,\n",
              "        0.30794  , -0.41041  ,  0.028309 ,  0.25701  ,  0.30928  ,\n",
              "        0.09268  , -1.0273   , -0.74498  , -0.054252 , -0.2868   ],\n",
              "      dtype=float32)"
            ]
          },
          "metadata": {},
          "execution_count": 36
        }
      ]
    },
    {
      "cell_type": "code",
      "source": [
        "print('벡터의 차원 수 :',len(embedding_dict['described']))"
      ],
      "metadata": {
        "id": "MCQKSgUfQs7v",
        "colab": {
          "base_uri": "https://localhost:8080/"
        },
        "outputId": "e15b541a-09ac-4e40-adb6-ac43fadcadfe"
      },
      "execution_count": null,
      "outputs": [
        {
          "output_type": "stream",
          "name": "stdout",
          "text": [
            "벡터의 차원 수 : 100\n"
          ]
        }
      ]
    },
    {
      "cell_type": "code",
      "source": [
        "MAX_LEN=50\n",
        "tokenizer_obj=Tokenizer()\n",
        "tokenizer_obj.fit_on_texts(corpus)\n",
        "\n",
        "sequences=tokenizer_obj.texts_to_sequences(corpus)\n",
        "\n",
        "tweet_pad=pad_sequences(sequences,maxlen=MAX_LEN,truncating='post',padding='post')"
      ],
      "metadata": {
        "id": "9WaYXIM7VMSm"
      },
      "execution_count": null,
      "outputs": []
    },
    {
      "cell_type": "code",
      "source": [
        "tweet_pad"
      ],
      "metadata": {
        "id": "T-vNy_OrKj1Z",
        "colab": {
          "base_uri": "https://localhost:8080/"
        },
        "outputId": "7e8041d8-28eb-4532-c9cc-c9f5e09f7b1e"
      },
      "execution_count": null,
      "outputs": [
        {
          "output_type": "execute_result",
          "data": {
            "text/plain": [
              "array([[ 622, 5467,  738, ...,    0,    0,    0],\n",
              "       [  96,    7,  138, ...,    0,    0,    0],\n",
              "       [ 119, 1469, 1386, ...,    0,    0,    0],\n",
              "       ...,\n",
              "       [ 749,  478,  348, ...,    0,    0,    0],\n",
              "       [4085,  536,  372, ...,    0,    0,    0],\n",
              "       [3997, 2557, 1462, ...,    0,    0,    0]], dtype=int32)"
            ]
          },
          "metadata": {},
          "execution_count": 39
        }
      ]
    },
    {
      "cell_type": "code",
      "source": [
        "word_index=tokenizer_obj.word_index\n",
        "print('Number of unique words:',len(word_index))"
      ],
      "metadata": {
        "id": "qRgAwpWlVPqT",
        "colab": {
          "base_uri": "https://localhost:8080/"
        },
        "outputId": "fcbdf9f5-3f3b-4745-ef45-0c7e8bb48ece"
      },
      "execution_count": null,
      "outputs": [
        {
          "output_type": "stream",
          "name": "stdout",
          "text": [
            "Number of unique words: 20342\n"
          ]
        }
      ]
    },
    {
      "cell_type": "code",
      "source": [
        "num_words=len(word_index)"
      ],
      "metadata": {
        "id": "yZJBPJQlXPXW"
      },
      "execution_count": null,
      "outputs": []
    },
    {
      "cell_type": "code",
      "source": [
        "embedding_matrix = np.zeros((num_words, 100))"
      ],
      "metadata": {
        "id": "ORI44SDXXuE1"
      },
      "execution_count": null,
      "outputs": []
    },
    {
      "cell_type": "code",
      "source": [
        "len(word_index.items())"
      ],
      "metadata": {
        "id": "BThAVlF_j61o",
        "colab": {
          "base_uri": "https://localhost:8080/"
        },
        "outputId": "8258fb08-7c04-4371-b2d8-08166e3dbc3f"
      },
      "execution_count": null,
      "outputs": [
        {
          "output_type": "execute_result",
          "data": {
            "text/plain": [
              "20342"
            ]
          },
          "metadata": {},
          "execution_count": 43
        }
      ]
    },
    {
      "cell_type": "code",
      "source": [
        "for word,i in tqdm(word_index.items()):\n",
        "    if i > num_words:\n",
        "        continue\n",
        "    emb_vec=embedding_dict.get(word)\n",
        "    if emb_vec is not None:\n",
        "        embedding_matrix[i]=emb_vec"
      ],
      "metadata": {
        "id": "lspV0kZybNXo",
        "colab": {
          "base_uri": "https://localhost:8080/"
        },
        "outputId": "4e1a38cb-734c-45ff-9cca-ea981f40c95b"
      },
      "execution_count": null,
      "outputs": [
        {
          "output_type": "stream",
          "name": "stderr",
          "text": [
            "100%|██████████| 20342/20342 [00:00<00:00, 296678.32it/s]\n"
          ]
        }
      ]
    },
    {
      "cell_type": "code",
      "source": [
        "embedding_matrix.shape"
      ],
      "metadata": {
        "id": "WwwjJ67-bhgI",
        "colab": {
          "base_uri": "https://localhost:8080/"
        },
        "outputId": "79ff7089-6cd7-4b25-bce9-82bf3ee56aeb"
      },
      "execution_count": null,
      "outputs": [
        {
          "output_type": "execute_result",
          "data": {
            "text/plain": [
              "(20342, 100)"
            ]
          },
          "metadata": {},
          "execution_count": 45
        }
      ]
    },
    {
      "cell_type": "code",
      "source": [
        "tweet_pad[0][0:]"
      ],
      "metadata": {
        "id": "FUYE4calOFaM",
        "colab": {
          "base_uri": "https://localhost:8080/"
        },
        "outputId": "4067fe96-59a6-4575-c990-c86359d8c35b"
      },
      "execution_count": null,
      "outputs": [
        {
          "output_type": "execute_result",
          "data": {
            "text/plain": [
              "array([ 622, 5467,  738,  175,   80, 1805, 3529,   16,    0,    0,    0,\n",
              "          0,    0,    0,    0,    0,    0,    0,    0,    0,    0,    0,\n",
              "          0,    0,    0,    0,    0,    0,    0,    0,    0,    0,    0,\n",
              "          0,    0,    0,    0,    0,    0,    0,    0,    0,    0,    0,\n",
              "          0,    0,    0,    0,    0,    0], dtype=int32)"
            ]
          },
          "metadata": {},
          "execution_count": 46
        }
      ]
    },
    {
      "cell_type": "code",
      "source": [
        "model=Sequential()\n",
        "\n",
        "output_dim = 100\n",
        "embedding=Embedding(num_words,output_dim,embeddings_initializer=Constant(embedding_matrix),\n",
        "                   input_length=MAX_LEN,trainable=False)\n",
        "\n",
        "model.add(embedding)\n",
        "model.add(SpatialDropout1D(0.2))\n",
        "model.add(LSTM(64))\n",
        "model.add(Dense(1, activation='sigmoid'))\n",
        "\n",
        "optimzer=Adam(learning_rate=1e-5)\n",
        "\n",
        "callbacks_list = [\n",
        "    tf.keras.callbacks.EarlyStopping(\n",
        "        monitor='val_accuracy',                    \n",
        "        patience=5                                 \n",
        "    ),\n",
        "    tf.keras.callbacks.ModelCheckpoint(                \n",
        "        filepath=\"checkpoint_path.keras\",        \n",
        "        monitor='val_accuracy',                          \n",
        "        save_best_only=True,                       \n",
        "        verbose=1                                   \n",
        "    )\n",
        "]\n",
        "\n",
        "model.compile(loss='binary_crossentropy',optimizer=optimzer,metrics=['accuracy'])"
      ],
      "metadata": {
        "id": "SrgvMwsNkK_t"
      },
      "execution_count": null,
      "outputs": []
    },
    {
      "cell_type": "code",
      "source": [
        "model.summary()"
      ],
      "metadata": {
        "id": "8T1Wnr5dlh7K",
        "colab": {
          "base_uri": "https://localhost:8080/"
        },
        "outputId": "cd280725-1083-40bd-a690-cd10935f5fe0"
      },
      "execution_count": null,
      "outputs": [
        {
          "output_type": "stream",
          "name": "stdout",
          "text": [
            "Model: \"sequential\"\n",
            "_________________________________________________________________\n",
            " Layer (type)                Output Shape              Param #   \n",
            "=================================================================\n",
            " embedding (Embedding)       (None, 50, 100)           2034200   \n",
            "                                                                 \n",
            " spatial_dropout1d (SpatialD  (None, 50, 100)          0         \n",
            " ropout1D)                                                       \n",
            "                                                                 \n",
            " lstm (LSTM)                 (None, 64)                42240     \n",
            "                                                                 \n",
            " dense (Dense)               (None, 1)                 65        \n",
            "                                                                 \n",
            "=================================================================\n",
            "Total params: 2,076,505\n",
            "Trainable params: 42,305\n",
            "Non-trainable params: 2,034,200\n",
            "_________________________________________________________________\n"
          ]
        }
      ]
    },
    {
      "cell_type": "code",
      "source": [
        "train_data, val_data, train_labels, val_labels = train_test_split(tweet_pad[:df_train.shape[0]], df_train['target'].values, test_size=0.15, random_state=10)\n",
        "\n",
        "print('Shape of train',train_data.shape)\n",
        "print(\"Shape of Validation \",val_data.shape)"
      ],
      "metadata": {
        "id": "lZ2X2bCKn_H2",
        "colab": {
          "base_uri": "https://localhost:8080/"
        },
        "outputId": "cb2a5e82-25f5-4abb-a78b-6c2a91fe6696"
      },
      "execution_count": null,
      "outputs": [
        {
          "output_type": "stream",
          "name": "stdout",
          "text": [
            "Shape of train (6471, 50)\n",
            "Shape of Validation  (1142, 50)\n"
          ]
        }
      ]
    },
    {
      "cell_type": "code",
      "source": [
        "train_history = model.fit(\n",
        "    train_data, train_labels,\n",
        "    validation_data = (val_data, val_labels),\n",
        "    callbacks=callbacks_list,\n",
        "    #validation_split = 0.1,\n",
        "    epochs=30,\n",
        "    batch_size=4\n",
        ")"
      ],
      "metadata": {
        "id": "0j5aWhEKpLVl",
        "colab": {
          "base_uri": "https://localhost:8080/"
        },
        "outputId": "a1079955-37f6-4ef1-bccd-acfbe119965b"
      },
      "execution_count": null,
      "outputs": [
        {
          "output_type": "stream",
          "name": "stdout",
          "text": [
            "Epoch 1/30\n",
            "1618/1618 [==============================] - ETA: 0s - loss: 0.6891 - accuracy: 0.5733\n",
            "Epoch 1: val_accuracy improved from -inf to 0.55604, saving model to checkpoint_path.keras\n",
            "1618/1618 [==============================] - 52s 30ms/step - loss: 0.6891 - accuracy: 0.5733 - val_loss: 0.6659 - val_accuracy: 0.5560\n",
            "Epoch 2/30\n",
            "1618/1618 [==============================] - ETA: 0s - loss: 0.5722 - accuracy: 0.7231\n",
            "Epoch 2: val_accuracy improved from 0.55604 to 0.77496, saving model to checkpoint_path.keras\n",
            "1618/1618 [==============================] - 49s 31ms/step - loss: 0.5722 - accuracy: 0.7231 - val_loss: 0.5276 - val_accuracy: 0.7750\n",
            "Epoch 3/30\n",
            "1618/1618 [==============================] - ETA: 0s - loss: 0.5330 - accuracy: 0.7565\n",
            "Epoch 3: val_accuracy improved from 0.77496 to 0.77671, saving model to checkpoint_path.keras\n",
            "1618/1618 [==============================] - 54s 33ms/step - loss: 0.5330 - accuracy: 0.7565 - val_loss: 0.5033 - val_accuracy: 0.7767\n",
            "Epoch 4/30\n",
            "1617/1618 [============================>.] - ETA: 0s - loss: 0.5166 - accuracy: 0.7670\n",
            "Epoch 4: val_accuracy improved from 0.77671 to 0.78284, saving model to checkpoint_path.keras\n",
            "1618/1618 [==============================] - 49s 30ms/step - loss: 0.5165 - accuracy: 0.7670 - val_loss: 0.4912 - val_accuracy: 0.7828\n",
            "Epoch 5/30\n",
            "1617/1618 [============================>.] - ETA: 0s - loss: 0.5041 - accuracy: 0.7710\n",
            "Epoch 5: val_accuracy improved from 0.78284 to 0.78809, saving model to checkpoint_path.keras\n",
            "1618/1618 [==============================] - 58s 36ms/step - loss: 0.5040 - accuracy: 0.7711 - val_loss: 0.4824 - val_accuracy: 0.7881\n",
            "Epoch 6/30\n",
            "1617/1618 [============================>.] - ETA: 0s - loss: 0.4963 - accuracy: 0.7780\n",
            "Epoch 6: val_accuracy improved from 0.78809 to 0.78897, saving model to checkpoint_path.keras\n",
            "1618/1618 [==============================] - 50s 31ms/step - loss: 0.4965 - accuracy: 0.7778 - val_loss: 0.4744 - val_accuracy: 0.7890\n",
            "Epoch 7/30\n",
            "1617/1618 [============================>.] - ETA: 0s - loss: 0.4907 - accuracy: 0.7843\n",
            "Epoch 7: val_accuracy did not improve from 0.78897\n",
            "1618/1618 [==============================] - 50s 31ms/step - loss: 0.4905 - accuracy: 0.7844 - val_loss: 0.4759 - val_accuracy: 0.7863\n",
            "Epoch 8/30\n",
            "1617/1618 [============================>.] - ETA: 0s - loss: 0.4844 - accuracy: 0.7826\n",
            "Epoch 8: val_accuracy improved from 0.78897 to 0.79597, saving model to checkpoint_path.keras\n",
            "1618/1618 [==============================] - 53s 33ms/step - loss: 0.4843 - accuracy: 0.7827 - val_loss: 0.4633 - val_accuracy: 0.7960\n",
            "Epoch 9/30\n",
            "1618/1618 [==============================] - ETA: 0s - loss: 0.4828 - accuracy: 0.7844\n",
            "Epoch 9: val_accuracy improved from 0.79597 to 0.79685, saving model to checkpoint_path.keras\n",
            "1618/1618 [==============================] - 49s 30ms/step - loss: 0.4828 - accuracy: 0.7844 - val_loss: 0.4609 - val_accuracy: 0.7968\n",
            "Epoch 10/30\n",
            "1618/1618 [==============================] - ETA: 0s - loss: 0.4775 - accuracy: 0.7884\n",
            "Epoch 10: val_accuracy did not improve from 0.79685\n",
            "1618/1618 [==============================] - 54s 33ms/step - loss: 0.4775 - accuracy: 0.7884 - val_loss: 0.4590 - val_accuracy: 0.7960\n",
            "Epoch 11/30\n",
            "1617/1618 [============================>.] - ETA: 0s - loss: 0.4744 - accuracy: 0.7910\n",
            "Epoch 11: val_accuracy improved from 0.79685 to 0.79772, saving model to checkpoint_path.keras\n",
            "1618/1618 [==============================] - 50s 31ms/step - loss: 0.4743 - accuracy: 0.7911 - val_loss: 0.4554 - val_accuracy: 0.7977\n",
            "Epoch 12/30\n",
            "1618/1618 [==============================] - ETA: 0s - loss: 0.4696 - accuracy: 0.7952\n",
            "Epoch 12: val_accuracy improved from 0.79772 to 0.80035, saving model to checkpoint_path.keras\n",
            "1618/1618 [==============================] - 62s 38ms/step - loss: 0.4696 - accuracy: 0.7952 - val_loss: 0.4505 - val_accuracy: 0.8004\n",
            "Epoch 13/30\n",
            "1618/1618 [==============================] - ETA: 0s - loss: 0.4694 - accuracy: 0.7897\n",
            "Epoch 13: val_accuracy improved from 0.80035 to 0.80210, saving model to checkpoint_path.keras\n",
            "1618/1618 [==============================] - 48s 30ms/step - loss: 0.4694 - accuracy: 0.7897 - val_loss: 0.4454 - val_accuracy: 0.8021\n",
            "Epoch 14/30\n",
            "  87/1618 [>.............................] - ETA: 54s - loss: 0.5091 - accuracy: 0.7500"
          ]
        },
        {
          "output_type": "error",
          "ename": "KeyboardInterrupt",
          "evalue": "ignored",
          "traceback": [
            "\u001b[0;31m---------------------------------------------------------------------------\u001b[0m",
            "\u001b[0;31mKeyboardInterrupt\u001b[0m                         Traceback (most recent call last)",
            "\u001b[0;32m<ipython-input-50-dd2b10712e9e>\u001b[0m in \u001b[0;36m<cell line: 1>\u001b[0;34m()\u001b[0m\n\u001b[0;32m----> 1\u001b[0;31m train_history = model.fit(\n\u001b[0m\u001b[1;32m      2\u001b[0m     \u001b[0mtrain_data\u001b[0m\u001b[0;34m,\u001b[0m \u001b[0mtrain_labels\u001b[0m\u001b[0;34m,\u001b[0m\u001b[0;34m\u001b[0m\u001b[0;34m\u001b[0m\u001b[0m\n\u001b[1;32m      3\u001b[0m     \u001b[0mvalidation_data\u001b[0m \u001b[0;34m=\u001b[0m \u001b[0;34m(\u001b[0m\u001b[0mval_data\u001b[0m\u001b[0;34m,\u001b[0m \u001b[0mval_labels\u001b[0m\u001b[0;34m)\u001b[0m\u001b[0;34m,\u001b[0m\u001b[0;34m\u001b[0m\u001b[0;34m\u001b[0m\u001b[0m\n\u001b[1;32m      4\u001b[0m     \u001b[0mcallbacks\u001b[0m\u001b[0;34m=\u001b[0m\u001b[0mcallbacks_list\u001b[0m\u001b[0;34m,\u001b[0m\u001b[0;34m\u001b[0m\u001b[0;34m\u001b[0m\u001b[0m\n\u001b[1;32m      5\u001b[0m     \u001b[0;31m#validation_split = 0.1,\u001b[0m\u001b[0;34m\u001b[0m\u001b[0;34m\u001b[0m\u001b[0m\n",
            "\u001b[0;32m/usr/local/lib/python3.10/dist-packages/keras/utils/traceback_utils.py\u001b[0m in \u001b[0;36merror_handler\u001b[0;34m(*args, **kwargs)\u001b[0m\n\u001b[1;32m     63\u001b[0m         \u001b[0mfiltered_tb\u001b[0m \u001b[0;34m=\u001b[0m \u001b[0;32mNone\u001b[0m\u001b[0;34m\u001b[0m\u001b[0;34m\u001b[0m\u001b[0m\n\u001b[1;32m     64\u001b[0m         \u001b[0;32mtry\u001b[0m\u001b[0;34m:\u001b[0m\u001b[0;34m\u001b[0m\u001b[0;34m\u001b[0m\u001b[0m\n\u001b[0;32m---> 65\u001b[0;31m             \u001b[0;32mreturn\u001b[0m \u001b[0mfn\u001b[0m\u001b[0;34m(\u001b[0m\u001b[0;34m*\u001b[0m\u001b[0margs\u001b[0m\u001b[0;34m,\u001b[0m \u001b[0;34m**\u001b[0m\u001b[0mkwargs\u001b[0m\u001b[0;34m)\u001b[0m\u001b[0;34m\u001b[0m\u001b[0;34m\u001b[0m\u001b[0m\n\u001b[0m\u001b[1;32m     66\u001b[0m         \u001b[0;32mexcept\u001b[0m \u001b[0mException\u001b[0m \u001b[0;32mas\u001b[0m \u001b[0me\u001b[0m\u001b[0;34m:\u001b[0m\u001b[0;34m\u001b[0m\u001b[0;34m\u001b[0m\u001b[0m\n\u001b[1;32m     67\u001b[0m             \u001b[0mfiltered_tb\u001b[0m \u001b[0;34m=\u001b[0m \u001b[0m_process_traceback_frames\u001b[0m\u001b[0;34m(\u001b[0m\u001b[0me\u001b[0m\u001b[0;34m.\u001b[0m\u001b[0m__traceback__\u001b[0m\u001b[0;34m)\u001b[0m\u001b[0;34m\u001b[0m\u001b[0;34m\u001b[0m\u001b[0m\n",
            "\u001b[0;32m/usr/local/lib/python3.10/dist-packages/keras/engine/training.py\u001b[0m in \u001b[0;36mfit\u001b[0;34m(self, x, y, batch_size, epochs, verbose, callbacks, validation_split, validation_data, shuffle, class_weight, sample_weight, initial_epoch, steps_per_epoch, validation_steps, validation_batch_size, validation_freq, max_queue_size, workers, use_multiprocessing)\u001b[0m\n\u001b[1;32m   1683\u001b[0m                         ):\n\u001b[1;32m   1684\u001b[0m                             \u001b[0mcallbacks\u001b[0m\u001b[0;34m.\u001b[0m\u001b[0mon_train_batch_begin\u001b[0m\u001b[0;34m(\u001b[0m\u001b[0mstep\u001b[0m\u001b[0;34m)\u001b[0m\u001b[0;34m\u001b[0m\u001b[0;34m\u001b[0m\u001b[0m\n\u001b[0;32m-> 1685\u001b[0;31m                             \u001b[0mtmp_logs\u001b[0m \u001b[0;34m=\u001b[0m \u001b[0mself\u001b[0m\u001b[0;34m.\u001b[0m\u001b[0mtrain_function\u001b[0m\u001b[0;34m(\u001b[0m\u001b[0miterator\u001b[0m\u001b[0;34m)\u001b[0m\u001b[0;34m\u001b[0m\u001b[0;34m\u001b[0m\u001b[0m\n\u001b[0m\u001b[1;32m   1686\u001b[0m                             \u001b[0;32mif\u001b[0m \u001b[0mdata_handler\u001b[0m\u001b[0;34m.\u001b[0m\u001b[0mshould_sync\u001b[0m\u001b[0;34m:\u001b[0m\u001b[0;34m\u001b[0m\u001b[0;34m\u001b[0m\u001b[0m\n\u001b[1;32m   1687\u001b[0m                                 \u001b[0mcontext\u001b[0m\u001b[0;34m.\u001b[0m\u001b[0masync_wait\u001b[0m\u001b[0;34m(\u001b[0m\u001b[0;34m)\u001b[0m\u001b[0;34m\u001b[0m\u001b[0;34m\u001b[0m\u001b[0m\n",
            "\u001b[0;32m/usr/local/lib/python3.10/dist-packages/tensorflow/python/util/traceback_utils.py\u001b[0m in \u001b[0;36merror_handler\u001b[0;34m(*args, **kwargs)\u001b[0m\n\u001b[1;32m    148\u001b[0m     \u001b[0mfiltered_tb\u001b[0m \u001b[0;34m=\u001b[0m \u001b[0;32mNone\u001b[0m\u001b[0;34m\u001b[0m\u001b[0;34m\u001b[0m\u001b[0m\n\u001b[1;32m    149\u001b[0m     \u001b[0;32mtry\u001b[0m\u001b[0;34m:\u001b[0m\u001b[0;34m\u001b[0m\u001b[0;34m\u001b[0m\u001b[0m\n\u001b[0;32m--> 150\u001b[0;31m       \u001b[0;32mreturn\u001b[0m \u001b[0mfn\u001b[0m\u001b[0;34m(\u001b[0m\u001b[0;34m*\u001b[0m\u001b[0margs\u001b[0m\u001b[0;34m,\u001b[0m \u001b[0;34m**\u001b[0m\u001b[0mkwargs\u001b[0m\u001b[0;34m)\u001b[0m\u001b[0;34m\u001b[0m\u001b[0;34m\u001b[0m\u001b[0m\n\u001b[0m\u001b[1;32m    151\u001b[0m     \u001b[0;32mexcept\u001b[0m \u001b[0mException\u001b[0m \u001b[0;32mas\u001b[0m \u001b[0me\u001b[0m\u001b[0;34m:\u001b[0m\u001b[0;34m\u001b[0m\u001b[0;34m\u001b[0m\u001b[0m\n\u001b[1;32m    152\u001b[0m       \u001b[0mfiltered_tb\u001b[0m \u001b[0;34m=\u001b[0m \u001b[0m_process_traceback_frames\u001b[0m\u001b[0;34m(\u001b[0m\u001b[0me\u001b[0m\u001b[0;34m.\u001b[0m\u001b[0m__traceback__\u001b[0m\u001b[0;34m)\u001b[0m\u001b[0;34m\u001b[0m\u001b[0;34m\u001b[0m\u001b[0m\n",
            "\u001b[0;32m/usr/local/lib/python3.10/dist-packages/tensorflow/python/eager/polymorphic_function/polymorphic_function.py\u001b[0m in \u001b[0;36m__call__\u001b[0;34m(self, *args, **kwds)\u001b[0m\n\u001b[1;32m    892\u001b[0m \u001b[0;34m\u001b[0m\u001b[0m\n\u001b[1;32m    893\u001b[0m       \u001b[0;32mwith\u001b[0m \u001b[0mOptionalXlaContext\u001b[0m\u001b[0;34m(\u001b[0m\u001b[0mself\u001b[0m\u001b[0;34m.\u001b[0m\u001b[0m_jit_compile\u001b[0m\u001b[0;34m)\u001b[0m\u001b[0;34m:\u001b[0m\u001b[0;34m\u001b[0m\u001b[0;34m\u001b[0m\u001b[0m\n\u001b[0;32m--> 894\u001b[0;31m         \u001b[0mresult\u001b[0m \u001b[0;34m=\u001b[0m \u001b[0mself\u001b[0m\u001b[0;34m.\u001b[0m\u001b[0m_call\u001b[0m\u001b[0;34m(\u001b[0m\u001b[0;34m*\u001b[0m\u001b[0margs\u001b[0m\u001b[0;34m,\u001b[0m \u001b[0;34m**\u001b[0m\u001b[0mkwds\u001b[0m\u001b[0;34m)\u001b[0m\u001b[0;34m\u001b[0m\u001b[0;34m\u001b[0m\u001b[0m\n\u001b[0m\u001b[1;32m    895\u001b[0m \u001b[0;34m\u001b[0m\u001b[0m\n\u001b[1;32m    896\u001b[0m       \u001b[0mnew_tracing_count\u001b[0m \u001b[0;34m=\u001b[0m \u001b[0mself\u001b[0m\u001b[0;34m.\u001b[0m\u001b[0mexperimental_get_tracing_count\u001b[0m\u001b[0;34m(\u001b[0m\u001b[0;34m)\u001b[0m\u001b[0;34m\u001b[0m\u001b[0;34m\u001b[0m\u001b[0m\n",
            "\u001b[0;32m/usr/local/lib/python3.10/dist-packages/tensorflow/python/eager/polymorphic_function/polymorphic_function.py\u001b[0m in \u001b[0;36m_call\u001b[0;34m(self, *args, **kwds)\u001b[0m\n\u001b[1;32m    924\u001b[0m       \u001b[0;31m# In this case we have created variables on the first call, so we run the\u001b[0m\u001b[0;34m\u001b[0m\u001b[0;34m\u001b[0m\u001b[0m\n\u001b[1;32m    925\u001b[0m       \u001b[0;31m# defunned version which is guaranteed to never create variables.\u001b[0m\u001b[0;34m\u001b[0m\u001b[0;34m\u001b[0m\u001b[0m\n\u001b[0;32m--> 926\u001b[0;31m       \u001b[0;32mreturn\u001b[0m \u001b[0mself\u001b[0m\u001b[0;34m.\u001b[0m\u001b[0m_no_variable_creation_fn\u001b[0m\u001b[0;34m(\u001b[0m\u001b[0;34m*\u001b[0m\u001b[0margs\u001b[0m\u001b[0;34m,\u001b[0m \u001b[0;34m**\u001b[0m\u001b[0mkwds\u001b[0m\u001b[0;34m)\u001b[0m  \u001b[0;31m# pylint: disable=not-callable\u001b[0m\u001b[0;34m\u001b[0m\u001b[0;34m\u001b[0m\u001b[0m\n\u001b[0m\u001b[1;32m    927\u001b[0m     \u001b[0;32melif\u001b[0m \u001b[0mself\u001b[0m\u001b[0;34m.\u001b[0m\u001b[0m_variable_creation_fn\u001b[0m \u001b[0;32mis\u001b[0m \u001b[0;32mnot\u001b[0m \u001b[0;32mNone\u001b[0m\u001b[0;34m:\u001b[0m\u001b[0;34m\u001b[0m\u001b[0;34m\u001b[0m\u001b[0m\n\u001b[1;32m    928\u001b[0m       \u001b[0;31m# Release the lock early so that multiple threads can perform the call\u001b[0m\u001b[0;34m\u001b[0m\u001b[0;34m\u001b[0m\u001b[0m\n",
            "\u001b[0;32m/usr/local/lib/python3.10/dist-packages/tensorflow/python/eager/polymorphic_function/tracing_compiler.py\u001b[0m in \u001b[0;36m__call__\u001b[0;34m(self, *args, **kwargs)\u001b[0m\n\u001b[1;32m    141\u001b[0m       (concrete_function,\n\u001b[1;32m    142\u001b[0m        filtered_flat_args) = self._maybe_define_function(args, kwargs)\n\u001b[0;32m--> 143\u001b[0;31m     return concrete_function._call_flat(\n\u001b[0m\u001b[1;32m    144\u001b[0m         filtered_flat_args, captured_inputs=concrete_function.captured_inputs)  # pylint: disable=protected-access\n\u001b[1;32m    145\u001b[0m \u001b[0;34m\u001b[0m\u001b[0m\n",
            "\u001b[0;32m/usr/local/lib/python3.10/dist-packages/tensorflow/python/eager/polymorphic_function/monomorphic_function.py\u001b[0m in \u001b[0;36m_call_flat\u001b[0;34m(self, args, captured_inputs, cancellation_manager)\u001b[0m\n\u001b[1;32m   1755\u001b[0m         and executing_eagerly):\n\u001b[1;32m   1756\u001b[0m       \u001b[0;31m# No tape is watching; skip to running the function.\u001b[0m\u001b[0;34m\u001b[0m\u001b[0;34m\u001b[0m\u001b[0m\n\u001b[0;32m-> 1757\u001b[0;31m       return self._build_call_outputs(self._inference_function.call(\n\u001b[0m\u001b[1;32m   1758\u001b[0m           ctx, args, cancellation_manager=cancellation_manager))\n\u001b[1;32m   1759\u001b[0m     forward_backward = self._select_forward_and_backward_functions(\n",
            "\u001b[0;32m/usr/local/lib/python3.10/dist-packages/tensorflow/python/eager/polymorphic_function/monomorphic_function.py\u001b[0m in \u001b[0;36mcall\u001b[0;34m(self, ctx, args, cancellation_manager)\u001b[0m\n\u001b[1;32m    379\u001b[0m       \u001b[0;32mwith\u001b[0m \u001b[0m_InterpolateFunctionError\u001b[0m\u001b[0;34m(\u001b[0m\u001b[0mself\u001b[0m\u001b[0;34m)\u001b[0m\u001b[0;34m:\u001b[0m\u001b[0;34m\u001b[0m\u001b[0;34m\u001b[0m\u001b[0m\n\u001b[1;32m    380\u001b[0m         \u001b[0;32mif\u001b[0m \u001b[0mcancellation_manager\u001b[0m \u001b[0;32mis\u001b[0m \u001b[0;32mNone\u001b[0m\u001b[0;34m:\u001b[0m\u001b[0;34m\u001b[0m\u001b[0;34m\u001b[0m\u001b[0m\n\u001b[0;32m--> 381\u001b[0;31m           outputs = execute.execute(\n\u001b[0m\u001b[1;32m    382\u001b[0m               \u001b[0mstr\u001b[0m\u001b[0;34m(\u001b[0m\u001b[0mself\u001b[0m\u001b[0;34m.\u001b[0m\u001b[0msignature\u001b[0m\u001b[0;34m.\u001b[0m\u001b[0mname\u001b[0m\u001b[0;34m)\u001b[0m\u001b[0;34m,\u001b[0m\u001b[0;34m\u001b[0m\u001b[0;34m\u001b[0m\u001b[0m\n\u001b[1;32m    383\u001b[0m               \u001b[0mnum_outputs\u001b[0m\u001b[0;34m=\u001b[0m\u001b[0mself\u001b[0m\u001b[0;34m.\u001b[0m\u001b[0m_num_outputs\u001b[0m\u001b[0;34m,\u001b[0m\u001b[0;34m\u001b[0m\u001b[0;34m\u001b[0m\u001b[0m\n",
            "\u001b[0;32m/usr/local/lib/python3.10/dist-packages/tensorflow/python/eager/execute.py\u001b[0m in \u001b[0;36mquick_execute\u001b[0;34m(op_name, num_outputs, inputs, attrs, ctx, name)\u001b[0m\n\u001b[1;32m     50\u001b[0m   \u001b[0;32mtry\u001b[0m\u001b[0;34m:\u001b[0m\u001b[0;34m\u001b[0m\u001b[0;34m\u001b[0m\u001b[0m\n\u001b[1;32m     51\u001b[0m     \u001b[0mctx\u001b[0m\u001b[0;34m.\u001b[0m\u001b[0mensure_initialized\u001b[0m\u001b[0;34m(\u001b[0m\u001b[0;34m)\u001b[0m\u001b[0;34m\u001b[0m\u001b[0;34m\u001b[0m\u001b[0m\n\u001b[0;32m---> 52\u001b[0;31m     tensors = pywrap_tfe.TFE_Py_Execute(ctx._handle, device_name, op_name,\n\u001b[0m\u001b[1;32m     53\u001b[0m                                         inputs, attrs, num_outputs)\n\u001b[1;32m     54\u001b[0m   \u001b[0;32mexcept\u001b[0m \u001b[0mcore\u001b[0m\u001b[0;34m.\u001b[0m\u001b[0m_NotOkStatusException\u001b[0m \u001b[0;32mas\u001b[0m \u001b[0me\u001b[0m\u001b[0;34m:\u001b[0m\u001b[0;34m\u001b[0m\u001b[0;34m\u001b[0m\u001b[0m\n",
            "\u001b[0;31mKeyboardInterrupt\u001b[0m: "
          ]
        }
      ]
    },
    {
      "cell_type": "code",
      "source": [
        "loaded_model = tf.keras.models.load_model('checkpoint_path.keras')"
      ],
      "metadata": {
        "id": "U2T_gXAwQoX8"
      },
      "execution_count": null,
      "outputs": []
    },
    {
      "cell_type": "code",
      "source": [
        "predicted = loaded_model.predict(tweet_pad[df_train.shape[0]:])"
      ],
      "metadata": {
        "id": "Zdt7C4FyQ1bu"
      },
      "execution_count": null,
      "outputs": []
    },
    {
      "cell_type": "code",
      "source": [
        "y_predicted = np.where(predicted>0.5,1,0)\n",
        "y_predicted = y_predicted.reshape((1,3263))[0]\n",
        "df_sample['id'] = df_test.id\n",
        "df_sample['target'] = y_predicted\n",
        "df_sample.to_csv('submission.csv',index = False)"
      ],
      "metadata": {
        "id": "x3Lcak9NRlJc"
      },
      "execution_count": null,
      "outputs": []
    },
    {
      "cell_type": "markdown",
      "source": [
        "리더보드 결과 : 0.79098"
      ],
      "metadata": {
        "id": "KrKdv0n4R_82"
      }
    },
    {
      "cell_type": "markdown",
      "source": [
        "# RNN"
      ],
      "metadata": {
        "id": "g_pxwIczOeQC"
      }
    },
    {
      "cell_type": "code",
      "source": [
        "df_train"
      ],
      "metadata": {
        "colab": {
          "base_uri": "https://localhost:8080/"
        },
        "id": "_Uua3si5Rba3",
        "outputId": "faedd211-d45d-49a3-f5a4-b367f6fe91c8"
      },
      "execution_count": null,
      "outputs": [
        {
          "output_type": "execute_result",
          "data": {
            "text/plain": [
              "         id keyword location  \\\n",
              "0         1     NaN      NaN   \n",
              "1         4     NaN      NaN   \n",
              "2         5     NaN      NaN   \n",
              "3         6     NaN      NaN   \n",
              "4         7     NaN      NaN   \n",
              "...     ...     ...      ...   \n",
              "7608  10869     NaN      NaN   \n",
              "7609  10870     NaN      NaN   \n",
              "7610  10871     NaN      NaN   \n",
              "7611  10872     NaN      NaN   \n",
              "7612  10873     NaN      NaN   \n",
              "\n",
              "                                                   text  target  \n",
              "0     Our Deeds are the Reason of this earthquake Ma...       1  \n",
              "1                 Forest fire near La Ronge Sask Canada       1  \n",
              "2     All residents asked to shelter in place are be...       1  \n",
              "3     13000 people receive wildfires evacuation orde...       1  \n",
              "4     Just got sent this photo from Ruby Alaska as s...       1  \n",
              "...                                                 ...     ...  \n",
              "7608  Two giant cranes holding a bridge collapse int...       1  \n",
              "7609  ariaahrary TheTawniest The out of control wild...       1  \n",
              "7610              M194 0104 UTC5km S of Volcano Hawaii        1  \n",
              "7611  Police investigating after an ebike collided w...       1  \n",
              "7612  The Latest More Homes Razed by Northern Califo...       1  \n",
              "\n",
              "[7613 rows x 5 columns]"
            ],
            "text/html": [
              "\n",
              "  <div id=\"df-55757247-ee69-4dc5-b255-e7d0c83f578a\">\n",
              "    <div class=\"colab-df-container\">\n",
              "      <div>\n",
              "<style scoped>\n",
              "    .dataframe tbody tr th:only-of-type {\n",
              "        vertical-align: middle;\n",
              "    }\n",
              "\n",
              "    .dataframe tbody tr th {\n",
              "        vertical-align: top;\n",
              "    }\n",
              "\n",
              "    .dataframe thead th {\n",
              "        text-align: right;\n",
              "    }\n",
              "</style>\n",
              "<table border=\"1\" class=\"dataframe\">\n",
              "  <thead>\n",
              "    <tr style=\"text-align: right;\">\n",
              "      <th></th>\n",
              "      <th>id</th>\n",
              "      <th>keyword</th>\n",
              "      <th>location</th>\n",
              "      <th>text</th>\n",
              "      <th>target</th>\n",
              "    </tr>\n",
              "  </thead>\n",
              "  <tbody>\n",
              "    <tr>\n",
              "      <th>0</th>\n",
              "      <td>1</td>\n",
              "      <td>NaN</td>\n",
              "      <td>NaN</td>\n",
              "      <td>Our Deeds are the Reason of this earthquake Ma...</td>\n",
              "      <td>1</td>\n",
              "    </tr>\n",
              "    <tr>\n",
              "      <th>1</th>\n",
              "      <td>4</td>\n",
              "      <td>NaN</td>\n",
              "      <td>NaN</td>\n",
              "      <td>Forest fire near La Ronge Sask Canada</td>\n",
              "      <td>1</td>\n",
              "    </tr>\n",
              "    <tr>\n",
              "      <th>2</th>\n",
              "      <td>5</td>\n",
              "      <td>NaN</td>\n",
              "      <td>NaN</td>\n",
              "      <td>All residents asked to shelter in place are be...</td>\n",
              "      <td>1</td>\n",
              "    </tr>\n",
              "    <tr>\n",
              "      <th>3</th>\n",
              "      <td>6</td>\n",
              "      <td>NaN</td>\n",
              "      <td>NaN</td>\n",
              "      <td>13000 people receive wildfires evacuation orde...</td>\n",
              "      <td>1</td>\n",
              "    </tr>\n",
              "    <tr>\n",
              "      <th>4</th>\n",
              "      <td>7</td>\n",
              "      <td>NaN</td>\n",
              "      <td>NaN</td>\n",
              "      <td>Just got sent this photo from Ruby Alaska as s...</td>\n",
              "      <td>1</td>\n",
              "    </tr>\n",
              "    <tr>\n",
              "      <th>...</th>\n",
              "      <td>...</td>\n",
              "      <td>...</td>\n",
              "      <td>...</td>\n",
              "      <td>...</td>\n",
              "      <td>...</td>\n",
              "    </tr>\n",
              "    <tr>\n",
              "      <th>7608</th>\n",
              "      <td>10869</td>\n",
              "      <td>NaN</td>\n",
              "      <td>NaN</td>\n",
              "      <td>Two giant cranes holding a bridge collapse int...</td>\n",
              "      <td>1</td>\n",
              "    </tr>\n",
              "    <tr>\n",
              "      <th>7609</th>\n",
              "      <td>10870</td>\n",
              "      <td>NaN</td>\n",
              "      <td>NaN</td>\n",
              "      <td>ariaahrary TheTawniest The out of control wild...</td>\n",
              "      <td>1</td>\n",
              "    </tr>\n",
              "    <tr>\n",
              "      <th>7610</th>\n",
              "      <td>10871</td>\n",
              "      <td>NaN</td>\n",
              "      <td>NaN</td>\n",
              "      <td>M194 0104 UTC5km S of Volcano Hawaii</td>\n",
              "      <td>1</td>\n",
              "    </tr>\n",
              "    <tr>\n",
              "      <th>7611</th>\n",
              "      <td>10872</td>\n",
              "      <td>NaN</td>\n",
              "      <td>NaN</td>\n",
              "      <td>Police investigating after an ebike collided w...</td>\n",
              "      <td>1</td>\n",
              "    </tr>\n",
              "    <tr>\n",
              "      <th>7612</th>\n",
              "      <td>10873</td>\n",
              "      <td>NaN</td>\n",
              "      <td>NaN</td>\n",
              "      <td>The Latest More Homes Razed by Northern Califo...</td>\n",
              "      <td>1</td>\n",
              "    </tr>\n",
              "  </tbody>\n",
              "</table>\n",
              "<p>7613 rows × 5 columns</p>\n",
              "</div>\n",
              "      <button class=\"colab-df-convert\" onclick=\"convertToInteractive('df-55757247-ee69-4dc5-b255-e7d0c83f578a')\"\n",
              "              title=\"Convert this dataframe to an interactive table.\"\n",
              "              style=\"display:none;\">\n",
              "        \n",
              "  <svg xmlns=\"http://www.w3.org/2000/svg\" height=\"24px\"viewBox=\"0 0 24 24\"\n",
              "       width=\"24px\">\n",
              "    <path d=\"M0 0h24v24H0V0z\" fill=\"none\"/>\n",
              "    <path d=\"M18.56 5.44l.94 2.06.94-2.06 2.06-.94-2.06-.94-.94-2.06-.94 2.06-2.06.94zm-11 1L8.5 8.5l.94-2.06 2.06-.94-2.06-.94L8.5 2.5l-.94 2.06-2.06.94zm10 10l.94 2.06.94-2.06 2.06-.94-2.06-.94-.94-2.06-.94 2.06-2.06.94z\"/><path d=\"M17.41 7.96l-1.37-1.37c-.4-.4-.92-.59-1.43-.59-.52 0-1.04.2-1.43.59L10.3 9.45l-7.72 7.72c-.78.78-.78 2.05 0 2.83L4 21.41c.39.39.9.59 1.41.59.51 0 1.02-.2 1.41-.59l7.78-7.78 2.81-2.81c.8-.78.8-2.07 0-2.86zM5.41 20L4 18.59l7.72-7.72 1.47 1.35L5.41 20z\"/>\n",
              "  </svg>\n",
              "      </button>\n",
              "      \n",
              "  <style>\n",
              "    .colab-df-container {\n",
              "      display:flex;\n",
              "      flex-wrap:wrap;\n",
              "      gap: 12px;\n",
              "    }\n",
              "\n",
              "    .colab-df-convert {\n",
              "      background-color: #E8F0FE;\n",
              "      border: none;\n",
              "      border-radius: 50%;\n",
              "      cursor: pointer;\n",
              "      display: none;\n",
              "      fill: #1967D2;\n",
              "      height: 32px;\n",
              "      padding: 0 0 0 0;\n",
              "      width: 32px;\n",
              "    }\n",
              "\n",
              "    .colab-df-convert:hover {\n",
              "      background-color: #E2EBFA;\n",
              "      box-shadow: 0px 1px 2px rgba(60, 64, 67, 0.3), 0px 1px 3px 1px rgba(60, 64, 67, 0.15);\n",
              "      fill: #174EA6;\n",
              "    }\n",
              "\n",
              "    [theme=dark] .colab-df-convert {\n",
              "      background-color: #3B4455;\n",
              "      fill: #D2E3FC;\n",
              "    }\n",
              "\n",
              "    [theme=dark] .colab-df-convert:hover {\n",
              "      background-color: #434B5C;\n",
              "      box-shadow: 0px 1px 3px 1px rgba(0, 0, 0, 0.15);\n",
              "      filter: drop-shadow(0px 1px 2px rgba(0, 0, 0, 0.3));\n",
              "      fill: #FFFFFF;\n",
              "    }\n",
              "  </style>\n",
              "\n",
              "      <script>\n",
              "        const buttonEl =\n",
              "          document.querySelector('#df-55757247-ee69-4dc5-b255-e7d0c83f578a button.colab-df-convert');\n",
              "        buttonEl.style.display =\n",
              "          google.colab.kernel.accessAllowed ? 'block' : 'none';\n",
              "\n",
              "        async function convertToInteractive(key) {\n",
              "          const element = document.querySelector('#df-55757247-ee69-4dc5-b255-e7d0c83f578a');\n",
              "          const dataTable =\n",
              "            await google.colab.kernel.invokeFunction('convertToInteractive',\n",
              "                                                     [key], {});\n",
              "          if (!dataTable) return;\n",
              "\n",
              "          const docLinkHtml = 'Like what you see? Visit the ' +\n",
              "            '<a target=\"_blank\" href=https://colab.research.google.com/notebooks/data_table.ipynb>data table notebook</a>'\n",
              "            + ' to learn more about interactive tables.';\n",
              "          element.innerHTML = '';\n",
              "          dataTable['output_type'] = 'display_data';\n",
              "          await google.colab.output.renderOutput(dataTable, element);\n",
              "          const docLink = document.createElement('div');\n",
              "          docLink.innerHTML = docLinkHtml;\n",
              "          element.appendChild(docLink);\n",
              "        }\n",
              "      </script>\n",
              "    </div>\n",
              "  </div>\n",
              "  "
            ]
          },
          "metadata": {},
          "execution_count": 23
        }
      ]
    },
    {
      "cell_type": "code",
      "source": [
        "X_train, X_test, y_train, y_test = train_test_split(df_train['text'], df_train['target'], test_size=0.2, random_state=0, stratify=df_train['target'].values)"
      ],
      "metadata": {
        "id": "iAx2NldxPGAf"
      },
      "execution_count": null,
      "outputs": []
    },
    {
      "cell_type": "code",
      "source": [
        "print('--------훈련 데이터의 비율-----------')\n",
        "print(f'재난X = {round(y_train.value_counts()[0]/len(y_train) * 100,3)}%')\n",
        "print(f'재난0 = {round(y_train.value_counts()[1]/len(y_train) * 100,3)}%')"
      ],
      "metadata": {
        "colab": {
          "base_uri": "https://localhost:8080/"
        },
        "id": "1J7JpZbaT0fy",
        "outputId": "37778f41-b6de-4a29-be6a-296052183ec9"
      },
      "execution_count": null,
      "outputs": [
        {
          "output_type": "stream",
          "name": "stdout",
          "text": [
            "--------훈련 데이터의 비율-----------\n",
            "재난X = 57.028%\n",
            "재난0 = 42.972%\n"
          ]
        }
      ]
    },
    {
      "cell_type": "code",
      "source": [
        "print('--------테스트 데이터의 비율-----------')\n",
        "print(f'재난X = {round(y_test.value_counts()[0]/len(y_test) * 100,3)}%')\n",
        "print(f'재난O = {round(y_test.value_counts()[1]/len(y_test) * 100,3)}%')"
      ],
      "metadata": {
        "colab": {
          "base_uri": "https://localhost:8080/"
        },
        "id": "JapxptPaWW8s",
        "outputId": "89790157-f8f9-4ce3-e786-f01d6804fd3e"
      },
      "execution_count": null,
      "outputs": [
        {
          "output_type": "stream",
          "name": "stdout",
          "text": [
            "--------테스트 데이터의 비율-----------\n",
            "재난X = 57.058%\n",
            "재난O = 42.942%\n"
          ]
        }
      ]
    },
    {
      "cell_type": "code",
      "source": [
        "tokenizer = Tokenizer()\n",
        "tokenizer.fit_on_texts(X_train)\n",
        "X_train_encoded = tokenizer.texts_to_sequences(X_train)\n",
        "print(X_train_encoded[:5])"
      ],
      "metadata": {
        "colab": {
          "base_uri": "https://localhost:8080/"
        },
        "id": "u7vf9ZKHWbsx",
        "outputId": "9870fc54-a315-46cc-cd7f-f16df5d6dc34"
      },
      "execution_count": null,
      "outputs": [
        {
          "output_type": "stream",
          "name": "stdout",
          "text": [
            "[[286, 2, 41, 3, 1, 5783, 322, 1120, 359, 18, 1217, 619, 66, 15, 2005], [5784, 5785, 5786, 36, 99, 3825, 1323, 266, 245], [5787, 5788, 1121, 85, 585], [6, 127, 7, 23, 5789, 52, 1324, 924, 3, 41, 5790, 2366, 35, 1759, 5791, 38, 22, 2, 5792, 2006, 205, 11, 142, 1122, 239], [5793, 86, 3826, 3827, 5794, 1576, 18, 26, 3, 749, 5795, 1218, 30, 232, 380, 78, 90, 6, 704, 2923, 217, 23, 705, 167]]\n"
          ]
        }
      ]
    },
    {
      "cell_type": "code",
      "source": [
        "word_to_index = tokenizer.word_index\n",
        "print(word_to_index)"
      ],
      "metadata": {
        "colab": {
          "base_uri": "https://localhost:8080/"
        },
        "id": "nLdKhji9Wkrq",
        "outputId": "d1d74d00-3de6-4055-e6ab-d4df100619e1"
      },
      "execution_count": null,
      "outputs": [
        {
          "output_type": "stream",
          "name": "stdout",
          "text": [
            "{'the': 1, 'a': 2, 'in': 3, 'to': 4, 'of': 5, 'and': 6, 'i': 7, 'is': 8, 'for': 9, 'on': 10, 'you': 11, 'my': 12, 'that': 13, 'with': 14, 'it': 15, 'at': 16, 'by': 17, 'this': 18, 'from': 19, 'be': 20, 'are': 21, 'have': 22, 'was': 23, 'as': 24, 'like': 25, 'up': 26, 'but': 27, 'me': 28, 'just': 29, 'amp': 30, 'im': 31, 'so': 32, 'your': 33, 'not': 34, 'out': 35, 'after': 36, 'has': 37, 'will': 38, 'all': 39, 'its': 40, 'fire': 41, 'no': 42, 'if': 43, 'we': 44, 'when': 45, 'an': 46, 'more': 47, 'get': 48, 'now': 49, 'via': 50, 'new': 51, 'about': 52, 'news': 53, 'what': 54, 'dont': 55, 'been': 56, 'or': 57, 'he': 58, 'one': 59, 'people': 60, 'how': 61, 'they': 62, 'over': 63, 'who': 64, 'were': 65, 'do': 66, 'can': 67, 'us': 68, 'video': 69, 'into': 70, '2': 71, 'there': 72, 'disaster': 73, 'emergency': 74, 'than': 75, 'some': 76, 'police': 77, 'her': 78, 'his': 79, 'would': 80, 'still': 81, 'storm': 82, 'crash': 83, 'why': 84, 'body': 85, 'time': 86, 'suicide': 87, 'burning': 88, 'buildings': 89, 'off': 90, 'them': 91, 'california': 92, 'back': 93, 'man': 94, 'know': 95, 'had': 96, 'got': 97, 'bomb': 98, 'day': 99, 'world': 100, 'see': 101, 'our': 102, 'going': 103, 'first': 104, 'cant': 105, 'go': 106, 'nuclear': 107, 'rt': 108, 'killed': 109, 'dead': 110, '3': 111, 'love': 112, 'attack': 113, 'train': 114, 'think': 115, 'two': 116, 'families': 117, 'accident': 118, 'youtube': 119, 'car': 120, 'fires': 121, 'their': 122, 'today': 123, 'hiroshima': 124, 'being': 125, 'may': 126, 'here': 127, 'only': 128, 'life': 129, 'full': 130, 'too': 131, 'watch': 132, 'good': 133, 'say': 134, 'war': 135, 'could': 136, 'last': 137, 'u': 138, 'want': 139, 'then': 140, 'need': 141, 'take': 142, 'work': 143, 'many': 144, 'did': 145, 'down': 146, 'collapse': 147, 'even': 148, 'way': 149, 'help': 150, 'those': 151, 'wildfire': 152, 'death': 153, 'mass': 154, 'mh370': 155, 'years': 156, 'another': 157, 'look': 158, 'am': 159, 'youre': 160, 'best': 161, 'bombing': 162, 'army': 163, 'never': 164, 'home': 165, 'because': 166, 'right': 167, 'year': 168, 'lol': 169, 'black': 170, 'please': 171, 'him': 172, 'wreck': 173, 'should': 174, 'forest': 175, 'obama': 176, 'make': 177, 'fatal': 178, 'really': 179, 'read': 180, '4': 181, 'great': 182, 'school': 183, 'northern': 184, 'pm': 185, 'legionnaires': 186, 'every': 187, 'much': 188, 'bomber': 189, 'any': 190, 'thats': 191, 'let': 192, 'old': 193, 'live': 194, '5': 195, 'city': 196, 'hot': 197, 'atomic': 198, 'water': 199, 'god': 200, 'latest': 201, 'under': 202, '2015': 203, 'shit': 204, 'where': 205, 'floods': 206, 'homes': 207, 'getting': 208, 'come': 209, 'ass': 210, 'coming': 211, 's': 212, 'most': 213, 'hope': 214, '\\x89û': 215, '1': 216, 'she': 217, 'flames': 218, 'flood': 219, 'feel': 220, 'night': 221, 'confirmed': 222, 'japan': 223, 'hit': 224, 'fear': 225, 'well': 226, 'set': 227, 'stop': 228, 'found': 229, 'next': 230, 'always': 231, 'everyone': 232, 'natural': 233, 'ever': 234, 'malaysia': 235, 'times': 236, 'injured': 237, 'sinking': 238, 'damage': 239, 'while': 240, 'family': 241, 'near': 242, 'earthquake': 243, 'military': 244, 'evacuation': 245, 'debris': 246, 'these': 247, 'fucking': 248, 'state': 249, 'said': 250, 'before': 251, 'during': 252, 'content': 253, 'which': 254, 'bad': 255, 'since': 256, 'oil': 257, 'little': 258, 'services': 259, 'truck': 260, 'ive': 261, 'without': 262, 'top': 263, 'loud': 264, 'murder': 265, 'weather': 266, 'flooding': 267, 'refugees': 268, 'smoke': 269, 'says': 270, 'photo': 271, 'wreckage': 272, 'change': 273, 'free': 274, 'cause': 275, 'boy': 276, 'against': 277, 'injuries': 278, 'again': 279, 'blood': 280, 'plan': 281, 'wounded': 282, 'wild': 283, 'weapons': 284, 'food': 285, 'theres': 286, 'check': 287, 'derailment': 288, 'explode': 289, 'explosion': 290, 'survive': 291, '\\x89ûò': 292, 'cross': 293, 'evacuate': 294, 'until': 295, 'through': 296, 'save': 297, 'reddit': 298, 'face': 299, 'house': 300, 'run': 301, 'end': 302, 'danger': 303, 'report': 304, 'outbreak': 305, 'breaking': 306, 'service': 307, 'hes': 308, 'bags': 309, 'twister': 310, 'sinkhole': 311, 'w': 312, 'call': 313, 'heat': 314, 'wind': 315, 'trapped': 316, 'bag': 317, 'lives': 318, 'fall': 319, 'attacked': 320, 'charged': 321, 'looks': 322, '70': 323, 'does': 324, 'deluge': 325, 'screaming': 326, 'area': 327, 'white': 328, 'air': 329, 'movie': 330, 'terrorism': 331, 'dust': 332, 'hurricane': 333, 'bridge': 334, 'ruin': 335, 'trauma': 336, 'spill': 337, 'big': 338, 'summer': 339, 'bloody': 340, 'wanna': 341, 'hostages': 342, 'missing': 343, 'failure': 344, 'weapon': 345, 'tonight': 346, 'injury': 347, 'whirlwind': 348, 'away': 349, 'heard': 350, 'thunder': 351, 'update': 352, 'terrorist': 353, 'massacre': 354, 'high': 355, 'airplane': 356, 'landslide': 357, 'someone': 358, 'cool': 359, 'rescue': 360, 'head': 361, 'fedex': 362, 'warning': 363, 'destroyed': 364, 'lightning': 365, 'investigators': 366, 'gonna': 367, 'destroy': 368, 'liked': 369, 'crashed': 370, 'real': 371, 'collided': 372, 'fuck': 373, 'kills': 374, 'severe': 375, 'saudi': 376, 'destruction': 377, 'wrecked': 378, 'drought': 379, 'blew': 380, '40': 381, 'post': 382, 'panic': 383, 'displaced': 384, 'keep': 385, 'girl': 386, 'collapsed': 387, 'least': 388, 'released': 389, 'island': 390, 'whole': 391, 'bang': 392, 'traumatised': 393, 'hostage': 394, 'twitter': 395, 'riot': 396, 'casualties': 397, 'quarantine': 398, 'boat': 399, 'tragedy': 400, 'things': 401, 'catastrophe': 402, 'game': 403, 'better': 404, 'iran': 405, 'bombed': 406, 'survived': 407, 'oh': 408, 'rain': 409, 'rioting': 410, 'show': 411, 'made': 412, 'deaths': 413, 'around': 414, 'also': 415, 'drowning': 416, 'mudslide': 417, 'plane': 418, 'suspect': 419, 'possible': 420, 'past': 421, 'mosque': 422, 'migrants': 423, 'id': 424, 'national': 425, 'bleeding': 426, 'kill': 427, 'week': 428, 'other': 429, 'bioterror': 430, 'ill': 431, 'crush': 432, 'sandstorm': 433, 'sunk': 434, 'power': 435, 'drown': 436, 'armageddon': 437, 'catastrophic': 438, 'hazard': 439, 'yet': 440, 'isis': 441, 'trouble': 442, 'violent': 443, 'cliff': 444, 'thunderstorm': 445, 'screams': 446, 'saw': 447, 'long': 448, 'very': 449, 'burned': 450, 'stock': 451, 'market': 452, 'chemical': 453, 'send': 454, 'affected': 455, 'devastation': 456, 'left': 457, 'obliteration': 458, 'screamed': 459, 'used': 460, 'thank': 461, 'survivors': 462, 'structural': 463, 'officials': 464, 'exploded': 465, 'ambulance': 466, 'something': 467, 'county': 468, 'obliterated': 469, 'arson': 470, 'thing': 471, 'harm': 472, 'part': 473, 'apocalypse': 474, 'fatalities': 475, 'rescued': 476, 'went': 477, 'engulfed': 478, 'hail': 479, 'put': 480, 'women': 481, 'half': 482, 'hijacking': 483, 'derail': 484, 'anniversary': 485, 'desolation': 486, 'evacuated': 487, 'longer': 488, 'derailed': 489, 'inundated': 490, 'shooting': 491, 'flattened': 492, 'traffic': 493, 'media': 494, 'collide': 495, 'hours': 496, 'panicking': 497, 'wave': 498, 'baby': 499, 'lava': 500, 'blast': 501, 'beautiful': 502, 'woman': 503, 'making': 504, 'bus': 505, 'ebay': 506, 'windstorm': 507, 'rescuers': 508, 'demolition': 509, 'pkk': 510, 'detonated': 511, '15': 512, 'security': 513, 'detonate': 514, 'use': 515, 'yourself': 516, 'fatality': 517, 'job': 518, 'tomorrow': 519, 'fun': 520, 'fan': 521, 'soon': 522, 'airport': 523, 'minute': 524, 'caused': 525, 'road': 526, 'cyclone': 527, 'few': 528, 'lets': 529, 'august': 530, 'days': 531, 'quarantined': 532, 'nearby': 533, 'tsunami': 534, 'india': 535, 'rainstorm': 536, 'hijacker': 537, 'must': 538, 'famine': 539, 'zone': 540, 'demolish': 541, 'hijack': 542, 'st': 543, '8': 544, 'electrocuted': 545, 'volcano': 546, 'red': 547, 'turkey': 548, 'razed': 549, 'song': 550, 'died': 551, 'stay': 552, 'wounds': 553, 'meltdown': 554, 'mp': 555, 'blown': 556, 'collision': 557, 'battle': 558, 'pandemonium': 559, 'due': 560, 'came': 561, 'done': 562, 'didnt': 563, 'fight': 564, 'ablaze': 565, 'play': 566, 'hazardous': 567, 'three': 568, 'leave': 569, 'building': 570, '6': 571, 'rubble': 572, 'horrible': 573, 'phone': 574, 'both': 575, 'typhoon': 576, 'ok': 577, 'eyewitness': 578, 'curfew': 579, '16yr': 580, 'wake': 581, 'obliterate': 582, 'government': 583, 'group': 584, 'bagging': 585, 'sue': 586, 'far': 587, 'health': 588, 'remember': 589, 'sure': 590, 'thought': 591, 'children': 592, 'crushed': 593, 'yeah': 594, 'responders': 595, 'officer': 596, '7': 597, 'story': 598, 'trying': 599, 'calgary': 600, 'men': 601, 'annihilated': 602, 'support': 603, 'detonation': 604, 'conclusively': 605, 'tornado': 606, 'avalanche': 607, 'gets': 608, 'murderer': 609, 'believe': 610, 'heart': 611, 'music': 612, 'drowned': 613, 'ur': 614, 'find': 615, 'hellfire': 616, 'lot': 617, 'sound': 618, 'doesnt': 619, 'sirens': 620, 'declares': 621, 'reactor': 622, '9': 623, 'such': 624, 'history': 625, 'reunion': 626, 'swallowed': 627, 'second': 628, 'already': 629, 'kids': 630, 'israeli': 631, 'demolished': 632, 'hundreds': 633, 'wont': 634, 'bush': 635, 'makes': 636, 'case': 637, 'same': 638, 'prebreak': 639, 'electrocute': 640, 'plans': 641, 'n': 642, 'horror': 643, 'own': 644, 'site': 645, 'whats': 646, 'low': 647, 'upheaval': 648, 'typhoondevastated': 649, 'saipan': 650, 'book': 651, 'hell': 652, 'north': 653, 'thanks': 654, 'data': 655, 'shoulder': 656, 'siren': 657, 'maybe': 658, 'islam': 659, 'river': 660, 'nothing': 661, 'person': 662, 'ago': 663, 'seismic': 664, 'light': 665, 'having': 666, 'transport': 667, 'business': 668, 'actually': 669, 'lab': 670, '50': 671, 'manslaughter': 672, 'doing': 673, 'outside': 674, 'land': 675, 'place': 676, 'care': 677, 'center': 678, 'anyone': 679, 'la': 680, 'gt': 681, 'blaze': 682, 'shot': 683, 'annihilation': 684, '\\x89ûó': 685, 'flash': 686, 'lost': 687, 'bc': 688, 'guys': 689, 'blight': 690, 'bigger': 691, 'saved': 692, 'bioterrorism': 693, 'money': 694, 'wait': 695, 'blazing': 696, 'bestnaijamade': 697, 'caught': 698, 'anything': 699, 'casualty': 700, 'waves': 701, 'yes': 702, 'stretcher': 703, 'called': 704, 'finally': 705, 'reuters': 706, 'issues': 707, 'side': 708, '30': 709, 'peace': 710, 'probably': 711, 'signs': 712, 'once': 713, 'm': 714, 'might': 715, 'literally': 716, 'abc': 717, 'online': 718, 'helicopter': 719, 'tell': 720, 'line': 721, 'start': 722, 'ship': 723, 't': 724, 'truth': 725, 'move': 726, 'pretty': 727, 'worst': 728, 'team': 729, 'tv': 730, 'south': 731, 'jobs': 732, 'photos': 733, 'order': 734, 'youth': 735, 'course': 736, 'trench': 737, 'american': 738, 'snowstorm': 739, '10': 740, '11yearold': 741, 'town': 742, 'nowplaying': 743, 'almost': 744, 'words': 745, 'theyre': 746, '20': 747, 'bar': 748, '11': 749, 'damn': 750, 'shes': 751, 'name': 752, 'pick': 753, 'aircraft': 754, 'brown': 755, 're\\x89û': 756, 'appears': 757, 'hat': 758, 'goes': 759, 'policy': 760, 'though': 761, 'isnt': 762, 'memories': 763, 'deal': 764, 'alone': 765, 'ball': 766, 'toddler': 767, 'street': 768, 'deluged': 769, 'win': 770, 'searching': 771, 'child': 772, 'spot': 773, 'eyes': 774, 'pic': 775, 'crews': 776, 'class': 777, 'hear': 778, 'major': 779, 'thousands': 780, 'needs': 781, 'official': 782, 'feared': 783, 'houses': 784, '12': 785, 'morning': 786, 'haha': 787, 'hollywood': 788, 'centre': 789, 'following': 790, 'desolate': 791, 'bodies': 792, 'running': 793, 'crisis': 794, 'fast': 795, 'refugio': 796, 'costlier': 797, 'projected': 798, 'flag': 799, 'village': 800, 'else': 801, 'crazy': 802, 'aftershock': 803, 'west': 804, 'mayhem': 805, 'follow': 806, 'okay': 807, 'seen': 808, 'rise': 809, 'hey': 810, 'downtown': 811, 'control': 812, 'quiz': 813, 'sign': 814, 'level': 815, 'drive': 816, 'marks': 817, 'omg': 818, 'instead': 819, 'poor': 820, 'die': 821, 'christian': 822, 'taken': 823, 'huge': 824, 'closed': 825, 'watching': 826, 'learn': 827, 'usa': 828, 'playing': 829, 'guy': 830, 'miners': 831, 'climate': 832, 'couple': 833, 'gave': 834, 'angry': 835, 'sorry': 836, 'meek': 837, 'madhya': 838, 'pradesh': 839, 'devastated': 840, 'everything': 841, 'blizzard': 842, 'giant': 843, 'coaches': 844, 'chance': 845, 'others': 846, 'hiring': 847, 'offensive': 848, 'pakistan': 849, 'stand': 850, 'happened': 851, 'temple': 852, 'front': 853, 'listen': 854, 'd': 855, 'anthrax': 856, 'mishaps': 857, 'computers': 858, 'blue': 859, '25': 860, 'british': 861, 'declaration': 862, 'nearly': 863, 'myanmar': 864, 'myself': 865, 'large': 866, 'cars': 867, 'wow': 868, 'self': 869, 'wanted': 870, 'disea': 871, 'feeling': 872, 'germs': 873, 'space': 874, 'daily': 875, 'beach': 876, 'across': 877, 'patience': 878, 'party': 879, 'favorite': 880, '60': 881, 'totally': 882, 'rd': 883, 'gbbo': 884, 'america': 885, 'hailstorm': 886, 'radio': 887, 'flight': 888, 'bbc': 889, 'colorado': 890, 'effect': 891, 'unconfirmed': 892, 'neighbours': 893, 'trains': 894, 'emmerdale': 895, 'cake': 896, 'comes': 897, 'vs': 898, 'hard': 899, 'become': 900, 'happy': 901, 'amid': 902, 'muslims': 903, 'mount': 904, 'mom': 905, 'picking': 906, 'entire': 907, 'view': 908, 'park': 909, 'drake': 910, 'looking': 911, 'ignition': 912, 'knock': 913, 'b': 914, 'behind': 915, 'sounds': 916, 'soudelor': 917, 'east': 918, 'mph': 919, 'takes': 920, 'leather': 921, 'property': 922, 'lord': 923, 'mode': 924, 'thursday': 925, 'ancient': 926, 'womens': 927, 'friend': 928, 'star': 929, 'friends': 930, 'young': 931, 'virgin': 932, 'miss': 933, 'risk': 934, '13': 935, 'france': 936, 'public': 937, 'yours': 938, 'texas': 939, 'wrong': 940, 'film': 941, 'research': 942, 'york': 943, 'guess': 944, 'human': 945, 'dog': 946, 'reports': 947, 'ladies': 948, 'ready': 949, 'added': 950, 'playlist': 951, 'country': 952, 'don\\x89ûªt': 953, 'share': 954, 'arsonist': 955, 'chinas': 956, 'gems': 957, 'download': 958, 'aug': 959, 'four': 960, 'experts': 961, 'dude': 962, 'reported': 963, 'true': 964, 'reason': 965, 'libya': 966, 'tree': 967, 'landing': 968, 'members': 969, 'soul': 970, 'information': 971, 'ppl': 972, 'taking': 973, 'action': 974, 'bayelsa': 975, 'fukushima': 976, 'disease': 977, 'uk': 978, 'russian': 979, 'funtenna': 980, 'try': 981, 'united': 982, 'rly': 983, 'dies': 984, 'govt': 985, 'australia': 986, 'nigerian': 987, 'gold': 988, 'mop': 989, 'sad': 990, 'biggest': 991, 'cnn': 992, 'escape': 993, 'global': 994, 'green': 995, 'pakistani': 996, 'insurance': 997, 'r': 998, 'london': 999, '100': 1000, 'fans': 1001, 'alarm': 1002, 'holding': 1003, 'prepare': 1004, 'small': 1005, 'wall': 1006, 'mean': 1007, 'nagasaki': 1008, 'dad': 1009, 'russia': 1010, 'vehicle': 1011, 'thinking': 1012, 'issued': 1013, '05': 1014, 'nws': 1015, 'pay': 1016, 'arent': 1017, 'working': 1018, 'pamela': 1019, 'jonathan': 1020, 'teen': 1021, 'expected': 1022, 'shows': 1023, 'lmao': 1024, 'sky': 1025, 'mad': 1026, 'ebola': 1027, 'fashion': 1028, 'washington': 1029, 'aint': 1030, 'inside': 1031, 'earth': 1032, 'china': 1033, 'point': 1034, 'hate': 1035, 'wonder': 1036, 'japanese': 1037, 'tried': 1038, 'scared': 1039, 'gop': 1040, 'till': 1041, 'give': 1042, '19': 1043, 'gun': 1044, 'ca': 1045, '70th': 1046, '12000': 1047, 'coast': 1048, 'king': 1049, 'gas': 1050, 'date': 1051, 'ahead': 1052, 'scene': 1053, 'tweet': 1054, 'galactic': 1055, 'awesome': 1056, 'info': 1057, 'victims': 1058, 'told': 1059, 'p': 1060, 'firefighters': 1061, 'shots': 1062, 'arrested': 1063, 'lies': 1064, 'parents': 1065, 'victim': 1066, 'buy': 1067, 'banned': 1068, 'israel': 1069, 'seeing': 1070, 'upon': 1071, 'indian': 1072, 'future': 1073, 'driver': 1074, '16': 1075, 'walking': 1076, 'middle': 1077, 'ave': 1078, 'niggas': 1079, 'bring': 1080, 'waving': 1081, 'geller': 1082, 'led': 1083, 'rock': 1084, 'answer': 1085, 'tho': 1086, 'horse': 1087, 'room': 1088, 'potus': 1089, 'evening': 1090, 'aba': 1091, 'delivers': 1092, 'lady': 1093, 'series': 1094, 'pain': 1095, 'alabama': 1096, 'hour': 1097, 'ground': 1098, 'album': 1099, 'financial': 1100, 'walk': 1101, 'serious': 1102, 'marians': 1103, 'bombs': 1104, 'parole': 1105, 'heavy': 1106, 'hasnt': 1107, 'sex': 1108, 'de': 1109, 'militants': 1110, 'recount': 1111, 'mod': 1112, 'early': 1113, 'enugu': 1114, 'lake': 1115, 'sense': 1116, 'cree': 1117, 'claims': 1118, 'worse': 1119, 'kinda': 1120, 'straight': 1121, '0': 1122, 'idea': 1123, 'trump': 1124, 'terror': 1125, 'cameroon': 1126, 'dogs': 1127, 'mountain': 1128, 'wedding': 1129, 'company': 1130, 'department': 1131, 'islamic': 1132, 'businesses': 1133, 'passengers': 1134, 'internet': 1135, 'industry': 1136, 'nyc': 1137, 'season': 1138, 'dc': 1139, 'twelve': 1140, 'former': 1141, 'search': 1142, 'general': 1143, 'ross': 1144, 'test': 1145, 'sometimes': 1146, '24': 1147, '17': 1148, 'broke': 1149, 'richmond': 1150, 'turkish': 1151, 'piece': 1152, 'salt': 1153, 'link': 1154, 'safety': 1155, 'x': 1156, 'tracks': 1157, 'internally': 1158, 'break': 1159, 'worry': 1160, 'louis': 1161, 'wants': 1162, 'palestinian': 1163, 'career': 1164, 'open': 1165, 'different': 1166, 'apc': 1167, 'trust': 1168, 'wednesday': 1169, 'super': 1170, 'turn': 1171, 'games': 1172, 'account': 1173, 'training': 1174, 'standard': 1175, 'started': 1176, 'youll': 1177, 'fact': 1178, 'etc': 1179, '600': 1180, 'art': 1181, 'five': 1182, 'falling': 1183, 'planned': 1184, 'giving': 1185, 'wtf': 1186, 'moment': 1187, 'navy': 1188, 'hand': 1189, 'interesting': 1190, 'felt': 1191, 'rules': 1192, 'petition': 1193, 'act': 1194, 'funny': 1195, 'causing': 1196, 'talk': 1197, 'between': 1198, 'direction': 1199, 'cat': 1200, 'apollo': 1201, 'outrage': 1202, 'selfimage': 1203, 'desires': 1204, 'map': 1205, 'students': 1206, 'central': 1207, 'ban': 1208, 'sick': 1209, 'shift': 1210, 'gunman': 1211, 'played': 1212, 'turned': 1213, 'linked': 1214, 'took': 1215, 'camp': 1216, 'picture': 1217, 'paul': 1218, 'short': 1219, 'udhampur': 1220, 'door': 1221, 'o': 1222, 'calls': 1223, 'investigating': 1224, 'tablet': 1225, 'syrian': 1226, 'happen': 1227, 'fat': 1228, 'reading': 1229, 'occurred': 1230, 'havent': 1231, 'enough': 1232, 'wasnt': 1233, 'double': 1234, 'saying': 1235, 'feet': 1236, 'helping': 1237, 'jeb': 1238, 'stories': 1239, 'potential': 1240, 'pathogens': 1241, 'chile': 1242, 'false': 1243, 'theater': 1244, 'threat': 1245, 'reddits': 1246, '2013': 1247, 'tears': 1248, 'buses': 1249, 'means': 1250, 'lucky': 1251, 'animal': 1252, 'cranes': 1253, 'killer': 1254, 'total': 1255, 'taiwan': 1256, 'sitting': 1257, '2nd': 1258, 'president': 1259, 'cover': 1260, 'likely': 1261, 'utc20150805': 1262, 'glad': 1263, 'lamp': 1264, 'fears': 1265, 'med': 1266, 'happens': 1267, 'population': 1268, 'month': 1269, 'brooklyn': 1270, 'million': 1271, 'un': 1272, 'girls': 1273, 'sensorsenso': 1274, 'among': 1275, 'winds': 1276, 'freak': 1277, 'hair': 1278, 'sun': 1279, 'problem': 1280, 'damaged': 1281, 'driving': 1282, 'bin': 1283, 'fully': 1284, 'complete': 1285, 'amazon': 1286, 'absolutely': 1287, 'rather': 1288, 'deep': 1289, 'months': 1290, 'secret': 1291, 'canada': 1292, 'nigga': 1293, 'based': 1294, 'africa': 1295, 'court': 1296, '2014': 1297, 'owner': 1298, 'metro': 1299, 'office': 1300, 'cut': 1301, 'silver': 1302, 'gotta': 1303, 'sea': 1304, 'record': 1305, 'suspected': 1306, 'wildfires': 1307, '\\x89ûïwhen': 1308, 'plunging': 1309, 'governor': 1310, 'e': 1311, 'friday': 1312, 'join': 1313, 'ashes': 1314, 'trent': 1315, 'wife': 1316, 'offroad': 1317, 'effects': 1318, 'worlds': 1319, 'dance': 1320, 'pray': 1321, 'yall': 1322, 'extreme': 1323, 'phoenix': 1324, 'metal': 1325, 'causes': 1326, 'hospital': 1327, 'repatriated': 1328, 'burn': 1329, 'tram': 1330, 'press': 1331, 'afghanistan': 1332, 'drink': 1333, 'quite': 1334, 'saving': 1335, 'eye': 1336, 'seriously': 1337, 'airlines': 1338, 'leaving': 1339, 'either': 1340, 'weekend': 1341, 'blocked': 1342, 'message': 1343, 'sent': 1344, 'tired': 1345, 'bed': 1346, 'less': 1347, 'yo': 1348, 'exchanging': 1349, 'ap': 1350, 'antioch': 1351, 'subreddits': 1352, '1st': 1353, 'cable': 1354, 'single': 1355, 'destroys': 1356, 'pool': 1357, 'technology': 1358, 'issue': 1359, 'seattle': 1360, 'incident': 1361, 'pass': 1362, 'cdt': 1363, 'create': 1364, 'mine': 1365, 'each': 1366, 'weird': 1367, '2011': 1368, 'cannot': 1369, 'crime': 1370, 'queen': 1371, 'dan': 1372, 'shall': 1373, 'character': 1374, 'express': 1375, 'common': 1376, 'return': 1377, 'laden': 1378, 'cruz': 1379, 'sh': 1380, 'updates': 1381, 'travel': 1382, '90': 1383, 'specially': 1384, 'boys': 1385, 'tension': 1386, 'pdp': 1387, 'usgs': 1388, 'time20150806': 1389, 'wrought': 1390, 'seek': 1391, 'gov': 1392, 'allows': 1393, 'episode': 1394, 'agree': 1395, 'vote': 1396, 'fine': 1397, 'force': 1398, 'soldiers': 1399, 'beat': 1400, 'wwii': 1401, 'earlier': 1402, 'dying': 1403, 'strong': 1404, 'happening': 1405, 'stadium': 1406, '1980': 1407, 'avoid': 1408, 'areas': 1409, 'spring': 1410, 'states': 1411, 'michael': 1412, 'later': 1413, 'foxnews': 1414, 'hawaii': 1415, '31': 1416, 'expect': 1417, 'handbag': 1418, 'brain': 1419, 'gone': 1420, 'block': 1421, 'denver': 1422, 'response': 1423, 'feat': 1424, 'nice': 1425, 'hero': 1426, 'hwy': 1427, 'asked': 1428, 'orders': 1429, 'todays': 1430, 'close': 1431, 'humanity': 1432, 'rate': 1433, 'bay': 1434, 'western': 1435, 'rocky': 1436, 'cold': 1437, 'irandeal': 1438, 'prevent': 1439, 'minutes': 1440, 'strike': 1441, 'ice': 1442, 'runs': 1443, 'edm': 1444, 'using': 1445, 'round': 1446, 'matter': 1447, 'cost': 1448, 'terrorists': 1449, 'involving': 1450, 'books': 1451, 'spaceship': 1452, 'football': 1453, 'fantasy': 1454, 'comment': 1455, 'starts': 1456, 'dr': 1457, 'david': 1458, 'meet': 1459, 'loved': 1460, '4000': 1461, 'mind': 1462, 'co': 1463, 'brother': 1464, 'stopped': 1465, 'ways': 1466, 'relief': 1467, 'anymore': 1468, 'sunday': 1469, 'leads': 1470, 'match': 1471, 'stuff': 1472, 'legacy': 1473, 'special': 1474, 'leading': 1475, 'gay': 1476, 'kit': 1477, 'shape': 1478, 'equipment': 1479, 'birthday': 1480, 'sismo': 1481, 'hold': 1482, 'none': 1483, 'won': 1484, 'trfc': 1485, 'gtgt': 1486, 'worldnews': 1487, 'able': 1488, 'tips': 1489, 'bombings': 1490, 'lil': 1491, 'upset': 1492, 'voice': 1493, 'falls': 1494, 'begin': 1495, 'examining': 1496, 'squad': 1497, 'lead': 1498, 'screen': 1499, 'releases': 1500, 'alive': 1501, 'welcome': 1502, 'greatest': 1503, 'list': 1504, 'broken': 1505, 'arianagrande': 1506, 'avoiding': 1507, 'loving': 1508, 'lose': 1509, 'guide': 1510, 'community': 1511, 'seems': 1512, 'chicago': 1513, 'ask': 1514, 'nc': 1515, 'held': 1516, 'wish': 1517, 'roosevelt': 1518, 'da': 1519, 'son': 1520, 'mortal': 1521, 'kombat': 1522, 'along': 1523, 'struggles': 1524, 'smaug': 1525, 'epicentre': 1526, 'worth': 1527, 'living': 1528, 'c130': 1529, 'modified': 1530, 'wars': 1531, 'reasons': 1532, 'exit': 1533, 'text': 1534, 'tote': 1535, 'purse': 1536, 'understand': 1537, 'everywhere': 1538, 'fighting': 1539, 'deadly': 1540, 'streets': 1541, 'mary': 1542, 'bit': 1543, 'emotional': 1544, 'sale': 1545, 'opening': 1546, 'civilians': 1547, 'supposed': 1548, 'international': 1549, 'hearing': 1550, 'careful': 1551, 'release': 1552, 'glass': 1553, 'app': 1554, 'began': 1555, 'videos': 1556, 'usatoday': 1557, 'blog': 1558, 'remove': 1559, '22': 1560, 'box': 1561, 'setting': 1562, 'sir': 1563, 'keeps': 1564, 'economic': 1565, 'secrets': 1566, 'oklahoma': 1567, 'el': 1568, 'killing': 1569, 'carrying': 1570, 'apply': 1571, 'crematoria': 1572, 'provoke': 1573, 'review': 1574, 'trip': 1575, 'brought': 1576, 'leader': 1577, 'main': 1578, 'f': 1579, 'powerlines': 1580, 'af': 1581, 'units': 1582, 'iraq': 1583, 'mayan': 1584, 'smh': 1585, 'knew': 1586, 'rubber': 1587, 'final': 1588, 'lane': 1589, 'ships': 1590, 'beyhive': 1591, 'rip': 1592, 'ft': 1593, 'points': 1594, 'highway': 1595, 'hi': 1596, 'bro': 1597, 'stops': 1598, 'practice': 1599, 'late': 1600, 'philippines': 1601, 'opens': 1602, 'canyon': 1603, 'cook': 1604, 'manchester': 1605, 'trees': 1606, 'signed': 1607, 'science': 1608, 'build': 1609, 'cinema': 1610, 'rì©union': 1611, 'quran': 1612, 'ideas': 1613, 'moving': 1614, 'slightly': 1615, 'minecraft': 1616, 'word': 1617, 'calling': 1618, 'mr': 1619, 'region': 1620, 'stealing': 1621, 'heres': 1622, 'according': 1623, 'plus': 1624, 'dark': 1625, 'preparedness': 1626, 'nursing': 1627, 'grow': 1628, 'italian': 1629, 'forever': 1630, 'firefighter': 1631, 'safe': 1632, 'workers': 1633, 'lt': 1634, 'v': 1635, 'system': 1636, 'articles': 1637, 'civilian': 1638, 'forget': 1639, 'route': 1640, 'passing': 1641, 'hits': 1642, 'wouldnt': 1643, 'lie': 1644, 'tonto': 1645, 'problems': 1646, 'social': 1647, 'number': 1648, 'simple': 1649, 'lights': 1650, 'usually': 1651, 'french': 1652, 'it\\x89ûªs': 1653, 'except': 1654, 'mt': 1655, 'syria': 1656, 'chief': 1657, 'window': 1658, 'seat': 1659, 'residents': 1660, 'burns': 1661, 'target': 1662, 'forecast': 1663, 'christmas': 1664, 'disco': 1665, 'grows': 1666, 'microlight': 1667, 'runway': 1668, 'wed': 1669, 'quick': 1670, 'kindle': 1671, '33': 1672, 'quickly': 1673, 'charity': 1674, 'apparently': 1675, 'together': 1676, 'wash': 1677, 'visit': 1678, 'sports': 1679, 'moved': 1680, 'hello': 1681, 'saturday': 1682, 'loss': 1683, 'ones': 1684, 'combo': 1685, 'threatens': 1686, 'mediterranean': 1687, 'fish': 1688, 'size': 1689, 'mix': 1690, 'event': 1691, 'di': 1692, 'shouldnt': 1693, 'cops': 1694, 'lt3': 1695, 'miles': 1696, 'municipal': 1697, 'sport': 1698, 'related': 1699, 'continue': 1700, 'confirms': 1701, '5km': 1702, 'md': 1703, 'directioners': 1704, 'original': 1705, 'thunderstorms': 1706, 'faux': 1707, 'hobo': 1708, 'question': 1709, 'player': 1710, 'pressure': 1711, 'rains': 1712, 'thomas': 1713, 'lovely': 1714, '1000': 1715, 'advisory': 1716, 'forces': 1717, 'headed': 1718, 'officers': 1719, 'shut': 1720, 'allah': 1721, 'photography': 1722, 'bruh': 1723, 'rn': 1724, 'ny': 1725, 'gm': 1726, 'al': 1727, '18': 1728, 'program': 1729, 'universe': 1730, 'yyc': 1731, 'abandoned': 1732, 'costs': 1733, 'illegal': 1734, '911': 1735, 'dangerous': 1736, 'talking': 1737, 'loose': 1738, 'coffee': 1739, 'stream': 1740, 'local': 1741, 'stage': 1742, 'grill': 1743, 'radiation': 1744, 'rea\\x89û': 1745, 'i5': 1746, 'mini': 1747, 'bout': 1748, 'beyond': 1749, 'ep': 1750, 'browser': 1751, 'markets': 1752, 'mention': 1753, '06': 1754, 'clutch': 1755, 'genocide': 1756, 'hands': 1757, 'tropical': 1758, 'ray': 1759, 'relatives': 1760, 'vietnam': 1761, 'actions': 1762, 'vine': 1763, 'allow': 1764, 'max': 1765, 'feed': 1766, 'posts': 1767, 'tax': 1768, 'wmata': 1769, 'sleeping': 1770, 'rear': 1771, 'insane': 1772, 'missed': 1773, 'officially': 1774, 'jack': 1775, 'inundation': 1776, 'handbags': 1777, 'fuel': 1778, 'built': 1779, 'lowndes': 1780, 'residential': 1781, 'above': 1782, 'drunk': 1783, 'sleep': 1784, 'tribal': 1785, 'limited': 1786, 'homeless': 1787, 'steel': 1788, 'fake': 1789, 'bringing': 1790, 'boston': 1791, 'yesterday': 1792, 'incredible': 1793, 'lion': 1794, 'attacks': 1795, 'blamed': 1796, 'steps': 1797, 'floor': 1798, 'can\\x89ûªt': 1799, 'ah': 1800, 'hurts': 1801, 'thx': 1802, 'rail': 1803, 'watched': 1804, 'companies': 1805, 'shares': 1806, 'disney': 1807, 'xbox': 1808, 'amazing': 1809, 'cuz': 1810, 'stone': 1811, 'easy': 1812, 'afternoon': 1813, 'ocean': 1814, 'anti': 1815, 'eruption': 1816, 'debt': 1817, 'guardian': 1818, 'florida': 1819, 'mood': 1820, 'colour': 1821, 'vinyl': 1822, 'soundcloud': 1823, 'warns': 1824, 'jackson': 1825, 'medical': 1826, 'facebook': 1827, 'tryna': 1828, 'experience': 1829, 'tubestrike': 1830, 'adult': 1831, 'deals': 1832, 'mumbai': 1833, 'several': 1834, 'image': 1835, 'canaanites': 1836, 'evil': 1837, 'yrs': 1838, 'writing': 1839, 'bet': 1840, 'repair': 1841, 'subject': 1842, 'questions': 1843, 'ceo': 1844, 'results': 1845, 'tongue': 1846, 'angel': 1847, 'dream': 1848, 'acres': 1849, 'ten': 1850, 'kid': 1851, 'shadow': 1852, 'freakiest': 1853, 'accidents': 1854, 'created': 1855, 'sit': 1856, 'crying': 1857, 'cry': 1858, 'edition': 1859, 'apartment': 1860, 'toilet': 1861, 'bitch': 1862, 'plug': 1863, 'church': 1864, 'wings': 1865, 'shower': 1866, 'republicans': 1867, 'imagine': 1868, 'guns': 1869, 'wins': 1870, 'parenthood': 1871, 'youve': 1872, 'guillermo': 1873, 'budget': 1874, 'himself': 1875, 'economy': 1876, 'audio': 1877, 'concert': 1878, 'law': 1879, 'protect': 1880, 'sidelines': 1881, 'newest': 1882, 'consider': 1883, 'kick': 1884, 'german': 1885, 'animalrescue': 1886, 'cancer': 1887, 'utc': 1888, 'hobbit': 1889, 'cases': 1890, 'i\\x89ûªm': 1891, 'toronto': 1892, 'george': 1893, 'recovery': 1894, 'mail': 1895, 'rohingya': 1896, 'ms': 1897, 'tank': 1898, 'dubstep': 1899, 'reminds': 1900, 'tweets': 1901, 'civil': 1902, 'tour': 1903, 'cop': 1904, 'babies': 1905, 'honestly': 1906, 'eat': 1907, 'se': 1908, 'disneys': 1909, 'unless': 1910, 'article': 1911, 'festival': 1912, 'currently': 1913, 'inner': 1914, 'rising': 1915, 'tent': 1916, 'joe': 1917, 'china\\x89ûªs': 1918, 'flat': 1919, 'board': 1920, 'moon': 1921, 'blessed': 1922, 'wired': 1923, 'motorcyclist': 1924, 'youd': 1925, 'perfect': 1926, 'ya': 1927, 'arrive': 1928, 'kidnapped': 1929, 'gods': 1930, 'ultimate': 1931, 'accidentally': 1932, 'pilot': 1933, 'gta': 1934, 'remembering': 1935, 'murdered': 1936, 'conference': 1937, 'epic': 1938, 'woke': 1939, '1945': 1940, 'spent': 1941, 'surrounded': 1942, 'mhtw4fnet': 1943, 'collection': 1944, 'senator': 1945, 'worked': 1946, 'maintenance': 1947, 'lots': 1948, 'machine': 1949, 'club': 1950, 'kisii': 1951, 'hunt': 1952, 'bells': 1953, 'sunset': 1954, 'snow': 1955, 'maximum': 1956, 'congress': 1957, 'ha': 1958, 'rocks': 1959, 'roads': 1960, 'battlefield': 1961, 'type': 1962, 'satellite': 1963, 'millions': 1964, 'within': 1965, 'inj': 1966, 'lifted': 1967, 'drop': 1968, 'version': 1969, 'reduce': 1970, 'seven': 1971, 'feminists': 1972, 'arrived': 1973, 'mining': 1974, 'portland': 1975, 'users': 1976, 'access': 1977, 'nah': 1978, 'aka': 1979, 'averted': 1980, 'sicily': 1981, 'linkury': 1982, 'santa': 1983, '500': 1984, 'changes': 1985, 'rare': 1986, 'vuitton': 1987, 'monogram': 1988, 'enjoy': 1989, 'mexico': 1990, 'itself': 1991, '4x4': 1992, 'fog': 1993, 'pics': 1994, 'parker': 1995, 'ridge': 1996, 'prime': 1997, 'exploration': 1998, 'track': 1999, 'strategy': 2000, 'society': 2001, 'shame': 2002, 'salem': 2003, 'gang': 2004, 'justice': 2005, 'option': 2006, 'animals': 2007, 'burst': 2008, 'minister': 2009, 'theyll': 2010, '29': 2011, 'shipping': 2012, 'page': 2013, 'providence': 2014, 'often': 2015, 'blocking': 2016, 'finnish': 2017, 'bear': 2018, 'o784': 2019, 'fleets': 2020, 'totaling': 2021, 'truly': 2022, 'tbt': 2023, 'depth': 2024, 'copilot': 2025, 'warship': 2026, 'iranian': 2027, 'calm': 2028, 'blvd': 2029, 'dollar': 2030, 'drug': 2031, '300': 2032, 'brazil': 2033, 'putin': 2034, 'doubt': 2035, 'purple': 2036, 'pepper': 2037, 'themselves': 2038, 'township': 2039, 'pls': 2040, 'associated': 2041, 'external': 2042, 'offer': 2043, 'degrees': 2044, 'tech': 2045, 'va': 2046, 'quote': 2047, 'trafford': 2048, 'odeon': 2049, 'shepherd': 2050, 'hilarious': 2051, 'defense': 2052, 'mile': 2053, 'ems': 2054, 'notices': 2055, 'movies': 2056, 'weeks': 2057, 'energy': 2058, 'afghan': 2059, 'carry': 2060, 'situation': 2061, 'add': 2062, 'everyday': 2063, 'learning': 2064, 'jam': 2065, 'details': 2066, 'seeks': 2067, 'comments': 2068, 'continues': 2069, 'massive': 2070, 'heads': 2071, 'nine': 2072, 'meeting': 2073, 'alps': 2074, 'aid': 2075, 'including': 2076, 'awful': 2077, 'invoices': 2078, 'pile': 2079, 'swimming': 2080, 'distance': 2081, 'restore': 2082, 'snap': 2083, 'baseball': 2084, 'confirm': 2085, 'abstorm': 2086, 'xd': 2087, 'tickets': 2088, 'mediterran': 2089, 'sac': 2090, 'solar': 2091, 'let\\x89ûªs': 2092, 'h': 2093, 'blk': 2094, 'van': 2095, 'fights': 2096, 'ii': 2097, 'client': 2098, 'rule': 2099, 'wealth': 2100, 'yea': 2101, 'weve': 2102, 'manager': 2103, 'given': 2104, 'troops': 2105, 'stars': 2106, 'row': 2107, 'reality': 2108, 'elevated': 2109, 'be\\x89û': 2110, 'cia': 2111, 'sees': 2112, 'losses': 2113, 'ben': 2114, 'theatre': 2115, 'spirit': 2116, 'ps': 2117, 'title': 2118, 're': 2119, 'mother': 2120, 'lmfao': 2121, 'completely': 2122, 'exchange': 2123, 'gunfire': 2124, 'stuart': 2125, 'broad': 2126, 'plot': 2127, 'spider': 2128, 'maryland': 2129, 'mansion': 2130, 'yobe': 2131, 'student': 2132, 'campus': 2133, 'migrant': 2134, 'capsizes': 2135, 'bitches': 2136, 'drones': 2137, 'owners': 2138, 'followers': 2139, 'active': 2140, 'design': 2141, 'smithsonian': 2142, 'ted': 2143, 'election': 2144, 'starring': 2145, 'characters': 2146, 'starting': 2147, 'storms': 2148, 'sensor': 2149, 'prophet': 2150, 'damages': 2151, 'emotionally': 2152, 'picked': 2153, 'england': 2154, 'subs': 2155, 'malaysian': 2156, 'daughter': 2157, 'tough': 2158, 'powerful': 2159, 'bjp': 2160, 'fingers': 2161, 'crossed': 2162, 'olympic': 2163, 'operation': 2164, 'covered': 2165, 'hills': 2166, 'parleys': 2167, 'sittwe': 2168, 'somebody': 2169, 'trap': 2170, 'responsible': 2171, 'executives': 2172, 'prosecuted': 2173, 'rights': 2174, 'maria': 2175, 'americas': 2176, 'gusts': 2177, 'igers': 2178, 'cheese': 2179, 'estimate': 2180, 'werent': 2181, 'magic': 2182, 'toll': 2183, 'joy': 2184, 'multiple': 2185, 'iphone': 2186, 'dropped': 2187, 'injuryi495': 2188, 'loop': 2189, '97georgia': 2190, 'political': 2191, 'bought': 2192, 'needed': 2193, 'commercial': 2194, 'correction': 2195, 'physical': 2196, 'activity': 2197, 'standuser': 2198, 'sparked': 2199, 'moves': 2200, 'heroes': 2201, 'looked': 2202, 'extra': 2203, 'knee': 2204, 'bottom': 2205, 'unsafe': 2206, 'effort': 2207, 'updated': 2208, 'edt': 2209, 'waiting': 2210, 'age': 2211, 'hill': 2212, 'exactly': 2213, 'iii': 2214, 'sean': 2215, 'knows': 2216, 'july': 2217, 'moments': 2218, 'senior': 2219, 'library': 2220, 'league': 2221, 'discovered': 2222, 'golf': 2223, 'williams': 2224, 'towards': 2225, 'investigation': 2226, 'mess': 2227, 'actual': 2228, 'numbers': 2229, 'sadly': 2230, 'annual': 2231, 'intensity': 2232, 'clean': 2233, 'anchorage': 2234, 'alaska': 2235, 'afterlife': 2236, 'spos': 2237, 'by\\x89û': 2238, 'boss': 2239, 'pulled': 2240, 'fired': 2241, 'path': 2242, 'southern': 2243, 'beginning': 2244, 'evidence': 2245, 'failed': 2246, 'impact': 2247, 'percent': 2248, 'shoes': 2249, 'republican': 2250, 'crackdown': 2251, 'survival': 2252, 'philly': 2253, 'heaven': 2254, 'thus': 2255, 'rapidly': 2256, 'holiday': 2257, 'feels': 2258, 'structures': 2259, 'mido': 2260, 'lanes': 2261, 'wondering': 2262, 'murderous': 2263, 'piling': 2264, 'faan': 2265, 'rider': 2266, 'fell': 2267, 'served': 2268, 'certain': 2269, 'dozens': 2270, 'gaza': 2271, 'disrupts': 2272, 'tells': 2273, 'indeed': 2274, 'terrible': 2275, 'fox': 2276, 'pussy': 2277, 'union': 2278, 'diving': 2279, '4wd': 2280, 'reduced': 2281, 'attention': 2282, 'pop': 2283, 'australian': 2284, 'meatloving': 2285, 'lack': 2286, 'claim': 2287, 'beam': 2288, 'promises': 2289, 'communities': 2290, 'root': 2291, 'project': 2292, 'criminals': 2293, 'lorries': 2294, 'bride': 2295, 'internal': 2296, 'bluejays': 2297, 'paper': 2298, 'swallows': 2299, 'blows': 2300, 'valley': 2301, 'italy': 2302, 'aware': 2303, 'calories': 2304, 'debate': 2305, 'insurer': 2306, 'cup': 2307, 'quest': 2308, '320': 2309, 'ir': 2310, 'icemoon': 2311, 'djicemoon': 2312, 'trapmusic': 2313, 'dnb': 2314, 'ices\\x89û': 2315, 'result': 2316, 'stupid': 2317, 'alleged': 2318, 'mikeparractor': 2319, 'tea': 2320, '53inch': 2321, '300w': 2322, 'curved': 2323, 'places': 2324, 'solution': 2325, 'unit': 2326, 'hunters': 2327, 'load': 2328, 'chicagoarea': 2329, 'admits': 2330, 'scheme': 2331, 'chinese': 2332, 'became': 2333, 'conditions': 2334, 'uses': 2335, 'fav': 2336, 'brothers': 2337, 'riots': 2338, 'protest': 2339, 'enemy': 2340, 'destiny': 2341, 'wheavenly': 2342, 'blessings': 2343, 'arabia': 2344, 'bb17': 2345, 'cream': 2346, 'somalia': 2347, 'judge': 2348, 'humans': 2349, 'dramatic': 2350, 'drone': 2351, 'prepared': 2352, 'mac': 2353, 'em': 2354, 'somehow': 2355, 'asap': 2356, 'springs': 2357, 'tube': 2358, 'skin': 2359, 'san': 2360, 'fix': 2361, 'sexual': 2362, 'dare': 2363, 'kept': 2364, 'cyclist': 2365, 'turns': 2366, 'suffer': 2367, 'discovery': 2368, 'fail': 2369, 'flying': 2370, 'jesus': 2371, 'prabhu': 2372, 'calamity': 2373, 'fallen': 2374, 'acts': 2375, 'hieroglyphics': 2376, 'honors': 2377, 'lowly': 2378, 'newlyweds': 2379, 'hosting': 2380, 'supervisor': 2381, 'asking': 2382, 'losing': 2383, 'groups': 2384, 'six': 2385, 'beyonce': 2386, 'jacksonville': 2387, 'earrings': 2388, '\\x89ûïthe': 2389, 'jet': 2390, 'prices': 2391, 'dress': 2392, 'memes': 2393, 'field': 2394, 'write': 2395, 'kaduna': 2396, 'willing': 2397, 'clear': 2398, 'åè': 2399, '101': 2400, 'campaign': 2401, 'kca': 2402, 'votejkt48id': 2403, 'table': 2404, 'nb': 2405, '2pm': 2406, 'authorities': 2407, 'charging': 2408, 'rockyfire': 2409, 'heading': 2410, 'pres': 2411, 'recognize': 2412, 'waste': 2413, 'wanting': 2414, 'vulnerable': 2415, 'faith': 2416, 'goals': 2417, 'gift': 2418, 'eden': 2419, 'starter': 2420, 'nigeria': 2421, 'haram': 2422, 'copycat': 2423, 'mill': 2424, 'responds': 2425, 'base': 2426, 'horses': 2427, 'mental': 2428, 'individuals': 2429, 'average': 2430, 'begins': 2431, 'mourning': 2432, 'stabbing': 2433, 'stir': 2434, '\\x89û÷politics': 2435, 'grief\\x89ûª': 2436, 'dick': 2437, 'outlook': 2438, 'crack': 2439, 'crashes': 2440, 'stuck': 2441, 'decisions': 2442, 'produced': 2443, 'september': 2444, 'av': 2445, 'structure': 2446, 'nema': 2447, '35': 2448, 'emotions': 2449, 'deputies': 2450, 'kenya': 2451, '370': 2452, 'nature': 2453, 'you\\x89ûªve': 2454, 'realise': 2455, '3g': 2456, 'richard': 2457, 'eating': 2458, 'reaching': 2459, 'planet': 2460, 'captain': 2461, 'falcon': 2462, 'certainly': 2463, 'jewish': 2464, 'shell': 2465, 'pro': 2466, 'click': 2467, 'elephant': 2468, 'finds': 2469, 'nytimes': 2470, 'enjoying': 2471, 'ended': 2472, 'rome': 2473, 'lower': 2474, 'okwx': 2475, 'cleveland': 2476, 'heights': 2477, 'afraid': 2478, 'rep': 2479, 'yay': 2480, 'member': 2481, 'recent': 2482, 'alcohol': 2483, 'probe': 2484, 'putting': 2485, 'jamaica': 2486, 'wx': 2487, 'mitigation': 2488, 'alberta': 2489, 'huh': 2490, 'impossible': 2491, 'sucks': 2492, 'muslim': 2493, 'l': 2494, 'remains': 2495, 'definitely': 2496, 'persons': 2497, 'grade': 2498, 'mall': 2499, 'vets': 2500, 'memory': 2501, 'touch': 2502, 'housing': 2503, 'remain': 2504, 'bank': 2505, 'tom': 2506, 'interview': 2507, 'loan': 2508, 'passed': 2509, 'romance': 2510, 'np': 2511, 'nasa': 2512, 'porn': 2513, 'youngheroesid': 2514, 'pantherattack': 2515, 'ride': 2516, 'fits': 2517, 'bare': 2518, 'grace': 2519, 'usual': 2520, 'promise': 2521, 'tf': 2522, 'raynbowaffair': 2523, 'editor': 2524, 'diamondkesawn': 2525, 'ramag': 2526, 'models': 2527, 'mission': 2528, 'streak': 2529, 'drinking': 2530, 'hole': 2531, 'fettilootch': 2532, 'slanglucci': 2533, 'oppressions': 2534, '29072015': 2535, 'th': 2536, 'smoking': 2537, 'packs': 2538, 'itunes': 2539, 'events': 2540, 'sparks': 2541, 'arts': 2542, 'bug': 2543, 'occasion': 2544, 'decision': 2545, 'fresh': 2546, 'wonderful': 2547, 'unlocked': 2548, '\\x89ûïwe': 2549, 'mitt\\x89û\\x9d': 2550, 'written': 2551, 'print': 2552, 'sarah': 2553, 'targeting': 2554, 'minority': 2555, 'tracking': 2556, 'holy': 2557, 'chocolate': 2558, 'rolling': 2559, 'mountains': 2560, 'covers': 2561, 'efforts': 2562, 'easily': 2563, 'sinjar': 2564, 'walmart': 2565, 'personal': 2566, 'holland': 2567, 'majority': 2568, 'americans': 2569, 'generation': 2570, 'crap': 2571, 'idc': 2572, 'charge': 2573, 'coastal': 2574, 'wound': 2575, 'weak': 2576, 'winston': 2577, 'hated': 2578, 'increased': 2579, 'button': 2580, 'cnbc': 2581, 'theory': 2582, 'cities': 2583, 'justinbieber': 2584, 'supreme': 2585, 'prince': 2586, 'google': 2587, 'dk': 2588, 'taste': 2589, 'rape': 2590, 'revealed': 2591, 'poll': 2592, 'profile': 2593, '48': 2594, 'interested': 2595, 'fifth': 2596, 'ink': 2597, 'factory': 2598, 'usagov': 2599, 'auth': 2600, 'anyway': 2601, 'cave': 2602, 'ring': 2603, 'humidity': 2604, 'pak': 2605, 'wire': 2606, 'wo': 2607, 'movement': 2608, 'biological': 2609, 'grenade': 2610, 'forgot': 2611, 'continued': 2612, 'psychiatric': 2613, 'electronic': 2614, 'constantly': 2615, 'clinton': 2616, 'michael5sos': 2617, 'captured': 2618, 'respect': 2619, 'countries': 2620, 'sharp': 2621, 'cramer': 2622, 'sets': 2623, 'operations': 2624, 'activated': 2625, 'diet': 2626, 'chill': 2627, 'er': 2628, 'edinburgh': 2629, 'wood': 2630, 'rose': 2631, 'towel': 2632, 'floated': 2633, 'sixth': 2634, 'suffering': 2635, 'asian': 2636, 'ugh': 2637, 'plains': 2638, 'calif': 2639, 'reach': 2640, 'hip': 2641, 'cast': 2642, 'ran': 2643, 'goal': 2644, 'concerned': 2645, 'stephen': 2646, 'excited': 2647, 'anybody': 2648, 'roll': 2649, 'error': 2650, 'åê': 2651, 'b4': 2652, 'management': 2653, 'bat': 2654, 'orange': 2655, 'raining': 2656, 'freedom': 2657, 'beer': 2658, 'exist': 2659, 'caution': 2660, 'bicyclist': 2661, 'broadway': 2662, 'sister': 2663, '3rd': 2664, 'eq': 2665, '010401': 2666, '150401': 2667, 'cakes': 2668, 'c': 2669, 'innocent': 2670, 'specimens': 2671, 'enter': 2672, 'y': 2673, 'network': 2674, 'fill': 2675, 'below': 2676, 'cdc': 2677, 'john': 2678, 'pilots': 2679, 'zionist': 2680, 'palestinians': 2681, 'overnight': 2682, 'villages': 2683, 'ex': 2684, 'electric': 2685, 'mentions': 2686, 'prior': 2687, 'dependency': 2688, 'counselor': 2689, 'intern': 2690, 'threatening': 2691, 'wet': 2692, 'todd': 2693, 'fam': 2694, 'spain': 2695, 'conflict': 2696, 'shelter': 2697, 'motor': 2698, 'selfies': 2699, 'idk': 2700, 'ridiculous': 2701, 'worried': 2702, 'palms': 2703, 'naved': 2704, 'tribune': 2705, 'girlfriend': 2706, 'bears': 2707, 'concerns': 2708, 'monsoon': 2709, 'traditional': 2710, 'strange': 2711, 'looting': 2712, 'socialnews': 2713, 'mercy': 2714, 'southeast': 2715, 'schedule': 2716, 'wouldve': 2717, 'everyones': 2718, 'onto': 2719, 'realdonaldtrump': 2720, 'style': 2721, 'windows': 2722, 'speaking': 2723, 'lonewolffur': 2724, 'predicted': 2725, 'approaches': 2726, 's\\x89û': 2727, 'focus': 2728, 'entertainment': 2729, 'status': 2730, 'i\\x89ûªve': 2731, 'eb': 2732, 'winter': 2733, 'reviews': 2734, 'buffalo': 2735, 'quality': 2736, 'museum': 2737, 'becomes': 2738, 'memorial': 2739, 'fruit': 2740, 'battling': 2741, 'bob': 2742, 'wither': 2743, 'thriller': 2744, 'multiplayer': 2745, 'torch': 2746, 'harbor': 2747, 'warnings': 2748, 'elem': 2749, 'respond': 2750, 'drill': 2751, 'dvd': 2752, 'steve': 2753, '45': 2754, 'responsibility': 2755, 'lands': 2756, 'education': 2757, 'ig': 2758, 'foxtrot': 2759, 'hopefully': 2760, 'ugly': 2761, 'ww1': 2762, 'explosionproof': 2763, 'tempered': 2764, 'protector': 2765, 'blackberry': 2766, 'z10': 2767, 'laugh': 2768, 'hd': 2769, 'forbes': 2770, 'upper': 2771, 'decide': 2772, 'america\\x89ûªs': 2773, 'zombie': 2774, 'rob': 2775, 'idfire': 2776, 'dry': 2777, 'ebike': 2778, 'australias': 2779, '21': 2780, 'tag': 2781, '125': 2782, 'eventually': 2783, 'karymsky': 2784, 'host': 2785, 'accused': 2786, 'sandiego': 2787, 'trolley': 2788, 'japans': 2789, 'blind': 2790, 'store': 2791, 'recommend': 2792, 'laughing': 2793, 'g': 2794, 'statement': 2795, 'largest': 2796, 'mtvhottest': 2797, 'realize': 2798, 'surprise': 2799, 'abuse': 2800, 'success': 2801, 'father': 2802, 'crew': 2803, 'faster': 2804, 'harry': 2805, 'tcot': 2806, 'levels': 2807, 'fort': 2808, 'hotel': 2809, 'forced': 2810, 'hearts': 2811, '2pcs': 2812, '18w': 2813, '\\x89û÷extremely': 2814, 'offensive\\x89ûª': 2815, 'moth': 2816, 'insurers': 2817, 'rally': 2818, 'gained': 2819, 'earners': 2820, 'hitting': 2821, 'of\\x89û': 2822, 'egypt': 2823, 'relax': 2824, 'los': 2825, 'angeles': 2826, 'germany': 2827, 'patrick': 2828, 'kicked': 2829, 'karachi': 2830, 'known': 2831, 'here\\x89ûªs': 2832, 'collisionno': 2833, 'muscle': 2834, 'defend': 2835, 'ferguson': 2836, 'excellent': 2837, 'throw': 2838, 'zouma': 2839, 'derby': 2840, 'amongst': 2841, 'flew': 2842, 'soup': 2843, 'channel': 2844, 'diamond': 2845, 'blasts': 2846, 'enjoyed': 2847, 'links': 2848, 'experiments': 2849, '731': 2850, 'bounty': 2851, 'raid': 2852, 'rest': 2853, 'wit': 2854, 'rs': 2855, 'hungry': 2856, 'ends': 2857, 'lgbt': 2858, 'cigarette': 2859, 'cum': 2860, 'prison': 2861, 'msf': 2862, 'californias': 2863, 'lethal': 2864, 'kerricktrial': 2865, 'mens': 2866, 'options': 2867, 'whos': 2868, 'violence': 2869, 'ian': 2870, 'ty': 2871, 'apocalyptic': 2872, 'reward': 2873, 'sophie': 2874, '27': 2875, 'couldnt': 2876, 'extremely': 2877, 'brutally': 2878, 'bees': 2879, 'gabon': 2880, 'dragon': 2881, 'silence': 2882, 'ability': 2883, 'profit': 2884, 'rocket': 2885, 'trial': 2886, 'captures': 2887, 'racist': 2888, 'named': 2889, 'understanding': 2890, 'letters': 2891, 'palestine': 2892, 'hang': 2893, 'strategicpatience': 2894, 'idp': 2895, 'mma': 2896, 'cock': 2897, 'clip': 2898, '02': 2899, '\\x89ûïa': 2900, 'utterly': 2901, 'opposite': 2902, 'surprised': 2903, 'rockin': 2904, 'female': 2905, 'i77': 2906, 'legal': 2907, 'gotten': 2908, 'listening': 2909, 'weed': 2910, 'mets': 2911, 'increase': 2912, 'telling': 2913, 'allowed': 2914, 'grey': 2915, 'struck': 2916, 'yr': 2917, 'website': 2918, 'sing': 2919, 'computer': 2920, 'desire': 2921, '6aug': 2922, 'hoax': 2923, 'panel': 2924, 'applications': 2925, 'birds': 2926, 'bid': 2927, 'frank': 2928, 'mfs': 2929, 'utter': 2930, 'shock': 2931, 'cuban': 2932, 'sympathy': 2933, 'lover': 2934, 'railway': 2935, 'lauren': 2936, 'wht': 2937, 'fergusons': 2938, 'values': 2939, '10th': 2940, 'realtime': 2941, 'threats': 2942, 'dinner': 2943, 'scoopit': 2944, 'gon': 2945, 'swiss': 2946, 'biker': 2947, 'fb': 2948, 'negative': 2949, 'inning': 2950, 'stressful': 2951, 'i405': 2952, 'ministers': 2953, 'fennovoima': 2954, 'chaos': 2955, 'credit': 2956, 'blake': 2957, 'engine': 2958, 'vacation': 2959, 'cobra': 2960, '133': 2961, 'fwy': 2962, 'robotrainstorm': 2963, 'tested': 2964, 'older': 2965, 'mystery': 2966, 'vladimir': 2967, 'instant': 2968, 'user': 2969, 'buckle': 2970, 'pockets': 2971, 'houston': 2972, 'theyve': 2973, 'hype': 2974, 'reportedly': 2975, '150foot': 2976, 'occurs': 2977, 'growth': 2978, 'meals': 2979, 'warn': 2980, 'blowout': 2981, 'delay': 2982, 'outdoor': 2983, 'decades': 2984, 'longs': 2985, 'bargain': 2986, 'basement': 2987, 'bored': 2988, 'random': 2989, 'outflow': 2990, 'arriving': 2991, 'recycling': 2992, 'deliver': 2993, 'crashing': 2994, 'latestnews': 2995, 'stands': 2996, 'tornadoes': 2997, 'farrakhan': 2998, 'washingtonpost': 2999, 'regarding': 3000, 'disappearance': 3001, 'foster': 3002, 'boko': 3003, '39': 3004, 'garden': 3005, 'workplace': 3006, 'fuckin': 3007, 'returned': 3008, 'treat': 3009, 'especially': 3010, 'december': 3011, 'marijuana': 3012, 'ptsd': 3013, 'paramedic': 3014, 'satchel': 3015, 'salvation': 3016, 'encouragement': 3017, 'noise': 3018, 'sort': 3019, 'tutorial': 3020, 'summerfate': 3021, 'hwo': 3022, 'wearing': 3023, '2005': 3024, 'dat': 3025, 'accuses': 3026, 'materials': 3027, 'speed': 3028, 'chris': 3029, 'recover': 3030, 'whether': 3031, 'sx': 3032, '109': 3033, 'sws': 3034, '\\x89ûïrichmond': 3035, 'sitting\\x89û': 3036, 'medieval': 3037, '26': 3038, 'bowl': 3039, 'wa': 3040, 'greeces': 3041, 'revenues': 3042, 'warships': 3043, 'cleared': 3044, 'hamilton': 3045, 'abandon': 3046, 'toward': 3047, 'method': 3048, 'trials': 3049, 'seasons': 3050, 'michigan': 3051, 'leg': 3052, 'declared': 3053, 'fair': 3054, 'individual': 3055, 'elite': 3056, 'opened': 3057, 'experienced': 3058, 'hating': 3059, 'circle': 3060, 'cooler': 3061, 'moral': 3062, 'quotes': 3063, 'tools': 3064, 'logo': 3065, 'voting': 3066, 'drugs': 3067, 'assistance': 3068, 'indonesia': 3069, 'matters': 3070, 'expert': 3071, 'sb': 3072, 'normal': 3073, 'planning': 3074, 'transformation': 3075, 'collision1141': 3076, 'enrt': 3077, 'leaders': 3078, 'automatic': 3079, 'premium': 3080, 'a\\x89û': 3081, '14': 3082, '360wisenews': 3083, 'locke': 3084, 'roof': 3085, 'deserves': 3086, 'barely': 3087, 'turbine': 3088, 'bluetooth': 3089, 'stereo': 3090, 'headphones': 3091, 'hillary': 3092, 'opinion': 3093, 'ages': 3094, 'estate': 3095, 'europe': 3096, 'purchase': 3097, 'timeline': 3098, 'particularly': 3099, 'cancel': 3100, 'startup': 3101, 'urgent': 3102, 'darkness': 3103, 'highest': 3104, 'charges': 3105, 'gilbert23': 3106, 'fbi': 3107, 'ford': 3108, 'pets': 3109, 'laid': 3110, 'fly': 3111, 'angels': 3112, 'temper': 3113, 'swim': 3114, 'wy': 3115, 'popular': 3116, 'leaves': 3117, 'titan': 3118, 'current': 3119, 'nation': 3120, '5000': 3121, 'married': 3122, 'bell': 3123, 'butt': 3124, 'southampton': 3125, 'referring': 3126, 'modi': 3127, 'cries': 3128, 'longest': 3129, 'tripledigit': 3130, 'nuggets': 3131, 'forward': 3132, 'pisgah': 3133, '375': 3134, 'charlotte': 3135, 'sa': 3136, 'chain': 3137, 'localarsonist': 3138, 'twin': 3139, 'jazz': 3140, 'smile': 3141, 'someones': 3142, '0day': 3143, 'patched': 3144, 'os': 3145, 'exploit': 3146, 'surface': 3147, 'baltimore': 3148, 'odd': 3149, 'unsuckdcmetro': 3150, 'minor': 3151, 'derails': 3152, 'braking': 3153, 'tool': 3154, 'images': 3155, 'finger': 3156, 'card': 3157, 'palin': 3158, 'bb4sp': 3159, 'olive': 3160, 'daughters': 3161, 'reopening': 3162, 'key': 3163, 'talent': 3164, 'noaa': 3165, 'looping': 3166, 'wedaug5th': 3167, '150': 3168, 'spending': 3169, 'bake': 3170, 'dorrets': 3171, 'gateau': 3172, 'speaker': 3173, 'degree': 3174, 'federal': 3175, 'parking': 3176, 'pbban': 3177, 'temporary300': 3178, 'flags': 3179, 'xp': 3180, '1620': 3181, '300000': 3182, 'survivor': 3183, '86': 3184, 'mcilroy': 3185, 'ankle': 3186, 'closures': 3187, 'tuned': 3188, 'kurdish': 3189, 'militant': 3190, 'conquest': 3191, 'limit': 3192, 'oc': 3193, 'shared': 3194, 'initial': 3195, 'encounter': 3196, 'chest': 3197, 'spinning': 3198, '09': 3199, 'ts': 3200, 'nri': 3201, 'trs': 3202, 'tdp': 3203, 'eh': 3204, 'anger': 3205, 'james': 3206, 'offensiveåêcontent': 3207, 'pre': 3208, 'pam': 3209, 'auctions': 3210, 'grand': 3211, 'heartless': 3212, 'whipped': 3213, 'croatian': 3214, 'restricted': 3215, 'senate': 3216, 'object': 3217, 'harmkid': 3218, 'needle': 3219, 'replace': 3220, 'carryi': 3221, 'answers': 3222, 'morgan': 3223, 'ornament': 3224, 'aim': 3225, 'bts': 3226, 'detained': 3227, 'beforeitsnews': 3228, 'seem': 3229, 'thoughts': 3230, 'staff': 3231, 'solid': 3232, '800': 3233, 'ed': 3234, 'davidvonderhaar': 3235, 'lighting': 3236, '32': 3237, 'camps': 3238, 'grab': 3239, 'grateful': 3240, 'arwx': 3241, 'ar': 3242, 'tilnow': 3243, 'finish': 3244, 'vegetarian': 3245, 'restaurant': 3246, 'flooded': 3247, 'esp': 3248, 'poverty': 3249, 'luck': 3250, 'faroeislands': 3251, 'choking': 3252, 'chernobyl': 3253, 'glorious': 3254, 'documents': 3255, '69': 3256, 'cycling': 3257, 'grazed': 3258, 'invalid': 3259, 'witter': 3260, 'pitch': 3261, 'playoffs': 3262, 'environment': 3263, 'favourite': 3264, 'marvel': 3265, 'larger': 3266, 'hinton': 3267, 'pregnant': 3268, 'destroying': 3269, 'surely': 3270, 'avenue': 3271, 'm194': 3272, 'bullets': 3273, 'targets': 3274, 'listed': 3275, 'thin': 3276, 'skirt': 3277, 'sight': 3278, 'abcnews': 3279, 'commit': 3280, 'cos': 3281, 'log': 3282, 'rid': 3283, 'vampiro': 3284, 'ultimalucha': 3285, 'minds': 3286, 'per': 3287, 'cotton': 3288, 'candy': 3289, 'triple': 3290, 'harper': 3291, 'nose': 3292, 'attitude': 3293, 'agents': 3294, 'grove': 3295, 'brush': 3296, 'feelings': 3297, 'spirits': 3298, 'impacted': 3299, 'posted': 3300, 'password': 3301, 'walker': 3302, 'spend': 3303, 'barn': 3304, 'acting': 3305, 'safer': 3306, 'classic': 3307, 'hunger': 3308, 'sources': 3309, 'empty': 3310, 'passenger': 3311, 'stick': 3312, 'condition': 3313, 'sydney': 3314, 'barackobama': 3315, '8th': 3316, 'screenshots': 3317, 'combat': 3318, 'magnum': 3319, 'opus': 3320, 'buying': 3321, 'seconds': 3322, 'appreciate': 3323, 'blacklivesmatter': 3324, 'dem': 3325, 'environmental': 3326, 'closing': 3327, 'fixed': 3328, 'delays': 3329, 'sink': 3330, 'expensive': 3331, 'metrofmtalk': 3332, 'entered': 3333, 'leo': 3334, '80s': 3335, 'drove': 3336, 'band': 3337, 'peoples': 3338, 'settlement': 3339, 'hurt': 3340, 'interviews': 3341, 'abbswinston': 3342, 'lone': 3343, 'uniform': 3344, 'drives': 3345, 'burnt': 3346, 'bones': 3347, 'occupants': 3348, 'mid': 3349, '2008': 3350, 'doors': 3351, 'dj': 3352, 'serial': 3353, 'hampshire': 3354, '103': 3355, 'arsenal': 3356, 'frog': 3357, 'regular': 3358, 'mama': 3359, 'euro': 3360, 'marine': 3361, 'milkshake': 3362, '0104': 3363, 'cd': 3364, 'hamas': 3365, 'egged': 3366, '361': 3367, 'portion': 3368, 'coach': 3369, 'workout': 3370, 'haunting': 3371, 'drawn': 3372, 'announcement': 3373, 'phones': 3374, 'sin': 3375, 'blowing': 3376, 'price': 3377, 'rises': 3378, 'lay': 3379, 'include': 3380, 'analysis': 3381, 'injures': 3382, 'brakes': 3383, 'context': 3384, 'labs': 3385, 'bathroom': 3386, '15km': 3387, 'skinny': 3388, 'jeans': 3389, 'sewing': 3390, 'flip': 3391, 'blow': 3392, 'droid': 3393, 'vintage': 3394, 'itll': 3395, 'dirt': 3396, 'trailer': 3397, 'designs': 3398, 'worstsummerjob': 3399, 'eu': 3400, 'tunnel': 3401, 'fucked': 3402, 'suddenly': 3403, 'shakes': 3404, 'sf': 3405, 'existence': 3406, 'checked': 3407, 'floyds': 3408, 'agreed': 3409, 'slow': 3410, 'ohio': 3411, 'alex': 3412, 'eastern': 3413, 'washed': 3414, 'launch': 3415, 'register': 3416, 'tooth': 3417, 'modiministry': 3418, 'messenger': 3419, 'oak': 3420, 'ne': 3421, 'ga': 3422, 'patient': 3423, 'primary': 3424, 'positive': 3425, 'robert': 3426, 'donald': 3427, 'unveiled': 3428, 'greg': 3429, 'fighters': 3430, 'showcase': 3431, 'aussie': 3432, 'servers': 3433, 'impressed': 3434, 'eight': 3435, '95': 3436, 'bunch': 3437, 'parts': 3438, '80': 3439, 'university': 3440, 'perhaps': 3441, 'yahoo': 3442, 'pc': 3443, 'gameplay': 3444, 'mkx': 3445, 'blanket': 3446, 'plague': 3447, 'stamp': 3448, 'veterans': 3449, 'role': 3450, '13000': 3451, 'regret': 3452, 'fraction': 3453, 'pump': 3454, 'funds': 3455, 'exp': 3456, '2030': 3457, 'nuke': 3458, 'climb': 3459, 'apart': 3460, 'dear': 3461, 'blizzarddraco': 3462, 'talks': 3463, 'faced': 3464, 'wwi': 3465, 'rage': 3466, 'btw': 3467, 'detectado': 3468, 'japìn': 3469, 'jst': 3470, 'gym': 3471, 'clearly': 3472, 'cleanup': 3473, 'earnings': 3474, 'wannabe': 3475, 'batters': 3476, 'conversation': 3477, 'childhood': 3478, 'darude': 3479, 'dublin': 3480, 'recently': 3481, 'slide': 3482, 'skies': 3483, 'sisters': 3484, 'adventures': 3485, 'thousand': 3486, 'eaten': 3487, 'suffered': 3488, 'helps': 3489, 'remembered': 3490, '5pm': 3491, 'plant': 3492, 'rworldnews': 3493, 'cricket': 3494, 'koin6news': 3495, 'memphis': 3496, 'challenge': 3497, 'weathernetwork': 3498, 'leveled': 3499, 'feast': 3500, 'crater': 3501, 'resources': 3502, 'idiot': 3503, 'vancouver': 3504, 'motorcycle': 3505, 'charles': 3506, 'cecilthelion': 3507, 'count': 3508, 'sites': 3509, 'foul': 3510, 'writer': 3511, 'otherwise': 3512, 'unhappiness': 3513, 'bp': 3514, 'tape': 3515, 'source': 3516, 'bowling': 3517, 'twice': 3518, 'julie': 3519, 'becoming': 3520, 'communication': 3521, 'study': 3522, 'warfighting': 3523, 'robots': 3524, 'wee': 3525, 'retail': 3526, 'previous': 3527, 'castle': 3528, 'tie': 3529, 'languages': 3530, 'sweden': 3531, 'split': 3532, 'republic': 3533, 'wheres': 3534, 'yazidis': 3535, 'arm': 3536, 'yugvani': 3537, 'facts': 3538, 'journalist': 3539, 'teams': 3540, 'notice': 3541, 'present': 3542, 'clearedincident': 3543, 'shoulders': 3544, 'diss': 3545, 'propertycasualty': 3546, 'fit': 3547, 'mark': 3548, 'ee': 3549, 'volga': 3550, 'foot': 3551, 'neither': 3552, 'however': 3553, 'forgiven': 3554, 'returns': 3555, 'democracy': 3556, 'kuwait': 3557, 'jays': 3558, 'mlb': 3559, 'expecting': 3560, 'filled': 3561, 'proceeds': 3562, 'wear': 3563, 'radar': 3564, 'shelby': 3565, 'instagram': 3566, 'whales': 3567, 'arizona': 3568, 'demand': 3569, 'jail': 3570, 'neighborhood': 3571, 'device': 3572, 'beats': 3573, 'belongs': 3574, 'pack': 3575, 'finishing': 3576, 'logic': 3577, '360': 3578, 'pond': 3579, 'georgia': 3580, 'tr': 3581, 'sentinel': 3582, 'dallas': 3583, 'nashville': 3584, 'chewing': 3585, 'otrametlife': 3586, 'cell': 3587, 'declined': 3588, 'nicki': 3589, 'capture': 3590, 'thru': 3591, 'interest': 3592, 'guard': 3593, 'camera': 3594, 'kings': 3595, 'boxer': 3596, 'contemplating': 3597, 'period': 3598, 'cr': 3599, 'whao': 3600, 'crowd': 3601, 'repeat': 3602, 'hoping': 3603, 'omfg': 3604, 'reporting': 3605, 'sends': 3606, 'chosen': 3607, 'construction': 3608, 'bbcnews': 3609, 'bless': 3610, 'dorret': 3611, 'pipeline': 3612, 'describing': 3613, 'reveals': 3614, 'bio': 3615, 'breaks': 3616, 'tyre': 3617, 'warned': 3618, 'salmon': 3619, 'newsintweets': 3620, 'en': 3621, 'non': 3622, 'asleep': 3623, 'boot': 3624, 'abomination': 3625, 'ianhellfire': 3626, 'dam': 3627, 'oops': 3628, 'armed': 3629, 'blames': 3630, 'formed': 3631, 'attendance': 3632, 'sweet': 3633, 'franklin': 3634, 'cute': 3635, 'immediately': 3636, 'murderers': 3637, 'example': 3638, 'criminal': 3639, 'courts': 3640, 'scary': 3641, 'roller': 3642, 'ihhen': 3643, 'score': 3644, 'supports': 3645, 'dreams': 3646, 'recalls': 3647, 'ontario': 3648, 'brian': 3649, 'fate': 3650, 'happiness': 3651, '55': 3652, 'loves': 3653, 'reap': 3654, 'politics': 3655, 'uribe': 3656, 'fr': 3657, 'damaging': 3658, 'halifax': 3659, '43rd': 3660, 'cage': 3661, 'godslove': 3662, 'thanku': 3663, 'feeding': 3664, 'weight': 3665, 'betrayed': 3666, 'previously': 3667, 'attempt': 3668, 'experiencing': 3669, 'fishing': 3670, 'bars': 3671, 'brady': 3672, 'aussies': 3673, 'mum': 3674, 'nd': 3675, 'pacific': 3676, 'realized': 3677, 'fed': 3678, 'yellow': 3679, 'advance': 3680, 'race': 3681, 'nobody': 3682, 'meat': 3683, 'painting': 3684, 'concern': 3685, 'shipwreck': 3686, 'standing': 3687, 'resulted': 3688, 'decided': 3689, 'gamergate': 3690, 'marked': 3691, 'range': 3692, 'nude': 3693, 'val': 3694, 'bands': 3695, 'venezuela': 3696, 'verdict': 3697, 'charts': 3698, 'predict': 3699, 'ireland': 3700, 'amsterdam': 3701, 'tinyjecht': 3702, 'cousin': 3703, 'wholesale': 3704, 'description': 3705, 'procedures': 3706, 'cta': 3707, 'len': 3708, 'hashtag': 3709, 'slowly': 3710, 'schools': 3711, 'domestic': 3712, 'mirage': 3713, 'slayer': 3714, 'jeff': 3715, 'hop': 3716, 'smash': 3717, 'laws': 3718, 'daesh': 3719, 'prefer': 3720, 'players': 3721, 'locker': 3722, 'ns': 3723, 'registered': 3724, 'nurse': 3725, 'concept': 3726, 'cupcake': 3727, 'bulletin': 3728, 'unions': 3729, 'dental': 3730, 'ruined': 3731, 'mullah': 3732, 'omars': 3733, 'highly': 3734, 'australia\\x89ûªs': 3735, 'arms': 3736, 'ie': 3737, 'madinah': 3738, 'prophetmuhammad': 3739, 'photographer': 3740, 'groom': 3741, 'choice': 3742, 'lately': 3743, 'location': 3744, 'mo': 3745, 'vegas': 3746, 'lunch': 3747, 'revolution': 3748, 'wicked': 3749, 'min': 3750, 'combined': 3751, 'icymi': 3752, 'spanish': 3753, 'stress': 3754, 'flaming': 3755, 'welfare': 3756, 'anna': 3757, 'croat': 3758, 'roberts': 3759, 'equal': 3760, 'niece': 3761, 'despite': 3762, 'pays': 3763, 'color': 3764, 'marker': 3765, 'simulate': 3766, 'nu': 3767, 'unavoidable': 3768, 'consequence': 3769, 'socialism': 3770, 'bore': 3771, 'duty': 3772, 'donate': 3773, 'shedding': 3774, 'treatment': 3775, 'shirt': 3776, 'plate': 3777, 'possibly': 3778, 'code': 3779, 'preview': 3780, 'claytonbryant': 3781, 'artistsunited': 3782, 'billings': 3783, 'warcraft': 3784, 'nasahurricane': 3785, 'horrific': 3786, 'redlight': 3787, 'clash': 3788, 'dundee': 3789, 'dq': 3790, '166': 3791, 'teaching': 3792, 'hughes': 3793, 'tons': 3794, 'opposition': 3795, 'gunmen': 3796, 'salvador': 3797, 'sub': 3798, 'kingdom': 3799, 'invasion': 3800, 'virus': 3801, 'further': 3802, 'camping': 3803, 'mentally': 3804, 'roanoke': 3805, 'electrical': 3806, 'unlocking': 3807, 'lifetime': 3808, 'jordan': 3809, 'strikes': 3810, 'integrity': 3811, 'foodscare': 3812, 'offers2go': 3813, 'nestleindia': 3814, 'slips': 3815, 'magginoodle': 3816, 'humanconsumption': 3817, 'transporting': 3818, 'refugee': 3819, 'supernatural': 3820, 'blame': 3821, 'blah': 3822, 'complex': 3823, 'pillow': 3824, 'twos': 3825, 'ironically': 3826, 'michele': 3827, 'extends': 3828, 'fixing': 3829, 'notifications': 3830, 'birmingham': 3831, 'lesson': 3832, 'lifting': 3833, 'unto': 3834, 'names': 3835, 'joel': 3836, 'organizations': 3837, 'insight': 3838, 'cyber': 3839, 'banquet': 3840, 'visibility': 3841, 'undercover': 3842, 'zimbabwe': 3843, 'kodiak': 3844, 'ak': 3845, 'healthcare': 3846, 'vince': 3847, 'mcmahon': 3848, 'southbound': 3849, 'coal': 3850, 'pkwy': 3851, 'nick': 3852, 'dating': 3853, 'unprecedented': 3854, 'mania': 3855, 'rohnertparkdps': 3856, 'remorse': 3857, 'inspiring': 3858, 'economies': 3859, 'coping': 3860, 'jon': 3861, 'stewart': 3862, 'letting': 3863, 'crippling': 3864, 'bitcoin': 3865, 'gtgtgt': 3866, 'jewelry': 3867, 'paved': 3868, 'hypocrisy': 3869, '9newsgoldcoast': 3870, '1970': 3871, 'mercury': 3872, 'quarter': 3873, 'moulding': 3874, '429cj': 3875, 'sigalert': 3876, 'btwn': 3877, 'fireman': 3878, 'leagues': 3879, 'newbie': 3880, 'document': 3881, 'sounding': 3882, 'furious': 3883, 'wilshere': 3884, 'casual': 3885, 'stylish': 3886, 'outbid': 3887, '34': 3888, 'mufc': 3889, 'slate': 3890, 'ut': 3891, 'langley': 3892, 'cod': 3893, 'åç': 3894, 'grew': 3895, 'keratin': 3896, 'treatments': 3897, 'brazilian': 3898, 'copycats': 3899, 'screw': 3900, 'installation': 3901, 'noncompliant': 3902, 'cladding': 3903, 'mins': 3904, 'concluded': 3905, 'safely': 3906, 'christie': 3907, 'jerry': 3908, 'sexy': 3909, 'olap': 3910, 'multidimensi': 3911, 'caitlin': 3912, 'kiernan': 3913, 'centipede': 3914, 'numbered': 3915, 'nfl': 3916, 'gust': 3917, 'gander': 3918, 'bakeofffriends': 3919, 'jay': 3920, 'corp': 3921, 'melt': 3922, 'pol': 3923, 'plaguing': 3924, 'justmarried': 3925, 'questioning': 3926, 'solitude': 3927, 'summary': 3928, 'lightningcaused': 3929, '64': 3930, 'ovo': 3931, 'fest': 3932, 'fleeing': 3933, 'afc': 3934, 'cunts': 3935, 'scott': 3936, 'rice': 3937, 'nasty': 3938, 'pun': 3939, 'mock': 3940, 'carpet': 3941, 'premiere': 3942, 'critical': 3943, 'compete': 3944, 'pattern': 3945, 'mike': 3946, '60mph': 3947, 'explodes': 3948, 'philadelphia': 3949, 'wrapup': 3950, '2us': 3951, 'disappoints': 3952, 'born': 3953, 'ps4': 3954, 'bother': 3955, 'messages': 3956, 'katrina': 3957, 'tflbusalerts': 3958, 'casperrmg': 3959, 'cracking': 3960, 'peaceful': 3961, 'civilization': 3962, 'openly': 3963, 'meant': 3964, 'idps': 3965, 'wom': 3966, 'holmgren': 3967, 'lous': 3968, 'nh': 3969, 'noticed': 3970, 'visited': 3971, 'november': 3972, 'ronaldo': 3973, 'messi': 3974, 'disappeared': 3975, 'tt': 3976, 'nixon': 3977, 'hiding': 3978, 'items': 3979, 'habits': 3980, 'sr': 3981, 'sis': 3982, 'vgbootcamp': 3983, 'sn': 3984, 'vabengal': 3985, 'zss': 3986, 'newyorker': 3987, 'brings': 3988, 'reminder': 3989, 'neil': 3990, 'friendship': 3991, 'agency': 3992, 'permits': 3993, 'agrees': 3994, 'repay': 3995, 'dealbreaker': 3996, 'zayn': 3997, 'model': 3998, 'acquire': 3999, 'addition': 4000, 'perquisite': 4001, 'cafe': 4002, 'cites': 4003, 'barack': 4004, 'shaker': 4005, 'efak': 4006, 'britishbakeoff': 4007, 'shitty': 4008, 'wi': 4009, 'bradleybrad47': 4010, 'upgraded': 4011, 'pit': 4012, 'growingupblack': 4013, 'chicken': 4014, 'entering': 4015, 'siding': 4016, 'jets': 4017, 'nm': 4018, 'systems': 4019, 'rejects': 4020, 'endorses': 4021, 'hopes': 4022, 'esteemed': 4023, 'belt': 4024, 'hatcap': 4025, 'silvergray': 4026, 'embroidered': 4027, 'wpri': 4028, 'greatbritishbakeoff': 4029, 'alexbelloli': 4030, 'seemed': 4031, 'fairfax': 4032, 'placed': 4033, 'admin': 4034, 'dept': 4035, 'korea': 4036, 'author': 4037, 'jax': 4038, 'snowball': 4039, 'time20150805': 4040, '0700': 4041, 'cs': 4042, 'raw': 4043, 'uranium': 4044, 'thinks': 4045, 'lego': 4046, 'et': 4047, 'stunned': 4048, 'busy': 4049, 'handling': 4050, 'innovation': 4051, 'gadgets': 4052, 'drum': 4053, 'downstairs': 4054, 'possibility': 4055, 'elkhorn': 4056, 'walerga': 4057, 'treated': 4058, 'chevrolet': 4059, 'wd': 4060, 'pickup': 4061, 'b\\x89û': 4062, 'suv': 4063, 'carr': 4064, 'laundry': 4065, 'brunette': 4066, 'teases': 4067, 'despair': 4068, 'engage': 4069, 'customs': 4070, 'required': 4071, 'bluedio': 4072, '41': 4073, 'wireless': 4074, 'headset': 4075, 'protests': 4076, 'neverending': 4077, 'fm': 4078, 'maker': 4079, 'vet': 4080, 'dumb': 4081, 'excuses': 4082, 'nope': 4083, 'diverse': 4084, 'wce': 4085, 'automation': 4086, 'contact': 4087, 'progress': 4088, 'responded': 4089, 'allies': 4090, 'asks': 4091, 'bicycle': 4092, 'tweetlikeitsseptember11th2001': 4093, 'mc': 4094, 'arsonistmusic': 4095, 'ima': 4096, 'climatechange': 4097, 'william': 4098, 'permanent': 4099, 'wolf': 4100, 'musik': 4101, '2010': 4102, 'wftv': 4103, 'drinks': 4104, 'loads': 4105, 'atmosphere': 4106, 'dieplease': 4107, 'petitiontake': 4108, 'prompted': 4109, 'chose': 4110, 'bicycles': 4111, 'showing': 4112, 'pileup': 4113, 'uncle': 4114, 'wedn': 4115, 'hew': 4116, 'wb': 4117, 'psychological': 4118, 'coverage': 4119, 'material': 4120, 'measles': 4121, 'complications': 4122, 'looses': 4123, 'crickets': 4124, 'pendleton': 4125, 'drifting': 4126, '2016': 4127, 'cc': 4128, 'ironic': 4129, 'doc': 4130, 'dreaming': 4131, 'cape': 4132, 'coral': 4133, 'editorial': 4134, 'cas': 4135, 'battleship': 4136, 'indi': 4137, 'indiannews': 4138, 'jennifer': 4139, 'aniston': 4140, 'uploading': 4141, 'taco': 4142, 'pulling': 4143, 'devil': 4144, 'whatsapp': 4145, 'luis': 4146, 'wocowae': 4147, 'ushed': 4148, 'hockey': 4149, 'syndrome': 4150, 'tha': 4151, 'gn': 4152, 'swansea': 4153, 'transfer': 4154, 'virgil': 4155, 'narendramodi': 4156, 'chat': 4157, 'xb1': 4158, 'yorker': 4159, 'slip': 4160, 'oral': 4161, 'flower': 4162, 'fruits': 4163, 'thisiswhywecanthavenicethings': 4164, 'startups': 4165, 'beauty': 4166, 'privacy': 4167, 'messed': 4168, '\\x89ûïyou': 4169, 'screamqueens': 4170, 'katherines': 4171, 'raung': 4172, 'in\\x89û': 4173, 'cherokee': 4174, 'file': 4175, 'lawsuit': 4176, 'hackers': 4177, 'bs': 4178, 'performing': 4179, 'simon': 4180, 'lyrics': 4181, 'fortunately': 4182, 'draw': 4183, 'pipe': 4184, 'cindy': 4185, 'noonancindynoonanheartbreak': 4186, 'yahistorical': 4187, 'undergroundrailraod': 4188, 'rails': 4189, 'barrier': 4190, 'kiss': 4191, 'photoshop': 4192, 'poorly': 4193, 'teens': 4194, 'escaping': 4195, 'dey': 4196, 'cus': 4197, 'dope': 4198, 'patch': 4199, 'sons': 4200, 'andor': 4201, 'i65': 4202, 'repairs': 4203, '28': 4204, 'respected': 4205, 'poem': 4206, 'nowhere': 4207, 'condos': 4208, 'attacking': 4209, 'consequences': 4210, 'danisnotonfire': 4211, 'offs': 4212, 'jan': 4213, 'pounded': 4214, 'loretta': 4215, 'clouds': 4216, 'geneva': 4217, 'sa15t': 4218, 'hall': 4219, 'punjab': 4220, 'alerts': 4221, 'vehicles': 4222, 'battery': 4223, 'sail': 4224, 'justified': 4225, 'pissed': 4226, 'third': 4227, 'exhibition': 4228, '1100': 4229, 'rory': 4230, 'metlife': 4231, 'any1': 4232, 'tries': 4233, 'protecting': 4234, '1979': 4235, 'kindly': 4236, 'maps': 4237, 'server': 4238, 'patna': 4239, 'puncture': 4240, 'foreign': 4241, 'nail': 4242, 'chases': 4243, 'drag': 4244, 'bruise': 4245, 'skys': 4246, 'improve': 4247, 'alert': 4248, 'shutdown': 4249, 'thyroid': 4250, 'condemn': 4251, 'heartwarming': 4252, 'unity': 4253, 'awkward': 4254, 'rick': 4255, 'guest': 4256, 'bmw': 4257, '015025': 4258, 'epicenter': 4259, 'yankees': 4260, 'magisters': 4261, 'dwarves': 4262, 'architecture': 4263, '1m': 4264, 'vi': 4265, 'outfit': 4266, 'boxing': 4267, 'j': 4268, 'cole': 4269, 'rudd': 4270, 'gordon': 4271, 'denmark': 4272, 'sketch': 4273, 'swarm': 4274, 'swells': 4275, 'nw': 4276, 'traverse': 4277, 'ch4': 4278, 'boeing': 4279, 'quoted': 4280, 'signing': 4281, 'democrats': 4282, 'johnson': 4283, 'toe': 4284, 'connectorconnecto': 4285, 'motorcraft': 4286, 'bend': 4287, 'sneak': 4288, 'stab': 4289, 'sarcasm': 4290, '90blksamp8whts': 4291, 'colluded': 4292, 'hostageamp2': 4293, 'wbioterrorismampuse': 4294, 'lglorg': 4295, 'idis': 4296, 'gain': 4297, 'fortune': 4298, 'gem': 4299, 'bu': 4300, 'aquarium': 4301, 'sailing': 4302, 'destroyer': 4303, 'decor': 4304, 'applaud': 4305, 'driven': 4306, 'whose': 4307, 'delayed': 4308, 'homs': 4309, 'dems': 4310, 'scale': 4311, 'tonights': 4312, 'alien': 4313, 'applies': 4314, 'explains': 4315, 'boundaries': 4316, 'skill': 4317, 'combust': 4318, 'fossil': 4319, 'cloud': 4320, 'coursing': 4321, 'weyreygidi': 4322, 'era': 4323, 'investigate': 4324, 'photoset': 4325, 'sheeran': 4326, 'asia': 4327, 'quarters': 4328, 'artist': 4329, 'jamaicaplain': 4330, 'suruì¤': 4331, 'isil': 4332, 'border': 4333, 'theyd': 4334, 'blizzheroes': 4335, 'chase': 4336, 'standwithpp': 4337, '5sos': 4338, 'calum5sos': 4339, 'japton': 4340, 'poss': 4341, 'chattanooga': 4342, 'responding': 4343, 'dual': 4344, 'and\\x89û': 4345, 'megynkelly': 4346, '075': 4347, 'apple': 4348, 'mobile': 4349, 'newyork': 4350, 'krefeld': 4351, 'underway': 4352, 'cnnbrk': 4353, 'primarily': 4354, 'indoors': 4355, 'college': 4356, 'english': 4357, 'cbs': 4358, 'ks': 4359, 'shizune': 4360, 'venice': 4361, 'royalcarribean': 4362, 'prompts': 4363, 'recall': 4364, 'sp': 4365, 'c4news': 4366, 'llf': 4367, 'solve': 4368, 'africans': 4369, 'detroit': 4370, '37': 4371, 'square': 4372, 'pllolz': 4373, 'smiling': 4374, 'pjnet': 4375, 'remix': 4376, 'suit': 4377, 'lulgzimbestpicts': 4378, 'acoustic': 4379, 'estimated': 4380, 'cyclists': 4381, 'comparison': 4382, 'puppies': 4383, 'singing': 4384, 'ticket': 4385, 'sorrows': 4386, 'quake': 4387, 'typical': 4388, 'managed': 4389, 'fir': 4390, 'follower': 4391, 'stats': 4392, 'lived': 4393, 'looters': 4394, 'exposure': 4395, 'nbc': 4396, 'tuesday': 4397, 'midsouth': 4398, 'catfish': 4399, 'prediction': 4400, 'luchaunderground': 4401, 'roh3': 4402, 'oo': 4403, 'harrybecareful': 4404, 'spinningbot': 4405, 'andy': 4406, 'difference': 4407, 'starving': 4408, 'private': 4409, 'curb': 4410, 'ww2': 4411, 'bottle': 4412, 'eudrylantiqua': 4413, 'voter': 4414, 'circus': 4415, 've': 4416, 'fragile': 4417, 'counter': 4418, 'cutting': 4419, 'brighton': 4420, 'johnny': 4421, 'shark': 4422, 'diageos': 4423, 'stresses': 4424, 'revolt': 4425, 'bypass': 4426, 'ars': 4427, 'technica': 4428, 'entrepreneur': 4429, 'leadership': 4430, 'elijah': 4431, 'aw': 4432, 'jones94kyle': 4433, 'sake': 4434, 'musician': 4435, 'kalle': 4436, 'mattson': 4437, 'function': 4438, 'greek': 4439, 'summit': 4440, 'lines': 4441, 'reopen': 4442, 'throughout': 4443, 'command': 4444, 'pizza': 4445, 'windy': 4446, 'cbsbigbrother': 4447, 'breathing': 4448, 'reckless': 4449, 'hmu': 4450, 'disgusting': 4451, 'cats': 4452, 'trillion': 4453, 'crosses': 4454, 'architect': 4455, 'kanye': 4456, 'tokyo': 4457, 'alllivesmatter': 4458, 'desk': 4459, 'maintain': 4460, 'til': 4461, 'argument': 4462, 'radioactive': 4463, 'murders': 4464, 'vicinity': 4465, '4th': 4466, 'juice': 4467, 'sat': 4468, 'vacant': 4469, 'throat': 4470, 'lungs': 4471, '96': 4472, 'compound': 4473, 'cleric': 4474, 'necessary': 4475, 'transit': 4476, 'pleasure': 4477, 'lip': 4478, 'mgm': 4479, 'urs': 4480, 'proposed': 4481, 'thirst': 4482, 'njenga': 4483, 'razing': 4484, 'cope': 4485, 'minhazmerchant': 4486, 'requiring': 4487, 'partner': 4488, 'globe': 4489, 'audience': 4490, 'denier': 4491, 'acid': 4492, 'tunein': 4493, 'trend': 4494, 'resulting': 4495, 'corners': 4496, 'opp': 4497, 'andrew': 4498, 'trusty': 4499, 'considering': 4500, 'spontaneously': 4501, 'tastes': 4502, 'novel': 4503, 'mate': 4504, 'letter': 4505, 'ohh': 4506, 'planes': 4507, 'prez': 4508, 'sponsor': 4509, 'nosurrender': 4510, 'bully': 4511, 'kashmir': 4512, 'maj': 4513, 'mansehra': 4514, 'exc': 4515, 'hahaha': 4516, 'abubaraa1': 4517, 'cairo': 4518, 'citys': 4519, 'plummeted': 4520, 'emerges': 4521, 'infinity': 4522, 'utc5km': 4523, 'drama': 4524, 'finished': 4525, 'meekmill': 4526, 'dignity': 4527, 'asylum': 4528, 'prepares': 4529, 'vocal': 4530, 'bankstown': 4531, 'stacey': 4532, 'wattle': 4533, 'marlon': 4534, 'hidden': 4535, 'citizens': 4536, 'tomorrows': 4537, 'oneself': 4538, 'hamburg': 4539, 'deny': 4540, 'trek': 4541, 'core': 4542, 'pledge': 4543, 'allegiance': 4544, 'pope': 4545, 'finding': 4546, 'customers': 4547, 'ego': 4548, 'honest': 4549, 'refused': 4550, 'surrender': 4551, 'cowboys': 4552, 'wednesdays': 4553, 'rb': 4554, 'lance': 4555, 'dunbar': 4556, 'daytoday': 4557, 'strict': 4558, 'liability': 4559, 'commerce': 4560, 'march': 4561, 'ferry': 4562, 'bedroom': 4563, '001116': 4564, '161116': 4565, '0800': 4566, 'stores': 4567, 'balance': 4568, '5th': 4569, 'solo': 4570, 'jedi': 4571, 'hasbro': 4572, 'shira': 4573, 'bestseller': 4574, 'grounds': 4575, 'committed': 4576, 'alarmed': 4577, 'crowns': 4578, 'electro': 4579, 'comingsoon': 4580, 'hardcore': 4581, 'matching': 4582, 'dt': 4583, 'faulty': 4584, 'significant': 4585, 'defects': 4586, 'phew': 4587, 'eurotunnel': 4588, 'lonely': 4589, 'beliefs': 4590, 'likes': 4591, 'fled': 4592, 'sweet2young': 4593, 'oklahomaok': 4594, '1030': 4595, 'prone': 4596, 'devalue': 4597, 'dudes': 4598, 'at\\x89û': 4599, 'schedule\\x89û': 4600, 'taylor': 4601, 'fte': 4602, 'soudelors': 4603, 'landfall': 4604, 'display': 4605, '582': 4606, 'cherry': 4607, 'countynews': 4608, 'autumn': 4609, 'meets': 4610, 'affecting': 4611, 'sturgis': 4612, 'kotaweather': 4613, 'cue': 4614, 'acdelco': 4615, 'custom': 4616, 'genuine': 4617, 'soft': 4618, 'ante': 4619, 'twia': 4620, 'stomach': 4621, 'goku': 4622, 'junk': 4623, 'metrics': 4624, 'generally': 4625, 'sj': 4626, 'farm': 4627, 'kiev': 4628, 'incase': 4629, 'travis': 4630, 'deputy': 4631, 'sept': 4632, 'sheriff': 4633, 'murfreesboro': 4634, 'a5': 4635, 'snacks': 4636, 'disappear': 4637, 'atmospheric': 4638, 'newzsacramento': 4639, 'demonstratio': 4640, 'jupiters': 4641, 'adults': 4642, 'distinct': 4643, 'familia': 4644, 'milk': 4645, 'rates': 4646, 'worldwide': 4647, 'peeps': 4648, 'talkin': 4649, 'ghostwriter': 4650, 'pushing': 4651, 'voluntary': 4652, 'cabin': 4653, 'pickerel': 4654, 'reid': 4655, 'pomo': 4656, 'gofundme': 4657, 'complaints': 4658, 'trucks': 4659, 'atm': 4660, 'whistle': 4661, 'knife': 4662, 'royals': 4663, 'mud': 4664, 'monkeys': 4665, 'actress': 4666, 'snapchat': 4667, 'apparent': 4668, 'xoxo': 4669, 'cofounder': 4670, 'huffman': 4671, 'specif': 4672, 'worries': 4673, 'label': 4674, 'receive': 4675, 'matthew': 4676, 'matches': 4677, 'mentioned': 4678, 'versethe': 4679, 'vital': 4680, 'followback': 4681, 'parade': 4682, 'spreading': 4683, 'inst': 4684, 'apch': 4685, 'rwy': 4686, 'oper': 4687, 'z': 4688, 'taxiways': 4689, 'navbl': 4690, 'tmp': 4691, 'wnd': 4692, 'fart': 4693, 'aftershockdelo': 4694, 'scuf': 4695, 'healthy': 4696, 'anellatulip': 4697, 'origin': 4698, 'lavenderpoetrycafe': 4699, 'nostalgia': 4700, 'waimate': 4701, 'request': 4702, 'hr': 4703, 'software': 4704, 'symphony': 4705, 'stepped': 4706, 'fierce': 4707, 'artificial': 4708, 'ad': 4709, '6th': 4710, '1986': 4711, 'tremor': 4712, 'joke': 4713, 'okinawa': 4714, '10km': 4715, 'decent': 4716, 'butterfinger': 4717, 'priorities': 4718, 'testing': 4719, 'vest': 4720, 'trash': 4721, 'jealous': 4722, 'stocks': 4723, 'new\\x89û': 4724, 'manmade': 4725, 'battered': 4726, 'amirite': 4727, 'dame': 4728, 'edit': 4729, 'reacted': 4730, 'bumper': 4731, 'moderate': 4732, 'gawx': 4733, 'unique': 4734, 'comedy': 4735, 'recorded': 4736, 'gives': 4737, 'fluid': 4738, 'builds': 4739, 'twins': 4740, 'softenza': 4741, 'weekold': 4742, 'rages': 4743, 'portugal': 4744, 'nonlife': 4745, 'mic': 4746, 'gallipoli': 4747, 'pulwama': 4748, 'worrying': 4749, 'corey': 4750, 'robinson': 4751, 'although': 4752, 'chances': 4753, 'rich': 4754, 'unfolded': 4755, 'ordered': 4756, 'capital': 4757, 'backpack': 4758, 'folk': 4759, 'tlc': 4760, 'winner': 4761, 'dropping': 4762, 'sham': 4763, 'zabadani': 4764, 'works': 4765, 'martinmj22': 4766, 'yougov': 4767, 'rotator': 4768, 'cuff': 4769, 'precious': 4770, 'higher': 4771, 'topstories': 4772, 'performance': 4773, 'trusting': 4774, 'diaporama': 4775, 'sixpenceee': 4776, 'located': 4777, 'volcanoåêinåêrussia': 4778, 'msnbc': 4779, 'hatchet': 4780, 'marketing': 4781, 'tragic': 4782, 'claimed': 4783, 'riding': 4784, 'tryouts': 4785, '15th': 4786, 'tryout': 4787, 'brooke': 4788, 'greedy': 4789, 'creativity': 4790, 'selection': 4791, 'tampa': 4792, 'blutz10': 4793, 'traveling': 4794, 'predator': 4795, 'suspense': 4796, 'journalism': 4797, 'que': 4798, 'hide': 4799, 'firemen': 4800, 'firetruck': 4801, 'kyle': 4802, 'troy': 4803, 'fourth': 4804, 'monitor': 4805, 'retweet': 4806, 'gpm': 4807, 'bullseye': 4808, 'swing': 4809, 'lions': 4810, 'electricity': 4811, 'european': 4812, 'pancakes': 4813, 'variety': 4814, 'therapies': 4815, 'administration': 4816, 'helicopters': 4817, 'completed': 4818, 'greece': 4819, 'crossborder': 4820, 'redhanded': 4821, 'personally': 4822, 'homie': 4823, 'emsc': 4824, 'usnwsgov': 4825, 'evolve': 4826, 'katunews': 4827, 'grandeur': 4828, 'read\\x89û': 4829, 'weakening': 4830, 'lubbock': 4831, 'boundary': 4832, 'stroke': 4833, '1974': 4834, 'lasting': 4835, 'oso': 4836, 'pulls': 4837, 'viralspell': 4838, 'unnecessary': 4839, 'legislation': 4840, 'shoot': 4841, 'fund': 4842, 'nepal': 4843, 'poplar': 4844, '\\x89û÷it\\x89ûªs': 4845, 'irony': 4846, 'brick': 4847, 'walls': 4848, 'coworker': 4849, 'coat': 4850, 'worn': 4851, 'ma': 4852, 'hermancranston': 4853, 'speak': 4854, 'punishment': 4855, 'facing': 4856, 'sundays': 4857, 'pmharper': 4858, 'titanic': 4859, 'politifiact': 4860, 'reids': 4861, 'pants': 4862, 'soaking': 4863, 'bound': 4864, 'approaching': 4865, 'removed': 4866, 'ag': 4867, 'mf': 4868, 'scare': 4869, 'shore': 4870, 'port': 4871, 'tidal': 4872, 'background': 4873, 'atk': 4874, 'letsfootball': 4875, 'skanndtyagi': 4876, 'relive': 4877, 'simulation': 4878, 'float': 4879, 'warrior': 4880, 'mariah': 4881, 'thick': 4882, 'rammed': 4883, 'teenagers': 4884, 'violations': 4885, 'stolen': 4886, 'basic': 4887, 'sw': 4888, 'pdx911': 4889, 'holed': 4890, 'neck': 4891, 'soldier': 4892, 'ipad': 4893, 'jp': 4894, 'ssw': 4895, 'anza': 4896, 'negros': 4897, 'fairy': 4898, 'tale': 4899, 'zaynmalik': 4900, 'shop': 4901, 'loading': 4902, 'bangladesh': 4903, 'm\\x89û': 4904, 'cyprus': 4905, 'spears': 4906, 'forgotten': 4907, 'language': 4908, 'wealthy': 4909, 'showed': 4910, 'sharing': 4911, 'evacuations': 4912, 'teamhendrick': 4913, 'timkaine': 4914, 'commute': 4915, 'attraction': 4916, 'gig': 4917, 'grass': 4918, 'dedicated': 4919, 'director': 4920, 'section': 4921, '57': 4922, 'kindness': 4923, 'scenes': 4924, 'tune': 4925, 'alright': 4926, 'abc7': 4927, 'us101': 4928, 'paint': 4929, 'kurd': 4930, 'raised': 4931, 'gel': 4932, 'instantly': 4933, 'protection': 4934, 'pinpoint': 4935, 'peacefully': 4936, 'turning': 4937, 'disasters': 4938, 'yycstorm': 4939, 'appreciated': 4940, 'microsoft': 4941, 'unfortunately': 4942, 'glink': 4943, 'sides': 4944, 'shoe': 4945, 'extender': 4946, 'nhl': 4947, 'loseit': 4948, 'camilacabello97': 4949, 'strongly': 4950, 'simply': 4951, 'thief': 4952, 'stole': 4953, 'yahoonews': 4954, 'denali': 4955, '143': 4956, 'minaj': 4957, 'countrys': 4958, 'restive': 4959, 'northwest': 4960, 'bobcats': 4961, 'backyards': 4962, '\\x89û÷good': 4963, 'samaritans\\x89ûª': 4964, 'concrete': 4965, 'accionempresa': 4966, 'gerenciatodos': 4967, 'å¨': 4968, 'actor': 4969, 'digits': 4970, 'upwards': 4971, 'fresno': 4972, 'cord': 4973, 'outlet': 4974, 'golem': 4975, 'graveyard': 4976, 'gg': 4977, 'cared': 4978, 'cement': 4979, 'gridlock': 4980, 'legendary': 4981, 'emperor': 4982, 'tsunamiesh': 4983, 'esh': 4984, 'misses': 4985, 'pony': 4986, 'designed': 4987, 'settle': 4988, 'labour': 4989, 'enemies': 4990, 'porridge': 4991, 'knowing': 4992, 'bigamist': 4993, 'eastbound': 4994, 'raì¼l': 4995, 'condolence': 4996, 'behalf': 4997, 'christ': 4998, 'cfc': 4999, 'brigade': 5000, 'joining': 5001, 'montgomery': 5002, 'rejected': 5003, 'ops': 5004, 'snd': 5005, 'auto': 5006, 'emails': 5007, 'rapping': 5008, 'controllers': 5009, 'basically': 5010, 'priceless': 5011, 'rained': 5012, 'balls': 5013, 'generalnews': 5014, 'annoying': 5015, 'leaks': 5016, 'hahah': 5017, 'mutual': 5018, 'lebanon': 5019, 'tanzania': 5020, 'census': 5021, 'minions': 5022, 'technologies': 5023, 'attained': 5024, 'jurors': 5025, 'stu': 5026, 'rspca': 5027, 'fevwarrior': 5028, 'walked': 5029, 'hiphop': 5030, 'vault': 5031, 'zarry': 5032, 'thankfully': 5033, 'putins': 5034, 'batfanuk': 5035, 'iconic': 5036, 'skyline': 5037, 'slammed': 5038, 'maketh': 5039, 'ambulances': 5040, 'dolphin': 5041, 'digging': 5042, 'ignored': 5043, 'jacket': 5044, 'cartoon': 5045, 'ears': 5046, 'fitness': 5047, 'chiefs': 5048, 'bengal': 5049, 'cm': 5050, 'mamata': 5051, 'banerjee': 5052, 'dvc': 5053, 'tomcatarts': 5054, 'legion': 5055, 'imperfect': 5056, 'hybrid': 5057, 'volleyball': 5058, 'wen': 5059, 'spray': 5060, 'gmmbc': 5061, 'attractive': 5062, 'illustration': 5063, 'subway': 5064, 'assisting': 5065, 'fatburning': 5066, 'that\\x89ûªs': 5067, 'roses': 5068, 'files': 5069, 'exacerbated': 5070, 'specialists': 5071, 'locked': 5072, 'ear': 5073, 'asf': 5074, 'step': 5075, 'advice': 5076, 'solicitor': 5077, '180': 5078, 'purchased': 5079, 'coaster': 5080, 'grown': 5081, 'southdowns': 5082, 'treeporn': 5083, 'slower': 5084, 'constant': 5085, 'multi': 5086, 'minimehh': 5087, 'cjoyner': 5088, 'overlooking': 5089, 'pmarca': 5090, 'affiliation': 5091, 'investing': 5092, 'trading': 5093, 'forex': 5094, 'fez': 5095, 'seal': 5096, 'revelation': 5097, 'slides': 5098, 'mississauga': 5099, 'absolute': 5100, 'quartz': 5101, 'wrist': 5102, 'nylon': 5103, 'fabric': 5104, 'weallheartonedirection': 5105, 'wouldn\\x89ûªt': 5106, 'asshole': 5107, 'shaw': 5108, 'kerry': 5109, 'april': 5110, 'inevitable': 5111, 'engineers': 5112, 'glimpses': 5113, 'hyderabad': 5114, 'rainfall': 5115, 'temptation': 5116, 'soo': 5117, 'fella': 5118, 'scares': 5119, 'tests': 5120, 'askcharley': 5121, 'nato': 5122, 'pieces': 5123, 'diamorfiend': 5124, 'pasta': 5125, 'hahahaha': 5126, 'lolol': 5127, 'fukushimatepco': 5128, 'mourns': 5129, 'superhero': 5130, 'epilepsy': 5131, 'carried': 5132, 'vanuatu': 5133, 'affiliate': 5134, 'dtn': 5135, 'mcdonalds': 5136, 'fewmoretweets': 5137, 'neighbors': 5138, 'nor': 5139, 'incredibly': 5140, 'offramp': 5141, 'shout': 5142, 'warne': 5143, 'shocked': 5144, 'ml': 5145, 'gps': 5146, '1998': 5147, 'malik': 5148, 'pillows': 5149, 'lakes': 5150, 'restaurants': 5151, 'elizabeth': 5152, 'dozen': 5153, 'sunshine': 5154, 'paints': 5155, 'lawrence': 5156, 'roger': 5157, 'mistake': 5158, 'armory': 5159, 'chem': 5160, 'elliott': 5161, 'abuseddesolateamplost': 5162, 'diesis': 5163, 'bangin': 5164, 'tied': 5165, 'delta': 5166, 'leaked': 5167, 'pictures': 5168, 'coahuila': 5169, 'queens': 5170, 'billboard': 5171, 'carlos': 5172, 'cliffs': 5173, 'closest': 5174, 'toxic': 5175, 'savebees': 5176, 'gf': 5177, 'heroine': 5178, 'impending': 5179, 'lowlying': 5180, 'silent': 5181, 'bets': 5182, 'diablo': 5183, 'themed': 5184, 'punished': 5185, 'ameenshaikh3': 5186, 'lying': 5187, 'fallacy': 5188, 'christians': 5189, 'widespread': 5190, 'cousins': 5191, 'scientists': 5192, 'signup': 5193, 'nickcannon': 5194, 'listenbuy': 5195, 'realmandyrain': 5196, 'itunesmusic': 5197, 'blowmandyup': 5198, 'legit': 5199, 'haiyan': 5200, 'leeds': 5201, 'landscape': 5202, 'wattpad': 5203, 'tumbling': 5204, 'heels': 5205, '1999': 5206, 'recommended': 5207, 'ouvindo': 5208, 'meteoearth': 5209, 'bites': 5210, 'bronx': 5211, 'reaches': 5212, 'types': 5213, 'fifa16': 5214, 'leak': 5215, 'punch': 5216, 'rene': 5217, 'ik': 5218, 'troll': 5219, 'abused': 5220, 'meinlcymbals': 5221, 'medium': 5222, 'railways': 5223, 'unawares': 5224, '100000': 5225, 'hottest': 5226, 'vermont': 5227, 'net': 5228, 'billion': 5229, 'premier': 5230, 'comp': 5231, 'threw': 5232, 'nyt': 5233, 'janaq': 5234, 'bills': 5235, 'nda': 5236, 'florida\\x89û': 5237, 'dollars': 5238, 'factors': 5239, 'arabian': 5240, 'freezing': 5241, 'accustomed': 5242, 'pov': 5243, 'schiphol': 5244, 'announced': 5245, 'acute': 5246, 'follows': 5247, 'conversations': 5248, 'empire': 5249, 'describes': 5250, 'surah': 5251, 'humaza': 5252, 'reflect': 5253, 'lmfaoooo': 5254, 'i580': 5255, 'nwo': 5256, 'journeys': 5257, 'believing': 5258, 'warm': 5259, 'skipping': 5260, 'bummer': 5261, 'evansville': 5262, 'have\\x89û': 5263, 'assembly': 5264, '12news': 5265, 'housed': 5266, '90th': 5267, 'osborn': 5268, 'extinguished': 5269, 'i\\x89û': 5270, 'blocks': 5271, 'uganda': 5272, 'fifty': 5273, 'dates': 5274, '299': 5275, 'ashley': 5276, 'komen': 5277, 'sharethis': 5278, 'satan': 5279, 'reflects': 5280, 'hannemans': 5281, 'reads': 5282, 'icelandreview': 5283, 'lightening': 5284, 'shantae': 5285, 'nations': 5286, 'fueling': 5287, 'whoops': 5288, 'terms': 5289, '200': 5290, 'hardly': 5291, 'surrounding': 5292, 'spectacular': 5293, 'publicizing': 5294, 'bugs': 5295, 'objects': 5296, 'kind': 5297, 'bubble': 5298, 'gum': 5299, 'voted': 5300, 'fathers': 5301, 'caribbean': 5302, 'henry': 5303, 'breakingnews': 5304, 'auckland': 5305, 'northland': 5306, 'creating': 5307, '900': 5308, 'bump': 5309, 'adding': 5310, 'whomever': 5311, 'grandpa': 5312, 'yelling': 5313, 'fatalityus': 5314, 'lemon': 5315, 'phantom': 5316, 'recap': 5317, 'chick': 5318, 'proof': 5319, 'famous': 5320, 'musicians': 5321, 'rapper': 5322, 'squeeze': 5323, 'whatever': 5324, 'tuning': 5325, 'recipes': 5326, 'envw98': 5327, 'nickcocofree': 5328, 'juliedicaro': 5329, 'jdabe80': 5330, 'raiders': 5331, '1943': 5332, 'penalty': 5333, 'uh': 5334, 'insomnia': 5335, 'dannyonpc': 5336, 'hardline': 5337, 'throwingknifes': 5338, 'reshapes': 5339, 'featured': 5340, 'dutch': 5341, 'stranded': 5342, 'ahh': 5343, 'ruebs': 5344, 'endures': 5345, '4500feet': 5346, 'fur': 5347, 'cafire': 5348, 'pattonoswalt': 5349, 'chronicle': 5350, 'pt': 5351, 'acc': 5352, 'digital': 5353, 'shelli': 5354, 'nnw': 5355, 'delete': 5356, 'psa': 5357, 'avoided': 5358, 'waits': 5359, 'ks94': 5360, 'waist': 5361, '9000': 5362, '87': 5363, 'pauls': 5364, 'bullet': 5365, 'yourselves': 5366, 'hazmat': 5367, 'element': 5368, 'backup': 5369, 'bwp': 5370, 'hoe': 5371, 'abe': 5372, 'fuels': 5373, 'julian': 5374, 'marquei': 5375, 'como': 5376, 'visto': 5377, 'thrones': 5378, 'bancodeseries': 5379, 'ariaahrary': 5380, 'thetawniest': 5381, 'troubling': 5382, 'badge': 5383, 'feminist': 5384, 'goulburn': 5385, 'techesback': 5386, 'col': 5387, 'catch': 5388, 'skills': 5389, 'scottwalker': 5390, 'scotland': 5391, 'deck': 5392, 'happily': 5393, 'beware': 5394, 'drew': 5395, 'deserve': 5396, '84': 5397, 'i\\x89ûªd': 5398, 'guilty': 5399, 'lrt': 5400, '1916': 5401, 'allegations': 5402, 'travelling': 5403, 'dock': 5404, 'jams': 5405, 'for\\x89û': 5406, 'horn': 5407, 'woods': 5408, 'teamstream': 5409, 'preservation': 5410, 'ev': 5411, 'ja': 5412, 'jimmyfallon': 5413, 'squirrel': 5414, 'breathe': 5415, 'tc': 5416, 'heros': 5417, 'besides': 5418, 'batting': 5419, 'belonged': 5420, 'massmurderer': 5421, '20150805': 5422, 'manufactured': 5423, 'freeway': 5424, 'wrap': 5425, 'shooter': 5426, 'mooresville': 5427, 'iredell': 5428, '118': 5429, 'yonews': 5430, 'relentless': 5431, 'suppose': 5432, 'northwestern\\x89û': 5433, 'belly': 5434, 'atlantic': 5435, 'earned': 5436, 'chairman': 5437, 'state\\x89û': 5438, 'committee': 5439, 'personnel': 5440, 'chilling': 5441, 'surf': 5442, 'programme': 5443, 'wrapped': 5444, 'frozen': 5445, 'sequel': 5446, 'define': 5447, 'rolls': 5448, 'tops': 5449, 'formation': 5450, 'i95': 5451, '548': 5452, 'mchenry': 5453, 'cargo': 5454, 'breakfast': 5455, 'brief': 5456, 'lollapalooza': 5457, 'offers': 5458, 'talibans': 5459, 'colder': 5460, 'facilities': 5461, 'sheet': 5462, '2082676773': 5463, 'email': 5464, 'pa': 5465, 'lnp': 5466, 'tix': 5467, 'fury': 5468, 'å': 5469, 'blunt': 5470, 'bean': 5471, 'permanently': 5472, 'popularmmos': 5473, 'struggling': 5474, 'yesterdays': 5475, 'noahanyname': 5476, 'fire\\x89û': 5477, 'sticks': 5478, 'gardens': 5479, 'diff': 5480, 'hundred': 5481, 'teachers': 5482, 'bundle': 5483, 'retweeted': 5484, 'pakistannews': 5485, 'nankana': 5486, 'sahib': 5487, 'correspondent': 5488, 'beginners': 5489, 'relationship': 5490, 'canadas': 5491, 'imagined': 5492, 'sm': 5493, 'chair': 5494, 'turkmen': 5495, 'offices': 5496, 'cards': 5497, 'regardless': 5498, 'illinois': 5499, 'steam': 5500, 'dis': 5501, 'wildhorses': 5502, 'cbc': 5503, 'boom': 5504, 'activates': 5505, 'athlete': 5506, 'teacher': 5507, 'telegraph': 5508, 'elsa': 5509, 'versions': 5510, 'salvis': 5511, 'bistro': 5512, 'lessons': 5513, 'rapidcity': 5514, 'cheyenne': 5515, 'swear': 5516, 'enroute': 5517, 'sacramento': 5518, '3inspired': 5519, 'supply': 5520, 'missionhills': 5521, 'precipitation': 5522, 'measurement': 5523, '3d': 5524, 'forsure': 5525, 'capsized': 5526, 'careers': 5527, 'mechanical': 5528, 'bundled': 5529, 'plenty': 5530, 'favor': 5531, 'fyi': 5532, 'cadfyi': 5533, 'piner': 5534, 'rdhorndale': 5535, 'mistreated': 5536, 'sweater': 5537, 'rover': 5538, 'savings': 5539, 'guatemala': 5540, 'smooth': 5541, 'throwing': 5542, 'identitytheft': 5543, 'sell': 5544, 'edward': 5545, 'woodlawn': 5546, 'boyfriend': 5547, 'professional': 5548, 'blonde': 5549, 'enhanced': 5550, 'contrast': 5551, 'bath': 5552, 'technique': 5553, 'benefits': 5554, 'snowden': 5555, 'samanthaturne19': 5556, 'sanctioned': 5557, 'mì¼sica': 5558, 'witness': 5559, 'abia': 5560, 'inec': 5561, 'motivation': 5562, 'catching': 5563, 'socialmedia': 5564, 'features': 5565, 'atlanta': 5566, 'pertains': 5567, 'villagers': 5568, 'worker': 5569, 'kisses': 5570, 'zakbagans': 5571, 'worldnetdaily': 5572, 'removal': 5573, 'pluto': 5574, 'collapses': 5575, 'chunks': 5576, 'gambit': 5577, 'estimates': 5578, 'tens': 5579, 'ke': 5580, 'brand': 5581, 'loses': 5582, 'gtfo': 5583, 'beard': 5584, 'veteran': 5585, 'stressed': 5586, 'hysteria': 5587, 'sniping': 5588, 'cocaine': 5589, 'changed': 5590, 'frontlines': 5591, '1965': 5592, 'certificate': 5593, 'grills': 5594, 'po': 5595, 'displace': 5596, 'dante': 5597, 'slicker': 5598, 'enabled': 5599, 'cab': 5600, 'encore': 5601, 'psalms': 5602, 'redeemeth': 5603, 'servants': 5604, '211023': 5605, 'enormous': 5606, 'vision': 5607, 'serve': 5608, 'gusty': 5609, 'underwater': 5610, 'salvadoran': 5611, 'barry': 5612, '2000': 5613, 'invest': 5614, 'bff': 5615, 'micom': 5616, 'mafia': 5617, 'cain': 5618, 'teeth': 5619, 'sanctions': 5620, 'forbid': 5621, 'elbow': 5622, 'knight': 5623, 'term': 5624, 'obsessed': 5625, 'lamha': 5626, 'durant': 5627, 'nba': 5628, '75': 5629, 'autistic': 5630, 'donå«t': 5631, 'etisalat': 5632, '43': 5633, 'hug': 5634, 'sized': 5635, 'intensifies': 5636, 'wolves': 5637, 'vida': 5638, 'impulse': 5639, 'local\\x89û': 5640, 'extensive': 5641, 'hadnt': 5642, 'humble': 5643, 'preparing': 5644, 'runner': 5645, 'greenway': 5646, 'circuit': 5647, 'triggered': 5648, 'approval': 5649, 'poland': 5650, 'nazi': 5651, 'divided': 5652, 'wowo': 5653, 'cam': 5654, 'tor': 5655, 'ruining': 5656, 'pakpattan': 5657, 'najib': 5658, 'whitehouse': 5659, 'islands': 5660, 'justin': 5661, 'bieber': 5662, 'healing': 5663, 'ac': 5664, 'posters': 5665, 'rossum': 5666, 'postbattle': 5667, 'xxx': 5668, '06jst': 5669, 'microphone': 5670, 'johannesburg': 5671, 'mouth': 5672, 'monkey': 5673, 'tattoo': 5674, 'costly': 5675, 'the\\x89û': 5676, 'madison': 5677, 'exposed': 5678, 'cash': 5679, 'cow': 5680, 'whenever': 5681, 'ky': 5682, 'glasses': 5683, 'ctd': 5684, 'arrest': 5685, 'hmm': 5686, 'stagetwo': 5687, 'mercados': 5688, 'tennessee': 5689, 'surge': 5690, 'pace': 5691, 'miami': 5692, 'raynor': 5693, 'increasing': 5694, 'june': 5695, 'specific': 5696, 'suh': 5697, 'excuse': 5698, 'wmv': 5699, 'coyotes': 5700, 'lizards': 5701, 'affects': 5702, 'tgirl': 5703, 'aliens': 5704, 'exterminate': 5705, 'firefighting': 5706, 'console': 5707, 'rexyy': 5708, 'cawx': 5709, 'cancels': 5710, 'org': 5711, 'cart': 5712, 'penn': 5713, 'distributed': 5714, 'gunshot': 5715, 'bicep': 5716, 'chesttorso': 5717, 'jonathanferrell': 5718, 'dye': 5719, 'affect': 5720, '1145': 5721, 'value': 5722, 'torching': 5723, 'historic': 5724, 'cosponsor': 5725, '928': 5726, 'renew911health': 5727, 'goodbye': 5728, 'nike': 5729, 'yep': 5730, 'choices': 5731, 'ukraine': 5732, 'rioters': 5733, 'obviously': 5734, 'dw': 5735, 'soccer': 5736, 'aogashima': 5737, 'baruch': 5738, 'goldstein': 5739, 'apollobrown': 5740, 'souls': 5741, '2012': 5742, 'planted': 5743, 'correct': 5744, 'royal': 5745, 'coincide': 5746, 'desert': 5747, 'jhaustin': 5748, 'ames': 5749, 'ryan': 5750, 'rightways': 5751, 'inspections': 5752, 'rightwaystan': 5753, 'knees': 5754, 'songs': 5755, 'cheryl': 5756, 'awareness': 5757, 'grande': 5758, 'duck': 5759, 'overwork': 5760, 'item': 5761, 'njturnpike': 5762, 'brave': 5763, 'nj': 5764, 'selling': 5765, 'infosec': 5766, 'gaining': 5767, 'insas': 5768, 'rifles': 5769, 'rogue': 5770, 'riversiskiyou': 5771, '1200': 5772, 'corner': 5773, 'lesbian': 5774, 'fi': 5775, 'insubcontinent': 5776, 'excitement': 5777, 'q': 5778, 'ducks': 5779, 'wfp': 5780, 'nap': 5781, 'ptsdchat': 5782, 'catalinas': 5783, 'veldfest': 5784, 'announces': 5785, 'refunds': 5786, 'bomairinge': 5787, 'elutranscendent': 5788, 'complaining': 5789, 'emblem': 5790, 'gigant': 5791, 'difficulty': 5792, 'iphooey': 5793, 'bachmann': 5794, 'wron': 5795, 'orchid': 5796, 'witch': 5797, 'perforated': 5798, 'shear': 5799, 'sfor': 5800, 'seismicresistant': 5801, 'selfesteem': 5802, 'bamenda': 5803, 'various': 5804, 'travelelixir': 5805, 'helo': 5806, 'apt': 5807, 'shaking': 5808, 'candidates': 5809, 'grimes': 5810, 'voters': 5811, 'auntiedote': 5812, 'rioslade': 5813, 'lockewiggins': 5814, 'akarb74': 5815, 'hopeinhearts': 5816, 'encouraging': 5817, '\\x89ûïbbcengland': 5818, 'slamming': 5819, 'learned': 5820, 'isai': 5821, '601': 5822, 'psm': 5823, '1388': 5824, 'conspiracy': 5825, 'scattered': 5826, 'lisavanderpump': 5827, 'rlauren83199': 5828, 'xojademarie124': 5829, 'batista': 5830, 'deldryden': 5831, 'twitch': 5832, 'kosciusko': 5833, 'pedestrian': 5834, 'abomb': 5835, 'destroyd': 5836, 'hiroshima\\x89ûóbbc': 5837, 'cnv': 5838, 'vigils': 5839, 'thelegendblue': 5840, 'cozmo23': 5841, 'ascend': 5842, 'breaking144': 5843, 'declarat': 5844, 'acenewsdesk': 5845, 'toddyrockstar': 5846, 'deployments': 5847, 'deeds': 5848, '228': 5849, '217': 5850, 'ey': 5851, 'wxiatv': 5852, 'uae': 5853, 'mideast': 5854, 'heatwave': 5855, 'ncms': 5856, 'thundering': 5857, 'victorinox': 5858, '241487': 5859, 'beatdown': 5860, 'prodemocracy': 5861, 'nypdnews': 5862, 'bushman': 5863, 'safaris': 5864, 'palmer': 5865, 'cecil': 5866, 'commentes': 5867, 'colinhoffman29': 5868, 'diego': 5869, 'costa': 5870, 'urg': 5871, 'greinke': 5872, 'billionaire': 5873, '350': 5874, 'rayquazaerk': 5875, 'employed': 5876, 'ish': 5877, 'creek': 5878, 'gmail': 5879, 'kendall': 5880, 'jenner': 5881, 'jonas': 5882, 'texansdc': 5883, 'kylekrenek': 5884, 'zepp1978': 5885, 'frobeusns': 5886, 'teddy': 5887, '3939': 5888, 'vancouveråêisland': 5889, 'frenzy': 5890, 'disorder': 5891, 'astounding': 5892, 'catovitch': 5893, 'paid': 5894, 'income': 5895, '20yrs': 5896, '78': 5897, 'josh': 5898, 'salyersblairhall': 5899, 'jennas': 5900, 'prayers': 5901, 'quiet': 5902, 'phandom': 5903, 'tyler': 5904, 'pfannebeckers': 5905, 'rediscover': 5906, 'fantabulous': 5907, 'lively': 5908, 'eve': 5909, 'honored': 5910, '58': 5911, 'jade': 5912, 'fl': 5913, 'hangout': 5914, '830pm': 5915, 'est': 5916, 'sleepjunkies': 5917, 'pills': 5918, 'casualties\\x89û\\x9d': 5919, 'francisunderwood': 5920, 'hoc': 5921, 'gc': 5922, '9newsbrisbane': 5923, 'ds': 5924, 'trim': 5925, 'irvine': 5926, 'chp': 5927, 'detouring': 5928, 'mineenjoybabes': 5929, 'durrellb': 5930, 'punishing': 5931, 'hastle': 5932, 'tb': 5933, 'filling': 5934, 'campers': 5935, 'blazes': 5936, 'nghlth': 5937, 'importance': 5938, 'exits': 5939, 'heartbeat': 5940, 'familiar': 5941, 'pft': 5942, 'barkevious': 5943, 'mingo': 5944, 'browns': 5945, 'sourmashnumber7': 5946, 'tomfromireland': 5947, 'rfcgeom66': 5948, 'bbctalkback': 5949, 'succeed': 5950, 'detonateampshots': 5951, 'confirmation': 5952, 'recordand': 5953, 'behaviors': 5954, 'helparsenal': 5955, 'megalpolis': 5956, 'petting': 5957, 'shiver': 5958, 'overflow': 5959, 'commencement': 5960, 'gif': 5961, 'africansinsf': 5962, 'beyondgps': 5963, 'attjcdemos': 5964, 'folieacat': 5965, 'timebomb': 5966, 'destined': 5967, 'pageparkescorp': 5968, 'chloeunguyen': 5969, 'laurensicle': 5970, 'charstevens97': 5971, 'tiaramarei': 5972, 'gemma': 5973, 'bowe\\x89û': 5974, 'catlow': 5975, 'c720': 5976, 'swivels': 5977, '3dc': 5978, 'shar': 5979, 'phdsquares': 5980, 'acquisitions': 5981, 'epl': 5982, 'chapoutier': 5983, 'crozes': 5984, 'hermitage': 5985, 'violets': 5986, 'gravel': 5987, 'yum': 5988, 'wine': 5989, 'elation': 5990, 'deosl86': 5991, 'xaviermarquis': 5992, 'meaningless': 5993, 'syringetoanger': 5994, 'disagreements': 5995, 'occurrence': 5996, 'cantwaittoplayinminneapolis': 5997, 'raineishida': 5998, 'lolim': 5999, 'nervous': 6000, 'mold': 6001, 'proudgreenhome': 6002, 'pantalonesfuego': 6003, 'hearitfrompatty': 6004, 'duckvillelol': 6005, 'flips': 6006, 'grabs': 6007, 'highrise': 6008, 'aust': 6009, '293': 6010, 'eddy': 6011, 'nh3a': 6012, 'fgcu': 6013, 'hijackerturnedsattutor': 6014, 'evaded': 6015, 'slopeofhope': 6016, 'dilute': 6017, 'separated': 6018, 'kasich': 6019, 'preventative': 6020, 'cabling': 6021, 'bracing': 6022, '9058778591': 6023, 'cts': 6024, 'victory': 6025, 'dwight': 6026, 'eisenhower': 6027, 'gains': 6028, 'opticscumper': 6029, 'creationsbykole': 6030, 'cork': 6031, 'irelandwe': 6032, 'todaythat': 6033, 'missdaoh': 6034, 'deflategate': 6035, 'perfectly': 6036, 'incremental': 6037, 'caring': 6038, 'convection': 6039, 'spits': 6040, 'nlwx': 6041, 'boomerangtime': 6042, 'rskarim1': 6043, 'sopameer': 6044, 'wattashit3': 6045, 'ridah': 6046, 'startelegram': 6047, 'alexis': 6048, '1665': 6049, 'sailors': 6050, 'artillery': 6051, 'cartridges': 6052, 'nyse': 6053, 'fdx': 6054, 'packages': 6055, 'illogical': 6056, 'khadidon': 6057, 'intense': 6058, 'xpost': 6059, 'rcityporn': 6060, '4608ìñ2474': 6061, 'arsenals': 6062, 'hector': 6063, 'bellerin': 6064, 'hazard\\x89û': 6065, 'nepdloyko': 6066, 'texans': 6067, 'utfire': 6068, '19th': 6069, '17jul2015': 6070, 'timesap': 6071, 'danielkemp6': 6072, 'likened': 6073, 'producer': 6074, 'observations': 6075, 'officialmqm': 6076, 'cameronwate': 6077, 'mousse': 6078, 'drake\\x89ûªs': 6079, 'wedgie': 6080, '46': 6081, 'vietnamese': 6082, 'dutton': 6083, 'presser': 6084, 'slating': 6085, 'gpaulista5': 6086, 'jackwilsheres': 6087, 'disgrace': 6088, 'jun': 6089, 'yemenis': 6090, 'san\\x89ûªa': 6091, 'joshacagan': 6092, 'stack': 6093, 'dvds': 6094, 'impairs': 6095, 'omgbethersss': 6096, 'bethanymota': 6097, 'michaelgbaron': 6098, 'lefties': 6099, '184': 6100, 'nailreal': 6101, 'shii': 6102, 'intended': 6103, 'nieces': 6104, 'megan': 6105, 'swanger': 6106, 'ruthann': 6107, 'mccormick': 6108, 'daisy': 6109, 'henley': 6110, 'mattkroschel': 6111, 'vail': 6112, 'agencies': 6113, 'astros': 6114, 'stunningly': 6115, 'pitcher': 6116, 'bats': 6117, 'mia': 6118, 'fotoset': 6119, 'elanorofrohan': 6120, 'zurich': 6121, 'treating': 6122, 'hempoil': 6123, 'cannabis': 6124, 'marijuana\\x89û': 6125, '\\x89û¢åêdemolition': 6126, 'waterways': 6127, 'achimota': 6128, '233liveonline': 6129, 'tianta': 6130, '\\x89û÷badges': 6131, 'blood\\x89ûª': 6132, 'geometric': 6133, 'totes': 6134, 'bigåêconsequences': 6135, 'authormike': 6136, 'amen': 6137, 'rjg0789': 6138, 'idki': 6139, 'sterotypical': 6140, 'annddd': 6141, 'colorism': 6142, 'prevalent': 6143, 'lightumupbeast': 6144, 'pyrotechnic': 6145, 'artwork': 6146, 'cai': 6147, 'guoqiang': 6148, 'blossom': 6149, 'soonermagic': 6150, 'skippy6gaming': 6151, 'ps3': 6152, 'speech': 6153, 'texting': 6154, '7k': 6155, 'fond': 6156, 'dlh': 6157, 'chains': 6158, 'insult': 6159, 'remote': 6160, 'ilford': 6161, 'bestcomedyvine': 6162, 'worldlets': 6163, 'explosive': 6164, 'tween': 6165, 'brant': 6166, 'drummond': 6167, '\\x89û¢\\x89û¢if': 6168, 'onå¡å¡': 6169, 'referred': 6170, 'skarletan': 6171, 'swell': 6172, 'surprises': 6173, 'threealarm': 6174, 'dispute': 6175, 'gunfail': 6176, 'nra': 6177, 'brownie': 6178, 'batter': 6179, 'jim': 6180, 'alves': 6181, 'guaranteed': 6182, 'raisinfingers': 6183, 'buffetts': 6184, 'sectors': 6185, 'humbled': 6186, 'chelsea': 6187, 'talisman': 6188, 'keen': 6189, 'cristiano': 6190, 'lionel': 6191, 'mipasho': 6192, 'gainesville': 6193, '17months': 6194, 'implores': 6195, 'motorists': 6196, 'reserves': 6197, '862015108': 6198, '1500': 6199, 'wrightsboro': 6200, 'kettlebell': 6201, 'blueprint': 6202, 'lopez': 6203, 'hindsight': 6204, 'jhmnye': 6205, 'historys': 6206, 'examples': 6207, 'atombomb': 6208, 'tricky': 6209, 'dicky': 6210, 'blood\\x89û': 6211, 'def': 6212, 'conclusions': 6213, 'juanny': 6214, 'beisbol': 6215, 'lgm': 6216, 'thatsabinegirl': 6217, 'dose': 6218, 'misshomasttopa': 6219, 'nowwwwww': 6220, 'hightech': 6221, 'alfapedia': 6222, 'ianbartlett': 6223, 'hs2': 6224, 'astroturfers': 6225, 'crumbling': 6226, 'sweetpeas': 6227, 'allotment': 6228, 'brightening': 6229, 'rainy': 6230, 'littledeath': 6231, 'bene': 6232, 'gesserit': 6233, 'litany': 6234, 'dune': 6235, 'atgrannyshouse': 6236, 'cracks': 6237, 'casting': 6238, 'deviating': 6239, 'dyxtmrydu': 6240, 'poignant': 6241, 'autism': 6242, 'specialneeds': 6243, 'welles7': 6244, 'somethingyr': 6245, 'catalogue': 6246, 'swedish': 6247, 'mistrustful': 6248, 'onegreenplanet': 6249, 'bailout': 6250, 'canceling': 6251, 'i75': 6252, 'mm': 6253, '459': 6254, 'joonma': 6255, 'sos': 6256, 'whelen': 6257, '295ss100': 6258, 'amplifier': 6259, 'jennife29916207': 6260, 'contemplation': 6261, 'bridal': 6262, 'wiwnpfxa': 6263, 'postexistence': 6264, 'elevation': 6265, 'brzjc': 6266, 'stronger': 6267, 'thomassmonson': 6268, 'lds': 6269, 'mormon': 6270, 'bite': 6271, 'cramming': 6272, '14hours': 6273, 'volfan326': 6274, 'tneazzy': 6275, 'mizzou': 6276, 'muschamps': 6277, 'bama': 6278, 'lolla': 6279, 'tennis': 6280, 'defending': 6281, 'champ': 6282, 'svetlana': 6283, 'kuznetsova': 6284, 'withdraws': 6285, 'citi': 6286, 'espn': 6287, '829pm': 6288, '915pm': 6289, 'gameplaywalkthrough': 6290, 'commonwealth': 6291, 'monster': 6292, 'racer': 6293, 'catches': 6294, 'harveymaine': 6295, 'aaaa': 6296, 'lemme': 6297, 'roomr': 6298, 'hears': 6299, 'ifak': 6300, 'indexing': 6301, 'remedial': 6302, 'angioplasty': 6303, 'dissertation': 6304, 'hospitals': 6305, 'dismayed\\x89û': 6306, 'baked': 6307, 'alaskan': 6308, 'shaped': 6309, 'neverforget': 6310, 'istg': 6311, 'wsvr1686b': 6312, 'vhull': 6313, 'runabout': 6314, 'eurostyle': 6315, 'smell': 6316, 'rotting': 6317, 'potatoes': 6318, 'smelled': 6319, 'ris': 6320, 'togthe': 6321, 'shitton': 6322, 'exclusively': 6323, 'playthrough': 6324, 'goggles': 6325, 'frying': 6326, 'traintragedy': 6327, 'kristenkoin6': 6328, 'pdxabq': 6329, 'bcuz': 6330, 'dances': 6331, 'r3do': 6332, 'innocents': 6333, 'explicitly': 6334, 'behavior': 6335, 'akwa': 6336, 'ibom': 6337, 'uruan': 6338, 'exassembly': 6339, 'udom': 6340, 'emmanuel': 6341, 'igs': 6342, 'esevu': 6343, 's\\x89ûªarabia': 6344, 'aseer': 6345, 'southwestern': 6346, 'kaotixblaze': 6347, 'craving': 6348, 'rhode': 6349, 'modernize': 6350, 'eyewitness\\x89û': 6351, 'scotto519': 6352, 'pages': 6353, 'vroman': 6354, 'thenissonian': 6355, 'rejectdcartoons': 6356, 'nissan': 6357, 'bayelsaåêstate': 6358, 'hirochii0': 6359, 'savannahross4': 6360, 'justsaying': 6361, 'randomthought': 6362, 'achieve': 6363, 'excellence': 6364, 'develop': 6365, 'habit': 6366, 'pitched': 6367, 'ofnsixjks': 6368, 'yahooschwab': 6369, 'fiascothat': 6370, '1km': 6371, 'nne': 6372, 'geysers': 6373, '234021': 6374, '164021': 6375, 'stunckle': 6376, 'gordonr74': 6377, 'crazydoctorlady': 6378, 'rods': 6379, 'creatures': 6380, 'duchovbutt': 6381, 'starbuckscully': 6382, 'madmakny': 6383, 'davidduchovny': 6384, '\\x89ûïleoblakecarter': 6385, 'snipe': 6386, '8960': 6387, 'driller': 6388, 'boxed': 6389, 'greenbuildermag': 6390, 'nfpa': 6391, 'webinar': 6392, '819': 6393, 'firewise': 6394, 'michelenfpa': 6395, 'soapscoop': 6396, 'yh': 6397, 'suffield': 6398, 'calgarians': 6399, 'ashville': 6400, '23': 6401, '752': 6402, 'rebelmage2': 6403, 'reference': 6404, 'heller': 6405, 'rhiannon': 6406, 'hungover': 6407, 'uhmmmm': 6408, 'bloorossington': 6409, 'mattress': 6410, 'northumberland': 6411, 'cbcto': 6412, 'vip': 6413, 'shania': 6414, 'parked': 6415, 'modestmouseremix': 6416, 'truestory': 6417, 'tfl': 6418, 'downtime': 6419, '70amp': 6420, 'mysteries': 6421, 'nicolekidman': 6422, 'oprah': 6423, 'grubbing': 6424, 'kikes': 6425, 'cluei': 6426, 'telekinesis': 6427, 'prayed': 6428, 'huffpostrelig': 6429, '53': 6430, 'usagi': 6431, 'airhead': 6432, 'misstep': 6433, 'salute': 6434, 'motors': 6435, '452': 6436, '10x': 6437, '27w': 6438, '12v': 6439, '24v': 6440, 'tractor': 6441, 'utv': 6442, 'sewer': 6443, 'presinkhole': 6444, 'benedict': 6445, 'cumberbatch': 6446, 'giselle': 6447, 'mumbailocals': 6448, 'lessonforlife': 6449, 'marinelines': 6450, 'mistakes': 6451, 'ogun': 6452, 'smugglers': 6453, 'shootoutåê': 6454, 'allegedly': 6455, 'ls': 6456, 'carlachamorros': 6457, 'buren': 6458, 'kelby': 6459, 'tomlinson': 6460, 'mildmannered': 6461, 'baseman': 6462, 'metropolitan': 6463, 'rbi': 6464, 'sfgiants': 6465, 'sharper': 6466, 'viper': 6467, 'hardside': 6468, 'albums': 6469, 'radios': 6470, 'stoponesounds': 6471, 'airwaves': 6472, '1079': 6473, 'stickynyc': 6474, '95roots': 6475, 'agdq': 6476, 'kororinpa': 6477, 'marble': 6478, 'tloz': 6479, 'oracle': 6480, 'metroid': 6481, 'dorette': 6482, 'jihad': 6483, '\\x89ûïall': 6484, 'islamaphobe': 6485, 'hienshi': 6486, 'gbay99': 6487, 'attackclose': 6488, 'thankful': 6489, 'appys': 6490, 'myths': 6491, 'obscuring': 6492, 'salon': 6493, 'indiansfor': 6494, 'smirking': 6495, 'remorseless': 6496, 'boasting': 6497, 'collective': 6498, 'explicitpretty': 6499, 'raheelsharif': 6500, 'manifesting': 6501, 'helm': 6502, 'darkstormytidalsea': 6503, 'ticklemeshawn': 6504, 'evebrigid': 6505, 'leaking': 6506, 'sewage': 6507, 'irish': 6508, 'independent3': 6509, 'creation': 6510, 'ai': 6511, 'workforce': 6512, 'inequality': 6513, 'sigmund': 6514, 'freud': 6515, '\\x89ûïfdny': 6516, 'fdny': 6517, 'onscene': 6518, 'nycbuildings': 6519, 'irishspy': 6520, 'sucked': 6521, 'scourge': 6522, 'whedonesque': 6523, 'fanged': 6524, 'ocd': 6525, 'illustrated': 6526, 'horrifying': 6527, 'spotlight': 6528, 'paradise': 6529, 'wniagospel': 6530, 'bros': 6531, 'anarchy': 6532, 'chelsdelong12': 6533, 'kendraleigh13': 6534, 'dec': 6535, 'h20': 6536, 'deploy': 6537, 'flowers': 6538, 'latechwatch': 6539, 'jakartapost': 6540, 'novalismi': 6541, 'joseph': 6542, 'mallord': 6543, 'turner': 6544, 'shade': 6545, '1843': 6546, 'clicca': 6547, 'sul': 6548, 'titolo': 6549, 'thatwitchem': 6550, 'emmachosenone': 6551, 'jessienovoarp': 6552, 'jessienovoa': 6553, 'liananovoa': 6554, 'chojo': 6555, 'pumpkin': 6556, 'classycolkett': 6557, 'thorgan': 6558, 'gladbach': 6559, '2009': 6560, 'redeem': 6561, 'serene': 6562, 'spokes': 6563, 'raptorsbeg': 6564, 'differ': 6565, 'rang': 6566, 'goodlookrunning': 6567, '\\x89ã¢': 6568, 'full\\x89ã¢': 6569, 'streaming': 6570, 'modis': 6571, 'morocco': 6572, 'straits': 6573, 'gibraltar': 6574, 'duststorm': 6575, 'tn': 6576, 'psychologist': 6577, 'lasvegaslocally': 6578, 'vitalvegas': 6579, 'reined': 6580, 'fallingoffstool': 6581, 'mirmanda11': 6582, 'evaaasr': 6583, 'silent0siris': 6584, 'norse': 6585, 'landscapes': 6586, 'boringdead': 6587, 'snotgreen': 6588, 'wastelands': 6589, 'willienelson': 6590, 'uber': 6591, 'rap': 6592, 'nonprofit': 6593, 'partnerships': 6594, 'sunburned': 6595, 'avenged': 6596, 'sevenfold': 6597, '9798': 6598, 'f250': 6599, '46lv8': 6600, 'tin': 6601, 'tesco': 6602, 'complaint': 6603, 'chelseadogs': 6604, 'puppy': 6605, 'theatershooting': 6606, 'defendantmass': 6607, 'testify': 6608, 'phase': 6609, 'therefore': 6610, 'crossexam': 6611, 'jury': 6612, 'petebests': 6613, 'dessicated': 6614, 'kneel': 6615, 'fences': 6616, 'idiots': 6617, 'swollen': 6618, 'rivers': 6619, 'aiginsurance': 6620, 'divestitures': 6621, 'q2': 6622, 'cameronhigdon34': 6623, 'demons': 6624, 'transportation': 6625, '18wheelers': 6626, '\\x89ûïmake': 6627, 'stop\\x89û\\x9d': 6628, 'amssummer': 6629, 'strickskin': 6630, 'nickscomics': 6631, 'objective': 6632, 'bestie': 6633, 'chainsaw': 6634, 'waved': 6635, 'misled': 6636, 'woodchucks': 6637, 'arian': 6638, 'yeat': 6639, 'bonn1egreer': 6640, 'propelled': 6641, 'piles': 6642, 'assailant': 6643, 'rosewell': 6644, 'fool': 6645, 'allpro': 6646, 'disillusioned': 6647, 'crowe': 6648, 'tropes': 6649, 'intact': 6650, 'cdcwhistleblower': 6651, 'souda': 6652, 'sonia': 6653, 'kneelbot': 6654, 'temecula': 6655, 'anime': 6656, 'vita': 6657, 'appreciativeinquiry': 6658, 'censor': 6659, 'traitor': 6660, 'freeing': 6661, 'newidea': 6662, 'wout': 6663, 'wtwitter': 6664, 'chubbysquirrel': 6665, 'hurricanesurge': 6666, 'gt33333': 6667, 'hurricanedame': 6668, 'mclaughlin': 6669, 'eau': 6670, 'claire': 6671, 'sentenced': 6672, 'chippewa': 6673, 'loner': 6674, 'diaries': 6675, 'patterns': 6676, 'sand': 6677, 'choked': 6678, 'adamtuss': 6679, 'wheel': 6680, 'climbing': 6681, '12007': 6682, 'vern': 6683, 'sq': 6684, 'magnetic': 6685, 'electrostatic': 6686, 'fusion': 6687, 'commodity': 6688, 'escaped': 6689, 'soooo': 6690, 'satisfying': 6691, 'marriedfoxysiren': 6692, 'smoochy': 6693, 'awakenings': 6694, 'clips': 6695, 'bicentennial': 6696, 'josie': 6697, 'splifs': 6698, 'vergil': 6699, 'agnus': 6700, 'dmd': 6701, 'leedstraif': 6702, 'woo': 6703, 'hoo': 6704, 'mute': 6705, 'hhahaha': 6706, 'graysondolan': 6707, '3alarm': 6708, 'tore': 6709, 'mht': 6710, 'cech': 6711, 'keegan': 6712, 'challenging': 6713, 'tozlet': 6714, 'leprosy': 6715, 'fullblown': 6716, 'jerkface': 6717, 'lateral': 6718, 'lisp': 6719, 'rickets': 6720, 'julianlage': 6721, 'grantgordy': 6722, 'rossmartin7': 6723, 'harbhajansingh': 6724, 'stuartbroad8': 6725, 'believeis': 6726, 'yuvi': 6727, 'l9udest': 6728, 'wcw': 6729, 'catsandsyrup': 6730, 'temps': 6731, 'dijk': 6732, 'ddnewslive': 6733, 'nitishkumar': 6734, 'arvindkejriwal': 6735, 'zeros': 6736, 'gears': 6737, '1preview': 6738, 'casually': 6739, 'jasmine': 6740, 'streetlight': 6741, 'sliding': 6742, 'writers': 6743, 'wtony': 6744, 'nester': 6745, 'sonoranrattler': 6746, 'writingtips': 6747, 'soloquiero': 6748, 'firefighte': 6749, 'damaturu': 6750, '600\\x89û': 6751, 'girlsgirlsboys': 6752, 'disciplinary': 6753, 'measuresarrestpastornganga': 6754, 'wsoc': 6755, 'ferrochrome': 6756, 'verge': 6757, 'watchthevideo': 6758, 'printed': 6759, 'brains': 6760, 'bae': 6761, 'soak': 6762, 'backroom': 6763, 'oct336': 6764, 'identification': 6765, 'trends': 6766, 'stretches': 6767, 'victorian': 6768, 'sofa': 6769, 'generational': 6770, '\\x89û÷british': 6771, 'schism\\x89ûª': 6772, 'wall\\x89û\\x9d': 6773, 'weren\\x89ûªt': 6774, 'warned\\x89û\\x9d': 6775, 'grtvnews': 6776, 'grouponuk': 6777, 'jakeblight': 6778, 'wealilknowa': 6779, 'cunt': 6780, 'uabstephenlong': 6781, 'courtlizcamp': 6782, 'glory': 6783, 'luiz': 6784, 'santos': 6785, 'indonesian': 6786, 'dwenglish': 6787, 'ufo4ublogeurope': 6788, 'jeep': 6789, 'fiat': 6790, 'chrysler': 6791, 'harman': 6792, 'consumerist': 6793, 'mcgsecure': 6794, 'kontrolled': 6795, 'ww3': 6796, 'dice': 6797, 'demonization': 6798, '3934': 6799, 'swayoung01': 6800, 'recognised': 6801, 'macs': 6802, 'stl': 6803, 'ace': 6804, 'grille': 6805, 'mounts': 6806, 'speedtech': 6807, 'amber': 6808, '544': 6809, 'laevantine': 6810, 'reworked': 6811, 'plumbing': 6812, 'glitter': 6813, 'fireball': 6814, 'memenaar': 6815, 'kindof': 6816, 'restrospect': 6817, '11382': 6818, 'interlocking': 6819, 'today\\x89ûªs': 6820, 'tomorrow\\x89ûªs': 6821, 'greet': 6822, 'bask': 6823, 'warmth': 6824, 'bliss': 6825, 'deconstruct': 6826, 'kerri': 6827, 'sackville': 6828, 'tms7': 6829, 'amazons': 6830, 'indie': 6831, 'dystopian': 6832, 'fiction': 6833, 'farms': 6834, 'ledofficial1': 6835, 'requests': 6836, 'samples': 6837, 'sweets': 6838, 'glue': 6839, 'panicked': 6840, 'blowin': 6841, 'lock': 6842, 'ranked': 6843, 'te\\x89û': 6844, 'wc': 6845, 'weebly': 6846, 'rawfoodbliss': 6847, 'humid': 6848, 'forehead': 6849, 'flared': 6850, 'oli': 6851, 'extract': 6852, 'tbs': 6853, 'david5fernandez': 6854, 'theblaze': 6855, 'debatequestionswewanttohear': 6856, 'warzone': 6857, 'indiana': 6858, 'lafayette': 6859, 'benaffleck': 6860, 'stil': 6861, 'mraffleck': 6862, 'shakingcatching': 6863, 'fireand': 6864, 'overcharging': 6865, 'rent': 6866, 'csaresu': 6867, 'businessman': 6868, 'foiled': 6869, 'troupe': 6870, 'multiracial': 6871, 'breakdancers': 6872, 'der': 6873, 'abbruchsimulator': 6874, 'hurricanes': 6875, 'terrified': 6876, 'shanaynay': 6877, 'cpanel': 6878, 'healingreviving': 6879, 'phil': 6880, 'delaying': 6881, 'fundamentals': 6882, 'valuations': 6883, 'scrolling': 6884, 'didbut': 6885, 'exact': 6886, 'moir': 6887, 'kcrw': 6888, 'smp': 6889, 'ks315': 6890, 'titortau': 6891, 'lynch': 6892, 'factchecking': 6893, 'ombudsmanship': 6894, 'pink': 6895, 'tip': 6896, 'optical': 6897, 'illusion': 6898, 'switzerland': 6899, 'padded': 6900, 'qty': 6901, 'pair': 6902, '08072015': 6903, '0730': 6904, 'tremont': 6905, 'platform': 6906, 'ictyosaur': 6907, 'attached': 6908, 'cheat': 6909, 'connorfranta': 6910, 'askconnor': 6911, 'catoinstitute': 6912, 'deeply': 6913, 'solved': 6914, 'contd': 6915, '40pg': 6916, 'movt': 6917, 'yazidi': 6918, 'ib': 6919, 'sauldale305': 6920, 'naturalexample': 6921, 'innovative': 6922, 'evahanderek': 6923, 'marleyknysh': 6924, '3942': 6925, 'victorias': 6926, 'fighterdena': 6927, 'mums': 6928, 'muppet': 6929, 'hundredodd': 6930, 'pilgrims': 6931, 'unimpressed': 6932, '1200000': 6933, '11000000': 6934, 'hindustan': 6935, 'donnie': 6936, 'mayhem114': 6937, 'ehutch': 6938, 'rickybonessxm': 6939, 'u2': 6940, 'sirius': 6941, 'chan': 6942, 'sayin': 6943, '1800': 6944, 'difficulties': 6945, 'osteen': 6946, 'brookesddl': 6947, 'hopped': 6948, 'defensenewscomus': 6949, 'subsd': 6950, 'chinadotcom': 6951, 'meampbeat': 6952, 'otratmetlife': 6953, 'tarp': 6954, 'outfield': 6955, 'infield': 6956, 'breakth': 6957, 'pugprobs': 6958, 'zero': 6959, 'biterelated': 6960, 'kerrykatona7': 6961, 'wud': 6962, 'bak': 6963, 'mumbai24x7': 6964, 'ttes': 6965, 'helpline': 6966, 'anxious': 6967, 'ind': 6968, 'hendrixonfire': 6969, 'blackcats': 6970, 'noob': 6971, 'mixed': 6972, 'violated': 6973, 'kdr': 6974, 'bluebell': 6975, 'gross': 6976, 's61231a': 6977, 'index': 6978, 'icd10': 6979, 'mannequin': 6980, 'pounds': 6981, 'frustrated': 6982, 'quantit\\x89û': 6983, 'nissannews': 6984, 'hospitalized': 6985, '2car': 6986, 'a1a': 6987, 'bings': 6988, 'jen': 6989, 'ohyayyyyay': 6990, 'edmonton': 6991, 'chachi': 6992, '9503': 6993, '528': 6994, '530': 6995, '540': 6996, '740': 6997, 'switch': 6998, 'oem': 6999, '20177707d': 7000, 'utc20150806': 7001, 'earthtwerk': 7002, 'indigo6e': 7003, 'carful': 7004, 'spotting': 7005, 'baggage': 7006, 'timmicallef': 7007, 'troubleonmymind': 7008, 'c\\x89û': 7009, 'celtic': 7010, 'aberdeen': 7011, 'damidnighter': 7012, 'suggs': 7013, 'vivian': 7014, 'psychrewatch': 7015, 'inroicesmake': 7016, 'hm': 7017, 'ebolatrends': 7018, 'blinker': 7019, 'grains': 7020, 'wheat': 7021, 'trespass': 7022, 'lest': 7023, 'kunstler': 7024, 'residualincome': 7025, 'mlm': 7026, '1976': 7027, 'chowchilla': 7028, 'schoenfeld': 7029, 'comcastcares': 7030, 'happing': 7031, 'bilingual': 7032, 'flyopinemonkey': 7033, 'followup': 7034, 'honshu': 7035, 'coronet': 7036, 'allied': 7037, '30m': 7038, 'violators': 7039, 'improved': 7040, 'hurled': 7041, 'nuked': 7042, 'fosterfloyd': 7043, 'dinosaurdracula': 7044, 'jasons': 7045, 'pakistans': 7046, 'suspects': 7047, 'elisagxrcia': 7048, 'picthis': 7049, 'amazingness': 7050, 'finall\\x89û': 7051, 'emile': 7052, 'hirsch': 7053, 'qampa': 7054, 'filmmakers': 7055, 'entretenimento': 7056, 'avi': 7057, 'header': 7058, 'startrek': 7059, 'tos': 7060, 'biggangvh1': 7061, 'sheer': 7062, 'leelanau': 7063, '2b': 7064, 'extended': 7065, 'besafe': 7066, 'bigbrother': 7067, 'x37bs': 7068, '66m': 7069, 'contract': 7070, 'heregtcnn': 7071, 'purported': 7072, 'nffc': 7073, 'wesley': 7074, 'verhoek': 7075, 'household': 7076, 'dontpanic': 7077, 'ronwyden': 7078, 'blacks': 7079, 'lyndon': 7080, '67': 7081, 'votes': 7082, 'ghe': 7083, 'policyholders': 7084, 'clico': 7085, 'prisonlike': 7086, 'conditionsprivation': 7087, 'wpt994': 7088, '5hvzlaradio': 7089, 'roofers': 7090, 'prompt': 7091, 'inject': 7092, 'veins': 7093, 'itsnasb': 7094, 'meter': 7095, 'cagov': 7096, 'hersvp': 7097, 'quora': 7098, 'render': 7099, 'proxy': 7100, 'ssu': 7101, '1880': 7102, 'dmpl': 7103, 'cameo': 7104, 'rev': 7105, 'raishimi33': 7106, 'morganite': 7107, 'gemstone': 7108, 'opal': 7109, '925': 7110, 'sterling': 7111, 'r1354': 7112, 'alanhahn': 7113, 'hdumpty39': 7114, 'daughtery': 7115, 'rants': 7116, 'factual': 7117, 'basis': 7118, 'startide': 7119, 'hotter': 7120, '3x': 7121, 'mariahcarey': 7122, 'drako': 7123, 'zarharzar': 7124, 'wn': 7125, '080215': 7126, 'kasabwe': 7127, 'biryani': 7128, 'armys': 7129, 'bangtan': 7130, 'zaman': 7131, 'alwsl': 7132, 'charlieputh': 7133, 'sbee': 7134, 'agochicago': 7135, 'interrogation': 7136, 'facility': 7137, 'onufrance': 7138, '7475': 7139, 'rockefellerchirockefellerunivheiress': 7140, 'evade': 7141, 'lgl': 7142, 'prosecute': 7143, 'blks': 7144, 'harvardu': 7145, 'kidnapgafp': 7146, 'halfnaked': 7147, 'normally': 7148, 'embrace': 7149, 'torso': 7150, 'superbug': 7151, 'biolabs': 7152, 'epidemics': 7153, 'biosurveillance': 7154, 'outbreaks': 7155, 'homeland': 7156, 'hardstyle': 7157, 'messy': 7158, 'recording': 7159, 'mixify': 7160, 'angelstar39': 7161, 'illegals': 7162, 'protected': 7163, 'horrendous': 7164, 'timaroberts': 7165, 'nana': 7166, 'restlessness': 7167, 'dustpiggies': 7168, 'awash': 7169, 'abstract': 7170, 'dustpig': 7171, 'unconsciously': 7172, 'ally': 7173, 'hired': 7174, 'incompetent': 7175, 'wexler': 7176, 'sanford': 7177, 'hardcover': 7178, 'e112': 7179, 'particulatebreak': 7180, 'voltaic': 7181, 'vocpetroleum': 7182, 'bacteria': 7183, 'decomposition': 7184, 'droughtcheck': 7185, 'iot': 7186, 'conserve': 7187, 'bldrcosheriff': 7188, 'younger': 7189, 'cbsdenver': 7190, 'deedeecasey': 7191, 'caves': 7192, 'littlebitofbass': 7193, 'silinski': 7194, 'onåêthe': 7195, 'statistically': 7196, 'tyleroakley': 7197, 'grabakahitman': 7198, 'izigarcia': 7199, 'machidadid': 7200, 'fightnope': 7201, 'katiekatcubs': 7202, '05082015': 7203, 'johnfromcranber': 7204, 'pleas': 7205, 'warming': 7206, 'treyarch': 7207, 'lightseraphs': 7208, 'pikachu': 7209, 'lindenow': 7210, '315pm': 7211, 'launches': 7212, 'airstrikes': 7213, 'kurdistan': 7214, 'zourryart': 7215, 'salvages': 7216, 'tomatoes': 7217, 'ashghebranious': 7218, '60s': 7219, 'transgenerational': 7220, 'managers': 7221, 'uniforms': 7222, 'implication': 7223, 'glove': 7224, 'remaining': 7225, 'sections': 7226, 'greystone': 7227, '85885473': 7228, 'mileena': 7229, 'acted': 7230, 'flamethrower': 7231, 'fashionable': 7232, 'mountaineering': 7233, 'waterresistant': 7234, 'couples': 7235, 'leisure': 7236, 'tab\\x89û': 7237, 'dustinbrowder': 7238, 'frequently': 7239, 'distraction': 7240, 'modibo': 7241, 'maiga': 7242, 'fucktard': 7243, 'coyi': 7244, 'skh': 7245, 'ashton5sos': 7246, 'luke5sos': 7247, 'tounge': 7248, 'pepperoni': 7249, 'xela': 7250, 'struggle': 7251, 'dcfd': 7252, 'chr3lyc': 7253, 'iaff36': 7254, 'dhs': 7255, 'refuses': 7256, '\\x89û÷islamic': 7257, 'terrorism\\x89ûª': 7258, 'hatzolah': 7259, 'hond': 7260, 'sarniamakchris': 7261, 'hromadske': 7262, 'kasiadear33': 7263, 'silly': 7264, 'deniseromano': 7265, 'moly': 7266, 'lzk': 7267, '815': 7268, 'reply': 7269, 'choosegod': 7270, 'restoringpaths': 7271, 'undone': 7272, 'adverse': 7273, 'gotriangle': 7274, 'sikh': 7275, 'hateviolence': 7276, 'prevention': 7277, 'dviyer': 7278, 'colorlines': 7279, 'reportly': 7280, 'ntvde': 7281, 'gtlt': 7282, 'jwalk': 7283, '311': 7284, 'drrichardbesser': 7285, '8892': 7286, 'difficult': 7287, 'dispersed': 7288, 'poway': 7289, 'hcg': 7290, 'ensures': 7291, 'mole': 7292, 'whensoever': 7293, 'nevermore': 7294, 'sizygwwf': 7295, 'nanking': 7296, 'massacre4': 7297, 'eyewitnesses': 7298, 'wsj': 7299, 'wpo': 7300, 'fade': 7301, 'pvris': 7302, 'toosoon': 7303, 'aberdeenfc': 7304, 'aberdeenfanpage': 7305, 'coefficient': 7306, 'plz': 7307, 'arfur': 7308, 'georgecole': 7309, 'incitement': 7310, 'beinart': 7311, 'kraft': 7312, 'singles': 7313, 'wikipedia': 7314, 'encyclopedia': 7315, 'disclosed': 7316, 'osi2016': 7317, 'machinegunkelly': 7318, 'underground': 7319, 'mythgriy': 7320, 'engineermatarai': 7321, 'ate': 7322, 'mataas': 7323, 'kc': 7324, 'ratingbut': 7325, 'ratings': 7326, 'arovolturi3000': 7327, 'exporting': 7328, 'solving': 7329, 'jackman': 7330, 'downgraded': 7331, 'naypyidaw': 7332, 'prensa': 7333, 'latina': 7334, 'cbcca': 7335, 'jet\\x89ûªs': 7336, 'positively': 7337, 'cultivating': 7338, 'tcotåêccot': 7339, 'dvbbs': 7340, 'borgeous': 7341, 'arceen': 7342, 'gopdebate': 7343, 'eggs': 7344, 'touched': 7345, 'deadpool': 7346, 'wears': 7347, 'exquisite': 7348, 'sto': 7349, 'cumshot': 7350, 'porno': 7351, 'supernovalester': 7352, 'jfc': 7353, 'reshrimplevy': 7354, 'gostei': 7355, 'um': 7356, 'vìdeo': 7357, 'christinartnd': 7358, 'postcards': 7359, 'polaroids': 7360, 'evacuating': 7361, 'okcfox': 7362, 'saddle': 7363, 'accountable': 7364, 'preferable': 7365, 'brass': 7366, 'tawfmcaw': 7367, 'argentings': 7368, 'aaaaaaallll': 7369, 'scratching': 7370, 'pedals': 7371, 'morehouse64': 7372, 'ethical': 7373, 'relevance': 7374, 'studies': 7375, 'calabria': 7376, 'malta': 7377, 'expand': 7378, 'beloeil': 7379, 'richelieusaintlaurent': 7380, 'expanding': 7381, 'stacdemon': 7382, 'mullin': 7383, 'john\\x89ûªs': 7384, '201516': 7385, 'sjubb': 7386, 'cables': 7387, 'gunfight': 7388, 'bairstow': 7389, 'buffet': 7390, 'lad': 7391, 'fantosex': 7392, 'suck': 7393, 'amends': 7394, 'brb': 7395, 'duh': 7396, 'originalfunko': 7397, 'spencers': 7398, 'buddys': 7399, 'blockage': 7400, 'woodward': 7401, 'northbound': 7402, 'davison': 7403, 'shoalstraffic': 7404, 'afloat': 7405, 'pension': 7406, '8615': 7407, '10401': 7408, 'everton': 7409, '14yearold': 7410, 'wonderkid': 7411, 'heavyåêrain': 7412, 'redcoatjackpot': 7413, 'curse': 7414, 'virtual': 7415, 'listings': 7416, '547': 7417, 'cannon': 7418, 'dorrie': 7419, 'caruana': 7420, 'blanksocietyx': 7421, 'graph': 7422, 'fa07af174a71408': 7423, 'tolerated': 7424, 'jrlallo': 7425, 'narrator': 7426, 'chemically': 7427, 'lavatory': 7428, 'db5': 7429, 'x1392': 7430, 'reboot': 7431, 'belair': 7432, 'ferrell': 7433, 'zach': 7434, 'galifianakis': 7435, 'comic': 7436, 'farce': 7437, 'knocked': 7438, 'yday': 7439, '2day': 7440, 'cali74142290': 7441, 'disasterhospital': 7442, 'midwest': 7443, 'vikings': 7444, 'sundaydont': 7445, 'infact': 7446, 'zimmer': 7447, 'isinjury': 7448, 'jfb': 7449, 'tfb': 7450, 'alrasyid448iturasya': 7451, 'smantibatam': 7452, 'roh3smantibatam': 7453, 'airplaneåê29072015': 7454, 'moore': 7455, 'harrystyles': 7456, 'cern': 7457, 'bodys': 7458, 'sami': 7459, 'masterchef': 7460, 'ciaramckendry': 7461, 'renewed': 7462, 'ahmazing': 7463, 'gemini': 7464, 'thirsty': 7465, 'nightsad': 7466, 'rockn': 7467, 'blevins': 7468, 'announce': 7469, 'dull': 7470, 'monotonous': 7471, 'truediagnosis': 7472, '250k': 7473, 'physician': 7474, 'dmassa5': 7475, 'definite': 7476, 'crown': 7477, 'kemalatlay': 7478, 'uptownjorge': 7479, 'sided': 7480, 'linerless': 7481, 'caps': 7482, 'choose': 7483, 'hav': 7484, 'sht': 7485, 'loyalty': 7486, 'involves': 7487, 'kicking': 7488, 'nobleman': 7489, 'elven': 7490, 'weirdo': 7491, 'holly': 7492, 'chriscesq': 7493, 'bigtent': 7494, 'hailstormwindstorm': 7495, 'allergic': 7496, 'annealiz1': 7497, 'redhead': 7498, 'gastric': 7499, 'carcinoma': 7500, 'bookanother': 7501, 'gene': 7502, 'channelstvthats': 7503, 'intel': 7504, 'burp': 7505, 'landowner': 7506, '10\\x89û': 7507, 'thedoolinggroup': 7508, 'slams': 7509, 'bordento': 7510, 'marr': 7511, 'primal': 7512, 'scream': 7513, 'aannnnd': 7514, 'usamisan': 7515, 'mithitennis': 7516, 'crackedgem': 7517, 'awaits': 7518, 'homefolks': 7519, 'opinionated': 7520, 'proposal': 7521, 'modernized': 7522, 'omw': 7523, 'clears': 7524, 'bluebirddenver': 7525, 'deliberately': 7526, 'carolinaåêablaze': 7527, 'resting': 7528, 'itsmegss': 7529, 'barking': 7530, 'renovation': 7531, 'smallbiz': 7532, 'appeared': 7533, 'concur': 7534, 'mmk': 7535, 'lining': 7536, 'mizuta': 7537, 'savior': 7538, 'cortneymo': 7539, 'mfsloose': 7540, 'buffs': 7541, 'upi': 7542, 'irannucleardeal': 7543, 'recreates': 7544, 'clever': 7545, '\\x89û÷avalanche\\x89ûª': 7546, 'tanks': 7547, 'assistant': 7548, 'arti': 7549, 'kaboom': 7550, 'zonesthank': 7551, 'tanehisicoates': 7552, 'laced': 7553, 'monologue': 7554, 'charlize': 7555, 'coulda': 7556, 'backs': 7557, 'parley\\x89ûªs': 7558, 'rfp': 7559, 'f450': 7560, 'transporta': 7561, 'unharmed': 7562, 'denied': 7563, 'nationals': 7564, 'who\\x89û': 7565, '7000series': 7566, 'cqnow': 7567, 'easton': 7568, 'softball': 7569, 'fastpitch': 7570, '2920': 7571, 'sk398': 7572, 'portaloos': 7573, 'sentient': 7574, 'fighter': 7575, 'uspacific': 7576, 'disappears': 7577, 'hundreds\\x89û': 7578, 'austin': 7579, 'stationcdrkelly': 7580, 'sys': 7581, 'clergyforced': 7582, 'youngerampgrossly': 7583, 'disfigured': 7584, 'bioterrorismap': 7585, 'missambear': 7586, 'kierannicholson': 7587, 'nathans': 7588, 'potentially': 7589, 'note': 7590, 'opera': 7591, 'aus': 7592, 'rescind': 7593, 'medals': 7594, 'honor': 7595, 'begging': 7596, 'wher': 7597, 'rodkiai': 7598, 'blackwhite': 7599, 'newbeginningsanimalrescue': 7600, 'fieldwide': 7601, 'presume': 7602, 'soggy': 7603, 'lashings': 7604, 'moist': 7605, 'charleyisqueen': 7606, 'barber': 7607, 'egg': 7608, 'edison': 7609, 'lightbulb': 7610, 'teslas': 7611, 'wank': 7612, 'tafs': 7613, 'fb100': 7614, 'mathewisangry': 7615, 'z3kesk1': 7616, 'saladinahmed': 7617, 'west\\x89ûªs': 7618, 'annoyed': 7619, 'hung': 7620, 'audaciousspunk': 7621, 'koreans': 7622, 'eleskaylee': 7623, 'jannellix0': 7624, 'puts': 7625, 'tracklist': 7626, 'omarmolina036': 7627, 'milioooo': 7628, 'emilio': 7629, '5sosfam': 7630, 'ryans': 7631, 'mxaaaa': 7632, 'onfireanders': 7633, 'bb': 7634, 'flatliners': 7635, 'creativitybalancelongevity': 7636, 'lucifer': 7637, 'sorryi': 7638, 'rtirishirr': 7639, 'mchapmanwsaz': 7640, 'wsazbrittany': 7641, 'kellyannwx': 7642, 'caaaaaall': 7643, 'bluewestlo': 7644, '38745': 7645, 'stlouis': 7646, 'caraccidentlawyer': 7647, 'speeding': 7648, 'tee\\x89û': 7649, 'robertharding': 7650, 'repjohnkatko': 7651, 'netanyahu': 7652, 'flush': 7653, 'thorium': 7654, 'scandals': 7655, 'yuppies': 7656, 'tourists': 7657, 'slew': 7658, 'unfml': 7659, 'leandotorg': 7660, 'lean': 7661, 'quicker': 7662, 'mtsalert': 7663, 'riders': 7664, 'developed': 7665, '428pm': 7666, 'wxky': 7667, 'beet': 7668, 'just\\x89û': 7669, 'saddlebrooke': 7670, 'goats': 7671, 'cyberdemon531': 7672, 'dew': 7673, 'erodes': 7674, 'eyecuts': 7675, 'erasuterism': 7676, 'gal': 7677, 'deco': 7678, 'trickier': 7679, 'splash': 7680, 'alipaper': 7681, 'keepingtheviginaclean': 7682, 'slone': 7683, 'ripples': 7684, 'alisonannyoung': 7685, 'exclusive': 7686, 'news786uk': 7687, 'islamist': 7688, 'anjem': 7689, 'choudary': 7690, 'rationing': 7691, 'huzzah': 7692, 'mollythetanzs': 7693, 'vermilion': 7694, 'butterlondon': 7695, 'crayons': 7696, 'beram0s': 7697, 'bbloggers': 7698, 'thr': 7699, 'thrarchives': 7700, '1928': 7701, 'aredeluged': 7702, 'berlin': 7703, 'daubt': 7704, 'chubychux': 7705, '159': 7706, 'burton': 7707, 'messnermatthew': 7708, 'newcity': 7709, '66': 7710, 'keampurley': 7711, 'drained': 7712, 'unsure': 7713, 'paging': 7714, 'bbcintroducing': 7715, 'purpleturtlerdg': 7716, 'giantgiantsound': 7717, 'rdg': 7718, 'untangle': 7719, 'besttalkradio': 7720, 'cracker': 7721, 'imperialism': 7722, 'spins': 7723, 'militarism': 7724, 'crushes': 7725, 'loans': 7726, '\\x89ûï': 7727, 'advances': 7728, 'treasurehouse': 7729, 'outbreed': 7730, 'takehome': 7731, 'akx': 7732, 'watersafety': 7733, 'nia': 7734, 'quizzed': 7735, 'denies': 7736, 'elections': 7737, 'achedin': 7738, 'jewhaditm': 7739, 'netflix': 7740, 'documentary': 7741, 'narrated': 7742, 'parter': 7743, 'harms': 7744, 'hashtagteaclub': 7745, 'pars': 7746, 'defender': 7747, 'tod': 7748, 'ensued': 7749, 'sweatfyi': 7750, 'doves': 7751, 'proms': 7752, 'pt4': 7753, 'our\\x89û': 7754, 'scourgue': 7755, 'spike': 7756, '30min': 7757, 'ckec': 7758, 'metrotown': 7759, 'maintained': 7760, 'apartments': 7761, 'burnaby': 7762, 'changefortheworse': 7763, 'kshllcenterpri1': 7764, 'progress4ohio': 7765, 'churches': 7766, 'setlist': 7767, 'collideworship': 7768, 'shells': 7769, 'joked': 7770, 'innings': 7771, 'cubstalk': 7772, 'twovehicle': 7773, 'fowlers': 7774, 'darwinism': 7775, 'oyster': 7776, 'carnegie': 7777, 'justintrudeau': 7778, 'g7': 7779, 'g20': 7780, 'postapocalypticflimflam': 7781, 'prodding': 7782, 'mixes': 7783, 'byebyesoundcloud': 7784, 'xdescry': 7785, 'hairdryer': 7786, 'paulhollywood': 7787, 'tattooed': 7788, 'arkansas': 7789, 'nola': 7790, 'chim': 7791, 'bull': 7792, 'colonel': 7793, 'sammy': 7794, 'kfc': 7795, 'sg': 7796, 'knockout': 7797, 'dacherryontop13': 7798, 'cspan': 7799, 'unhealed': 7800, 'unending': 7801, 'endoccupation': 7802, 'endconflict': 7803, 'freekashmir': 7804, 'notified': 7805, 'bukidnon': 7806, 'deployed': 7807, 'contain': 7808, 'brace': 7809, 'samaritans': 7810, 'depressed': 7811, 'ruhl': 7812, '38': 7813, 'modoc': 7814, 'temporarily': 7815, 'reassigned': 7816, '58hif': 7817, 'trick': 7818, 'muzzamil': 7819, 'offr': 7820, 'mi17': 7821, 'vilelunar': 7822, 'trickshot': 7823, 'controller': 7824, 'infinite': 7825, 'fading': 7826, 'fizzy': 7827, 'seats': 7828, 'shoutout': 7829, 'thuggin': 7830, 'curry': 7831, 'herman': 7832, 'stephenson': 7833, 'overturned': 7834, 'belie': 7835, 'johnsontionne': 7836, 'obstacles': 7837, 'dontexpectnothing': 7838, 'alarming': 7839, 'noahj456': 7840, 'sticky': 7841, 'xmen': 7842, 'yahootv': 7843, 'nar': 7844, 'phuket': 7845, 'dramatically': 7846, 'equally': 7847, 'incapable': 7848, 'nothingness': 7849, 'blaise': 7850, 'pascal': 7851, 'temperature': 7852, 'emilee': 7853, 'dislike': 7854, 'femnism': 7855, 'bright': 7856, 'reafs': 7857, 'markargent': 7858, 'osama': 7859, 'mhmmm': 7860, 'errrr': 7861, 'notgoingoutinthat': 7862, 'hellonwheelsamc': 7863, 'howfans': 7864, 'talkinghell': 7865, 'chieftain': 7866, 'tasks': 7867, 'dickson': 7868, 'n15b': 7869, 'donation': 7870, 'rebecca': 7871, 'roga': 7872, 'tastemycupcakee': 7873, 'lmfaooo': 7874, 'nawh': 7875, 'motivator': 7876, 'trollingtilmeekdiss': 7877, 'martial': 7878, '23km': 7879, 'twentynine': 7880, '235409': 7881, 'seeker': 7882, 'nochilllukehammings': 7883, 'epicinsanity': 7884, 'grimrail': 7885, 'depot': 7886, 'ce': 7887, 'badotweet': 7888, 'disowned': 7889, 'kasab': 7890, 'disowns': 7891, 'denial': 7892, 'an\\x89û': 7893, 'chords': 7894, 'funnydadcoach': 7895, 'pacquiao': 7896, 'marquez': 7897, 'unfilled': 7898, 'durvod': 7899, 'geyser': 7900, '300k': 7901, 'exotic': 7902, 'hobby': 7903, 'lobby': 7904, 'ama': 7905, 'syd': 7906, 'elvis': 7907, 'presley': 7908, 'panther': 7909, 'shuffle': 7910, 'legend': 7911, 'www': 7912, 'hiroshimanagasaki': 7913, 'slums': 7914, 'manifestation': 7915, 'provide': 7916, 'illegality': 7917, 'discourse': 7918, 'confounds': 7919, 'stopevictions': 7920, 'vods': 7921, 'rochdale': 7922, 'heywood': 7923, 'liv': 7924, 'oliviaapalmerr': 7925, 'thatswhatfriendsarefor': 7926, 'hintdevastation': 7927, 'beyondthebomb': 7928, 'absurdly': 7929, 'men\\x89ûªs': 7930, 'manhood': 7931, 'idaho': 7932, 'i15': 7933, 'idwx': 7934, 'foreclosed': 7935, 'ontejc': 7936, 'kaputt21': 7937, 'gregory': 7938, 'wickett': 7939, 'towboat': 7940, 'vtc': 7941, 'hood': 7942, 'orangeblue': 7943, 'avengers': 7944, 'hunting': 7945, 'outnumbering': 7946, 'licenses': 7947, 'floridas': 7948, 'petersburg': 7949, 'vegetables': 7950, 'cooking': 7951, 'crucial': 7952, 'psychic': 7953, 'spit': 7954, 'phillip': 7955, 'amritsar': 7956, '\\x89ûïthat\\x89ûªs': 7957, 'exaggerated': 7958, 'wounded\\x89û\\x9d': 7959, 'dqsvyusy': 7960, 'ursula': 7961, 'drool': 7962, 'protoshoggoth': 7963, 'courageous': 7964, 'hiroshima70': 7965, 'theghostparty': 7966, 'amsosorry': 7967, 'vines': 7968, 'failure\\x89û': 7969, 'psd': 7970, 'japanjapan': 7971, 'inferior': 7972, 'standardanonymous': 7973, 'ampamp': 7974, 'subcommittee': 7975, '728': 7976, 'oversight': 7977, 'htt\\x89û': 7978, 'firstever': 7979, '777': 7980, 'vanished': 7981, '239': 7982, 'mystical': 7983, 'knocking': 7984, 'deadlydemi': 7985, 'staying': 7986, 'tìüp': 7987, 'photogenic': 7988, 'gosh': 7989, '194': 7990, 'afterwards': 7991, 'savour': 7992, 'prolong': 7993, 'sigue': 7994, 'winnipeg': 7995, 'witnesses': 7996, 'arlington': 7997, 'whvholst': 7998, 'leashless': 7999, 'competence': 8000, 'soc': 8001, 'democratic': 8002, 'parties': 8003, 'lonelyness': 8004, 'depressing': 8005, 'indiatv': 8006, 'chonce': 8007, 'cryibg': 8008, 'typing': 8009, 'ants': 8010, 'notes': 8011, 'ppfa': 8012, 'councilscc': 8013, 'olliebailey11': 8014, 'havnt': 8015, 'balanced': 8016, 'boyd': 8017, 'detroitnews': 8018, 'onthisday': 8019, 'mayflower': 8020, 'laphamsquart': 8021, 'livemint': 8022, 'allthenews': 8023, 'whippenz': 8024, 'blunts': 8025, 'oc73x': 8026, 'kunalkapoor': 8027, 'chaser': 8028, 'pod': 8029, 'wth': 8030, 'rotating': 8031, 'convertible': 8032, '23800': 8033, 'radical': 8034, 'peterjukes': 8035, 'mauds99': 8036, 'jagexsupport': 8037, 'harassed': 8038, 'spark': 8039, 'laurenjauregui': 8040, 'champions': 8041, 'championsblackfoot': 8042, 'blizzardgamin': 8043, 'ight': 8044, 'bellalinn': 8045, 'alrighty': 8046, 'ep03': 8047, 'finalise': 8048, 'alt': 8049, 'adumbbb': 8050, 'daborsch': 8051, 'shocking': 8052, 'lured': 8053, 'fanbase': 8054, 'wod': 8055, 'disappointed': 8056, 'm151a1': 8057, 'mutt': 8058, 'm416': 8059, 'pressing': 8060, 'tshirts': 8061, 'docked': 8062, 'plank': 8063, '250000': 8064, 'excessive': 8065, 'emerging': 8066, 'squabble': 8067, 'immigration': 8068, 'ukfrance': 8069, 'nataliealund': 8070, 'notion': 8071, 'seemly': 8072, 'narcissism': 8073, 'richhomeydon': 8074, 'swag': 8075, 'gloomy': 8076, 'wthat': 8077, 'thesmallclark': 8078, 'trigger': 8079, '415': 8080, '7510880': 8081, 'sheltersupport': 8082, 'nonenglish': 8083, 'calum36chambers': 8084, 'joboozoso': 8085, 'usat': 8086, 'usatodaynfl': 8087, 'brothernlaw': 8088, 'riooooos': 8089, 'beast': 8090, 'catfishmtv': 8091, 'ranking': 8092, 'artectura': 8093, 'pop2015': 8094, 'nå¼36': 8095, 'florence': 8096, 'asukager': 8097, 'magical': 8098, 'hamayun': 8099, 'shaheed': 8100, 'mi7': 8101, 'heli': 8102, 'stallion150': 8103, 'kbeastx': 8104, 'genisys': 8105, 'boards': 8106, '616': 8107, 'lightman': 8108, 'lipstick': 8109, 'rediscovered': 8110, 'nars\\x89ûª': 8111, '\\x89û÷heat': 8112, 'wave\\x89ûª': 8113, 'emilyschuman': 8114, 'soultech': 8115, 'addresses': 8116, 'veld': 8117, 'refund': 8118, 'trc': 8119, 'torontorc': 8120, 'taliban': 8121, 'explosivesrigged': 8122, 'slashandburn': 8123, '6beyonce': 8124, 'bombedout': 8125, 'britain': 8126, 'swtrains': 8127, 'noises': 8128, 'epsom': 8129, 'wimbledon': 8130, 'kuala': 8131, 'lumpur': 8132, 'wing': 8133, 'nottingham': 8134, 'droughtfueled': 8135, 'kinkyconnors': 8136, 'hellotybeeren': 8137, 'timelapse': 8138, 'isao': 8139, 'hashimoto': 8140, 'atomicbomb': 8141, 'ny35': 8142, '2134678': 8143, 'boulder': 8144, 'stearns': 8145, 'arin': 8146, 'gummy': 8147, 'grumpout': 8148, 'tumblr': 8149, 'necros': 8150, 'native': 8151, 'australians': 8152, 'oceans': 8153, 'urine': 8154, 'marginoferror': 8155, 'rom': 8156, 'mulberry': 8157, 'antony': 8158, 'å£27900end': 8159, 'philippines\\x89û': 8160, 'tornadogiveaway': 8161, 'thebookclub': 8162, 'roughdeal1': 8163, 'hudhud': 8164, 'chandrababu': 8165, 'valle': 8166, 'approves': 8167, 'hike': 8168, 'association': 8169, 'directors': 8170, '2002': 8171, 'ugliest': 8172, 'tight': 8173, 'birb': 8174, 'jasonpope2': 8175, 'johnfugelsang': 8176, '4playthursdays': 8177, 'everybody': 8178, '1716': 8179, 'lisatoddsutton': 8180, 'bcz': 8181, 'murphy': 8182, 'dorling': 8183, 'kindersley': 8184, 'publishing': 8185, 'staff\\x89û': 8186, 'penalties': 8187, 'pcps': 8188, 'physicians': 8189, 'gist': 8190, '148': 8191, 'produce': 8192, 'streetjamzdotnet': 8193, 'guidofawkes': 8194, 'mediaguido': 8195, '\\x89ûïbasedgeorgie': 8196, 'forreal': 8197, 'president\\x89û\\x9d': 8198, 'whipe': 8199, 'joined\\x89û': 8200, 'dnjcom': 8201, 'enzasbargains': 8202, 'donated': 8203, 'handi': 8204, 'wipes': 8205, 'profittothepeople': 8206, 'stvmlly': 8207, 'safferoonicle': 8208, 'yell': 8209, 'eganator2000': 8210, 'nasasolarsystem': 8211, '0913': 8212, 'qz': 8213, 'taraswart': 8214, 'viviangiang': 8215, 'midday': 8216, 'not\\x89û': 8217, 'progressive': 8218, 'greetings': 8219, 'pens': 8220, 'publications': 8221, 'breast': 8222, 'superfood': 8223, 'stalled': 8224, 'contributing': 8225, '800000': 8226, 'v452': 8227, 'jamilazzaini': 8228, 'alifaditha': 8229, 'clowns': 8230, 'toooooo': 8231, 'bck': 8232, 'rutherford': 8233, 'lockdown': 8234, 'rumor': 8235, 'livingsafely': 8236, 'currensy': 8237, 'uchicago': 8238, 'faculty': 8239, 'overturn': 8240, 'protesters': 8241, 'gnwt': 8242, 'mere': 8243, 'aggressive': 8244, 'orcas': 8245, 'yahoocare': 8246, 'domain': 8247, 'sophistication': 8248, 'closely': 8249, 'uptotheminute': 8250, 'zrnf': 8251, 'kevinedwardsjr': 8252, 'fatalitiesxrays': 8253, 'ton': 8254, '160': 8255, 'auburn': 8256, 'cyhitheprynce': 8257, 'elephantintheroom': 8258, 'outs': 8259, 'josebasedgod': 8260, 'realm': 8261, 'peeked': 8262, 'immune': 8263, 'deafening': 8264, 'ourselves': 8265, 'brucewillis': 8266, 'auction': 8267, 'colombia': 8268, 'retooled': 8269, 'retirees': 8270, 'handicapped': 8271, 'nomorehandouts': 8272, 'ks111': 8273, 'pbohanna': 8274, 'boring': 8275, 'justaguess': 8276, 'elielcruz': 8277, 'streams': 8278, 'zodiac': 8279, 'trey': 8280, 'dupree': 8281, 'sparkz': 8282, 'beatz': 8283, 'chuck': 8284, 'idgaf': 8285, 'amateur': 8286, 'reprises': 8287, 'horrormoviesca': 8288, 'rant': 8289, '8000': 8290, 'truckcrash': 8291, 'overturns': 8292, 'fortworth': 8293, 'interstate': 8294, 'crashgt': 8295, 'powder': 8296, 'discussed': 8297, 'introduction': 8298, 'theological': 8299, 'aesthetic': 8300, 'ryanoss123': 8301, 'hitters': 8302, 'pitchers': 8303, 'tuneswgg': 8304, 'gimp': 8305, 'newave': 8306, 'me\\x89ûturns': 8307, 'flamesnation': 8308, 'optimistic': 8309, 'pivot': 8310, 'adamantly': 8311, 'opposed': 8312, 'avysss': 8313, 'motivated': 8314, 'donnelly': 8315, 'juliechen': 8316, 'vanessa': 8317, 'econom': 8318, 'taaylordarr': 8319, 'teamfollowback': 8320, 'suvs': 8321, 'dickheads': 8322, 'oneheartonemindonecss': 8323, 'beaverton': 8324, 'hailing': 8325, 'haildamage': 8326, 'yycweather': 8327, 'captureyyc': 8328, 'sto\\x89û': 8329, 'cocker': 8330, 'spaniels': 8331, 'cld': 8332, 'sct012': 8333, 'bkn025': 8334, '0306': 8335, 'christinalavv': 8336, 'lindsaywynn3': 8337, 'stood': 8338, 'superiority': 8339, 'unconditional': 8340, 'galvnews': 8341, 'blakeshelton': 8342, 'windstormfollow': 8343, 'jeez': 8344, 'cya': 8345, 'dallascowboys': 8346, 'suelinflower': 8347, 'describe': 8348, 'painthey': 8349, 'ripped': 8350, 'lifeits': 8351, 'audacityjamesta': 8352, 'babes': 8353, 'lan': 8354, 'kamon': 8355, 'southwest': 8356, 'omaha': 8357, 'utility': 8358, 'pole': 8359, 'encoded': 8360, 'sensory': 8361, 'cognitive': 8362, 'asianshawtyy': 8363, 'filming': 8364, 'sonyprousa': 8365, 'lumixusa': 8366, 'djiglobal': 8367, 'profbriancox': 8368, 'rtamerica': 8369, 'employee': 8370, 'paperwork': 8371, 'hronlinetweets': 8372, 'simplify': 8373, 'staffing': 8374, 'logistics': 8375, 'cryptic': 8376, 'guided': 8377, 'megadeth': 8378, 'stung': 8379, 'fukurodani': 8380, 'bokuto': 8381, 'ppor': 8382, 'glenstannard': 8383, 'essexweather': 8384, 'abouts': 8385, 'weighs': 8386, 'eurocrisis': 8387, '\\x89ââ': 8388, '213924': 8389, 'raniakhalek': 8390, 'bravery': 8391, 'aunt': 8392, 'romes': 8393, '358': 8394, 'scriptettesar': 8395, 'katiecool447': 8396, '30th': 8397, 'dlc': 8398, 'fatalitiesxray': 8399, '010217': 8400, 'm38': 8401, 'kwislo': 8402, 'flurry': 8403, 'foxnewsinsider': 8404, 'reopened': 8405, 'knx1070': 8406, 'optich3cz': 8407, 'askh3cz': 8408, 'elgato': 8409, 'bday': 8410, 'investment': 8411, 'keurig': 8412, 'inc': 8413, 'thirdquarter': 8414, 'afterhours': 8415, 'zonewolf123': 8416, 'mo\\x89û': 8417, 'sodamntrue': 8418, 'uprootin': 8419, 'eltorroloco': 8420, 'sockets': 8421, 'kathrynschulz': 8422, 'hunchback': 8423, 'notre': 8424, 'ma3route': 8425, 'imeshika': 8426, 'hapa': 8427, 'mats': 8428, 'aar': 8429, 'ambulancewe': 8430, 'bonnieg434': 8431, 'piga': 8432, 'kijan': 8433, 'macon': 8434, 'warnerrobins': 8435, 'milledgeville': 8436, 'gmtty': 8437, 'pugwash': 8438, 'population6': 8439, 'moorlandschmbr': 8440, 'unstable': 8441, 'saturated': 8442, 'hillymountain': 8443, 'damnaarielle': 8444, 'rtrrtcoach': 8445, 'truelove': 8446, 'lith': 8447, 'voodoo': 8448, 'seduction': 8449, 'astrology': 8450, 'rtrrt': 8451, 'lotz': 8452, '1008planet\\x89û': 8453, 'stylishly': 8454, 'damsels': 8455, 'distress': 8456, 'peers': 8457, 'icy': 8458, 'rum': 8459, 'scheer': 8460, 'huebels': 8461, 'ultimatum': 8462, 'dailytimesngr': 8463, 'glaucoma': 8464, 'optic': 8465, 'nerve': 8466, 'eyefacts': 8467, 'makinmemories': 8468, 'anthelmintic': 8469, 'drawing': 8470, 'quarrels': 8471, 'newser': 8472, 'patriciatraina': 8473, 'mcclain': 8474, 'practicenyg': 8475, 'epcotexplorer': 8476, 'ransacked': 8477, 'awesomeeeeeeee': 8478, '630': 8479, 'escorts': 8480, 'gfe': 8481, 'dubai': 8482, 'dinallyhot': 8483, 'joint': 8484, 'poured': 8485, 'fallontonight': 8486, 'blacken': 8487, 'parched': 8488, 'harris': 8489, 'tinder': 8490, 'lonepine': 8491, 'descendants': 8492, '666canberra': 8493, 'carriage': 8494, 'tennews': 8495, 'aluminum': 8496, 'missouri': 8497, 'renaomino': 8498, 'territory': 8499, 'sneezing': 8500, 'smack': 8501, 'hahahah': 8502, 'reps': 8503, 'dip': 8504, 'niall': 8505, 'jinx': 8506, 'riddler': 8507, 'earlyexit': 8508, 'presidential': 8509, '010156': 8510, 'm40': 8511, 'spies': 8512, 'perished': 8513, 'holodomor': 8514, 'erected': 8515, 'tenn': 8516, 'tennessean': 8517, 'behead': 8518, 'tlvfaces': 8519, 'tlvfacesauspol': 8520, 'petchary': 8521, 'displeased': 8522, 'spots': 8523, 'congrats': 8524, 'reggaeboyz': 8525, 'doe': 8526, 'toocodtodd': 8527, 'wyattb23': 8528, 'bobbyofhomewood': 8529, 'joxroundtable': 8530, 'nosports': 8531, 'si': 8532, 'top25': 8533, 'connormidd': 8534, 'ahrar': 8535, 'negotiations': 8536, 'sunnis': 8537, 'christycroley': 8538, 'vela': 8539, '36': 8540, 'ahamedis': 8541, 'messiah': 8542, 'dajaal': 8543, 'gog': 8544, 'magog': 8545, 'poster': 8546, 'ergo': 8547, 'converting': 8548, 'battleanother': 8549, 'refugeesmatter': 8550, 'auz': 8551, 'cst': 8552, 'radioriffrocks': 8553, 'hrs': 8554, 'hump': 8555, 'war\\x89û': 8556, 'gemmahentsch': 8557, 'dloesch': 8558, 'envision': 8559, 'placing': 8560, 'adoption': 8561, 'brewing': 8562, 'fools': 8563, 'tsipras': 8564, 'cost\\x89û': 8565, 'wallybaiter': 8566, 'bottling': 8567, 'chip': 8568, 'fuelgas': 8569, 'saver': 8570, 'chevy': 8571, 'tahoeblazeravalanches10': 8572, 'tasted': 8573, 'writes4coffee': 8574, 'iartg': 8575, 'rwa': 8576, 'tw4rw': 8577, 'rrbc': 8578, 'eileenmfl': 8579, 'maailiss': 8580, 'nlmdimrc': 8581, 'providers': 8582, 'niiiice': 8583, 'horno': 8584, 'terminated': 8585, '100s': 8586, 'mutekmontreal': 8587, 'isea2015': 8588, 'bail': 8589, 'fife': 8590, '816': 8591, 'algeria': 8592, 'houghjeff': 8593, 'dougkessler': 8594, 'b2b': 8595, 'b2bagency': 8596, 'slideshare': 8597, 'contentmarketing': 8598, '5sosfamupdater': 8599, 'missjadebrown': 8600, 'midmorning': 8601, 'beatg3': 8602, 'rainier': 8603, '852015': 8604, '608': 8605, '15000270653': 8606, 'woodland': 8607, '3430pm': 8608, 'hs': 8609, '4306pm': 8610, 'dog\\x89ûªs': 8611, 'kennel': 8612, 'yorkshire': 8613, 'theaf': 8614, 'atom': 8615, 'timed': 8616, 'eulogies': 8617, 'gtgtthis': 8618, 'tormented': 8619, 'matias': 8620, 'xavier': 8621, 'bastards': 8622, 'fullscreen': 8623, 'censorship': 8624, 'bengston': 8625, '\\x89ûïnumbers': 8626, 'upward': 8627, 'trend\\x89û\\x9d': 8628, 'smem': 8629, 'filipino': 8630, 'consistently': 8631, 'yo\\x89û': 8632, 'smokey': 8633, 'master0fsloths': 8634, 'cle': 8635, 'cuyahoga': 8636, 'greening': 8637, 'tampabay': 8638, 'indictment': 8639, 'point\\x89û': 8640, 'stray': 8641, 'strangers': 8642, 'reshareworthy': 8643, 'sensitive': 8644, 'sophieingle01': 8645, 'angharadjames16': 8646, 'gifts': 8647, 'banana': 8648, 'malt': 8649, 'loaf': 8650, 'worm': 8651, 'unaware': 8652, 'sanitizing': 8653, 'trillac': 8654, 'coolweird': 8655, 'skinless': 8656, 'patio': 8657, 'umbrella': 8658, 'chairs': 8659, 'flipped': 8660, 'broadcast': 8661, 'quottelevision': 8662, 'quotoperations': 8663, 'since3g': 8664, 'superv': 8665, 'deaddreamer15': 8666, 'thatd': 8667, 'nyack': 8668, 'pineview': 8669, 'railroad': 8670, 'crossing': 8671, 'csx': 8672, 'iamrrsb': 8673, 'skywars': 8674, 'hack': 8675, 'flechadas': 8676, 'sinistras': 8677, 'iamhorsefly': 8678, 'volcanotornado': 8679, 'somewhere': 8680, 'perspective': 8681, 'mineenjoyfire': 8682, 'summertime': 8683, 'sirens\\x89û': 8684, '515p': 8685, 'nuff': 8686, 'fme': 8687, 'tmake': 8688, 'tthe': 8689, 'pet': 8690, 'bhome': 8691, '7p': 8692, 'nopassenger': 8693, 'hell\\x89û': 8694, 'gearing': 8695, 'deadgrassandflowers': 8696, 'omega': 8697, 'explores': 8698, 'religion': 8699, 'rayner': 8700, 'newsarama': 8701, 'shouout': 8702, 'kasad1lla': 8703, 'vocals': 8704, 'kitana': 8705, 'slay': 8706, '\\x89ûókody': 8707, 'kombatfans33': 8708, 'displaces': 8709, 'albany': 8710, 'omron': 8711, 'hem712c': 8712, 'cuffs': 8713, '367': 8714, 'repatriating': 8715, 'dismissed': 8716, 'raped': 8717, 'occupational': 8718, 'ndtv': 8719, 'sirtitan45': 8720, 'mega': 8721, 'shop\\x89ûªs': 8722, 'cutekitten': 8723, 'catsofinstagram': 8724, 'summerinsweden': 8725, 'katt': 8726, 'katterpì´instagram': 8727, 'dumle': 8728, 'dagens\\x89û': 8729, 'zehrs': 8730, 'themayhoka': 8731, 'bn': 8732, 'longfoxysiren': 8733, 'rig': 8734, 'ngata': 8735, 'straightfire': 8736, 'crossfit': 8737, 'biztip': 8738, 'alternative': 8739, 'batteries': 8740, 'gettin': 8741, 'fitba': 8742, 'mlk': 8743, 'couldve': 8744, 'romeo': 8745, 'juliet': 8746, 'warmbodies': 8747, 'justinling': 8748, 'rainbows': 8749, 'snowflake': 8750, 'studio': 8751, 'xrays': 8752, 'barbitwins': 8753, 'helphorses': 8754, 'wider': 8755, 'militarydotcom': 8756, 'invented': 8757, 'insomniacs': 8758, 'reagan': 8759, 'arranged': 8760, 'guatemalan': 8761, 'exercises': 8762, 'apollobrowns': 8763, 'allenenbot': 8764, 'dannyraynard': 8765, 'aguero': 8766, 'striker': 8767, 'berahino': 8768, 'jusstdoitgirl': 8769, 'wbu': 8770, '1038pm': 8771, 'theburnageblue': 8772, 'favs': 8773, 'strategyhua': 8774, 'marksmaponyane': 8775, 'heysundowns': 8776, 'celticindeed': 8777, 'improvement': 8778, 'vacancies': 8779, 'vitaly': 8780, 'churkin': 8781, 'briliantly': 8782, 'exposes': 8783, 'ukraines': 8784, 'klimkin': 8785, 'mh17': 8786, 'sr14': 8787, '1700': 8788, 'liveonk2': 8789, 'riyadh': 8790, '710pm': 8791, '800pm': 8792, 'urban': 8793, 'insides': 8794, 'customized': 8795, 'dcubecrafts': 8796, 'greetingcards\\x89û': 8797, 'mulan': 8798, 'panik': 8799, 'kelbytomlinson': 8800, '933pm': 8801, 'skywarn': 8802, 'hamptonroadsforme': 8803, '72w': 8804, 'alloy': 8805, 'kinggerudo': 8806, 'moblins': 8807, 'hed': 8808, 'laughtraders': 8809, 'capitulation': 8810, 'closes': 8811, 'falmer': 8812, 'bethlehem': 8813, 'lt3dave': 8814, 'specs': 8815, 'lore': 8816, 'victorious': 8817, 'rv': 8818, 'kennethbauer': 8819, 'noodles': 8820, 'eric': 8821, 'clapton': 8822, 'hailthe': 8823, 'summons': 8824, 'pokemon': 8825, 'sterlingscott': 8826, 'fundraiser': 8827, 'poisoned': 8828, 'natalie': 8829, 'stavola': 8830, 'costar': 8831, 'lhmovie': 8832, 'indiefilm': 8833, 'dazzle': 8834, 'anonchimp': 8835, 'gospel': 8836, 'plotted': 8837, 'gns': 8838, 'strengthening': 8839, 'pxnatosil': 8840, 'renunciedilma': 8841, 'adhd': 8842, 'longterm': 8843, 'shootings': 8844, 'explosions': 8845, 'grenades': 8846, 'thrown': 8847, 'baffles': 8848, 'meis': 8849, 'benson': 8850, 'clegg': 8851, 'expense': 8852, 'yelp': 8853, 'bolsters': 8854, 'investigative': 8855, 'patients': 8856, 'loupascale': 8857, 'moregtosha': 8858, 'siteinvestigating': 8859, 'noranda': 8860, 'kfvs12': 8861, 'girardeau': 8862, 'carbondale': 8863, 'bluff': 8864, 'forbesasia': 8865, 'icaseit': 8866, 'mfi': 8867, 'certified': 8868, 'erupting': 8869, 'pixar': 8870, 'accidents\\x89ûª': 8871, '0npzp': 8872, 'mthe': 8873, 'premises': 8874, 'gansey': 8875, 'busting': 8876, 'kallemattsons': 8877, 'looooool': 8878, 'nudes': 8879, 'sutherland': 8880, 'pine': 8881, 'theleadernews': 8882, 'certainty': 8883, 'italianåêalps': 8884, 'testicles': 8885, 'mcnabbychic': 8886, 'gut': 8887, 'deutsch': 8888, 'rotten': 8889, 'monarchy': 8890, 'losdelsonido': 8891, 'ivanberroa': 8892, 'friendly': 8893, 'kmatakobot': 8894, 'disregard': 8895, 'climbed': 8896, 'wheelsio': 8897, 'hawkhis': 8898, 'beltmr': 8899, 'srk': 8900, 'wrongway': 8901, 'pampalmater': 8902, 'perrybellegarde': 8903, 'firstnations': 8904, 'idlenomore': 8905, 'cndpoli': 8906, 'yyj': 8907, 'curls': 8908, 'corii': 8909, 'spoil': 8910, 'wishlist': 8911, 'bashes': 8912, 'iranians': 8913, 'shouting': 8914, '\\x89û¢im': 8915, 'disaster\\x89û¢': 8916, 'kopiteluke1892': 8917, 'enolagay': 8918, 'disarmed': 8919, 'mbiwa': 8920, 'rat': 8921, 'hires': 8922, 'doppler': 8923, 'edmond': 8924, 'tribe': 8925, 'wipp': 8926, 'sejorg': 8927, 'tonne': 8928, 'mat': 8929, 'qew': 8930, 'erie': 8931, '405': 8932, 'niagaravehicles': 8933, 'lovemywife1983': 8934, 'shedid': 8935, '4the': 8936, 'bushs': 8937, 'washard': 8938, 'stopping': 8939, 'lyrical': 8940, 'vocalist': 8941, 'themalemadonna': 8942, 'melanie': 8943, 'fiona': 8944, 'slept': 8945, 'bagged': 8946, 'dlac': 8947, 'vinnie': 8948, 'jones': 8949, 'northumbria': 8950, 'drag0nking0201': 8951, 'screamsdont': 8952, 'animatronics': 8953, 'starflamegirl': 8954, 'norfolk': 8955, 'wasp': 8956, 'dive': 8957, 'studying': 8958, 'warnings900037': 8959, 'doylech': 8960, 'persecution': 8961, 'boots': 8962, 'floatin': 8963, 'suregod': 8964, 'promised': 8965, 'butthe': 8966, 'wnukes': 8967, 'ssb4': 8968, 'losers': 8969, 'reckon': 8970, 'dmt': 8971, 'aampw': 8972, '2pmclose': 8973, 'donations': 8974, 'taught': 8975, '1970s': 8976, 'piracy': 8977, 'slavery': 8978, 'suicidebombing': 8979, 'purely': 8980, 'historical': 8981, 'reoccur': 8982, 'carmike': 8983, 'cinemas': 8984, 'priority': 8985, 'animallogic': 8986, 'lotg': 8987, 'smoothed': 8988, 'bird': 8989, 'chalked': 8990, 'mouse': 8991, 'subtle': 8992, 'looney': 8993, 'tunesblake': 8994, 'griffin': 8995, '7000': 8996, '9newsmornings': 8997, 'carinduced': 8998, 'conning': 8999, 'portfolio': 9000, 'diversification': 9001, 'seagull07': 9002, 'aleisstokes': 9003, 'intelligencebar': 9004, '\\x89û÷muslim': 9005, 'women\\x89ûª': 9006, 'aren\\x89ûªt': 9007, 'attend': 9008, 'organized': 9009, 'protesting': 9010, 'rams': 9011, 'soldi': 9012, 'episodes': 9013, 'nigh': 9014, 'evanston': 9015, 'dirknomissski': 9016, 'faints': 9017, 'hripsk': 9018, 'corpse': 9019, 'jittering': 9020, 'terwilliger': 9021, 'pp15000266858': 9022, '1726': 9023, 'lawfulsurvivor': 9024, 'tdog': 9025, 'glenn': 9026, 'morales': 9027, 'andrea': 9028, 'jacqui': 9029, 'merle': 9030, '\\x89ûïkeits': 9031, 'livagotta': 9032, 'understand\\x89û\\x9d': 9033, 'punkblunts': 9034, 'sincerelyevelnn': 9035, 'highestranking': 9036, '9km': 9037, 'longbreastyat': 9038, 'thingsihate': 9039, 'gadget': 9040, 'calmstillness': 9041, 'eyecenter': 9042, 'aspects': 9043, 'weigh': 9044, 'garza': 9045, 'atlas': 9046, 'leones': 9047, 'copa': 9048, 'mx': 9049, 'usmnt': 9050, 'groceries': 9051, 'aching': 9052, 'purified': 9053, 'darkest': 9054, 'pale': 9055, 'moonlight': 9056, '6month': 9057, '662': 9058, '114': 9059, 'fouseytube': 9060, 'brbrs': 9061, 'fousey': 9062, 'kaylak369': 9063, 'kabwandi': 9064, 'waking': 9065, 'kooks': 9066, 'loadampexplode': 9067, '40hourfamine': 9068, 'worldvision': 9069, 'chamberedblood': 9070, 'speakingfromexperience': 9071, 'wbre': 9072, 'wyou': 9073, 'diretube': 9074, 'fightåêterrorism': 9075, 'femalegilgameshs': 9076, 'assault': 9077, 'useless': 9078, 'penetrate': 9079, 'submitt': 9080, 'aviationaddicts': 9081, 'aesop': 9082, 'motordom': 9083, 'lobbied': 9084, 'visionzero': 9085, 'ielectrocute': 9086, 'jamesjustus': 9087, 'corn': 9088, 'flakes': 9089, 'lesbians': 9090, 'myvintagesoul': 9091, 'manservant': 9092, 'pampered': 9093, 'brit': 9094, 'reversal': 9095, 'pennlive': 9096, 'mechanicsburg': 9097, 'ems1': 9098, 'emts': 9099, '\\x89û÷minimum': 9100, 'wage\\x89ûª': 9101, 'paramedics': 9102, 'oooureli': 9103, 'tolerance': 9104, 'iraqis': 9105, 'mutilated': 9106, 'tiggr': 9107, 'godofmischief': 9108, 'lokis': 9109, 'daggers': 9110, 'jammed': 9111, 'minas': 9112, 'thigh': 9113, 'mina': 9114, 'grabbed': 9115, 'sif': 9116, 'offshoot': 9117, 'expansion': 9118, 'bard': 9119, 'trinity': 9120, 'rocking': 9121, 'joeybats19': 9122, 'rogers': 9123, 'moseby': 9124, 'barfield': 9125, 'ririnsider': 9126, 'hendricks': 9127, 'hospitality': 9128, 'neanea2724': 9129, 'gerryconnolly': 9130, 'repdonbeyer': 9131, 'debacle': 9132, 'wderailed': 9133, 'nonpassenger': 9134, 'mgr': 9135, 'nucleardeal': 9136, 'indojapan': 9137, 'pact': 9138, 'reactorbased': 9139, 'projects': 9140, 'alil': 9141, 'dryer': 9142, 'snowy': 9143, 'pocket': 9144, 'mageavexis': 9145, 'loudest': 9146, 'higuains': 9147, 'offside': 9148, 'intersection': 9149, 'nno': 9150, 'rockbottomradfm': 9151, 'stripped': 9152, 'brock': 9153, 'stormbeard': 9154, 'steellord': 9155, 'judas': 9156, 'priest': 9157, 'scorpions': 9158, 'astonishing': 9159, 'lakeeffect': 9160, 'twill': 9161, 'denim': 9162, 'jackets': 9163, 'go\\x89û': 9164, 'shestooyoung': 9165, 'mink': 9166, '1030pm': 9167, 'overrun': 9168, 'zeal': 9169, 'peak': 9170, 'indecisiveness': 9171, 'aisle': 9172, 'serbian': 9173, 'foods': 9174, 'clothing': 9175, 'monitoring': 9176, 'spookyfob': 9177, 'feelslikefob': 9178, 'stump': 9179, 'remembrance': 9180, 'tsunaminopeach': 9181, 'tnwx': 9182, 'cara': 9183, 'chucker': 9184, 'vmas': 9185, 'sumn': 9186, 'daewony0406': 9187, 'exhausted': 9188, 'abc7eyewitness': 9189, 'hometownglory': 9190, 'con': 9191, 'collisionunkn': 9192, 'retract': 9193, 'wordpressdotcom': 9194, 'remainontop': 9195, 'ember': 9196, 'hakogaku': 9197, 'åêi': 9198, 'lordrsbiscuits': 9199, 'int': 9200, 'bridgeportspeed': 9201, 'patron': 9202, 'scissor': 9203, 'alexhammerstone': 9204, 'kttape': 9205, 'ktfounder': 9206, 'remymarcel': 9207, 'frofrofro\\x89û': 9208, 'fredolsencruise': 9209, 'itinerary': 9210, 'dolphins': 9211, 'constitutional': 9212, 'politic\\x89û': 9213, 'landolina': 9214, 'realestate': 9215, 'alaska\\x89ûªs': 9216, 'wales': 9217, 'archipelagowolves': 9218, 'nearing': 9219, 'extinction': 9220, 'standforwolves': 9221, 'acaciapenn': 9222, 'shidddd': 9223, 'descended': 9224, 'shadowed': 9225, 'crest': 9226, 'striking': 9227, 'harshly': 9228, '1952': 9229, 'dodge': 9230, 'wayne': 9231, 'bodied': 9232, 'libby': 9233, 'ori\\x89û': 9234, 'scegnews': 9235, 'nanotech': 9236, 'clots': 9237, 'peeped': 9238, 'frontin': 9239, 'jeepåêsunk': 9240, 'tinted': 9241, 'bumpin': 9242, 'smusx16475': 9243, 'skype': 9244, 'bricks': 9245, 'crazyideascollege': 9246, 'chips': 9247, 'redbull': 9248, 'snack': 9249, 'heyitsepark': 9250, 'adriasimon': 9251, 'round2': 9252, 'dears': 9253, 'ffa': 9254, 'foodstand': 9255, 'fairgrounds': 9256, '9am': 9257, 'touchdown': 9258, '71st': 9259, 'highland': 9260, 'medics': 9261, 'emotion': 9262, 'waiver': 9263, 'peterknox': 9264, 'gemmasterful': 9265, 'hipster': 9266, 'csismica': 9267, 'setzorah': 9268, 'uhc': 9269, 'creeper': 9270, 'salty': 9271, 'sinkhole\\x89û': 9272, 'occasion2b': 9273, 'headon': 9274, 'kenai': 9275, 'spur': 9276, 'trivium': 9277, 'rrusa': 9278, 'dwarfonjetpack': 9279, 'plymouth': 9280, '\\x89û÷let\\x89ûªs': 9281, 'litter\\x89ûª': 9282, 'dyersburg': 9283, 'crowned': 9284, 'tends': 9285, 'adjust': 9286, 'shaper': 9287, 'width': 9288, 'adjustable': 9289, 'ericbulak': 9290, 'jaclynsonne': 9291, 'oliviaann': 9292, 'guessing': 9293, 'x1386': 9294, 'simmering': 9295, 'beneath': 9296, 'concussion': 9297, 'pioneerpress': 9298, 'daviesmutia': 9299, 'runkeeper': 9300, 'externally': 9301, 'ary': 9302, 'cowardly': 9303, 'bcfcticketlady': 9304, 'mraamirjavaid': 9305, 'kro': 9306, 'nbcpolitics': 9307, '911bombing': 9308, 'barracks': 9309, 'bombers': 9310, 'preacher': 9311, 'faces': 9312, 'kill\\x89û': 9313, 'itblank': 9314, 'expressioncheeks': 9315, 'clapping': 9316, 'facemarvins': 9317, 'subtlety': 9318, 'notexplained': 9319, 'infamous': 9320, 'db': 9321, 'cooper': 9322, 'coreyashe': 9323, 'oamsgajagahahah': 9324, 'laighign': 9325, 'oven': 9326, 'hicksville': 9327, '\\x89ûïnews\\x89û\\x9d': 9328, 'livestreaming': 9329, 'tonight\\x89ûªs': 9330, 'wzbt': 9331, 'socal': 9332, 'ybtheprophet': 9333, 'realhiphop': 9334, 'rq': 9335, '2007': 9336, 'reinstate': 9337, 'buffer': 9338, 'protectdenaliwolves': 9339, 'adndotcom': 9340, 'lukewinkie': 9341, 'whoever': 9342, 'directing': 9343, 'recognition': 9344, 'serephina': 9345, '\\x89ûïsplottdave': 9346, 'teampalestina': 9347, '28700': 9348, '1967': 9349, 'sporten': 9350, 'migrants\\x89û': 9351, 'demetae12': 9352, '17beyonce': 9353, 'mohammed': 9354, 'klavierstuk': 9355, 'lvg': 9356, 'spurs': 9357, 'smaller': 9358, 'lcb': 9359, 'cl': 9360, '263chat': 9361, 'twimbos': 9362, 'zimpapersviews': 9363, 'charlie': 9364, 'daniels': 9365, 'run\\x89û': 9366, 'anthxvy': 9367, 'westminister': 9368, 'sr22': 9369, 'knott': 9370, 'bivideo': 9371, 'jannet2208': 9372, 'overtook': 9373, 'tru': 9374, 'luv': 9375, 'cpinto001': 9376, 'orpik': 9377, 'jumper': 9378, 'creelyou': 9379, 'moron': 9380, 'brainless': 9381, 'dobut': 9382, 'ij': 9383, 'randy': 9384, 'irwin': 9385, 'pummel': 9386, 'nflexpertpicks': 9387, 'pardon': 9388, 'mindless': 9389, 'subcontractor': 9390, 'survey': 9391, 'cgg': 9392, 'w\\x89û': 9393, 'yumiko': 9394, 'jumped': 9395, 'woah': 9396, 'lenkaiswaifu': 9397, 'premature': 9398, 'ftsn': 9399, 'ftsnnewsdesk': 9400, '0215': 9401, 'boltåêcyclone': 9402, 'pp400dr': 9403, 'packåêfor': 9404, '30\\x89û': 9405, 'benkin97': 9406, 'mili5499': 9407, 'probs': 9408, 'zotar50': 9409, 'skeleton': 9410, 'alchemist': 9411, 'atamathon': 9412, 'spying': 9413, 'nsa': 9414, 'elianaraquel': 9415, 'wilden': 9416, 'utahcanary': 9417, 'sigh': 9418, 'senators': 9419, 'feinstein': 9420, 'courage': 9421, 'sioux': 9422, 'siouxland': 9423, 'siouxlan': 9424, 'tomislav': 9425, 'salopek': 9426, 'predynastic': 9427, 'dumuzid': 9428, 'jtruff23': 9429, 'cameronhacker': 9430, 'thisdayinhistory': 9431, '1862': 9432, 'confederate': 9433, 'raidersreporter': 9434, '957thegame': 9435, 'galaxy': 9436, 'gideonstrumpet': 9437, 'fee': 9438, 'rotary': 9439, 'uvopwz': 9440, 'komo': 9441, 'infinitegrace7': 9442, 'x2': 9443, 'quests': 9444, 'danhrothschild': 9445, 'greed': 9446, 'selfdestruction': 9447, 'takecare': 9448, 'biz': 9449, 'journal': 9450, 'thebriankrause': 9451, 'leos': 9452, 'metaphorically': 9453, 'piperwearsthepants': 9454, 'charmed': 9455, '157': 9456, 'lamb': 9457, 'introdesolation': 9458, 'torture': 9459, 'nj36': 9460, '516leonardville': 9461, 'matako3': 9462, 'moe': 9463, 'bouta': 9464, 'fridays': 9465, 'assured': 9466, 'officerrelated': 9467, 'investigated': 9468, 'rokiieee': 9469, 'annonymous': 9470, 'carajdeievingnc': 9471, 'ratio': 9472, 'js': 9473, 'bhramabull': 9474, 'jewels': 9475, 'socially': 9476, 'minded': 9477, 'duo': 9478, 'cwheate': 9479, 'chibi877': 9480, 'shouted': 9481, 'seasonfrom': 9482, 'onshit': 9483, 'itssselenaluna': 9484, 'ar15': 9485, 'faceåêphotos': 9486, 'dangerousbeans': 9487, 'phenomenal': 9488, 'activision': 9489, 'cognizant': 9490, 'punishable': 9491, 'kabul': 9492, 'ethereal': 9493, 'travellers': 9494, 'surfers': 9495, 'hearthstone': 9496, 'rcmp': 9497, 'tch': 9498, 'whitbourne': 9499, 'dungeon': 9500, 'captainnmorgan': 9501, 'i90': 9502, 'vantage': 9503, 'backups': 9504, 'unlicensed': 9505, 'rio2016': 9506, 'hopeinchrist': 9507, 'lifelettercafe': 9508, 'nuclearbiologicalchemical': 9509, 'exercise': 9510, 'demo': 9511, 'kenosha': 9512, 'cultsierre': 9513, 'surviving': 9514, 'retirement': 9515, 'instruction': 9516, 'bookmobile': 9517, 'libraries': 9518, 'ks57': 9519, 'heyseto': 9520, 'gusto': 9521, 'persist': 9522, 'emptypated': 9523, 'hpssjd': 9524, 'ali': 9525, 'booradleyvancullen': 9526, 'gucci': 9527, 'shanghai\\x89ûªs': 9528, 'music212': 9529, 'weatherstay': 9530, 'stds': 9531, 'slogan': 9532, 'hunted': 9533, 'competitive': 9534, 'eversafe': 9535, 'rushhour': 9536, 'jumperca\\x89û': 9537, 'alcoholismaddiction': 9538, 'forgiving': 9539, 'trinna': 9540, 'sounders': 9541, 'killsåêone': 9542, 'insurers163millions': 9543, 'wingers': 9544, 'prem': 9545, 'willian': 9546, '0308': 9547, 'mazda': 9548, '30lv6': 9549, 'heared': 9550, 'randomtourist': 9551, 'jackholes': 9552, 'hajihunter762': 9553, 'middleeasteye': 9554, 'muzzies': 9555, 'payback': 9556, 'moms': 9557, 'pill': 9558, 'law\\x89ûónegligence': 9559, 'fireworks': 9560, 'incidents': 9561, 'herei': 9562, 'hunterston': 9563, 'process': 9564, 'smithereens': 9565, 'derailedbenchmark': 9566, 'paths': 9567, 'resque': 9568, 'xgninfinity': 9569, 'ronincarbon': 9570, 'preset': 9571, 'bal': 9572, 'nades': 9573, '40w': 9574, 'us70': 9575, '4am': 9576, 'meaning': 9577, 'calestous': 9578, 'shud': 9579, 'pakthey': 9580, 'attackshare': 9581, 'oth': 9582, 'contries': 9583, '3yearold': 9584, 'blazingben': 9585, 'pattyds50': 9586, 'gwfrazee': 9587, 'joshuaassaraf': 9588, 'bytorrecilla': 9589, 'torrecilla': 9590, '600000': 9591, '107': 9592, '08315': 9593, 'utica': 9594, 'pleasant': 9595, 'aveblack': 9596, 'paws': 9597, 'freestyle': 9598, 'amalie': 9599, 'arena': 9600, 'sep': 9601, 'apocalpytic': 9602, 'fuckyeahcarey': 9603, 'bornverified': 9604, 'sexuality': 9605, 'diagnosis': 9606, 'digitalhealth': 9607, 'hcsm': 9608, 'christopherszen': 9609, 'hunterlove1995': 9610, 'tblack': 9611, 'charlesdagnall': 9612, 'rub': 9613, 'gailsimone': 9614, 'iwasdisappointedby': 9615, 'telltales': 9616, 'ampstory': 9617, '10m': 9618, 'illustrations': 9619, 'andygilder': 9620, 'rescuersthe': 9621, 'infomercial': 9622, 'crept': 9623, 'handside': 9624, 'nbcnews': 9625, 'pearlharbor': 9626, 'screeching': 9627, 'accompanying': 9628, 'ronge': 9629, 'sask': 9630, 'devinjoslyn': 9631, 'carolina': 9632, 'i540': 9633, 'median': 9634, 'mash': 9635, 'wkrn': 9636, 'tidalhifi': 9637, 'basildudin': 9638, 'barbaric': 9639, 'saudies': 9640, 'austrian': 9641, 'drayesha4': 9642, 'indiakomuntorjawabdo': 9643, 'ki\\x89û': 9644, 'hollyorange8': 9645, 'mustachemurse': 9646, 'dateswhitecoats': 9647, 'mocked': 9648, 'karijobe': 9649, 'tambourine': 9650, 'codycarnes': 9651, 'agusa': 9652, 'nightmares': 9653, 'bcpoli': 9654, 'canpoli': 9655, 'vanpoli': 9656, 'nicolaclements4': 9657, 'covering': 9658, 'scabs': 9659, 'kp': 9660, 'brandonmulcahy': 9661, 'fpine': 9662, 'tsutomi': 9663, 'yamaguchi': 9664, 'otd': 9665, 'karma': 9666, 'masse': 9667, 'backlash': 9668, 'anywhere': 9669, 'abcs': 9670, 'parent': 9671, 'rated': 9672, '710': 9673, 'imdb': 9674, 'autoinsurance': 9675, 'clueless': 9676, 'driverlesscars': 9677, 'hfxstanfield': 9678, 'beelievedc': 9679, 'discoverycntr': 9680, 'contractor': 9681, '10k': 9682, 'doningtondash': 9683, '11am': 9684, 'donington': 9685, 'slipper': 9686, 'fylde': 9687, 'preston\\x89ûªs': 9688, 'disappearing': 9689, 'ahahahga': 9690, 'daniel': 9691, '1211': 9692, 'sacrifice': 9693, 'component': 9694, 'aviation': 9695, 'pull': 9696, 'wompppp': 9697, 'tweet4taiji': 9698, 'worship': 9699, 'superstitions': 9700, 'invincible': 9701, 'denying': 9702, 'polar': 9703, '73rd': 9704, 'goode': 9705, 'ski': 9706, 'championships': 9707, 'mon': 9708, 'kynespeace': 9709, 'univsfoundation': 9710, 'idols': 9711, '22days': 9712, 'wdym': 9713, 'fadc': 9714, 'kimkardashian': 9715, 'vanilla': 9716, 'karinagarciaxo': 9717, 'bud': 9718, 'pvc': 9719, 'fnaftalkmc': 9720, 'acrylic': 9721, '080515': 9722, 'inspiration': 9723, 'chrisroth98': 9724, 'chaselabsports': 9725, 'collateral': 9726, 'lifeguard': 9727, 'sanchez': 9728, 'bolasie': 9729, 'workspace': 9730, 'forsee': 9731, 'badkitty': 9732, 'theemobrago': 9733, 'jitsu': 9734, 'hexagon': 9735, 'yelled': 9736, 'odai': 9737, 'bucharest': 9738, 'romania': 9739, 'dyingthey': 9740, 'gettinglost': 9741, 'jennellensbb': 9742, 'munclejim': 9743, 'superficial': 9744, 'madonnamking': 9745, 'density': 9746, 'enews': 9747, 'afflecki': 9748, 'wifekids': 9749, 'eonlinechat': 9750, 'dancer': 9751, 'gtas': 9752, 'gtservers': 9753, 'gtmaintenance': 9754, 'anew': 9755, 'robpulsenews': 9756, 'huyovoetripolye': 9757, 'phillips': 9758, 'ldnrterrorists': 9759, '8minute': 9760, 'routine': 9761, 'weightless': 9762, 'burnfat': 9763, 'anchors': 9764, 'thee': 9765, 'thou': 9766, 'thy': 9767, 'akito': 9768, 'frothy': 9769, 'gyp': 9770, 'weddinghour': 9771, 'invited': 9772, 'feelin': 9773, 'so\\x89û': 9774, 'kjfordays': 9775, 'hardy': 9776, 'dixon': 9777, 'aladdin': 9778, 'foxdebatequestions': 9779, 'obamas': 9780, 'institute': 9781, 'sharia': 9782, 'ferguson\\x89ûªs': 9783, 'throwback': 9784, 'thurs': 9785, 'lucymayofficial': 9786, 'sirtophamhat': 9787, 'scynic1': 9788, 'nafeezahmed': 9789, 'jeremyduns': 9790, 'captivity': 9791, 'introduced': 9792, 'compensate': 9793, '53\\x89û': 9794, 'thu': 9795, '012032': 9796, 'gmt0000': 9797, 'millcityio': 9798, '20150613': 9799, 'theramin': 9800, 'szmnextdoor': 9801, 'radychildrens': 9802, 'kalinandmyles': 9803, 'kalinwhite': 9804, 'givebackkalinwhiteaccount': 9805, 'jogger': 9806, 'bestfriends': 9807, 'yourboyshawn': 9808, 'positivity': 9809, 'theeconomist': 9810, 'portrait': 9811, 'yuan': 9812, 'thecomedyquote': 9813, '50shadezofgrey': 9814, 'p45perez': 9815, 'lips': 9816, 'personalinjury': 9817, 'otleyhour': 9818, 'reliefweb': 9819, 'arrives': 9820, 'sittway': 9821, 'wouldelectrocute': 9822, 'mirrors': 9823, 'reflected': 9824, 'praise': 9825, 'ministry': 9826, 'wdyouth': 9827, 'biblestudy': 9828, 'robertmeyer9': 9829, 'farmers': 9830, 'capitalism': 9831, 'peoplegt': 9832, 'explaining': 9833, 'evolved': 9834, 'godlike': 9835, 'surgery': 9836, 'delmonts': 9837, 'onion': 9838, 'freefrom': 9839, 'obligations': 9840, 'ohmyloz': 9841, 'rondarousey': 9842, 'nazis': 9843, 'greater': 9844, 'comfortable': 9845, 'begforcum': 9846, 'alldaycumshots': 9847, 'cumcovered': 9848, 'sexycumshots': 9849, 'cumtown': 9850, 'bjnutt': 9851, 'cumslut2': 9852, 'girlslovecum': 9853, 'silverwood': 9854, 'sony': 9855, 'king\\x89ûªs': 9856, '\\x89û÷the': 9857, 'tower\\x89ûª': 9858, 'stephenking': 9859, 'thedarktower': 9860, 'bdisgusting': 9861, 'buscemi': 9862, 'firefightr': 9863, 'fame': 9864, 'workd': 9865, '12hr': 9866, 'shifts': 9867, 'diggin': 9868, 'wtc': 9869, 'lookg': 9870, 'alllll': 9871, 'nittys': 9872, 'stockwell': 9873, 'stretched': 9874, 'its\\x89û': 9875, 'comings': 9876, 'labelled': 9877, 'today4got': 9878, 'treescape': 9879, 'vigilent': 9880, 'liberties': 9881, 'nativehuman': 9882, 'myreligion': 9883, 'papiichampoo': 9884, 'civility': 9885, 'acousticmaloley': 9886, 'copped': 9887, 'fatherofthree': 9888, 'overtaking': 9889, 'bathandnortheastsomerset': 9890, '\\x89ûïthehighfessions': 9891, 'blastedi': 9892, 'iowa': 9893, 'high\\x89û\\x9d': 9894, 'fees': 9895, 'tbr': 9896, 'browsing': 9897, 'gr': 9898, 'homepage': 9899, 'fairx818x': 9900, 'playoverwatch': 9901, 'blizzardcs': 9902, 'achieving': 9903, 'deltachildren': 9904, 'instaquote': 9905, 'quoteoftheday': 9906, 'waltdisney': 9907, 'kijimamatako': 9908, 'unaddressed': 9909, 'keithboykin': 9910, 'randallpinkston': 9911, 'pozarmy': 9912, 'adamrubinespn': 9913, 'youssefyamani': 9914, 'equation': 9915, 'recipe': 9916, 'roman': 9917, 'ina': 9918, 'buted': 9919, 'advantages': 9920, 'apropos': 9921, 'favorable': 9922, 'regard': 9923, 'pwhvgwax': 9924, 'scrambledeggs': 9925, 'kia': 9926, 'restart': 9927, 'fleet': 9928, 'athens': 9929, 'saudiåêmosque': 9930, 'infantry': 9931, 'lume': 9932, 'dial': 9933, 'analog': 9934, 'rinkydnk2': 9935, 'zaibatsunews': 9936, 'neoprogressive1': 9937, 'push2left': 9938, 'talkecologyamphuman': 9939, 'rtsampdemocracy': 9940, 'afghetcleft': 9941, 'humanitarian': 9942, 'unpredictable': 9943, 'disconnected': 9944, 'favorites': 9945, 'jj': 9946, 'hickson': 9947, 'kenneth': 9948, 'faried': 9949, 'lamarcus': 9950, 'aldridge': 9951, 'nout': 9952, 'rubbin': 9953, 'badastronomer': 9954, 'farther': 9955, '716': 9956, 'nelson': 9957, 'mandela': 9958, 'wale': 9959, '10monthold': 9960, 'coastguard': 9961, 'grupdates': 9962, 'totoooooo': 9963, 'totoooooooooo': 9964, 'historicalmages': 9965, 'stratford': 9966, '18th': 9967, '1935': 9968, 'lastingness': 9969, 'acquiesce': 9970, 'retreat': 9971, 'ziuw': 9972, 'navigate': 9973, 'audit': 9974, 'humanityi': 9975, 'apologized': 9976, 'survivorsr': 9977, 'sojapan': 9978, 'nuclearweapons': 9979, 'cyclonereizei': 9980, 'cyclonesama': 9981, 'jailed': 9982, 'rindou': 9983, 'ocnj': 9984, 'jeromekem': 9985, 'bloodbathtv': 9986, 'introducing': 9987, 'wise': 9988, 'te': 9989, 'mpmy': 9990, 'deepest': 9991, 'condolences': 9992, 'mishap': 9993, 'officeofrg': 9994, 'an247': 9995, 'brits': 9996, 'amp163163millions': 9997, 'contr': 9998, 'elreynetwork': 9999, 'thankkk': 10000, 'notificationsu': 10001, 'parsholics': 10002, 'superb': 10003, 'jus': 10004, 'awesomelove': 10005, 'frvrgrateful': 10006, 'camilas': 10007, 'spree': 10008, 'helens': 10009, '0936': 10010, 'straighten': 10011, 'swooping': 10012, 'coppednews': 10013, 'squeaver': 10014, 'hangin': 10015, 'buck': 10016, 'watchin': 10017, 'septic': 10018, 'mbataweel': 10019, 'binladen': 10020, 'airplanes': 10021, 'boarding': 10022, 'galleria': 10023, 'apts': 10024, 'countless': 10025, 'orchestrated': 10026, 'hah': 10027, 'zzzz': 10028, 'bill': 10029, 'brandonskeie': 10030, 'samsmithworld': 10031, 'ri': 10032, 'cityamp3others': 10033, 'hardest': 10034, 'yard': 10035, '20000k': 10036, 'mockingpanems': 10037, 'cuddlesforjen': 10038, 'microchip': 10039, 'tbh': 10040, 'cried': 10041, 'ssssnell': 10042, 'factor': 10043, 'ropes': 10044, 'angers': 10045, 'shocking\\x89ûï': 10046, 'benstracy': 10047, 'intactmh370partliftsoddsplaneglidednotcrashedintosea': 10048, 'yahoofinancehope': 10049, 'tonymcguinness': 10050, 'creamfields': 10051, 'mainstage': 10052, 'drmartyfox': 10053, 'libs': 10054, 'doofus': 10055, 'jokin': 10056, 'gritty': 10057, 'thursdays': 10058, 'amicos': 10059, 'amicospizzato': 10060, 'seeyouatamicos': 10061, 'bradley': 10062, 'diebold': 10063, 'epileptic\\x89û': 10064, 'asterpuppet': 10065, 'academia': 10066, 'cans': 10067, 'kaldi': 10068, 'stout': 10069, 'encouraged': 10070, 'trench\\x89û': 10071, 'msoreo': 10072, 'sincere': 10073, 'marketers': 10074, 'marketer': 10075, 'senatemajldr': 10076, 'couches': 10077, 'stayed': 10078, 'wooden': 10079, 'inmates': 10080, 'remand': 10081, 'ameribag': 10082, 'khaki': 10083, 'tan': 10084, 'beige': 10085, '\\x89û÷body': 10086, 'bags\\x89ûª': 10087, 'bans': 10088, 'ads': 10089, 'scalpium': 10090, 'chaning': 10091, 'pixelsmovie': 10092, 'redblood': 10093, 'videoclip': 10094, 'wews': 10095, 'slosheriff': 10096, 'gate': 10097, 'huntington': 10098, 'wwp': 10099, 'serving': 10100, '75k': 10101, '52k': 10102, 'oifoef': 10103, 'invisible': 10104, 'films': 10105, 'creative': 10106, 'artists': 10107, 'interviewed': 10108, 'anatomy': 10109, 'maxsys': 10110, '912pm': 10111, '945pm': 10112, '0206': 10113, 'acura': 10114, 'rsx': 10115, '20ll4': 10116, 'nuys': 10117, '530pm': 10118, 'vannuyscouncil': 10119, 'northbayhealth': 10120, 'shines': 10121, 'multicasualty': 10122, 'calwildfires': 10123, 'aftermath': 10124, 'noches': 10125, 'elbestia': 10126, 'alexissanchez': 10127, 'teammates': 10128, 'goodnight': 10129, 'gunners': 10130, 'appropriate': 10131, 'jamaicans': 10132, 'breakingnewslh': 10133, 'breemars': 10134, 'cnns': 10135, 'seventies': 10136, 'crocodile': 10137, 'gravy': 10138, 'kidscompany': 10139, 'kellkane': 10140, 'narrowly': 10141, 'ponting': 10142, 'simpson\\x89û': 10143, 'codythompson25': 10144, 'magnitudeåêåêml': 10145, '24regionåêåênear': 10146, 'trjdavis': 10147, 'dealing': 10148, 'resort': 10149, 'goooooooo': 10150, 'heleneyancey': 10151, 'helene': 10152, 'womans': 10153, 'guides': 10154, 'marin': 10155, 'sfgate': 10156, 'stevie': 10157, 'crusty': 10158, 'photoop': 10159, 'temecafreeman': 10160, 'ges': 10161, 'robot': 10162, 'reactors': 10163, 'saynae': 10164, 'fixingmatch': 10165, 'sl': 10166, 'rsa': 10167, 'bd': 10168, 'daviss': 10169, 'nurses': 10170, 'judith': 10171, 'hopfer': 10172, 'deglin': 10173, 'vallerand': 10174, '75000': 10175, 'horiikawa': 10176, 'kessler': 10177, 'exponential': 10178, 'proliferation': 10179, 'satellites': 10180, 'gravitymovie': 10181, 'kirafrog': 10182, 'mountwario': 10183, 'court\\x89ûªs': 10184, 'reputation': 10185, 'prestige': 10186, 'prosser': 10187, 'you\\x89û': 10188, 'saadthe': 10189, 'kpdied': 10190, '2007he': 10191, 'kppolice': 10192, 'magner': 10193, 'discusses': 10194, 'himeruisu': 10195, 'ram': 10196, 'shove': 10197, 'muffle': 10198, 'norwaymfa': 10199, 'bahrain': 10200, 'hikers': 10201, 'signin': 10202, 'trailheads': 10203, 'pizzas': 10204, 'thisispublichealth': 10205, 'shirley': 10206, 'caesar': 10207, 'listenlive': 10208, 'philipduncan': 10209, 'breakfastone': 10210, 'nights': 10211, 'philip': 10212, 'mantra': 10213, 'south\\x89û': 10214, 'aubrey': 10215, 'bodybagging': 10216, 'nikostar': 10217, 'abject': 10218, 'thetxi': 10219, 'gunnersfan89': 10220, 'ham': 10221, 'relegation': 10222, 'staining': 10223, 'smells': 10224, 'barbados': 10225, 'bridgetown': 10226, 'superintende': 10227, 'ercjmnea': 10228, 'devonbreneman': 10229, 'heated': 10230, 'adjuster': 10231, 'safeco': 10232, 'liberty': 10233, 'fab': 10234, 'albertsons': 10235, 'titadom': 10236, 'grapes': 10237, 'unr': 10238, 'weston': 10239, 'custer': 10240, 'meade': 10241, 'pennington': 10242, 'justiceno': 10243, 'justicepeace': 10244, 'princessduck': 10245, 'katramsland': 10246, 'liberal': 10247, 'potter': 10248, 'remind': 10249, 'archetype': 10250, 'wellgrounded': 10251, 'readiness': 10252, 'fpoj': 10253, 'instagramers': 10254, 'bu\\x89û': 10255, 'gujaratriot': 10256, 'mumbairiot9293': 10257, '1000amp1000': 10258, 'indianperpetrated': 10259, 'chawalchorbjp': 10260, 'unwomen': 10261, 'unnewsteam': 10262, 'goodells': 10263, 'whitewalkers': 10264, 'intrigued': 10265, 'mkayla': 10266, 'cee': 10267, 'petty': 10268, 'childish': 10269, 'ministersays': 10270, 'buzzfeed': 10271, 'toiindianews': 10272, 'ofcourse': 10273, 'caued': 10274, 'washing': 10275, 'kiro7seattle': 10276, 'binellithresa': 10277, '154107': 10278, 'iwate': 10279, 'miyagi': 10280, 'actionmoviestaughtus': 10281, 'qpr1980': 10282, 'rorington95': 10283, 'nowt': 10284, 'fergie': 10285, 'drinkers': 10286, 'wenger': 10287, 'hay': 10288, 'masonite': 10289, 'wahpeton': 10290, 'thugging': 10291, 'riverroaming': 10292, 'sonofbaldwin': 10293, 'nova': 10294, 'bookslast': 10295, 'checkedhe': 10296, 'nueva': 10297, 'favorita': 10298, 'bits': 10299, 'deezercolombia': 10300, 's3xleak': 10301, 'ph0tos': 10302, '19yrs': 10303, 'ashwo': 10304, 'festac': 10305, 'exp0sed': 10306, 'bbm': 10307, 'skardu': 10308, 'aphl': 10309, 'cessna': 10310, 'ocampo': 10311, 'wrongdejavu': 10312, 'vaxshill': 10313, 'preseasonworkouts': 10314, 'fanarmyfaceoff': 10315, 'nycdivorcelaw': 10316, 'algae': 10317, 'bloom': 10318, 'alska': 10319, 'seeweed': 10320, 'caribean': 10321, 'inhofe': 10322, 'jackmulholland1': 10323, 'marquis': 10324, 'charlies': 10325, 'dublins': 10326, 'etp': 10327, '4tiles': 10328, 'zacb': 10329, 'dell': 10330, 'win10': 10331, 'jumps': 10332, 'latin': 10333, 'argentina': 10334, 'heather': 10335, 'ava': 10336, 'sparxxx': 10337, 'threesome': 10338, 'onlyftf': 10339, 'tusky': 10340, 'robsimss': 10341, 'cantmisskid': 10342, 'jeesss': 10343, 'ethereal7': 10344, 'medic': 10345, 'theevilolives': 10346, 'hypo': 10347, 'davidcameron': 10348, 'florin': 10349, 'untameddirewolf': 10350, 'sansa': 10351, 'shook': 10352, 'blinked': 10353, 'mugged': 10354, 'sirensicebreaker': 10355, '501': 10356, 'mandem': 10357, 'totteham': 10358, 'maddddd': 10359, 'ting': 10360, 'dere': 10361, 'toddstarnes': 10362, 'hehe': 10363, 'pierce': 10364, 'veil': 10365, 'bracelet': 10366, 'wristband': 10367, 'pagasa': 10368, '712am': 10369, 'panay': 10370, 'guimaras': 10371, 'landslides': 10372, 'mountainous': 10373, 'mistaken': 10374, 'smart': 10375, 'cataclysmic': 10376, 'reator': 10377, 'melts': 10378, 'stylist': 10379, 'whod': 10380, 'miracle': 10381, 'mankind': 10382, 'westmarch': 10383, 'arreat': 10384, 'sucking': 10385, 'doctordryadma': 10386, 'wfaaweather': 10387, 'pete': 10388, 'frisco': 10389, 'scouts': 10390, 'canoe': 10391, 'okla': 10392, 'peanut': 10393, 'butter': 10394, 'shakeology': 10395, 'protein': 10396, 'shake': 10397, 'nan': 10398, 'printable': 10399, 'templates': 10400, 'hitandrun': 10401, 'khqa': 10402, 'smallforestelf': 10403, 'umm': 10404, 'wbcshirl2': 10405, 'doessnt': 10406, 'rejoice': 10407, 'calamities': 10408, 'ect': 10409, 'sureshpprabhu': 10410, 'calfreedommom': 10411, 'steph93065': 10412, 'contributor': 10413, 'collapseblow': 10414, 'halloikbenwill': 10415, 'stormchase': 10416, 'ef5': 10417, 'reno': 10418, 'cogxbox': 10419, 'xboxone': 10420, 'aphyr': 10421, 'long\\x89û': 10422, 'somethin\\x89ûª': 10423, 'dysfunctional': 10424, 'mcconnell': 10425, 'judicial': 10426, 'nominations': 10427, 'govern': 10428, '290': 10429, 'reviewers': 10430, 'boxset': 10431, 'lindsay': 10432, 'buroker': 10433, 'asbury': 10434, 'asburyparkpress': 10435, 'remodeled': 10436, 'mandatory': 10437, 'evac': 10438, 'centers': 10439, 'masochisticmage': 10440, 'windstormåêinsurer': 10441, 'idm': 10442, 'gotham': 10443, 'bcs': 10444, 'intragenerational': 10445, 'sandra': 10446, 'bland': 10447, 'fangirling': 10448, 'strawberries': 10449, 'mattbez': 10450, 'mygc': 10451, 'suspend': 10452, 'netkicorp': 10453, 'guests': 10454, 'jwalkerlyle': 10455, 'ollymursaus': 10456, 'rush': 10457, 'devpeace': 10458, 'bradford': 10459, 'weep': 10460, 'a3': 10461, 'oils': 10462, 'luka': 10463, 'alois': 10464, 'trancy': 10465, 'devia': 10466, 'ler': 10467, 'wattys2015': 10468, 'teenfiction': 10469, 'naked': 10470, 'radneck': 10471, 'err509': 10472, 'xfiles': 10473, 'thexfiles201days': 10474, 'foothill': 10475, 'bryansinger': 10476, 'rupaul': 10477, 'alexshipppp': 10478, 'derives': 10479, 'powers': 10480, 'norman': 10481, 'vincent': 10482, 'peale': 10483, 'minsuwoongs': 10484, 'azimel': 10485, 'scientist': 10486, 'deceased': 10487, '11st': 10488, 'fuso': 10489, 'yamashiro': 10490, 'naval': 10491, 'cachet': 10492, 'torrent': 10493, 'java': 10494, 'pouring': 10495, 'coquitlam': 10496, 'sheeting': 10497, 'aaaaaand': 10498, 'awn': 10499, 'åêfedex': 10500, 'atljw': 10501, 'polit': 10502, 'aspect': 10503, 'capoeira': 10504, 'stretcherbearer': 10505, 'lavapixcom': 10506, 'jimin': 10507, 'sensanders': 10508, 'gd': 10509, '77': 10510, 'wrked': 10511, 'fran': 10512, 'reed': 10513, '8437150124': 10514, 'dattomm': 10515, 'funniest': 10516, '4head': 10517, 'palermo': 10518, 'deadgirltalking': 10519, 'unfortunemelody': 10520, 'jaylenejoybeligan': 10521, 'tarynel': 10522, 'dredougie': 10523, 'santanicopandemonium': 10524, 'organicallyrude': 10525, '1rockstar62': 10526, 'mattingly': 10527, 'bundy': 10528, 'mcgwire': 10529, 'reebok': 10530, 'tshirt': 10531, 'xl': 10532, 'tadhgtgmtel': 10533, 'fco': 10534, 'tobiasellwood': 10535, 'condemns': 10536, 'untill': 10537, 'sanfrancisco': 10538, 'saint': 10539, 'scored': 10540, '111020': 10541, 'squeaky': 10542, 'skull': 10543, 'alternatives': 10544, 'buff': 10545, 'magnitude': 10546, 'teamsurvivors': 10547, 'zombiefunrun2014': 10548, 'elevator': 10549, 'noses': 10550, 'everytime': 10551, 'pressed': 10552, 'devise': 10553, 'rivals': 10554, 'loosers': 10555, 'tolled': 10556, '70\\x89û': 10557, 'endorsement': 10558, 'segas': 10559, 'itsjustinstuart': 10560, 'unrecognized': 10561, 'arab': 10562, 'mattmosley': 10563, 'writebothfists': 10564, 'musicvideo': 10565, 'annihilate': 10566, 'niagara': 10567, 'package': 10568, 'tours': 10569, 'yyeso': 10570, 'protestors': 10571, 'skyscrapers': 10572, 'plantcovered': 10573, 'oct': 10574, '1895': 10575, 'lexipurduee': 10576, 'iraqi': 10577, 'seekers': 10578, 'ndetention': 10579, 'wunscreened': 10580, 'dcclothesline': 10581, 'youngins': 10582, 'fatally': 10583, 'bloggers': 10584, 'ineedexposure': 10585, 'dawson': 10586, 'es\\x89û': 10587, '9800': 10588, 'sel': 10589, 'hinterestin': 10590, 'seanpeconi': 10591, 'jasonfloyd': 10592, 'lynchonsports': 10593, 'criscyborg': 10594, 'suncorp': 10595, '113': 10596, 'earbuds': 10597, 'politely': 10598, 'jared': 10599, 'bbclaurak': 10600, 'stowing': 10601, 'aboard': 10602, 'critters': 10603, 'wildlionx3': 10604, 'almusafirah': 10605, 'innit': 10606, 'clnv': 10607, 'notleys': 10608, 'tactful': 10609, 'direct': 10610, 'harpers': 10611, 'albertas': 10612, 'ableg': 10613, 'cdnpoli': 10614, 'reaad': 10615, 'plsss': 10616, 'hearitfrompa': 10617, 'mmchale13': 10618, 'ijetalerts': 10619, 'benignovito': 10620, 'libertybell1000': 10621, 'hillarymass': 10622, 'imminent': 10623, 'dismantling': 10624, 'nashsnewvideo': 10625, 'wonders': 10626, 'carfest': 10627, 'rs5': 10628, 'friend59': 10629, 'goat': 10630, 'nervana1': 10631, 'behaviour': 10632, 'pleasantly': 10633, 'div': 10634, 'fought': 10635, 'chrissie': 10636, 'adam': 10637, 'finn': 10638, 'borrowers': 10639, 'jungle': 10640, 'sixmeter': 10641, 'upa': 10642, 'jimmozel': 10643, 'puckflattened': 10644, 'billionaires': 10645, 'blakeschmidt': 10646, 'praiz8': 10647, 'czallstarwes': 10648, 'mitigating': 10649, 'prove': 10650, 'begun': 10651, 'tren': 10652, 'songhey89': 10653, 'earthquakes': 10654, 'josephjett': 10655, 'hoops': 10656, 'recruiting': 10657, 'brochure': 10658, 'downside': 10659, 'sadtraumatised': 10660, 'parisian': 10661, 'frustration': 10662, 'pileq': 10663, 'dreamoforgonon': 10664, 'teeess': 10665, 'bona': 10666, 'fide': 10667, 'cislady': 10668, 'incidental': 10669, 'homosexuality': 10670, 'gaybi': 10671, 'airports': 10672, 'chargers': 10673, 'kamayani': 10674, 'janata': 10675, 'gratia': 10676, 'mprnews': 10677, 'canadasuicide': 10678, 'precedent': 10679, 'undetected': 10680, 'snapping': 10681, 'gecko': 10682, 'chillin': 10683, 'drown\\x89û': 10684, 'scout': 10685, 'willhillbet': 10686, '12step': 10687, 'addiction': 10688, 'dorismatsui': 10689, 'supporting': 10690, 'luhan': 10691, 'exo': 10692, 'j2bone': 10693, 'foxysiren': 10694, 'vice': 10695, 'eshop': 10696, 'charred': 10697, 'rips': 10698, 'neighboring': 10699, 'markwschaefer': 10700, 'influential': 10701, 'severing': 10702, 'wackoes': 10703, 'michelebachman': 10704, 'firey': 10705, 'inferno': 10706, 'accept': 10707, 'globalwarming': 10708, 'retainers': 10709, 'wholeteam3': 10710, 'wholesaleent': 10711, 'baseballquotes1': 10712, 'inch': 10713, 'dynasty': 10714, 'snapharmony': 10715, 'choke': 10716, '0011': 10717, 'beached': 10718, 'ctafails': 10719, 'mofo': 10720, 'unarmed': 10721, 'gunned': 10722, 'worseits': 10723, 'asses': 10724, 'basics': 10725, 'defective': 10726, 'intertissue': 10727, 'guabxfv': 10728, 'barcelona': 10729, 'fullback': 10730, 'alba': 10731, 'tracy': 10732, 'robdelaney': 10733, 'unable': 10734, 'ejaculating': 10735, 'iamtalia': 10736, 'sgc72': 10737, 'displacedinjuredkilled': 10738, 'opportunity': 10739, 'supposedly': 10740, 'representing': 10741, 'cgi': 10742, 'jarmusch': 10743, 'vampires': 10744, 'flynn': 10745, 'onr': 10746, 'californian': 10747, '247': 10748, 'horowitz': 10749, 'vaccines': 10750, 'neighbor': 10751, 'uke': 10752, 'kidsthesedays': 10753, 'judemugabi': 10754, 'abortions': 10755, 'slipping': 10756, 'fantasticfourfant4sticwhatever': 10757, 'wasting': 10758, 'edsheeran': 10759, 'usage': 10760, 'establishment': 10761, 'overtime': 10762, 'donzilla': 10763, 'trump2016': 10764, '945hpa': 10765, '45ms': 10766, '60ms': 10767, 'wiedemer': 10768, 'http': 10769, 'adani': 10770, 'indiabacked': 10771, 'arrestpastornganga': 10772, 'collaborating': 10773, 'likeavillasboas': 10774, 'richchandler': 10775, 'autobiography': 10776, 'lawton': 10777, 'collins': 10778, 'rvfriedmann': 10779, 'belief': 10780, 'lodisilverado': 10781, 'ritzyjewels': 10782, 'bremorrow': 10783, 'strikesstrikes': 10784, 'lit': 10785, 'bampn': 10786, 'nook': 10787, 'thebachelorette': 10788, 'luzukokoti': 10789, 'umntu': 10790, 'wakho': 10791, 'janta': 10792, 'firstpostin': 10793, 'viennabutcher': 10794, 'devastates': 10795, 'cortezera': 10796, 'ltbgtbakeltbgt': 10797, 'ltbgtchocolateltbgt': 10798, 'jan\\x89û': 10799, 'mateo': 10800, 'pointless': 10801, 'noooooooooooo': 10802, 'ireporter': 10803, 'sinkingshipindy': 10804, 'scarlet': 10805, 'lenore': 10806, 'replacing': 10807, 'saison': 10808, 'stonebrewingco': 10809, 'stony': 10810, 'felons': 10811, 'josephus': 10812, 'antiochus': 10813, 'epiphanes': 10814, 'demis': 10815, 'dicehateme': 10816, 'puppyshogun': 10817, 'bedrooms': 10818, 'baths': 10819, 'conklin': 10820, 'shuffled': 10821, 'giveaway': 10822, 'stuckinbooks': 10823, 'romantic': 10824, 'sensei': 10825, 'rhymes': 10826, 'attic': 10827, 'babe': 10828, 'fjords': 10829, 'iceland': 10830, 'mrmikeeaton': 10831, 'muazimusprime': 10832, 'hil': 10833, 'flaws': 10834, 'implicit': 10835, 'downright': 10836, 'wii': 10837, 'shantaeforsmash': 10838, 'shantaehalfgeniehero': 10839, 'nintendo': 10840, '119000': 10841, '966': 10842, 'reject': 10843, 'misguided': 10844, 'prophets': 10845, 'imprison': 10846, 'typewriter': 10847, 'gunk': 10848, 'chrisdyson16': 10849, 'mta': 10850, 'sorrybutitstrue': 10851, 'lorry': 10852, 'emsne\\x89û': 10853, 'unprepared': 10854, 'emp': 10855, 'possess': 10856, 'kinesiology': 10857, 'ironmanå¨': 10858, 'longlasting': 10859, 'durability': 10860, 'effectiveness': 10861, 'widda16': 10862, 'goner': 10863, 'extraordinaire': 10864, 'pacic': 10865, 'rsf': 10866, 'gag': 10867, 'pple': 10868, 'boatnews': 10869, 'rightly': 10870, 'despicable': 10871, 'ocalan': 10872, 'marxism': 10873, 'redwing': 10874, 'team\\x89û': 10875, 'robertoneill31': 10876, 'burberryant': 10877, 'worsen': 10878, 'mccainenl': 10879, 'stonewall': 10880, 'klarajoelsson': 10881, '43c': 10882, 'cary': 10883, 'condo': 10884, 'rchs': 10885, 'coffins': 10886, 'rooms': 10887, 'tommorow': 10888, 'douchebag': 10889, '2his': 10890, 'explanation': 10891, 'provided': 10892, 'vagersedolla': 10893, 'visits': 10894, 'awadgolf': 10895, 'capitalist': 10896, 'elect': 10897, 'earn': 10898, 'mcr': 10899, 'snort': 10900, 'flavorchargedtea': 10901, 'flunkie': 10902, 'usw': 10903, 'abandoning': 10904, 'uncertaintyeconomic': 10905, 'unrest': 10906, 'expanded': 10907, 'slight': 10908, 'twcnews': 10909, 'ncwx': 10910, 'callin': 10911, 'bubblycuteone': 10912, 'okayyyyyy': 10913, 'louistomlinson': 10914, 'dancing': 10915, 'dart': 10916, 'participating': 10917, 'intensive': 10918, 'technical': 10919, 'akilah': 10920, 'bah': 10921, 'gear': 10922, 'autumnwinter': 10923, 'menswear': 10924, 'urbanfashion\\x89û': 10925, 'warfare': 10926, 'founding': 10927, 'dancers': 10928, 'pirate': 10929, 'margarita': 10930, 'engle': 10931, 'holt': 10932, 'byr': 10933, 'sow': 10934, 'remembers': 10935, 'schulz': 10936, 'alarms': 10937, 'echoes': 10938, 'erictsunami': 10939, 'decorating': 10940, 'rec': 10941, 'iwk': 10942, 'bioter\\x89û': 10943, 'michaelwestbiz': 10944, 'kristindavis': 10945, 'uprooting': 10946, '\\x89ûïhannaph\\x89û\\x9d': 10947, '4yygb': 10948, 'strongest': 10949, 'justicemalala': 10950, 'nkeajresq': 10951, 'nkea': 10952, 'gambia': 10953, 'mercenary': 10954, 'supportive': 10955, 'economically': 10956, 'å£300m': 10957, 'grandmother': 10958, 'wasnamp8217t': 10959, 'rjailbreak': 10960, 'catechize': 10961, 'confidential': 10962, 'respects': 10963, 'bmx': 10964, 'areal': 10965, 'itsqueenbaby': 10966, '178': 10967, 'florid': 10968, 'wrote': 10969, 'greatly': 10970, 'soonergrunt': 10971, 'bridges': 10972, 'breakingfalling': 10973, 'omagazine': 10974, 'satans': 10975, '50ft': 10976, 'transgender': 10977, 'fold': 10978, 'annajhm': 10979, 'jcomanse': 10980, 'paulstaubs': 10981, 'rslm72254': 10982, 'blanktgt': 10983, 'mustve': 10984, 'fartanxiety': 10985, 'pros': 10986, 'failures': 10987, 'builder': 10988, 'blackmail': 10989, 'twoptwips': 10990, 'headlines': 10991, 'sifting': 10992, 'ddnt': 10993, 'reigncoco': 10994, 'ostentatious': 10995, 'damnnnn': 10996, 'gmcr': 10997, 'accordingly': 10998, 'daviskawalya': 10999, 'mauryn143': 11000, 'goodbyes': 11001, 'windmy': 11002, 'ppsellsbabyparts': 11003, 'modest': 11004, 'sniff': 11005, 'sniiiiiiff': 11006, 'donny': 11007, 'takis': 11008, 'rubbing': 11009, 'eunicenjoki': 11010, 'aiii': 11011, 'calmly': 11012, 'wardens': 11013, 'markoturner': 11014, 'annaciclismo': 11015, 'princeoffencing': 11016, 'frickin': 11017, 'm8': 11018, 'compensations': 11019, 'palinfoen': 11020, 'heavyweight': 11021, 'i10': 11022, 'offloading': 11023, 'tagged': 11024, 'attackonstiles': 11025, 'apunk': 11026, 'alpha': 11027, 'doll': 11028, 'homukami': 11029, 'srs': 11030, 'trulystings': 11031, 'dm': 11032, 'misdirection': 11033, 'ignite': 11034, 'vanishing': 11035, 'kurokobot': 11036, 'hasåêarrived': 11037, 'airhorns': 11038, 'chews': 11039, 'sneaks': 11040, 'cockpit': 11041, 'helmet': 11042, 'silvery': 11043, 'floors': 11044, 'karnal': 11045, 'sampling': 11046, 'pbcanpcx': 11047, 'holes': 11048, 'avalanchesgtgt': 11049, 'palm': 11050, 'grindhouse': 11051, 'screening': 11052, 'texaschainsawmassacre': 11053, 'morbidmovies': 11054, 'breaches': 11055, 'align': 11056, '1921': 11057, 'ch': 11058, 'pl': 11059, 'satin': 11060, 'aubilenon': 11061, 'markkriegsman': 11062, 'macia': 11063, 'testified': 11064, 'macia\\x89ûªs': 11065, 'oppose': 11066, 'powerwow': 11067, 'risks': 11068, 'mans': 11069, 'lesotho': 11070, 'ika': 11071, 'recip': 11072, 'empathy': 11073, 'packed': 11074, 'temp': 11075, 'silentmind': 11076, 'bookofdaniel': 11077, 'oks': 11078, 'ruling': 11079, 'empower': 11080, 'milita': 11081, 'pretend': 11082, 'giorgio': 11083, 'hiatt': 11084, 'welcomes': 11085, 'cityofmemphis': 11086, 'hashd': 11087, 'shaabi': 11088, 'theft': 11089, 'maratha': 11090, 'scorched': 11091, 'bengalis': 11092, 'sbnation': 11093, 'amumumux': 11094, 'quit': 11095, 'actin': 11096, 'nopower': 11097, 'organizationsfluctuations': 11098, 'disturbances': 11099, 'imbalancesare': 11100, 'margaret': 11101, 'wheatley': 11102, 'neileastwood77': 11103, 'knobhead': 11104, 'euroquake': 11105, 'harakiri': 11106, 'caitsroberts': 11107, 'barra': 11108, 'grrrr': 11109, 'liveleakfun': 11110, 'torrential': 11111, 'skyler': 11112, 'reshape': 11113, 'minerals': 11114, 'crystal': 11115, 'maid': 11116, 'dh30000': 11117, 'fanboys': 11118, 'accounts': 11119, 'bigsim50': 11120, 'pundits': 11121, 'mochichiiiii': 11122, 'hikagezero': 11123, 'ww': 11124, 'wew': 11125, 'moscowghost': 11126, 'sayedridha': 11127, 'aminakh': 11128, 'congratulations': 11129, 'capturing': 11130, 'besieged': 11131, 'indiscriminate': 11132, 'stormfree': 11133, 'happenings': 11134, 'eventspalmbeach': 11135, 'slave': 11136, 'trade': 11137, '\\x89û÷vulnerable\\x89ûª': 11138, 'thetimepast': 11139, 'saalon': 11140, 'resolved': 11141, 'theirs': 11142, 'fricken': 11143, 'fedporn': 11144, 'absurd': 11145, 'satire': 11146, 'indistinguishable': 11147, 'owenrbroadhurst': 11148, 'juanmthompson': 11149, 'hist\\x89û': 11150, 'mirad': 11151, 'unexercised': 11152, 'honda': 11153, 'rundown': 11154, 'psqd': 11155, 'realhotcullen': 11156, 'lyrium': 11157, 'antichrist': 11158, 'desecrates': 11159, 'jerusalem': 11160, '927': 11161, 'matt': 11162, '241': 11163, 'eggalie': 11164, 'burger': 11165, 'newscomauhq': 11166, 'ntsb': 11167, 'galactics': 11168, 'spaceshiptwo': 11169, 'kpcc': 11170, 'bounce': 11171, 'churchill': 11172, 'jtw': 11173, 'springer': 11174, 'spaniel': 11175, 'ayhhhhhdjjfjrjjrdjjeks': 11176, 'starmade': 11177, 'stardate': 11178, 'planetary': 11179, 'unhappy': 11180, 'purposely': 11181, 'elses': 11182, 'ootd': 11183, 'doubleghats': 11184, 'teahivetweets': 11185, 'jasalhad': 11186, 'brianboru67': 11187, 'jimskiv92': 11188, 'hijinks1967': 11189, 'hotteennsfwpornmilf': 11190, 'oiled': 11191, 'closeup': 11192, 'demi': 11193, 'moores': 11194, 'coats': 11195, 'sprite': 11196, 'lifestyle': 11197, 'backty': 11198, '\\x89û÷nother\\x89û\\x9d': 11199, 'other\\x89û\\x9d': 11200, 'tonguetwister': 11201, 'brewer': 11202, '51point': 11203, 'gaping': 11204, 'directions': 11205, 'fecal': 11206, 'scifi': 11207, 'turdnado': 11208, 'forgeting': 11209, 'hannahkauthor': 11210, 'freeamirnow': 11211, 'freeallfour': 11212, 'nxwestmidlands': 11213, 'scholars': 11214, 'imprisoning': 11215, 'stretcherbearers': 11216, 'conducted': 11217, 'skims': 11218, 'morethan': 11219, 'disorders': 11220, 'kashmirconflict': 11221, 'terrifying': 11222, 'disclaimer': 11223, 'yemen': 11224, '115film': 11225, 'doctor': 11226, 'unstablethe': 11227, 'tear': 11228, '030811': 11229, '41yearold': 11230, 'citing': 11231, 'casing': 11232, 'howardu': 11233, 'hers': 11234, 'iembothfo': 11235, 'hana': 11236, 'maui': 11237, 'lancasteronline': 11238, 'lancaster': 11239, '3945': 11240, 'zxathetis': 11241, 'badly': 11242, 'abandonedpics': 11243, 'abbandoned': 11244, 'darsena': 11245, 'castello': 11246, 'scaligero': 11247, 'sirmione': 11248, 'fionagilbert': 11249, 'dilutional': 11250, 'institutionalize': 11251, 'sued': 11252, 'slander': 11253, 'hanna': 11254, 'martynwaites': 11255, 'wellknown': 11256, 'valentines': 11257, 'oompahperiod': 11258, 'alley': 11259, 'kezi9': 11260, 'agony': 11261, 'sirenvoice': 11262, 'liveonstreamate': 11263, 'mccauleysdesign': 11264, 'abysmaljoiner': 11265, 'dyamiplotke': 11266, 'purpose': 11267, '4k': 11268, 'admit': 11269, 'hailzel': 11270, 'kno': 11271, 'photographs': 11272, '1800s': 11273, 'mandate': 11274, 'trace': 11275, 'lisowski': 11276, 'whitewashes': 11277, 'shanghai': 11278, 'masters': 11279, 'quals': 11280, 'snooker': 11281, 'isisi': 11282, 'liferebooting': 11283, 'mindblowing': 11284, 'crosssectarian': 11285, 'shia': 11286, 'militias': 11287, 'withdrawur': 11288, 'fightin': 11289, 'uve': 11290, 'owen': 11291, 'ferrells': 11292, 'twcnewsclt': 11293, 'goooooooaaaaaal': 11294, 'zimmerman': 11295, 'rzimmermanjr': 11296, 'renewsit': 11297, 'sock': 11298, 'messengers': 11299, 'zippers': 11300, 'chillimik': 11301, 'hushlegs': 11302, 'comparing': 11303, 'brilliant': 11304, 'arse': 11305, 'routes': 11306, 'newyork\\x89û': 11307, 'punk': 11308, 'ghostoftheav': 11309, 'montroseband': 11310, 'wowsavannah': 11311, 'collectibles': 11312, 'midnight': 11313, 'jjdirty': 11314, 'mlstransfers': 11315, 'greggmair': 11316, 'gio': 11317, 'skc': 11318, 'nycfc': 11319, '\\x89û÷hoax': 11320, 'device\\x89ûª': 11321, 'atåêcinema': 11322, '1acd4900c1424d1': 11323, 'assessment': 11324, 'optimization': 11325, 'routing': 11326, 'sustainable': 11327, 'leonalewis': 11328, 'essenceofme': 11329, 'pledged': 11330, 'freyas': 11331, 'pga': 11332, 'speculation': 11333, 'fueled': 11334, 'speculatio': 11335, 'styled': 11336, 'undergroundbestsellers': 11337, 'bowery': 11338, 'damnwas': 11339, 'danielsahyounie': 11340, 'itd': 11341, '3x5': 11342, 'kissed': 11343, 'jerseys': 11344, 'belligerent': 11345, 'unfold': 11346, 'cunayyh': 11347, 'taufikcj': 11348, 'smelling': 11349, 'bon': 11350, 'smores': 11351, 'bangalore': 11352, 'skip': 11353, 'ipod': 11354, 'weloveyoulouis': 11355, 'dotish': 11356, 'growingupspoiled': 11357, 'clay': 11358, 'pigeon': 11359, 'monsters': 11360, 'ushanka': 11361, 'xl6162': 11362, 'soviet': 11363, 'ifs': 11364, 'ands': 11365, 'buts': 11366, 'fried': 11367, 'ravioliåêwith': 11368, 'porcini': 11369, 'ricotta\\x89û': 11370, 'column': 11371, 'routecomplex': 11372, 'bilsen': 11373, 'his\\x89û': 11374, 'wolforth': 11375, 'twoout': 11376, 'altamonte': 11377, 'georgegalloway': 11378, 'galloway4mayor': 11379, 'pickpocket': 11380, 'liverpool': 11381, 'stree': 11382, 'officialtjonez': 11383, 'rodarmer21': 11384, 'dolla': 11385, 'thewesterngaz': 11386, 'yelllowheather': 11387, 'controlled': 11388, 'undeserving': 11389, 'clogs': 11390, 'kirsten': 11391, 'gillibrand': 11392, 'extend': 11393, 'frightening': 11394, 'mwnhappy': 11395, 'johngreen': 11396, 'robthieren': 11397, 'jrowah': 11398, 'foo': 11399, 'phelimkine': 11400, 'mpp': 11401, 'lambasts': 11402, 'kanglaonline': 11403, 'storen': 11404, 'curing': 11405, 'disrespect': 11406, 'mixtape': 11407, 'goin': 11408, 'estellasrevenge': 11409, 'swiming': 11410, 'smelltaste': 11411, 'preserve': 11412, 'ajw': 11413, 'jishine': 11414, 'minamisoma': 11415, 'fandom': 11416, 'torrance': 11417, 'angusmacneilsnp': 11418, 'embarrassed': 11419, 'indy': 11420, 'carb': 11421, 'consultative': 11422, 'subconscious': 11423, 'xkdrx': 11424, 'planners': 11425, 'singled': 11426, 'everydaynaija': 11427, 'ritual': 11428, 'esn': 11429, 'cilla': 11430, 'next\\x89û': 11431, '9tarbox': 11432, 'sour': 11433, 'freezerdummy': 11434, 'pleaded': 11435, 'woes': 11436, 'claiborne': 11437, 'hazarddi': 11438, 'weloverobdyrdek': 11439, 'adrianpeel': 11440, 'clue': 11441, 'clicks': 11442, 'claiming': 11443, 'banthebomb': 11444, 'station': 11445, 'tuesdays': 11446, 'lyf': 11447, 'don': 11448, 'stark': 11449, 'futurea': 11450, 'totalitarian': 11451, 'employs': 11452, 'literature': 11453, 'brokenscnecal': 11454, 'ethiopian': 11455, 'stormtrooper': 11456, 'engaged': 11457, 'somme': 11458, 'ìñ': 11459, 'blossominglilac': 11460, 'feelingmanly': 11461, 'bulgarian': 11462, 'tittie': 11463, 'noemotion': 11464, 'edk': 11465, 'pathfinders': 11466, 'stepkans': 11467, 'lvictoria': 11468, '\\x89û÷hijacker': 11469, 'cops\\x89ûª': 11470, 'anytime': 11471, 'wsls': 11472, 'childcare': 11473, 'jennasjems': 11474, 'patrickwsls': 11475, 'sanjaynirupam': 11476, 'sureshprabhu': 11477, 'dissuaded': 11478, 'warlordqueen': 11479, 'thrusts': 11480, 'womb': 11481, 'toddcalfee': 11482, 'mattburgener': 11483, 'spongea': 11484, 'jorrynja': 11485, 'bfgfcrush': 11486, 'terell': 11487, 'wayi': 11488, '688': 11489, 'gregorysanders': 11490, 'usdot': 11491, 'stat': 11492, 'lightrail': 11493, 'laughs': 11494, 'sticking': 11495, 'scofield': 11496, 'hotbox': 11497, 'sona': 11498, 'ayekoradio': 11499, 'brasswork': 11500, 'shaken': 11501, 'netlabel': 11502, 'electronicmusic': 11503, 'ccmusic': 11504, 'diverts': 11505, 'declaring': 11506, 'organic': 11507, 'expander': 11508, 'museawayfic': 11509, 'beenghosting': 11510, 'xylodemon': 11511, 'redskins': 11512, 'wr': 11513, 'bellybombed': 11514, 'gbbo2015': 11515, 'physically': 11516, 'gasped': 11517, 'invested': 11518, '7a730p': 11519, 'siena': 11520, 'henderson': 11521, 'slingnews': 11522, 'slam': 11523, 'knocks': 11524, '20k': 11525, '2065': 11526, 'meme': 11527, 'origins': 11528, 'fin': 11529, 'pirates': 11530, 'acquired': 11531, 'blowltan': 11532, 'manuel': 11533, 'accuracy': 11534, 'improves': 11535, 'pickens': 11536, 'pea': 11537, 'scwx': 11538, 'ssp': 11539, 'aeg': 11540, '061': 11541, 'akrams': 11542, 'carhot': 11543, 'exchanged': 11544, 'firing': 11545, 'air1bullet': 11546, 'mortar': 11547, 'pestle': 11548, 'pusssssssssy': 11549, 'shoook': 11550, 'indiepopmom': 11551, 'roadworks': 11552, 'disruptive': 11553, 'tottenham': 11554, 'trooper': 11555, 'bobble': 11556, 'figure': 11557, 'funko': 11558, 'janeenorman': 11559, 'probability': 11560, 'halfhourhotel': 11561, 'edgarsgift': 11562, 'promotion': 11563, 'bbcmtd': 11564, 'ibeyiofficial': 11565, 'anxiety': 11566, 'overwhelming': 11567, 'fairly': 11568, 'welladjusted': 11569, 'x1441': 11570, 'buried': 11571, 'lukebox': 11572, 'oldest': 11573, 'donthate': 11574, 'varagesale': 11575, 'candacedx': 11576, 'merycormier': 11577, 'cosima': 11578, 'shay': 11579, 'tarzana': 11580, 'mwlippert': 11581, 'southkorea': 11582, 'preparedelectrocutedboiling': 11583, 'waterfur': 11584, 'theashes': 11585, 'randerson62': 11586, 'su': 11587, 'standardized': 11588, 'parentsacrossam': 11589, 'billgates': 11590, 'lastma': 11591, 'lagos': 11592, 'tasmanias': 11593, 'trained': 11594, 'kinetic': 11595, 'typography': 11596, 'neanderrebel': 11597, 'democrat': 11598, 'waseembadami': 11599, 'condemning': 11600, 'gv': 11601, 'heirs': 11602, 'hagerstown': 11603, 'your4state': 11604, 'whag': 11605, 'sedan': 11606, 'iateyourfood': 11607, 'yikes': 11608, 'pup': 11609, 'vosloorus': 11610, 'gauteng': 11611, '2300': 11612, 'toyota': 11613, 'bkb066gp': 11614, 'countermoonbat': 11615, 'voodooben': 11616, 'locksmith': 11617, 'domesticate': 11618, 'mechanic': 11619, 'circa': 11620, 'clock': 11621, 'gba': 11622, 'refuse': 11623, 'shovel': 11624, 'expirehc': 11625, 'trafficalert': 11626, '210': 11627, 'citrus': 11628, 'azusa': 11629, 'motorcycles': 11630, 'involved': 11631, 'panoramic': 11632, 'cuts': 11633, 'pbs': 11634, 'mfalcon21': 11635, 'mzmandilynn': 11636, 'skynews': 11637, 'scum': 11638, 'catwoman1775': 11639, 'crazier': 11640, '8415': 11641, 'damatu': 11642, '\\x89û÷food': 11643, 'crematoria\\x89ûª': 11644, 'famineåêmemories': 11645, 'ramp': 11646, 'twi': 11647, 'manchesterlite': 11648, 'sousse': 11649, 'tunis': 11650, '30stm': 11651, 'quem': 11652, 'lembra': 11653, '91å¡f': 11654, 'dominicana': 11655, 'cochisecollege': 11656, 'etribune': 11657, '4suspected': 11658, 'waziristan': 11659, 'acebreakingnews': 11660, 'available': 11661, 'nside': 11662, 'dragons': 11663, 'kamchatka': 11664, 'å©daniel': 11665, 'korzhonov': 11666, 'freefromwolves': 11667, 'danny': 11668, 'orbette': 11669, 'winik': 11670, '080': 11671, 'vinustrip': 11672, 'babybackreeve': 11673, 'lasiren': 11674, 'vvorm': 11675, 'directed': 11676, 'gr\\x89û': 11677, 'rascal': 11678, 'flatts': 11679, 'concertaugust': 11680, '20152': 11681, 'kamunt': 11682, 'youuu': 11683, 'lifelong': 11684, 'alltime': 11685, 'claimin': 11686, 'animations': 11687, 'targe': 11688, 'robotlvl': 11689, '6615434': 11690, 'satoshis': 11691, 'robotcoingame': 11692, 'freebitcoin': 11693, 'spillevacuationsred': 11694, 'apologise': 11695, 'sincerely': 11696, 'grudges': 11697, 'unfollow': 11698, 'baking': 11699, 'ballews': 11700, 'statements': 11701, '\\x89û÷institute': 11702, 'peace\\x89ûª': 11703, 'blowers': 11704, 'tuffers': 11705, 'bbctms': 11706, 'engvaus': 11707, 'imawesome7986': 11708, 'courses': 11709, 'windowsill': 11710, 'carefully': 11711, 'slit': 11712, 'apologize': 11713, 'trending': 11714, 'ruler': 11715, 'informant\\x89ûªs': 11716, 'alhaji': 11717, 'sha': 11718, 'ibeto': 11719, 'competitor': 11720, 'kessily': 11721, 'mishacollins': 11722, 'allthekidneybeansandsorbet4misha': 11723, 'brodyfrieling': 11724, 'hannabrooksie': 11725, 'snoop': 11726, 'collie': 11727, 'buddz': 11728, 'gallup': 11729, 'ari\\x89û': 11730, 'motion': 11731, 'therapy': 11732, 'liquidation': 11733, 'usar2015': 11734, 'usar15': 11735, 'ruor': 11736, 'tstorm': 11737, '345pm': 11738, 'godsfirstson1': 11739, 'herself': 11740, 'practically': 11741, 'ralph': 11742, 'sergiopiaggio': 11743, 'wasn\\x89ûªt': 11744, 'it\\x89û\\x9d': 11745, 'victoriagittins': 11746, 'crptotech': 11747, 'banks': 11748, 'banking': 11749, 'bitcoing': 11750, 'blockchain': 11751, 'devastation\\x89û': 11752, 'pandemic': 11753, 'vortex': 11754, 'catcher': 11755, 'masses': 11756, 'alarmingly': 11757, 'revise': 11758, 'scenario': 11759, 'homecoming': 11760, 'prom': 11761, 'waters': 11762, 'legacyofthesith': 11763, 'sagacioussaber': 11764, 'lordofbetrayal': 11765, 'crescent': 11766, 'trails': 11767, 'arsonists': 11768, 'plastics': 11769, 'adelaide': 11770, 'pcaldicott7': 11771, '7newsadl': 11772, 'nonhazardous': 11773, 'chemicals': 11774, 'continually': 11775, 'strives': 11776, 'ecofriendly': 11777, 'nort': 11778, 'hyperbole': 11779, 'saintsfc': 11780, 'ellenfromnowon': 11781, '7speed': 11782, 'nexus': 11783, 'shifter': 11784, 'å£9': 11785, 'bike': 11786, 'lizbon': 11787, 'kidicalmassdc': 11788, 'breakdown': 11789, 'suspending': 11790, 'ser': 11791, 'questergirl': 11792, 'ditto': 11793, 'drank': 11794, 'vodka': 11795, 'swept': 11796, 'whistled': 11797, '8392': 11798, 'deluxe': 11799, 'supporthealthhomebathroomsupportelderlyinjureds\\x89û': 11800, 'ganseyman': 11801, 'rt4amention': 11802, 'wrinkled': 11803, 'decayed': 11804, 'kiranahmedd': 11805, 'dialyses': 11806, 'ghosts': 11807, 'campanha': 11808, 'fadelurker': 11809, 'dalinthanelan': 11810, 'camped': 11811, 'redcliffe': 11812, 'aidan': 11813, 'smoakqueen': 11814, 'tiffanyfrizzell': 11815, 'hse': 11816, 'advanced': 11817, 'apologies': 11818, 'inundation\\x89û': 11819, 'northerncalifornia': 11820, 'zippednews': 11821, 'beetroot': 11822, 'icrc': 11823, 'freegeezy17': 11824, 'nkulw': 11825, 'rconspiracy': 11826, 'longaberger': 11827, 'floral': 11828, 'strap': 11829, 'minus': 11830, 'toenail': 11831, 'disrupted': 11832, 'cydia': 11833, 'tweak': 11834, 'phillipten': 11835, 'repulsive': 11836, 'refugeesvictimiserdutton': 11837, 'evangelicalliarabbott': 11838, 'dupe': 11839, 'overdrive': 11840, 'choppergatebronwynbishopauspol': 11841, 'shops': 11842, 'dented': 11843, 'deductible': 11844, 'wcvb': 11845, 'celestial': 11846, 'separate': 11847, 'trajectories': 11848, 'intertwine': 11849, 'xvii': 11850, 'rowaa': 11851, 'gamer': 11852, 'backtoback': 11853, 'chargedup': 11854, 'collar': 11855, 'gesture': 11856, 'tides': 11857, 'yahoonewsdigest': 11858, 'heyimbeeyt': 11859, 'evildead': 11860, '182245': 11861, 'ibaraki': 11862, 'prefecture': 11863, 'offing': 11864, 'm55': 11865, '60km': 11866, 'sammysosita': 11867, 'ciggs': 11868, 'spin': 11869, '23rd': 11870, 'coachkeith44': 11871, 'hannomottola': 11872, 'trpreston01': 11873, 'mlrydalch': 11874, 'large\\x89û': 11875, 'kelly': 11876, 'osbourne': 11877, 'remark': 11878, 'latinos': 11879, 'senzu': 11880, 'gohan\\x89ûªs': 11881, 'pouch': 11882, 'mrobama': 11883, 'cnmi': 11884, '2slow2report': 11885, 'folks': 11886, 'bash': 11887, 'cheated': 11888, 'whackamole': 11889, 'paddytomlinson1': 11890, 'kissimmee': 11891, 'grilled': 11892, 'sandwich': 11893, 'figured': 11894, 'segment': 11895, 'vhs': 11896, 'anthology': 11897, 'feature': 11898, 'channels': 11899, 'scottdpierce': 11900, 'billharristv': 11901, 'harrisgle': 11902, 'beezersun': 11903, 'forfeiting': 11904, 'appetite': 11905, 'dopeitsval': 11906, 'jetengine': 11907, 'turbojet': 11908, 'boing': 11909, 'g90': 11910, 'salmanmydarling': 11911, 'dub': 11912, 'westeros': 11913, 'swords': 11914, 's5': 11915, 'starks': 11916, 'greyjoys': 11917, 'spokane': 11918, 'spilled': 11919, 'crude': 11920, 'ksbynews': 11921, 'lilitan': 11922, 'dualcom': 11923, 'imrazed': 11924, 'easter': 11925, 'concentration': 11926, 'scichat': 11927, 'construct': 11928, 'uk\\x89ûªs': 11929, 'cal': 11930, 'blending': 11931, 'emergencies': 11932, 'stones': 11933, 'neal': 11934, 'rigga': 11935, 'ì¢': 11936, 'toxicsavior': 11937, 'froze': 11938, 'artbrut': 11939, 'brut': 11940, 'pops': 11941, 'villicanaalicia': 11942, 'unrelenting': 11943, 'orchardalley': 11944, 'les': 11945, 'repression': 11946, 'abcnorio': 11947, 'ruddyyyyyy': 11948, 'jamiegriff97': 11949, 'jamie': 11950, 'jmcwrites': 11951, 'pitchwars': 11952, 'realism': 11953, 'wooooooo': 11954, 'gamerant': 11955, 'esports': 11956, 'patrol': 11957, 'suns': 11958, 'receives': 11959, 'impacting': 11960, 'push': 11961, 'diver': 11962, 'anthony': 11963, 'steamship': 11964, 'danagould': 11965, 'waynesteratl': 11966, 'checks': 11967, 'equalizer': 11968, 'saturn': 11969, 'coleslaw': 11970, 'abha': 11971, 'argue': 11972, 'cheap': 11973, 'seanhannity': 11974, 'thatpersianguy': 11975, 'youngsafe': 11976, 'harden': 11977, 'flopping': 11978, 'identical': 11979, 'libertarianluke': 11980, 'rampage': 11981, 'bedding': 11982, 'sticker': 11983, 'decals': 11984, 'alexjacobsonpfs': 11985, 'andre': 11986, 'gore': 11987, 'silverman': 11988, 'sarahksilverman': 11989, 'soundtrack': 11990, 'tracey': 11991, 'ullman': 11992, 'reblogged': 11993, 'scars': 11994, 'meditationbymsg': 11995, '45600': 11996, 'meditation': 11997, 'ampgot': 11998, 'divine': 11999, 'blessing': 12000, '\\x89û÷plot': 12001, 'dijk\\x89ûª': 12002, 'electr': 12003, 'timesofindia': 12004, 'snowywolf5': 12005, 'thegreenparty': 12006, 'benjm1': 12007, 'tourofutah': 12008, 'b1grego': 12009, 'racing': 12010, 'license': 12011, 'brobread': 12012, 'html5': 12013, 'kansas': 12014, 'hyatt': 12015, 'aias': 12016, 'cote': 12017, 'huffpostarts': 12018, 'rand': 12019, 'entitlement': 12020, 'osage': 12021, 'nino': 12022, 'boost': 12023, 'thighs': 12024, 'cleav': 12025, 'expose': 12026, 'cleavage': 12027, 'parks': 12028, 'imposition': 12029, 'african': 12030, '4km': 12031, 'interlaken': 12032, '005225': 12033, '175225': 12034, 'abusing': 12035, 'policerun': 12036, 'obispo': 12037, 'aspiring': 12038, 'kurds': 12039, 'trampling': 12040, 'vandalized': 12041, 'diyala': 12042, 'olivers': 12043, 'waterboarding': 12044, 'dipping': 12045, 'licensed': 12046, 'agent': 12047, 'produc': 12048, 'kalmikya': 12049, 'astrakhan': 12050, 'volgagrad': 12051, 'dagestan': 12052, 'locusts': 12053, 'timeworld': 12054, 'troubleniallhariss': 12055, 'simplyvain': 12056, 'playa': 12057, 'impressions': 12058, 'lieu': 12059, 'triumphs': 12060, 'tayiorrmade': 12061, 'megatronafc': 12062, 'ankles': 12063, 'slipped': 12064, '301dc': 12065, 'cloudygoldrush': 12066, 'arcade': 12067, 'cte': 12068, 'overpriced': 12069, 'wisdomwed': 12070, 'bonus': 12071, 'lifehacks': 12072, 'daretotaha': 12073, 'foreskin': 12074, 'cbccalgary': 12075, 'underpasses': 12076, 'enacts': 12077, 'developing': 12078, 'symptoms': 12079, 'melted': 12080, 'cube': 12081, 'earl': 12082, 'cbs3': 12083, 'å£150': 12084, 'boylesports': 12085, 'casino': 12086, 'itsdanie': 12087, 'noooo': 12088, 'nowplay': 12089, 'alwx': 12090, 'lucysforsale': 12091, 'cllrraymogford': 12092, 'comprehensive': 12093, 'upah': 12094, 'cramp': 12095, 'peacetime': 12096, '63rdprairie': 12097, 'dantwitty52': 12098, 'shuts': 12099, 'eighth': 12100, 'postering': 12101, 'calgaryfringe': 12102, 'mothernature': 12103, 'yycfringe': 12104, 'killhard': 12105, 'billyhodge': 12106, 'aurora': 12107, 'notoriety': 12108, 'ibrahimmisau': 12109, 'deb117': 12110, '730': 12111, 'wanother': 12112, 'principle': 12113, 'fulfilling': 12114, 'clerical': 12115, 'duties': 12116, 'demoness': 12117, 'beckoning': 12118, 'void': 12119, 'this\\x89û': 12120, 'jamesmelville': 12121, 'testimony': 12122, 'promote': 12123, 'conflicts': 12124, 'tactics': 12125, 'corruption': 12126, 'infiltration': 12127, 'drakes': 12128, 'ghostwriting': 12129, 'rihanna': 12130, 'inviting': 12131, 'uv': 12132, 'gin': 12133, 'listia': 12134, 'baileysmsteach': 12135, 'doing\\x89ûahhh\\x89ûthat': 12136, 'perrychat': 12137, 'tunisia': 12138, 'governments': 12139, 'byuwnbeki': 12140, 'tacit': 12141, 'raging': 12142, 'goofballs': 12143, 'pd': 12144, 'articals': 12145, 'kern': 12146, 'mornings': 12147, 'airing': 12148, 'kbak': 12149, 'cbs29': 12150, 'liveonkbak': 12151, 'dunking': 12152, 'booksbyroger': 12153, 'dyannbridges': 12154, 'yeshayad': 12155, 'home2': 12156, 'suites': 12157, 'make\\x89û': 12158, 'djryanwolf': 12159, 'djcoreygrand': 12160, 'djknyce': 12161, 'djoneplustwo': 12162, 'officialcoredjs': 12163, 'standup': 12164, 'iamtonyneal': 12165, 'suresh': 12166, 'harda': 12167, 'regr': 12168, 'eur': 12169, 'bwin': 12170, 'beckarnley': 12171, '1581017': 12172, 'manitou': 12173, 'uncover': 12174, 'slumber': 12175, 'jampampk': 12176, 'tora': 12177, 'lengths': 12178, 'gamefeed': 12179, 'videogame': 12180, 'rizzo': 12181, '2leezy': 12182, 'grabbing': 12183, 'sweaty': 12184, 'historicchurch': 12185, 'abc3340': 12186, 'bolshevik': 12187, 'monopolized': 12188, 'seize': 12189, 'hunhry': 12190, 'kushwush': 12191, 'flashbacks': 12192, 'hogging': 12193, 'developer': 12194, 'deadliest': 12195, 'dmoneydemi': 12196, 'dtb': 12197, 'watchout': 12198, 'irishtimesworld': 12199, 'healthandsafety': 12200, '08062015': 12201, 'alabamaquake': 12202, 'sholt87': 12203, 'mtgrotto': 12204, 'eco11c': 12205, 'carlsbadbugkil1': 12206, 'usbush': 12207, 'lowered': 12208, 'wmiddle': 12209, '401ks': 12210, 'lorr': 12211, 'holymileyray': 12212, 'mooniighthunty': 12213, 'heroin': 12214, 'pharaoh': 12215, 'fitz': 12216, 'tantrums': 12217, 'ipa': 12218, 'radler': 12219, 'kg4vaal': 12220, 'lmaovv': 12221, 'babalmaowelcome': 12222, 'nyozi': 12223, 'kwaaaaadead': 12224, 'aaarrrgghhh': 12225, 'michelleellle': 12226, 'freshman': 12227, 'nominates': 12228, 'ohhsehuns': 12229, '1600yearold': 12230, 'bv': 12231, 'bloomberg': 12232, 'publish': 12233, 'pacifics': 12234, 'hilda': 12235, 'th\\x89û': 12236, '1x1': 12237, 'destructions': 12238, 'sunday\\x89ûªs': 12239, 'damagenhs999': 12240, 'thoroughly': 12241, 'brutality': 12242, 'nvr': 12243, 'silverstar58200': 12244, 'romero': 12245, 'hutch': 12246, 'beginnings': 12247, 'requiem': 12248, 'oliver': 12249, 'adanne': 12250, 'abbott': 12251, 'christianvalues': 12252, 'propertycasu': 12253, 'revolutionblight': 12254, 'acebabes': 12255, 'healthweekly1': 12256, 'amateurnester': 12257, '0802pm': 12258, 'internetradio': 12259, 'collegeradi\\x89û': 12260, 'hw18': 12261, '90100': 12262, 'keeping': 12263, '2fast2furious': 12264, 'shadows': 12265, 'nieuws': 12266, 'seamstress': 12267, 'elvia': 12268, 'homealone2': 12269, 'film4': 12270, 'acee': 12271, 'daem': 12272, 'taxreturn': 12273, 'cleaning': 12274, 'cri': 12275, 'visible': 12276, 'tucson': 12277, 'steep': 12278, 'terrain': 12279, 'mountains\\x89û': 12280, 'interpretation': 12281, 'postal': 12282, 'simultaneous': 12283, 'jasminehuerta24': 12284, 'edwing': 12285, 'khan': 12286, 'doretts': 12287, 'worldnetdailyhomosexuality': 12288, 'downfall': 12289, 'dougmartin17': 12290, 'doug': 12291, 'dna': 12292, 'costing': 12293, 'apiece': 12294, '79yearold': 12295, 'paypile': 12296, 'morty': 12297, 'thebuffshow': 12298, 'thetwisterokc': 12299, 'shaniatwain': 12300, 'twisterlovesshania': 12301, 'kirstiealley': 12302, 'animaladvocate': 12303, 'safari': 12304, 'otherwisethey': 12305, 'generous': 12306, 'feeds': 12307, 'thedailybeast': 12308, 'blasting': 12309, 'benediction': 12310, 'sanelesstheory': 12311, 'reiterate': 12312, 'mindset': 12313, 'wednesday\\x89û': 12314, 'connecticut': 12315, 'courtney': 12316, 'laudner': 12317, 'panties': 12318, 'zenit': 12319, 'bobbyxfisher': 12320, 'shouldve': 12321, 'trad': 12322, 'authors': 12323, 'plummeting': 12324, 'atlevents': 12325, 'wesleylowery': 12326, 'cinla1964': 12327, 'windowgatribble': 12328, 'contrasts': 12329, 'foreboding': 12330, 'expansive': 12331, 'divisions': 12332, 'saturation': 12333, 'hue': 12334, 'midget': 12335, 'rossbarton': 12336, 'las': 12337, 'burford': 12338, 'council': 12339, 'freddie': 12340, 'sippin': 12341, 'ouch': 12342, 'clelliyou': 12343, 'carsonrex': 12344, 'spaceangelseven': 12345, 'damagewpd1600': 12346, '17th': 12347, 'perkpearl': 12348, 'parental': 12349, 'offspring': 12350, 'preconditioning': 12351, 'corals': 12352, 'mogacola': 12353, 'zamtriossu': 12354, 'pandemoniumiso': 12355, 'psp': 12356, 'actavis': 12357, 'kylewappler': 12358, 'thisishavehope': 12359, 'fragrance': 12360, 'bathe': 12361, 'cancers': 12362, 'equate': 12363, 'blackpool': 12364, 'kowing': 12365, 'beclearoncancer': 12366, 'squibby': 12367, 'amirkingkhan': 12368, 'floydmayweather': 12369, 'attended': 12370, 'romford': 12371, 'londonfire': 12372, 'b1g': 12373, 'bmurph1019': 12374, 'hailyoutsey': 12375, 'termn8r13': 12376, 'goblue': 12377, 'wrestleon': 12378, 'angelriveralib\\x89û': 12379, 'h\\x89û': 12380, 'nagaski': 12381, 'lesleymariiee': 12382, 'romeocrow': 12383, 'organizing': 12384, 'important': 12385, 'atleast': 12386, 'dill': 12387, 'pickle': 12388, 'avoids': 12389, 'watertown': 12390, 'gazette': 12391, 'metepec': 12392, 'disastereoficial': 12393, 'nitclub': 12394, 'naturaldisasters': 12395, 'troisrivieres': 12396, 'legionstrackandfield': 12397, 'masturbates': 12398, 'mikecroninwmur': 12399, 'willieami': 12400, 'justthebottle': 12401, 'cooling': 12402, 'winechat': 12403, 'office\\x89ûªs': 12404, 'razedåê\\x89ûò': 12405, 'ikpeazu': 12406, 'apga': 12407, 'react': 12408, 'troylercraft': 12409, 'spammers': 12410, 'ana': 12411, 'holistic': 12412, 'pot': 12413, 'dispensary': 12414, 'smartnews': 12415, 'barrington': 12416, 'hoffman': 12417, 'estates': 12418, 'singlecar': 12419, 'afte': 12420, 'selmoooooo': 12421, 'edvinnn': 12422, 'imtariik': 12423, 'dzaficharis': 12424, 'selmo': 12425, 'witnessing': 12426, 'slaughter': 12427, 'canberras': 12428, 'fluffy': 12429, 'transcendblazing': 12430, 'trail': 12431, 'diversified': 12432, 'itzsteven': 12433, 'xdojjjj': 12434, 'whopperjr760': 12435, 'spicybreads': 12436, 'coxytown': 12437, 'downloading': 12438, 'personalize': 12439, 'customer': 12440, 'qld': 12441, 'billy': 12442, 'queensland': 12443, 'usarmy': 12444, 'jagm': 12445, 'tow': 12446, 'missiles': 12447, 'pennies': 12448, 'worldwatchesferguson': 12449, 'govjaynixon': 12450, 'clairecmc': 12451, 'kyrikoni': 12452, 'expressandstar': 12453, 'veg': 12454, 'nwspocatello': 12455, 'bg16': 12456, 'brunt': 12457, 'grayed': 12458, 'interspersed': 12459, 'bbshelli': 12460, 'websites': 12461, 'whimsy': 12462, 'impressive': 12463, '17000': 12464, 'columbus': 12465, 'telegraphworld': 12466, 'mmmm': 12467, 'mothernaturenetwork': 12468, 'thundersnow': 12469, 'uncommon': 12470, 'thedayct': 12471, 'deepak': 12472, 'chopras': 12473, 'austinpearcy22': 12474, 'robertwelch': 12475, 'cutlery': 12476, 'ori': 12477, 'bind': 12478, 'interrupt': 12479, 'bernard': 12480, 'sabrina': 12481, 'cooool': 12482, 'interestingwhy': 12483, 'nykaed': 12484, 'nikoniko12022': 12485, 'intervene': 12486, 'vitesse': 12487, 'arnhem': 12488, 'supporters': 12489, '\\x89û¢': 12490, 'buildup': 12491, 'bigperm28': 12492, 'drafted': 12493, '124': 12494, 'overall': 12495, 'utahgrizz': 12496, 'connor': 12497, 'franta': 12498, 'howell': 12499, '\\x89û÷leaves': 12500, 'languishing': 12501, 'iran\\x89ûª': 12502, 'noirandeal': 12503, 'tedcruz2016': 12504, 'efs300': 12505, 'charon': 12506, 'skateboards': 12507, 'saferåê': 12508, 'funnynews': 12509, 'tarmineta3': 12510, 'erdogans': 12511, 'socialists': 12512, 'shareaholic': 12513, 'resilience': 12514, 'factsheet': 12515, 'leedsrouge': 12516, 'dawgs': 12517, 'dak': 12518, 'jak': 12519, 'newåêheights': 12520, 'albeit': 12521, 'unsuccessful': 12522, 'mackinnon08': 12523, '3n133': 12524, 'ufn': 12525, 'progressives': 12526, 'tcgreno': 12527, 'reset': 12528, 'overload': 12529, 'growing': 12530, 'unrealtouch': 12531, 'sexydragonmagic': 12532, 'realization': 12533, 'span': 12534, '1russian': 12535, 'recal': 12536, 'jonesboro': 12537, 'kasiakosek': 12538, 'udhampuragain': 12539, 'gurmeetramrahim': 12540, 'msgdoing111welfareworks': 12541, 'appx': 12542, '65000': 12543, 'har': 12544, 'ki': 12545, 'liye': 12546, 'tyar': 12547, 'hai': 12548, 'exofficio': 12549, 'nigerians': 12550, 'riches': 12551, 'decrease': 12552, 'chronicillness': 12553, 'mylifestory': 12554, 'onihimedesu': 12555, 'manga': 12556, 'triangle': 12557, 'waterproof': 12558, 'weiqin': 12559, 'michel': 12560, 'lujo': 12561, 'ca\\x89û': 12562, 'politicians': 12563, 'plannedparenthood': 12564, 'fooled': 12565, 'unwanted': 12566, '12th': 12567, 'pp15000266818': 12568, '1710': 12569, 'haydnexists': 12570, 'didn\\x89ûªt': 12571, 'truckload': 12572, 'panics': 12573, 'intentions': 12574, 'beaumont': 12575, 'benews': 12576, 'receipts': 12577, 'desperate': 12578, 'hideous': 12579, 'uglypeople': 12580, 'beckyfeigin': 12581, 'defs': 12582, 'bullets\\x89û': 12583, 'misty': 12584, 'indifference': 12585, 'ltz': 12586, 'attempting': 12587, 'munch': 12588, 'endangered': 12589, 'species': 12590, 'currency': 12591, 'transgress': 12592, 'paydayprison': 12593, 'ward': 12594, 'sinkingfund': 12595, 'payment': 12596, 'unsecured': 12597, 'jbumzqpk': 12598, 'loot': 12599, 'ricin': 12600, 'cartel': 12601, 'kidnap': 12602, 'bust': 12603, 'fuckboy': 12604, 'pseudojuuzo': 12605, 'kuualohax': 12606, 'husband': 12607, 'posting': 12608, 'mondays': 12609, 'preschool': 12610, 'sold': 12611, 'petereallen': 12612, 'huffpostuk': 12613, 'bbc5live': 12614, 'ruins': 12615, 'substantial': 12616, 'kingnaruto': 12617, 'madara': 12618, 'abuses': 12619, '7amdollela': 12620, '3la': 12621, 'kulli': 12622, '7aal': 12623, 'spread': 12624, 'palmoil': 12625, 'frautrapani': 12626, 'pornhub': 12627, 'superintendent': 12628, 'lanford': 12629, 'partially': 12630, 'master': 12631, 'hinatobot': 12632, 'wartime': 12633, 'wroug': 12634, 'chowtaxis': 12635, 'newport': 12636, 'jackie': 12637, 'bristol': 12638, 'okinawan': 12639, 'fuddy': 12640, 'authenticating': 12641, 'birth': 12642, 'sole': 12643, 'inbetween': 12644, 'edge': 12645, 'kidding': 12646, 'aisumage': 12647, 'akumareisu': 12648, 'gray': 12649, 'ophelia': 12650, 'adorableappple': 12651, 'ten4': 12652, 'mmda': 12653, 'lakh\\x89û': 12654, 'mueller': 12655, 'nov': 12656, 'meson': 12657, 'sophiewisey': 12658, 'soaker': 12659, 'captors': 12660, 'wildlooking': 12661, 'recluse': 12662, 'jetstar': 12663, 'bali': 12664, 'flights': 12665, 'ash': 12666, 'congestion': 12667, 'hgf52611': 12668, 'robbie': 12669, 'redsox': 12670, 'troyslaby22': 12671, 'brittanypetko': 12672, 'alexalltimelow': 12673, 'awwww': 12674, 'cuties': 12675, 'jusreign': 12676, 'mane': 12677, '106': 12678, 'blairmcdougall': 12679, 'commenting': 12680, 'taylors': 12681, 'dealings': 12682, 'arkan': 12683, 'asimtanvir': 12684, 'nemesiskpes': 12685, 'kevr7': 12686, 'myrtlegroggins': 12687, 'ltgaspgt': 12688, 'jenniferarri': 12689, 'comeeeee': 12690, 'coolest': 12691, 'mommys': 12692, 'jagexhelpdibi': 12693, 'jag': 12694, 'nightmare': 12695, 'elm': 12696, 'remade': 12697, 'blitzes': 12698, 'briefing': 12699, 'seminars': 12700, 'blitzed': 12701, 'tra': 12702, 'vivaargentina': 12703, 'kane': 12704, 'wpt410': 12705, 'freddiedeboer': 12706, 'thucydiplease': 12707, 'coates': 12708, 'charleston': 12709, 'walter': 12710, 'broadly': 12711, 'm157': 12712, '0111': 12713, 'utc3km': 12714, 'henshaw': 12715, 'edwelchmusic': 12716, 'unpacked': 12717, 'liveleak': 12718, 'chromsucks': 12719, 'twilights': 12720, 'jacquie': 12721, 'biggar': 12722, 'kindlecountdown': 12723, 'mfrwauthor': 12724, 'mgtab': 12725, 'creates': 12726, 'sweat': 12727, 'superman': 12728, 'slowpoke': 12729, 'poc': 12730, '82ndabndiv': 12731, 'paratroopers': 12732, 'lattice': 12733, 'studded': 12734, '18wheeler': 12735, 'gypsy': 12736, 'wctv35': 12737, 'egyptian': 12738, 'threaten': 12739, '1717': 12740, 'gmt': 12741, 'laylovetournay': 12742, 'ryrotheunaware': 12743, 'groaning': 12744, 'peaceloverescue': 12745, 'activities': 12746, 'millennium': 12747, 'plaza': 12748, 'topdown': 12749, 'coercion': 12750, 'weakness': 12751, 'ensuring': 12752, 'productive': 12753, 'enterprise': 12754, 'mineness': 12755, 'twitsandiego': 12756, 'depression': 12757, 'asphalt': 12758, 'sa\\x89û': 12759, 'quarantine\\x89û': 12760, 'onlinecommunities': 12761, 'amageddon': 12762, 'freespeech': 12763, 'knowledge': 12764, 'foolish': 12765, 'wisdom': 12766, 'amsal': 12767, 'thinner': 12768, 'sorrow': 12769, 'throwin': 12770, 'flowri': 12771, 'marinading': 12772, 'jaureguiswisdom': 12773, 'sooo': 12774, '3422': 12775, 'easier': 12776, '\\x89û÷we': 12777, 'help\\x89ûª': 12778, 'responder': 12779, 'choppas': 12780, 'drob': 12781, 'cis': 12782, 'offended': 12783, 'transgendered': 12784, 'sods': 12785, 'amman': 12786, 'diverted': 12787, 'gurion': 12788, 'appoints': 12789, 'brig': 12790, 'gen': 12791, 'kaiser': 12792, 'mississippi': 12793, 'commission': 12794, 'mrc': 12795, 'bathroomits': 12796, 'meowing': 12797, 'louderthings': 12798, 'janiethekillr': 12799, 'sketchbook': 12800, 'biting': 12801, 'mask': 12802, 'howre': 12803, 'implode': 12804, 'ourmothermary': 12805, 'shipsxanchors': 12806, 'idek': 12807, 'govts': 12808, 'advised': 12809, '319': 12810, 'meats': 12811, 'incinerator': 12812, 'pulkovo': 12813, 'takin': 12814, 'friggin': 12815, 'destiel': 12816, 'updateme': 12817, '91': 12818, 'edna': 12819, 'jeffersonampdoris': 12820, 'sherfield72': 12821, 'furtrix': 12822, 'cougars': 12823, 'hurricanedolce': 12824, 'prob': 12825, 'sriramk': 12826, 'dlin71': 12827, 'commons': 12828, 'ownership': 12829, 'financing': 12830, 'secured': 12831, 'violentfeminazi': 12832, 'armenians': 12833, 'episcopal': 12834, 'priests': 12835, 'interracial': 12836, 'harrowing': 12837, 'harassment': 12838, 'dailykos': 12839, 'nalathekoala': 12840, 'sequalae': 12841, 'suicides': 12842, 'homicides': 12843, 'holdin': 12844, 'grandad': 12845, 'hubris': 12846, 'reqd': 12847, 'rigour': 12848, 'vivid': 12849, 'triad': 12850, 'englands': 12851, '90s': 12852, 'muslimsterrorism': 12853, 'catholicismhomophobia': 12854, 'trunks': 12855, 'freiza': 12856, 'cleanest': 12857, 'laos': 12858, 'nprfreshair': 12859, 'meltdowni': 12860, 'sonofliberty357': 12861, 'illuminated': 12862, 'brightly': 12863, 'iit': 12864, 'logically': 12865, 'sanction': 12866, 'friend50': 12867, 'lightningooc': 12868, 'subjected': 12869, 'unwarranted': 12870, 'ye': 12871, 'cainsuch': 12872, 'maatmhi': 12873, 'unsigned': 12874, 'requa': 12875, 'sixcar': 12876, 'hassanrouhani': 12877, 'doomed': 12878, 'irans': 12879, 'lamps': 12880, 'sleeper': 12881, 'derailing': 12882, 'aftershocks': 12883, 'telly': 12884, 'structuring': 12885, 'edcxo': 12886, 'mordechai': 12887, 'yehuda': 12888, 'friedman': 12889, 'ramat': 12890, 'beit': 12891, 'shemesh': 12892, 'tindering': 12893, '20mins': 12894, 'gards': 12895, 'newyear': 12896, 'bowknot': 12897, 'womengirls': 12898, 'zip': 12899, 'wonderfully': 12900, 'installment': 12901, 'baan': 12902, 'thai': 12903, 'sushi': 12904, 'yup': 12905, 'irons': 12906, 'xii': 12907, 'nightmarishly': 12908, 'brutal': 12909, 'ritualistic': 12910, 'sakhalintribune': 12911, 'eastward': 12912, 'realised': 12913, 'lara': 12914, 'flesh': 12915, 'clawing': 12916, 'myanmars': 12917, 'urged': 12918, 'coun\\x89û': 12919, 'rude': 12920, 'frontpage': 12921, 'rickperry': 12922, 'foxnew\\x89û': 12923, 'newberg': 12924, 'jacque': 12925, 'betz': 12926, 'orcot': 12927, 'orpol': 12928, 'heavenly': 12929, 'sqwizzix': 12930, 'piano': 12931, 'entertainer\\x89û\\x9d': 12932, 'funkflex': 12933, 'flex': 12934, 'majesty': 12935, 'salman': 12936, 'khans': 12937, 'unstoppable': 12938, 'bajrangi': 12939, 'bhaijaan': 12940, 'crosed': 12941, 'lomasvisto': 12942, 'hipsters': 12943, 'devours': 12944, 'intersectio': 12945, 'cadenadeseguidores': 12946, 'contacts': 12947, 'wiped': 12948, 'ruby': 12949, 'pours': 12950, 'tellyfckngo': 12951, 'jaycootchi': 12952, 'sond': 12953, 'babality': 12954, 'rahulkanwal': 12955, 'jammu': 12956, 'overåêhostages': 12957, 'olds': 12958, 'smug': 12959, 'savages': 12960, 'gangstermail': 12961, 'samsung': 12962, 'amp039monsteramp039': 12963, 'contained': 12964, 'appleofficlal': 12965, 'migrating': 12966, 'iphoto': 12967, 'wasted': 12968, 'hrsto': 12969, 'infowars': 12970, 'grabbers': 12971, '\\x89ûïhatchet': 12972, 'control\\x89û\\x9d': 12973, 'mv': 12974, 'strutting': 12975, 'bg': 12976, 'midfield': 12977, 'soni': 12978, 'soner': 12979, 'sonisoner': 12980, 'fema': 12981, 'targeted': 12982, 'lithium': 12983, 'pastor': 12984, 'accidentwho': 12985, 'scvsupremecourt': 12986, 'dismisses': 12987, 'prisoner': 12988, 'challenged': 12989, 'quantum': 12990, 'canadian': 12991, 'aroundthe': 12992, 'timing': 12993, 'lax': 12994, 'kircut1': 12995, 'dopest': 12996, 'livescience': 12997, 'lightningwolf': 12998, 'directory': 12999, 'baaaack': 13000, 'petersens': 13001, 'bowhunting': 13002, 'bows': 13003, 'ba': 13004, 'iccrealckt': 13005, 'kashs': 13006, 'foundation': 13007, 'magazines': 13008, 'renamed': 13009, 'goonda': 13010, 'motley': 13011, 'hooligans': 13012, 'selfavowed': 13013, 'crooks': 13014, 'determined': 13015, 'fetch': 13016, 'pyjamas': 13017, 'nz': 13018, 'hugomatz': 13019, 'femas': 13020, 'weeklong': 13021, 'ahhtheenikki': 13022, 'tradcatknight': 13023, 'okanowa': 13024, 'mainline': 13025, 'gloria': 13026, 'gaynor': 13027, 'oktaviana': 13028, 'devi': 13029, 'tacoma': 13030, 'adidas': 13031, 'swingman': 13032, 'jersey': 13033, 'alamodc': 13034, 'az': 13035, 'tantonationalforest': 13036, 'rollingstones': 13037, 'singalong': 13038, 'pox': 13039, 'horrors': 13040, 'infectiousdiseases': 13041, 'kiddie': 13042, 'ploppy': 13043, 'adoptive': 13044, 'saves': 13045, 'nineyearold': 13046, 'maine': 13047, 'dove': 13048, 'faminemega': 13049, '0840728': 13050, 'dynamix': 13051, 'craig': 13052, 'brics': 13053, 'langata': 13054, '222pm': 13055, 'rave': 13056, 'cocktail': 13057, 'mas': 13058, 'verde': 13059, 'mezcal': 13060, 'chartreuse': 13061, 'honey': 13062, 'cucumber': 13063, 'bitters': 13064, 'domination': 13065, 'hows': 13066, 'transformed': 13067, 'thriving': 13068, 'hub': 13069, 'hi\\x89ûótech': 13070, 'illusions': 13071, 'fn': 13072, 'spacewolverine': 13073, 'approach': 13074, 'onesie': 13075, 'recalled': 13076, 'oilandgas': 13077, 'sunflower': 13078, 'thejenmorillo': 13079, 'audi': 13080, 'heals': 13081, 'stays': 13082, 'mb': 13083, '100mb': 13084, 'tecno': 13085, 'q1': 13086, 'ime': 13087, 'amaramin3': 13088, 'capable': 13089, 'weights': 13090, 'muttatek': 13091, 'kwwwkwwwk': 13092, 'jiahahahha': 13093, 'yeyeulala': 13094, 'cancelled': 13095, 'penny': 13096, 'aris': 13097, 'hints': 13098, 'snippets': 13099, 'assholes': 13100, 'bleachers': 13101, 'noahshack': 13102, 'mainly': 13103, 'cloudy': 13104, 'showers': 13105, 'queenwendy': 13106, 'towns': 13107, 'surges': 13108, 'cloydrivers': 13109, 'tosu': 13110, 'championship': 13111, 'mlg': 13112, 'ijustine': 13113, 'alaskaseafood': 13114, 'askforalaska': 13115, 'ruled': 13116, 'dictator': 13117, 'danemillar1': 13118, '666': 13119, 'wendell': 13120, 'berry': 13121, 'gulf': 13122, 'alaskas': 13123, 'savedenaliwolves': 13124, 'tweetstorm': 13125, 'gloriavelez': 13126, 'neat': 13127, 'staged': 13128, 'locomotive': 13129, 'unbelievably': 13130, 'aeroplane': 13131, 'freaky\\x89û': 13132, 'bovines': 13133, 'smugglersåênabbed': 13134, 'jmastrodonato': 13135, 'ortiz': 13136, 'bunting': 13137, 'forefathers': 13138, 'athletics': 13139, 'doping': 13140, 'monetary': 13141, 'ukfloods': 13142, 'trekkers': 13143, 'himalayas': 13144, 'marketforce': 13145, 'perth': 13146, 'iinet': 13147, 'nbn': 13148, 'buffering': 13149, 'dig': 13150, 'hoke': 13151, 'excepting': 13152, 'versus': 13153, 'dfljev': 13154, 'elecman': 13155, 'rhett': 13156, 'fiendnikki': 13157, 'vanderbilt': 13158, 'recordhigh': 13159, 'visiting': 13160, 'ancop': 13161, 'tita': 13162, 'deeeznvtzzz': 13163, 'painful': 13164, 'bannister': 13165, 'meanwhile': 13166, 'hush': 13167, 'hushhes': 13168, 'media420': 13169, 'papicongress': 13170, 'journo': 13171, 'pragnik': 13172, 'tanstaafl23': 13173, 'correlation': 13174, 'imply': 13175, 'causation': 13176, 'sarahmcpants': 13177, 'justjon': 13178, 'titty': 13179, 'magics': 13180, 'roblox': 13181, 'keegan172': 13182, 'theconspiracytheory': 13183, 'newep': 13184, 'cityofhummus': 13185, 'ilnewsflash': 13186, 'diasporas': 13187, 'kamindoz': 13188, 'atlbizchron': 13189, 'donjazzy': 13190, 'policeng': 13191, 'humanrights': 13192, 'nbcnightlynews': 13193, 'billneelynbc': 13194, 'erinmariefishy': 13195, 'expresident': 13196, 'goodluck': 13197, 'perspectives': 13198, 'jihadi': 13199, 'protostates': 13200, 'calorie': 13201, 'klondike': 13202, 'eeenice221': 13203, 'assume': 13204, 'pointing': 13205, 'chrisdanielshow': 13206, 'nearlyfatal': 13207, 'pee': 13208, 'francisco': 13209, 'illusoria': 13210, 'icarus': 13211, 'pathogen': 13212, 'careless': 13213, 'campfire': 13214, 'butgod': 13215, 'spoiled': 13216, '0605': 13217, 'damp': 13218, 'qnh': 13219, '1028': 13220, 'sara': 13221, 'prettyboyshyflizzy': 13222, 'beautifully': 13223, 'noted': 13224, 'neces': 13225, 'todayngr': 13226, 'apd': 13227, 'rushlimbaugh': 13228, 'clintons': 13229, 'meddling': 13230, 'britney': 13231, 'pieceofme': 13232, 'dispatchers': 13233, 'boone': 13234, 'junsuisengen': 13235, 'changing': 13236, 'raffirc': 13237, 'sustainourearth': 13238, 'wells': 13239, 'thi\\x89û': 13240, 'crimes': 13241, 'runin': 13242, 'roadwayproperty': 13243, '15901': 13244, 'statesville': 13245, 'zipped': 13246, 'aqua': 13247, 'twist': 13248, 'ov': 13249, 'robertcalifornia': 13250, 'thereisonlysex': 13251, 'imsort': 13252, 'fonts': 13253, 'therealrittz': 13254, 'libraryeliza': 13255, 'taylorswift13': 13256, 'musicadvisory': 13257, 'kyee': 13258, 'nockthie': 13259, 'hamlet': 13260, 'taungbazar': 13261, 'buthidaung': 13262, 'severely': 13263, 'kasitaroch': 13264, 'vivianunhcr': 13265, 'prisoners': 13266, 'treblinka': 13267, 'rebelled': 13268, 'seizing': 13269, 'teamvodg': 13270, 'olympia': 13271, 'marlene': 13272, 'menahem': 13273, 'moshav': 13274, 'safsufa': 13275, 'ianokavo96': 13276, 'mylittlepwnies3': 13277, 'earlymay': 13278, 'anathemazhiv': 13279, 'tonysandos': 13280, 'pan': 13281, 'perrie': 13282, 'edwards': 13283, 'engagement': 13284, 'she\\x89ûªs': 13285, '\\x89û÷devastated\\x89ûª': 13286, 'pianohands': 13287, 'taxis': 13288, 'wakeupflorida': 13289, 'floridians': 13290, 'killedinjured': 13291, 'trophyhunt': 13292, 'killers': 13293, 'earthsvoice': 13294, 'tigers': 13295, 'appalling': 13296, 'businessmen': 13297, 'saveti': 13298, 'bark': 13299, 'unexplainable': 13300, 'childhooddefined': 13301, 'gays': 13302, 'meteors': 13303, 'lee': 13304, '\\x89ûïleejasper': 13305, 'tories': 13306, 'interestraterise\\x89û\\x9d': 13307, 'crqck': 13308, 'becyme': 13309, 'mayor': 13310, 'includes': 13311, 'foursquare': 13312, 'kurt': 13313, '1232': 13314, 'hank': 13315, 'jr': 13316, 'gigagil': 13317, 'iof': 13318, '513': 13319, 'moralityzionism': 13320, 'hoodedu': 13321, 'berlatsky': 13322, 'colo': 13323, 'lzkely': 13324, 'holidays': 13325, 'wordk': 13326, 'zmne': 13327, 'heyot6': 13328, 'hurry': 13329, 'clothes': 13330, 'fundwhen': 13331, 'thesensualeye': 13332, 'apr': 13333, 'nsfw': 13334, 'boobs': 13335, 'chilli': 13336, 'doritos': 13337, 'asics': 13338, 'gtii': 13339, 'ronnie': 13340, 'fieg': 13341, 'kith': 13342, '3m': 13343, 'joedawg42': 13344, 'wording': 13345, 'imo': 13346, 'blackinamerica': 13347, 'embra': 13348, 'tier': 13349, 'dee': 13350, 'dum': 13351, 'doctorfluxx': 13352, 'stefanejones': 13353, 'spinnellii': 13354, 'themermacorn': 13355, 'embarrassing': 13356, 'wolter': 13357, 'peeters': 13358, 'nsw': 13359, 'rural': 13360, 'la\\x89û': 13361, 'fo': 13362, 'commoditiesåêare': 13363, 'namekians': 13364, 'wildlife': 13365, 'pone': 13366, 'cantar': 13367, 'prohibits': 13368, 'decks': 13369, 's01e09': 13370, 'monday': 13371, 'bloodymonday': 13372, 'tvshowtime': 13373, 'fantasticfour': 13374, 'ocuana': 13375, 'bloodyminded': 13376, 'incredulous': 13377, 'outcry': 13378, 'taxpayers': 13379, 'similar': 13380, 'objection': 13381, 'å£100bn': 13382, 'najibrazak': 13383, 'malaysiaairlines': 13384, 'themthen': 13385, 'gymflow': 13386, 'gymtime': 13387, 'assassins\\x89û': 13388, 'campground': 13389, 'es': 13390, 'au': 13391, '120000': 13392, 'bonhomme37': 13393, 'hwy401': 13394, 'cambridge': 13395, 'avbronstein': 13396, 'popehat': 13397, 'instapundit': 13398, 'kurtschlichter': 13399, 'haley': 13400, 'lu': 13401, 'richardson': 13402, 'khq': 13403, 'ks100': 13404, 'createdunique23': 13405, 'kerenserpa': 13406, 'arianareed11': 13407, 'rendered': 13408, 'kitten': 13409, 'naayf': 13410, 'chandanee': 13411, 'magu': 13412, 'taxi': 13413, 'halfway': 13414, 'conf\\x89û': 13415, 'pydisney': 13416, 'crushmtvhottest': 13417, 'heredeluge': 13418, 'ampwanted': 13419, 'translated': 13420, 'junction': 13421, 'beep': 13422, 'jakeadavis': 13423, 'cuddling': 13424, 'cruises': 13425, 'mi': 13426, 'billmccabe': 13427, 'tahoe': 13428, 'hendy21': 13429, 'purdies': 13430, 'fingerrockfire': 13431, 'azwx': 13432, 'macbreck': 13433, 'meansit': 13434, 'winning': 13435, 'presbad': 13436, 'math': 13437, 'patrickjbutler': 13438, 'damiengayle': 13439, 'closure': 13440, 'expect\\x89û': 13441, 'davidcovucci': 13442, 'heebsterrr': 13443, 'davidvitter': 13444, '2003': 13445, 'dries': 13446, 'bhp': 13447, 'billiton': 13448, 'rotations': 13449, 'leftleaning': 13450, 'learni': 13451, 'banki': 13452, 'emmy': 13453, 'shed': 13454, 'polluted': 13455, '10638': 13456, 'abortion': 13457, 'alameda': 13458, 'coke': 13459, 'roddypiperautos': 13460, 'obamadhs': 13461, 'offenses': 13462, 'gary': 13463, 'buseys': 13464, 'plays': 13465, 'dixie': 13466, 'fiddle': 13467, 'celebration': 13468, 'sequence': 13469, 'carmi': 13470, 'qave': 13471, 'knowlddge': 13472, 'gaelite': 13473, 'orchard': 13474, 'kosher': 13475, 'jewishpress': 13476, 'chaosmagician97': 13477, 'warra': 13478, 'canvas': 13479, 'zipper': 13480, 'argentaelite': 13481, 'restoring': 13482, 'alphen': 13483, 'aan': 13484, 'den': 13485, 'rijn': 13486, 'reporters': 13487, 'geoffrickly': 13488, 'tee': 13489, 'lifeaintfairkid': 13490, 'brooo': 13491, 'noperiferico': 13492, 'orapinforma': 13493, 'agreements': 13494, 'flow': 13495, 'marketforce\\x89ûªs': 13496, '\\x89ûïcat': 13497, 'shark\\x89û\\x9d': 13498, 'greer': 13499, 'stfxuniversity': 13500, 'gpv': 13501, 'wnw': 13502, '12jst': 13503, '18jst': 13504, 'luke': 13505, 'ovaries': 13506, 'jose': 13507, 'willow': 13508, 'glen': 13509, 'trestle': 13510, 'battles': 13511, 'reddevil4life': 13512, 'manutd': 13513, 'santaclara': 13514, 'bayarea': 13515, 'coloiccarnality': 13516, 'instincts': 13517, 'scratches': 13518, 'bestival': 13519, 'molloy': 13520, '21st': 13521, 'freeze': 13522, 'veggies': 13523, 'ani': 13524, 'takeaways': 13525, 'amazon\\x89ûªs': 13526, 'magnificent': 13527, 'esoteric': 13528, 'astrologian': 13529, 'esquireattire': 13530, 'd1ff3r3nt1sg00d': 13531, 'riceechrispies': 13532, 'yoenis': 13533, 'production': 13534, 'roguewatson': 13535, 'playingnow': 13536, 'bloodbound': 13537, 'profithungry': 13538, 'dumbass': 13539, 'itscreams': 13540, 'vibrates': 13541, 'handle': 13542, 'daddy': 13543, 'becarefulharry': 13544, 'correcting': 13545, 'wests': 13546, '\\x89û÷05': 13547, 'youheat': 13548, 'vol': 13549, '5\\x89ûª': 13550, 'deejayempiresound': 13551, 'rlyeh': 13552, 'violation': 13553, 'vanessas': 13554, 'gentlementhe': 13555, 'roimentor': 13556, 'yycwalks': 13557, 'pharrell': 13558, 'davidjordan88': 13559, 'stephanenny': 13560, 'particular': 13561, 'entension': 13562, 'apcåêpdp': 13563, 'fist': 13564, 'pictured': 13565, 'daughterofnai': 13566, 'tenshi': 13567, 'yukis': 13568, 'smth': 13569, 'granted': 13570, 'strongminded': 13571, 'keeper': 13572, 'runnin': 13573, 'orianna': 13574, 'jariana': 13575, 'stans': 13576, 'favors': 13577, 'tak': 13578, 'pokemoncards': 13579, 'icequeenfroslas': 13580, 'rolandonabeats': 13581, 'ellie': 13582, 'goulding': 13583, 'acesse': 13584, 'nosso': 13585, 'para': 13586, 'ouvir': 13587, 'ayshuntornado': 13588, 'raabchar28': 13589, 'drphil': 13590, 'morganlawgrp': 13591, 'selfinflict': 13592, 'consistent': 13593, 'dimensions': 13594, 'forgets': 13595, 'vid': 13596, 'doublecups': 13597, 'trubgme': 13598, 'prod': 13599, 'thisizbwright': 13600, 'teemo': 13601, 'kinder': 13602, 'convivted': 13603, '1n': 13604, 'magnets': 13605, '20skyhawkmm20': 13606, 'traplord29': 13607, 'fredosantana300': 13608, 'lilreese300': 13609, 'hella': 13610, 'mosh': 13611, 'pits': 13612, 'thisisfaz': 13613, 'gaabyx': 13614, 'activist': 13615, 'ushiocomics': 13616, 'submitting': 13617, 'form': 13618, 'worstever': 13619, 'legio': 13620, 'losangeles': 13621, 'destination': 13622, 'bleed': 13623, 'masterpiece': 13624, '61st': 13625, 'calumet': 13626, '2121': 13627, 'chicagoscanner': 13628, 'seas': 13629, 'giannis': 13630, 'submerged': 13631, 'reef': 13632, 'outage': 13633, 'rabidmonkeys1': 13634, 'impulsive': 13635, 'redesigned': 13636, 'reactions': 13637, 'absolutsumya15': 13638, 'microbes': 13639, 'valleywx': 13640, 'sundercr': 13641, 'remixes': 13642, 'merged': 13643, 'betweensong': 13644, 'fd': 13645, 'roofing': 13646, 'halfhr': 13647, 'cabrillo': 13648, 'hwymagellan': 13649, 'mir': 13650, '080615': 13651, '110358': 13652, 'clap': 13653, 'gap': 13654, 'shorts': 13655, 'trophy': 13656, 'badchoices': 13657, 'bantrophyhunting': 13658, 'starbs': 13659, 'swellyjetevo': 13660, 'disneyland': 13661, 'tacos': 13662, 'psalm3422': 13663, 'emini': 13664, 'letdown': 13665, 'equals': 13666, 'sebee': 13667, 'ninja': 13668, 'commence': 13669, 'zomatoaus': 13670, 'lovefood': 13671, '03': 13672, 'oregons': 13673, 'slows': 13674, 'looooooooooool': 13675, 'defeater': 13676, 'yeaahh': 13677, 'dangdaddy': 13678, 'redo': 13679, 'nails': 13680, 'ayyy': 13681, 'beccacaitlyn99': 13682, 'postponed': 13683, 'tweetinglew': 13684, 'tersestuff': 13685, 'notley': 13686, 'heartland': 13687, 'imported': 13688, 'tfw': 13689, 'slaves': 13690, 'albertans': 13691, 'silverhusky': 13692, 'shtap': 13693, 'salted': 13694, 'schoolboy\\x89ûªs': 13695, 'web': 13696, 'leitchfield': 13697, 'bella': 13698, 'rosalie': 13699, 'rescueadoptionlocal': 13700, 'homessponsorships': 13701, 'adopt': 13702, 'overlooked': 13703, 'whyor': 13704, 'modnao23': 13705, 'migraine': 13706, 'orangi': 13707, 'counterterrorism': 13708, 'sindh': 13709, 'homeowners': 13710, 'creepiest': 13711, 'assumes': 13712, 'liveaction': 13713, 'reminded': 13714, 'freshly': 13715, 'coiffed': 13716, 'waited': 13717, 'advertise': 13718, 'ftåêmop': 13719, '10pm': 13720, 'dmerida': 13721, 'nataly': 13722, 'steak': 13723, 'cheer': 13724, 'frail': 13725, 'avigdorliberman': 13726, 'susiya': 13727, 'beheadings': 13728, 'bee': 13729, 'autismawareness': 13730, 'met': 13731, 'idol': 13732, 'aashiqui': 13733, 'anu': 13734, 'aggarwal': 13735, 'nearfatal': 13736, 'thinkpink': 13737, 'magichairbump': 13738, 'marshall': 13739, 'dambisa': 13740, 'moyo': 13741, 'prosyn': 13742, 'oped': 13743, 'mattcohen4fake': 13744, 'gamma': 13745, 'january': 13746, 'lily': 13747, 'xo': 13748, 'cowgirl': 13749, 'dilawri': 13750, 'shopcollision': 13751, 'tournaments': 13752, 'whocares': 13753, 'lickin': 13754, 'donuts': 13755, 'hazardu': 13756, 'deserved': 13757, 'kevinbacon': 13758, 'soz': 13759, 'alexeivolkov1': 13760, 'mcfaul': 13761, 'roskomnadzor': 13762, 'ridiculously': 13763, 'politicized': 13764, 'p2': 13765, 'glosblue66': 13766, 'lolo': 13767, 'disasteramp': 13768, 'cgt': 13769, 'cardboard': 13770, 'uninvestigated': 13771, 'incite': 13772, 'exums': 13773, 'stem': 13774, 'jazzs': 13775, 'hopedfor': 13776, 'alice': 13777, 'uluru': 13778, 'tuicruises': 13779, 'aidade': 13780, 'cruise': 13781, 'faroe': 13782, 'cont': 13783, 'gunning': 13784, 'heartache': 13785, 'misery': 13786, '202': 13787, 'brisk': 13788, 'myfitnesspal': 13789, '9973': 13790, '1699': 13791, 'bids': 13792, 'tattoos': 13793, 'thomashcrown': 13794, 'grandfather': 13795, 'marines': 13796, 'predictions': 13797, 'firework': 13798, 'cactusborderlands': 13799, 'borderlands2': 13800, 'oocvg': 13801, 'ftw': 13802, 'flgovscott': 13803, '10000': 13804, 'males': 13805, 'lilithsaintcrow': 13806, 'prompting': 13807, 'theadvocatemag': 13808, 'bass': 13809, 'dubloadz': 13810, 'droppd': 13811, 'meelllttting': 13812, 'damascus': 13813, 'grinds': 13814, '\\x89û÷alloosh': 13815, 'manure': 13816, 'kainyusanagi': 13817, 'grummz': 13818, 'pixelcanuck': 13819, 'balding': 13820, 'emo': 13821, 'generic': 13822, 'elitist': 13823, 'virg': 13824, 'windits': 13825, 'bulls': 13826, 'betting': 13827, 'rebound': 13828, 'd\\x89û': 13829, 'forney': 13830, 'johndcgow': 13831, 'obedience': 13832, 'jesuss': 13833, 'lawx': 13834, 'technews': 13835, 'puledotechupdate': 13836, 'joined': 13837, 'confesses': 13838, 'whereas': 13839, 'jez': 13840, 'printing': 13841, 'genius': 13842, 'retard': 13843, 'drain': 13844, 'dccc': 13845, 'vj44': 13846, 'jbouie': 13847, 'mmfa': 13848, 'akcsl': 13849, 'venture': 13850, 'suitable': 13851, 'vickybrush': 13852, 'topic': 13853, 'wifi': 13854, 'hotspot': 13855, 'perform': 13856, 'oneman': 13857, 'okgabby': 13858, 'carpooling': 13859, '950': 13860, 'tumbles': 13861, 'todayim': 13862, 'sweeps': 13863, 'bitchruns': 13864, 'stare': 13865, 'aul': 13866, 'appointment': 13867, 'refer': 13868, 'boi': 13869, 'explain': 13870, 'he\\x89ûªs': 13871, '\\x89ûïsippin\\x89ûª': 13872, 'lame': 13873, 'effective': 13874, 'mnpdnashville': 13875, 'montalbanony': 13876, 'welshninja87': 13877, 'carterville': 13878, 'gameday': 13879, 'microsofts': 13880, 'brinco': 13881, 'beacon': 13882, 'news4buffalo': 13883, 'guardrails': 13884, 'bjpsamvad': 13885, 'southaccident': 13886, 'langtree': 13887, 'rdconsider': 13888, '115': 13889, 'alternate': 13890, 'professionally': 13891, 'unsensibly': 13892, 'outrun': 13893, 'edfringe': 13894, 'm00nf00l': 13895, 'titania': 13896, 'summerhallery': 13897, 'reimagining': 13898, 'shakespeares': 13899, 'midsummer': 13900, 'hoes': 13901, 'specials': 13902, 'we\\x89ûªll': 13903, 'smiles': 13904, 'bod': 13905, 'portgassdk': 13906, '72': 13907, 'daniglasgow45': 13908, 'noxdv': 13909, 'emily': 13910, 'difficultpeople': 13911, 'revel': 13912, 'farewell': 13913, 'gtxrwm': 13914, 'ronda': 13915, 'rousey': 13916, 'floyd': 13917, 'mayweathers': 13918, 'boyhaus': 13919, 'jakeåê': 13920, '\\x89ûïafter': 13921, 'montana\\x89ûªs': 13922, 'paraguay': 13923, 'horizon': 13924, 'utp': 13925, 'cocky': 13926, 'strutted': 13927, 'rescued\\x89û': 13928, 'billers': 13929, 'promoted': 13930, 'beluga': 13931, 'seaworld': 13932, 'opseaworld': 13933, 'zachlowenba': 13934, '255': 13935, 'pollster': 13936, 'derivatives': 13937, 'quadrillion': 13938, 'v\\x89û': 13939, 'achievement': 13940, 'replaced': 13941, 'socket': 13942, 'lumbar': 13943, 'ykelquiban': 13944, 'consumes': 13945, 'mentalhealthgov': 13946, 'ahhhhh': 13947, 'alec': 13948, 'tort': 13949, 'injustice': 13950, 'mh': 13951, 'ecstatic': 13952, 'racco': 13953, 'lubrication': 13954, '1130bst': 13955, 'a10gtparis': 13956, 'a40': 13957, 'a7': 13958, 'mons': 13959, 'a1': 13960, 'a2gthanover': 13961, 'karlsruhe': 13962, 'gotthard': 13963, 'shadowflame': 13964, 'wraith': 13965, '\\x89ûª93': 13966, 'yeda': 13967, 'yakub': 13968, 'cools': 13969, 'durban': 13970, 'sandunes': 13971, 'gentle': 13972, 'lapping': 13973, 'gulls': 13974, 'sizewell': 13975, 'carl': 13976, 'everest': 13977, 'cobes': 13978, 'whitt': 13979, 'frost': 13980, 'snuff': 13981, 'godly': 13982, 'someday': 13983, 'produces': 13984, 'autobody': 13985, 'peterhowenecn': 13986, '630830': 13987, 'necn': 13988, 'preseason': 13989, '929': 13990, 'scotiabank': 13991, 'saddledome': 13992, 'faction': 13993, 'integrates': 13994, 'format': 13995, 'interval': 13996, 'shaping': 13997, 'techniqu': 13998, 'hotboy': 13999, 'install': 14000, 'frp': 14001, 'tunas': 14002, 'kijangbank': 14003, 'negara': 14004, '20150814': 14005, 'mentality': 14006, 'jetixrestored': 14007, 'teamo': 14008, 'supremo': 14009, 'pogo': 14010, 'harder': 14011, 'triumph': 14012, 'paine': 14013, 'rhee1975': 14014, 'deliciousvomit': 14015, 'marrie': 14016, 'colnharun': 14017, 'district': 14018, 'cpr': 14019, 'panama': 14020, 'oun': 14021, 'lincoln': 14022, 'logan': 14023, 'yiayplan': 14024, 'amiibos': 14025, 'papi': 14026, 'fujiwara': 14027, 'shunichiro': 14028, 'kenny': 14029, 'pow': 14030, 'talked': 14031, 'celebrations': 14032, 'booty': 14033, 'xv': 14034, 'tagging': 14035, 'sidjsjdjekdjskdjd': 14036, '30pcs': 14037, '12mm': 14038, 'ab': 14039, 'resin': 14040, 'flatback': 14041, 'rhinestone': 14042, 'decoration': 14043, 'fa': 14044, 'zachzaidman': 14045, '670thescore': 14046, 'wld': 14047, 'boycottbears': 14048, 'slain': 14049, 'mexican': 14050, 'unknowingly': 14051, 'breitbartnews': 14052, 'zaynmaiikist': 14053, 'flickershowell': 14054, 'ampmdash': 14055, 'bronville': 14056, 'pittsburgh': 14057, 'barcousky': 14058, 'pb': 14059, 'ekiti': 14060, 'rainwindstorm': 14061, 'odeekiti': 14062, 'gbonyin': 14063, 'lga': 14064, 'tna': 14065, 'appease': 14066, 'morbid': 14067, 'curiosity': 14068, 'destinationimpact': 14069, 'freediscountbks': 14070, 'amreading': 14071, 'porcupine': 14072, 'babysweet420': 14073, '420': 14074, 'sterlingknight': 14075, 'crashsterlingwho': 14076, 'carmel': 14077, 'joeysterling': 14078, 'provokes': 14079, 'asae15': 14080, 'exhibitor': 14081, 'assnchat': 14082, 'tirelessly': 14083, 'sanitised': 14084, 'narrative': 14085, 'hiroshimas': 14086, 'pisco': 14087, 'coya': 14088, 'vegan': 14089, 'bk': 14090, 'strictly': 14091, 'govegan': 14092, 'uniteblue': 14093, 'junko': 14094, 'eazzyp': 14095, 'warranted': 14096, 'japs': 14097, 'strategies': 14098, 'securing': 14099, 'insanelimits': 14100, 'plugin': 14101, 'tps': 14102, 'tdm': 14103, '400t': 14104, 'limits': 14105, 'applied': 14106, 'childsexabuse': 14107, 'coverup': 14108, 'indepth': 14109, 'trailed': 14110, 'colin': 14111, 'goodness': 14112, 'fiya': 14113, 'wearethenews': 14114, 'wisely': 14115, 'carnage': 14116, 'continuinglet': 14117, 'ggindependencmessage': 14118, 'diegt': 14119, 'hardball': 14120, 'lucas': 14121, 'duda': 14122, 'ghost': 14123, 'nic': 14124, 'badass': 14125, 'rolo': 14126, 'jaydennotjared': 14127, 'sending': 14128, 'hugs': 14129, 'meyerbjoern': 14130, 'thelonevirologi': 14131, 'mackayim': 14132, 'newspaper': 14133, '2n': 14134, 'mzgraciebaby': 14135, 'jumpin': 14136, 'officialrealrap': 14137, 'exercised': 14138, 'demon': 14139, 'att': 14140, 'sportinggoods': 14141, 'soap': 14142, 'sudden': 14143, 'twain': 14144, 'bettyfreedoms': 14145, 'abninfvet': 14146, 'steven': 14147, 'theme': 14148, 'upstairs': 14149, 'com': 14150, 'treasures': 14151, 'drains': 14152, 'bardissimo': 14153, 'boyinahorsemask': 14154, 'panda': 14155, 'praying': 14156, 'dukes': 14157, 'mav': 14158, 'encaustic': 14159, 'cerography': 14160, 'byityf': 14161, 'leicestermerc': 14162, 'preppers': 14163, 'doomsday': 14164, 'shtf': 14165, 'preppertalk': 14166, '2a': 14167, 'prepper': 14168, 'browseråêhijacker': 14169, 'onlinemh370': 14170, 'onlinea': 14171, 'tinybaby': 14172, 'adultblackmale': 14173, 'mattytalks': 14174, 'mwednesday': 14175, 'notorious': 14176, 'laboratory': 14177, 'dealer': 14178, 'peta': 14179, 'kabarmesir': 14180, 'badr58': 14181, 'rabaa': 14182, 'observed': 14183, 'rememberrabaa': 14184, 'britons': 14185, 'himalaya': 14186, 'saumur': 14187, '723': 14188, '4193': 14189, 'welovela': 14190, 'nhlducks': 14191, 'blues': 14192, 'sportsroadhouse': 14193, 'åèmgnafricaå¨': 14194, 'pin263789f4': 14195, 'wizkidayo': 14196, 'enemity': 14197, 'bishopfred': 14198, 'contactenergy': 14199, 'clyde': 14200, 'releasing': 14201, 'speccy': 14202, 'fiery': 14203, 'disdain': 14204, 'hannah': 14205, 'connections': 14206, 'indiegogo': 14207, 'dampen': 14208, 'rembr': 14209, 'blizzardfans': 14210, 'lucio': 14211, 'overwatch': 14212, 'bloopandablast': 14213, '8km': 14214, '012624': 14215, '182624': 14216, '070': 14217, 'mages': 14218, 'tail': 14219, 'specialize': 14220, 'natsu': 14221, 'dragneel': 14222, 'x1411': 14223, 'booktubeathon': 14224, 'wm': 14225, 'lewis': 14226, '713pm': 14227, 'mapleridge': 14228, 'lougheed': 14229, '203rd': 14230, 'dewdney': 14231, 'trunk': 14232, 'eto': 14233, 'lou': 14234, 'holtz': 14235, 'antpips67': 14236, 'johnejefferson': 14237, 'myfriendmina': 14238, 'screenshot': 14239, 'ttw': 14240, 'passion': 14241, 'overblown': 14242, 'boxes': 14243, 'exploding': 14244, 'kittens': 14245, 'gameofkittens': 14246, 'explodingkittens\\x89û': 14247, 'breeder': 14248, 'bred': 14249, 'dragonvale': 14250, 'nightmarish': 14251, 'dakota': 14252, 'skye': 14253, 'horny': 14254, 'juicy': 14255, 'joelsherman1': 14256, 'chipper': 14257, 'pu': 14258, 'cod8sandscrims': 14259, 'empirikgaming': 14260, 'codawscrims': 14261, '4tpkotc': 14262, '4tpfa': 14263, 'aftershockorg': 14264, 'elk': 14265, 'monday\\x89ûªs': 14266, 'while\\x89û': 14267, '20s': 14268, 'decisionsondecisions': 14269, 'rachelrofe': 14270, '536': 14271, 'cafetiere': 14272, 'crockery': 14273, 'jasmines': 14274, 'littlewomenla': 14275, 'rbcinsurance': 14276, 'browsers': 14277, 'machines': 14278, 'nonexistant': 14279, 'crazyweather': 14280, 'administrative': 14281, 'girlthatsrio': 14282, 'uncles': 14283, 'shopping': 14284, 'bilsko': 14285, 'humofthecity': 14286, 'intelligence': 14287, 'bhusa': 14288, 'roadid': 14289, 'doco': 14290, '9pm': 14291, 'setanta': 14292, 'freeview': 14293, 'presence': 14294, 'swb1192': 14295, 'prolly': 14296, 'usfs': 14297, 'acronym': 14298, 'onnnn': 14299, 'guyreginald': 14300, 'beauscoven': 14301, 'debbie': 14302, 'ashj': 14303, 'thda': 14304, 'kicks': 14305, 'antiblight': 14306, 'sharply': 14307, 'weaponxmusic': 14308, 'bbsnews': 14309, 'hebron': 14310, 'unknown': 14311, 'reriellechan': 14312, 'lich': 14313, 'niqqa': 14314, 'uphill': 14315, 'forestfires': 14316, 'lizhphoto': 14317, 'outburst': 14318, 'aggression': 14319, 'sux': 14320, 'definition': 14321, 'kach': 14322, '1994': 14323, 'palestinian\\x89û': 14324, 'tricycle': 14325, 'woundedpigeon': 14326, '1061': 14327, '1061thetwister': 14328, 'maddie': 14329, 'tae': 14330, 'oktxduo': 14331, 'roanoketimes': 14332, 'nagelashley': 14333, 'vicken52': 14334, 'basedlarock': 14335, 'goonc1ty': 14336, 'mayoroflondon': 14337, 'compulsory': 14338, 'notrocketscience': 14339, 'iafflocal4416': 14340, 'd33munni': 14341, 'jeannamibian': 14342, 'noooooooo': 14343, 'microwave': 14344, 'intead': 14345, 'thetshirtkid': 14346, 'deathholy': 14347, 'molys': 14348, 'gidiexclusixe': 14349, '\\x89û÷faceless\\x89ûª': 14350, 'bennycapricon': 14351, 'x1402': 14352, 'dwilliams313': 14353, 'ieansquad': 14354, 'teamatowinner': 14355, 'mino': 14356, 'davidolszak': 14357, 'tornados': 14358, 'examinercom': 14359, 'abbyairshow': 14360, 'infested': 14361, 'wimp': 14362, 'mrsbinker': 14363, 'emiliorivera48': 14364, 'davidlabrava': 14365, 'diesel': 14366, 'breed': 14367, 'pug': 14368, 'savagenation': 14369, 'peasants': 14370, 'stalins': 14371, 'redistribute': 14372, 'faminedeath': 14373, 'datingtips': 14374, 'goodreads': 14375, 'nwsbayarea': 14376, 'whiskey': 14377, 'withåêannihilation': 14378, 'weekends': 14379, 'summers': 14380, 'nikki': 14381, 'orphanage': 14382, 'tookem': 14383, 'intriguing': 14384, 'dominant': 14385, 'jobbing': 14386, 'clist': 14387, 'eerie': 14388, 'revealing': 14389, 'cadrought': 14390, 'lakeisabella': 14391, 'jpanzar': 14392, 'exhaustion': 14393, 'illnesses': 14394, 'bromleythe': 14395, 'footage': 14396, 'bernardino': 14397, 'ogtomd': 14398, 'slightest': 14399, 'stirring': 14400, 'wander': 14401, 'stockholm': 14402, 'copperfields': 14403, 'cher': 14404, 'lloyd': 14405, 'satanaofhell': 14406, 'dreamy': 14407, 'noah': 14408, 'rin': 14409, 'misha': 14410, 'emi': 14411, 'kenji': 14412, 'yuuko': 14413, 'nomiya': 14414, 'hisao': 14415, '112': 14416, 'km': 14417, '746': 14418, 'sportwatch': 14419, 'nikeplus': 14420, 'effected': 14421, 'cali': 14422, 'lauradeholanda': 14423, 'forrest': 14424, '83': 14425, 'chemicalweapons': 14426, 'lcc': 14427, '96355': 14428, 'abombed': 14429, 'therein': 14430, '200000': 14431, 'trollkrattos': 14432, 'juan': 14433, 'epa': 14434, 'forrestmankins': 14435, 'repped': 14436, 'fantastic': 14437, 'laura': 14438, 'milne': 14439, 'thejonesesvoice': 14440, 'liguistic': 14441, 'johns': 14442, 'fleetwood': 14443, 'q99': 14444, 'fx': 14445, 'ron': 14446, 'daves': 14447, 'pams': 14448, 'memorable': 14449, 'debates': 14450, '60second': 14451, 'knowitall': 14452, 'ronald': 14453, 'reagans': 14454, 'romp': 14455, 'ajabrown': 14456, 'lwilliams13': 14457, 'phiddleface': 14458, 'hornybigbadwolf': 14459, 'conveniently': 14460, 'zionists': 14461, 'revere': 14462, 'honour': 14463, 'hungerarticles': 14464, 'rebuilding': 14465, 'livelihoods': 14466, 'fe': 14467, 'studebaker': 14468, 'roving': 14469, 'raccoons': 14470, 'toughens': 14471, 'lyme': 14472, 'diplomat': 14473, 'bridgeport': 14474, 'burglar': 14475, 'sworn': 14476, 'proven': 14477, 'thunderstormtornado': 14478, 'woken': 14479, 'aberystwythshrewsbury': 14480, 'halt': 14481, 'shrews': 14482, 'mrrobinson': 14483, 'thesteveharveyshow': 14484, 'vibe': 14485, 'googlemaps': 14486, 'mashup': 14487, 'calculates': 14488, 'aminespn': 14489, 'mencius': 14490, 'wisdc': 14491, 'death2usa': 14492, 'britains': 14493, 'isle': 14494, 'roar': 14495, 'rolling\\x89û': 14496, 'buyout': 14497, 'giants': 14498, 'å£6bn': 14499, 'worldpay': 14500, 'ipo': 14501, 'skyåênews': 14502, 'extent': 14503, 'privilege': 14504, 'unfair': 14505, 'favoritism': 14506, 'oversee': 14507, 'leafs': 14508, 'proc': 14509, 'philippine': 14510, 'changepilipinas': 14511, 'organizers': 14512, 'hawaiianpaddlesports': 14513, 'voices': 14514, 'gilmanrocks7': 14515, 'starve': 14516, 'since1970the': 14517, 'depreciations': 14518, 'cadusd': 14519, 'b4federal': 14520, 'wlandslide': 14521, 'counterstrike': 14522, 'atlarnxx': 14523, 'droughtmonitor': 14524, 'contig': 14525, '80m': 14526, 'boise': 14527, 'rstormcoming': 14528, 'glassanimals': 14529, 'slithering': 14530, 'viscous': 14531, 'yeahs': 14532, 'erykah': 14533, 'badu\\x89û': 14534, 'stressing': 14535, 'starbucks': 14536, 'momneedscoffee': 14537, 'iwontmakeit': 14538, 'charminar': 14539, 'telangana': 14540, 'juneau': 14541, 'citizen': 14542, 'stephengeorg': 14543, 'yellows': 14544, 'slsp': 14545, 'kakajambori': 14546, 'yor': 14547, 'beastin': 14548, 'tapas': 14549, 'funtimes': 14550, 'californians': 14551, 'africas': 14552, 'sahel': 14553, 'chore': 14554, 'nikistitz': 14555, 'oneborn': 14556, 'firepower': 14557, 'resource': 14558, 'infectious': 14559, 'diseases': 14560, 'immigrant': 14561, 'arrests': 14562, 'mccain\\x89ûªs': 14563, 'photographed': 14564, 'isis\\x89û': 14565, 'acmilan': 14566, 'soil': 14567, 'entershikari': 14568, 'jengriffinfnc': 14569, 'arrival': 14570, 'rumbling': 14571, 'durbanknight': 14572, 'nosybe': 14573, 'witches': 14574, 'sibling': 14575, 'rivalry': 14576, 'wogc': 14577, '935': 14578, 'ryleedowns02': 14579, 'nevaehburton33': 14580, 'recovered': 14581, 'airasia': 14582, '660': 14583, 'damage\\x89û\\x9d': 14584, 'nonucleariran': 14585, 'badirandeal': 14586, 'jebbush': 14587, 'on\\x89û': 14588, 'selfie': 14589, 'loboparanoico': 14590, 'windows10': 14591, 'cautious': 14592, 'runaway': 14593, 'minion': 14594, 'hayden': 14595, 'poses': 14596, 'strips': 14597, 'gunsense': 14598, 'gfzs': 14599, 'minuscule': 14600, 'dccomics': 14601, 'imagecomics': 14602, 'darkhorsecomics': 14603, 'idwpublishing': 14604, 'enabling': 14605, 'honduran': 14606, 'minors': 14607, 'tailor': 14608, 'kay': 14609, 'robbed': 14610, 'olrules': 14611, 'chapter': 14612, 'encounters': 14613, 'ckosova': 14614, 'ovofest': 14615, 'ziphimup': 14616, 'bluehand': 14617, 'truthsof': 14618, 'railguns': 14619, 't1000s': 14620, 'hearths': 14621, 'rappers': 14622, 'murlo': 14623, 'android': 14624, 'tribez': 14625, 'androidgames': 14626, 'gameinsight': 14627, 'pedestrians': 14628, 'bicyclists': 14629, 'runners': 14630, 'flow397': 14631, 'atcha': 14632, 'golfball': 14633, 'sunny': 14634, 'parkchat': 14635, 'jaxmk2': 14636, 'fatalityuudlk': 14637, 'mortified': 14638, 'fittscott': 14639, 'vi\\x89û': 14640, 'usama': 14641, 'ladins': 14642, 'naturally': 14643, 'branch': 14644, 'surety': 14645, 'underwritersenior': 14646, 'underwriter': 14647, 'product': 14648, 'bigrigradio': 14649, 'emaaalay': 14650, 'wide': 14651, 'pandora': 14652, 'rotation': 14653, 'condenses': 14654, 'villa': 14655, 'mcv': 14656, 'subtornado': 14657, 'iiii': 14658, 'riveeeeeer': 14659, '7beyonce': 14660, 'warriorcord': 14661, 'authentic': 14662, '550': 14663, 'paracord': 14664, 'milc5040h': 14665, 'strand': 14666, '516': 14667, 'messeymetoo': 14668, 'garbage': 14669, 'trashed': 14670, 'ranks': 14671, 'demise': 14672, 'we\\x89ûªre': 14673, 'extension': 14674, 'we\\x89ûªve': 14675, 'ariana': 14676, 'humboldt': 14677, 'cty': 14678, 'sheriffs': 14679, 'residence': 14680, 'lassics': 14681, 'piss': 14682, 'moan': 14683, 'demeanor': 14684, 'staid': 14685, 'thruuu': 14686, 'setting4success': 14687, 'smallbusiness': 14688, 'themagickidraps': 14689, 'executing': 14690, 'lunasagalle': 14691, 'synapsenkotze': 14692, 'bastard': 14693, 'strains': 14694, 'sprains': 14695, 'seemeth': 14696, 'thereof': 14697, '37592': 14698, 'temporary': 14699, 'replacement': 14700, 'cosme\\x89û': 14701, 'piprhys': 14702, 'withering': 14703, 'undermined': 14704, 'backyard': 14705, 'mustering': 14706, 'doricreates': 14707, 'alhanda': 14708, 'moonbeam': 14709, 'tokes': 14710, 'meg': 14711, 'conservative': 14712, 'contribute': 14713, 'hillaryclinton': 14714, 'jakegint': 14715, 'bothered': 14716, 'traditionalist': 14717, 'asymbina': 14718, 'tithenai': 14719, 'hampered': 14720, 'liking': 14721, 'crossbody': 14722, 'ella': 14723, 'vickers': 14724, 'washable': 14725, 'invaded': 14726, 'pearl': 14727, 'preemptive': 14728, 'freebesieged': 14729, 'tory': 14730, 'waferthin': 14731, 'g\\x89û': 14732, 'freestyles': 14733, 'themaine': 14734, 'shawie17shawie': 14735, 'stavernise': 14736, 'delivered': 14737, 'designer': 14738, 'qualit': 14739, 'sanonofre': 14740, 'prablematicla': 14741, 'adweek': 14742, 'dressed': 14743, 'snowstormdespite': 14744, 'willinghearted': 14745, 'rpn': 14746, 'tjrobertson2': 14747, 'russaky89': 14748, 'trucking': 14749, 'lyrically': 14750, 'knob': 14751, 'm6x100': 14752, 'thread': 14753, 'matakomilk': 14754, 'oblivious': 14755, 'lovelylikelaura': 14756, 'zhenghxn': 14757, 'akame': 14758, 'ghoul': 14759, 'finer': 14760, 'subatomic': 14761, 'spells': 14762, 'parksboardfacts': 14763, 'zippoline': 14764, 'moveit': 14765, 'mistresspip': 14766, 'amazed': 14767, 'mistress': 14768, 'allay': 14769, 'glanders': 14770, 'rio': 14771, 'equestrian': 14772, 'horsetalknz': 14773, '\\x89û÷ransomware\\x89ûª': 14774, 'holds': 14775, 'man\\x89ûªs': 14776, 'wilsons': 14777, 'other\\x89û': 14778, 'micountryhick': 14779, 'pfft': 14780, 'bot': 14781, '140': 14782, 'unhinged': 14783, 'machismo': 14784, 'bullshit': 14785, '\\x89û÷first\\x89ûª': 14786, '\\x89û÷second\\x89ûª': 14787, 'nephew': 14788, 'u\\x89û': 14789, 'integrative': 14790, 'solano': 14791, 'sr37': 14792, 'skaggs': 14793, 'crobscarla': 14794, 'odds': 14795, '8015': 14796, 'phantasmal': 14797, 'cummerbund': 14798, 'dirktrossen': 14799, 'snowstormhailstorm': 14800, '1pack': 14801, '2pack': 14802, '3pack': 14803, 'fleek': 14804, 'careerbest': 14805, 'figures': 14806, 'hazardsdisaster': 14807, 'hashtags': 14808, 'oomf': 14809, 'instagrams': 14810, 'lighter': 14811, 'warthen': 14812, 'midst': 14813, 'bullpen': 14814, 'reopens': 14815, 'pharma': 14816, 'overloaded': 14817, 'pawsox': 14818, 'durham': 14819, 'knoxville': 14820, '999day': 14821, 'disneyirh': 14822, 'teamhennessy': 14823, 'tprimo24': 14824, 'djeddygnj': 14825, 'colombian': 14826, 'festival\\x89û': 14827, 'missleylaha': 14828, 'mmmmmm': 14829, 'oooooohhhh': 14830, 'oooh': 14831, 'ooh': 14832, 'mustard': 14833, 'wccorosen': 14834, 'lloyds': 14835, 'insure': 14836, 'corycove': 14837, 'jacinta': 14838, '2k13': 14839, 'mar': 14840, 'policylab': 14841, 'cecanfs': 14842, 'address': 14843, 'neglect': 14844, 'frequent': 14845, 'uptown': 14846, 'midtown': 14847, 'cn': 14848, 'knives': 14849, 'ojoubot': 14850, 'waldo': 14851, '12u': 14852, 'cooperstown': 14853, 'joestrong': 14854, 'gokitgo': 14855, 'evacide': 14856, 'yessum': 14857, 'firms': 14858, 'cybersecurity': 14859, 'djjohnblaze': 14860, 'sothwest': 14861, 'kirkmin': 14862, 'barthubbuch': 14863, 'weei': 14864, 'bait': 14865, 'patriot': 14866, 'hater': 14867, 'coworkers': 14868, 'discussion': 14869, 'affliction': 14870, 'usg': 14871, 'paeds': 14872, 'imaging': 14873, 'foamed': 14874, 'foamcc': 14875, 'nathanfillion': 14876, 'mcfadden': 14877, 'hamstring': 14878, 'firefigthers': 14879, 'northampton': 14880, 'utopian': 14881, 'inevitably': 14882, 'gulags': 14883, 'that\\x89û': 14884, 'twilightfairy': 14885, 'kindermorgan': 14886, 'annihilating': 14887, 'quarterstaff': 14888, 'ymcglaun': 14889, 'connects': 14890, 'ladyfleur': 14891, 'cafì©': 14892, 'whashtag': 14893, 'antonio': 14894, 'carted': 14895, 'guards': 14896, 'realistic': 14897, 'assets': 14898, 'koz': 14899, '\\x89û÷em': 14900, 'elderly': 14901, 'independent': 14902, 'companionship': 14903, 'chester': 14904, 'chestertweetsuk': 14905, 'voltaire': 14906, 'correlate': 14907, 'bests': 14908, 'marketwatch': 14909, 'allahsfinest12': 14910, 'christiec733': 14911, 'rss': 14912, 'spouse': 14913, 'samesex': 14914, 'amazondeals': 14915, 'skylanders': 14916, '453': 14917, '045': 14918, '949': 14919, '994': 14920, 'anakin': 14921, 'wbc2015': 14922, 'afrikaan': 14923, 'preorder': 14924, 'thebargain': 14925, 'msmigot': 14926, 'convincing': 14927, 'compelling': 14928, 'deniers': 14929, 'tend': 14930, 'givingevidence': 14931, 'watches': 14932, '500th': 14933, 'duststormfilm': 14934, 'suruc': 14935, 'reached': 14936, 'arrogant': 14937, 'detroitpls': 14938, '\\x89ûïdylanmcclure55': 14939, 'zumiez': 14940, 'spyro': 14941, 'texture': 14942, 'hacks': 14943, 'ingame': 14944, 'whoa': 14945, 'morels': 14946, 'ambleside': 14947, 'farmr': 14948, 'martsunmushroom': 14949, 'foragesecret': 14950, 'envyseven': 14951, 'aquarius': 14952, 'queenmy': 14953, 'pretenses': 14954, 'overturesplease': 14955, 'songfor': 14956, 'baskgod': 14957, 'rvacchianonydn': 14958, 'che': 14959, 'guevara': 14960, 'greeting': 14961, 'wished': 14962, 'spilt': 14963, 'mayonnaise': 14964, 'chiasson': 14965, 'sens': 14966, 'coloradoavalanche': 14967, 'nuu': 14968, 'fwt': 14969, 'africanbaze': 14970, 'newsnigeria': 14971, 'shadowman': 14972, 'monstrosities': 14973, 'landsli': 14974, '30s': 14975, 'threatconnect': 14976, 'dfir': 14977, 'threatintel': 14978, 'robertbenglunds': 14979, 'casewrites': 14980, 'grief': 14981, 'taxes': 14982, 'lalaloopsy': 14983, 'dolls': 14984, 'seed': 14985, 'sunburst': 14986, 'seashore': 14987, 'spice': 14988, 'slabs': 14989, 'ripping': 14990, 'labourleadership': 14991, 'contest': 14992, 'happyhour': 14993, 'simmons': 14994, 'camden': 14995, 'handsome': 14996, 'saintrobinho86': 14997, 'demonstrated': 14998, 'alcoholandmetal': 14999, 'trusted': 15000, 'eagles\\x89ûª': 15001, 'matthews': 15002, 'hotnewscake': 15003, 'turnedonfetaboo': 15004, 'hsjb215': 15005, 'samelsamel': 15006, 'charlesadler': 15007, 'lees': 15008, 'browner': 15009, 'bsg': 15010, 'sufficiently': 15011, 'hyped': 15012, '3p': 15013, '330a': 15014, 'lima': 15015, 'dianneg': 15016, 'understood': 15017, 'featuring': 15018, 'be4': 15019, 'justinejayyy': 15020, 'ohgod': 15021, 'scraped': 15022, 'summer2k15': 15023, 'greateranglia': 15024, 'fault': 15025, 'taint': 15026, 'gates': 15027, 'marynmck': 15028, 'adorable': 15029, 'kurtkamka': 15030, 'ariz\\x89û': 15031, 'darrylb1979': 15032, 'thatnot': 15033, '2017': 15034, '2019': 15035, 'lollyknickers': 15036, 'vaginaorcake': 15037, 'actively': 15038, 'embraced': 15039, 'audiences': 15040, 'emhub': 15041, 'ugc': 15042, 'pixeljanosz': 15043, 'angelheartnight': 15044, 'karnythia': 15045, 'premonitions': 15046, 'razak': 15047, 'isla': 15048, 'pantofel': 15049, 'infoorder': 15050, 'sms087809233445': 15051, 'pin23928835': 15052, 'pictwittercompnpizody': 15053, 'deai': 15054, '22beyonce': 15055, 'coated': 15056, 'east\\x89ûªs': 15057, 'layer': 15058, 'grit': 15059, 'medusa': 15060, 'snake': 15061, 'inputs': 15062, 'bsf': 15063, 'jawans': 15064, 'fidayeen': 15065, 'aks': 15066, 'gobsmackeddevastated': 15067, 'tripoli': 15068, 'lookss': 15069, 'tactical': 15070, 'headquarters': 15071, '2for1lapdances': 15072, 'mopheme': 15073, 'bigstar': 15074, 'vuzuhustle': 15075, 'cameronciletti': 15076, 'tigersjostun': 15077, 'uriminzok': 15078, 'puppet': 15079, 'naemolgo': 15080, 'firmly': 15081, 'yiraneuni': 15082, 'checkout': 15083, 'nurgle': 15084, 'snuck': 15085, 'khrones': 15086, 'chiefcg': 15087, 'susanj357': 15088, 'allinwithchris': 15089, 'steveycheese99': 15090, 'mapmyrun': 15091, 'braves': 15092, 'dumping': 15093, 'columbia': 15094, 'inciweb': 15095, '8515': 15096, 'nf': 15097, 'area\\x89û': 15098, '3967': 15099, 'schelbertgeorg': 15100, 'ren': 15101, 'å¤': 15102, 'en\\x89û': 15103, 'outta': 15104, 'whatevs': 15105, 'lowkey': 15106, 'bolstering': 15107, 'cooperation': 15108, 'sputnik': 15109, 'sputnikint': 15110, 'ordained': 15111, 'spurgeon': 15112, 'paulista': 15113, 'argues': 15114, 'pelosis': 15115, 'llegaste': 15116, 'tu': 15117, 'rey': 15118, 'chrisman528': 15119, 'attempted': 15120, 'f496d': 15121, 'sydtraffic': 15122, 'trafficnetwork': 15123, 'huffpostcomedy': 15124, 'attendees': 15125, 'misfitrarity': 15126, 'misfit': 15127, 'thehammers': 15128, 'tonycottee1986': 15129, 'alsowhat': 15130, 'injuredthen': 15131, 'bilic': 15132, 'slated': 15133, 'themhe': 15134, 'decision\\x89û': 15135, 'canagal': 15136, 'agalloch': 15137, 'popeyes': 15138, 'rpics': 15139, 'chikislizeth08': 15140, 'pyrbliss': 15141, 'kc5kh': 15142, 'busines': 15143, 'cottage': 15144, 'garfield': 15145, 'sassy': 15146, 'hunk': 15147, 'smoky': 15148, 'aoms': 15149, 'ibooklove': 15150, 'bookboost': 15151, 'bayonets': 15152, 'departments': 15153, 'randpaul': 15154, 'evilempire': 15155, 'jadehelm15': 15156, '2am': 15157, 'faked': 15158, 'arson\\x89û': 15159, 'angelina': 15160, 'jolie': 15161, 'sef': 15162, 'nears': 15163, 'rite': 15164, 'tlk': 15165, 'widout': 15166, 'nuh': 15167, 'steal': 15168, 'itz': 15169, 'rubbery': 15170, 'knw': 15171, 'flavafraz21': 15172, 'whatcanthedo': 15173, 'wwe': 15174, '2k15': 15175, '149': 15176, 'bigburgerboi55': 15177, 'footballs': 15178, 'spartans': 15179, 'crushing': 15180, 'greasy': 15181, 'benjamin': 15182, 'francis': 15183, 'leftwich': 15184, 'instructions': 15185, 'loaded': 15186, 'mydrought': 15187, 'water\\x89û': 15188, 'garbanzobean23': 15189, 'cutest': 15190, 'indot': 15191, 'bias': 15192, '\\x89ûïstretcher': 15193, 'deck\\x89û\\x9d': 15194, 'alot': 15195, 'hmmm': 15196, 'annoucement': 15197, 'foxa': 15198, 'cmcsa': 15199, 'sni': 15200, 'amcx': 15201, 'viab': 15202, 'twx': 15203, 'corleonedaboss': 15204, 'risky': 15205, 'inches': 15206, 'longll': 15207, 'activate': 15208, 'oldtimey': 15209, 'blink': 15210, 'destructive': 15211, 'hailstorm\\x89û': 15212, 'roy': 15213, '199899': 15214, 'spx': 15215, '171': 15216, 'finite': 15217, 'mint': 15218, 'fahlowcw': 15219, 'queenåê': 15220, 'motogp': 15221, 'indianapolis': 15222, 'espargaro': 15223, 'layout': 15224, 'absence': 15225, 'interactions': 15226, 'thatrussianman': 15227, 'flushes': 15228, 'fnaf': 15229, 'fanfiction': 15230, 'trixiedrowned': 15231, 'pageshi': 15232, 'proxies': 15233, 'promo': 15234, 'pulse': 15235, 'artisteoftheweekfact': 15236, 'coast2coastdjs': 15237, 'crystalblaz': 15238, 'jiwonle': 15239, 'clubbanger': 15240, 'jesse': 15241, 'suffers': 15242, 'behindashield': 15243, 'warsgoddess': 15244, 'jozerphine': 15245, 'everythign': 15246, 'mcpherson': 15247, 'phnotf': 15248, 'cheekiness': 15249, 'bleeds': 15250, 'recoil': 15251, 'jkl': 15252, 'harlan': 15253, 'knox': 15254, 'elephants': 15255, 'kotolily': 15256, 'noahcrothman': 15257, 'minutiae': 15258, 'champagne': 15259, 'wowthe': 15260, 'legionnairesdisease': 15261, 'pneumonia': 15262, 'americanlegion': 15263, 'convention': 15264, '197629': 15265, 'defendant': 15266, 'router': 15267, 'ddos': 15268, 'gaming': 15269, 'desperation': 15270, 'dislocation': 15271, 'separation': 15272, 'condemnation': 15273, 'isolation': 15274, 'overboard': 15275, 'tonyabbottmhr': 15276, 'zombies': 15277, 'crowdtappers': 15278, 'joinvroom': 15279, 'ohhhh': 15280, 'tangletalk': 15281, 'danielle': 15282, 'ouwbball': 15283, 'seismicsoftware': 15284, 'challenges': 15285, 'sales': 15286, 'enablement': 15287, 'movietheatre': 15288, '615': 15289, 'dramaallama': 15290, 'lilourry': 15291, 'stan': 15292, 'narry': 15293, 'ofentsetsie': 15294, 'disabledveterans': 15295, 'groin': 15296, 'thepartyofmeanness': 15297, 'sevenfigz': 15298, 'time\\x89û\\x9d': 15299, 'cabins': 15300, 'reidlake': 15301, 'maca': 15302, 'nwt': 15303, 'yzf': 15304, 'lexi': 15305, 'belle': 15306, 'pikin': 15307, 'montetjwitter11': 15308, 'nolesfan05': 15309, 'nutsandboltssp': 15310, 'hhbu': 15311, '\\x89ûïairplane\\x89û\\x9d': 15312, 'darkreading': 15313, 'smb': 15314, 'relay': 15315, 'steals': 15316, 'credentials': 15317, 'afk10': 15318, 'drjohanfranzen': 15319, 'orchs': 15320, 'tyrant': 15321, 'are\\x89û': 15322, 'heavydirtysoul': 15323, 'bo3': 15324, 'suckers': 15325, 'tremblayeh': 15326, 'sirmixalot': 15327, '165000': 15328, 'dhaka': 15329, '\\x89ûòthe': 15330, 'na': 15331, 'eminem': 15332, 'nate': 15333, 'dogg': 15334, 'halfderailed': 15335, 'halfrailed': 15336, 'deepthoughts': 15337, 'cncpts': 15338, 'solelinks': 15339, 'stephaniemarija': 15340, 'dressing': 15341, 'incessant': 15342, 'guiltygearxxacp': 15343, 'bizzlemahomie': 15344, 'barak': 15345, 'depends': 15346, 'engineshed': 15347, 'xhnews': 15348, 'plants': 15349, 'mickinyman': 15350, 'theatlantic': 15351, 'navigating': 15352, 'ensuing': 15353, 'differently': 15354, 'pt1': 15355, 'pioneer': 15356, 'paleface': 15357, 'raft': 15358, 'container': 15359, 'enkelbiljett': 15360, 'menolippu': 15361, 'lennlen': 15362, 'disinfo': 15363, 'criticalmedia': 15364, 'oregon': 15365, 'easternoregon\\x89û': 15366, 'realjaxclone': 15367, 'sunrays': 15368, 'hairy': 15369, 'dried': 15370, 'spiderweb': 15371, 'topnews': 15372, 'prints': 15373, 'lulu': 15374, 'mypillowstudio': 15375, 'adriennetomah': 15376, 'creeping': 15377, 'inflicted': 15378, 'derma': 15379, 'brackets': 15380, 'demolitiond': 15381, 'fkn': 15382, 'pleb': 15383, 'scam': 15384, 'sarcastic': 15385, 'daytonarea': 15386, 'mallelis': 15387, 'wereonadesolateplanet': 15388, 'belowthemasondixonline': 15389, 'violin': 15390, 'schwarber': 15391, 'cervelli': 15392, 'puff': 15393, 'whistleblower': 15394, 'shantaeskyy': 15395, 'amazin': 15396, 'dedication': 15397, 'trynna': 15398, 'tj': 15399, 'dorrian': 15400, '400000\\x89ûò800000': 15401, 'cjbanning': 15402, '4sake': 15403, 'argsuppose': 15404, 'preborn': 15405, 'individl': 15406, 'rightsgenerally': 15407, 'courtof': 15408, 'forbids': 15409, 'zhejiang': 15410, 'drothvader': 15411, 'cmnevalistis': 15412, 'arachys': 15413, '2500': 15414, 'freshness': 15415, 'carolinagutierr': 15416, 'discount': 15417, 'redesigning': 15418, 'itrawcwb': 15419, 'croydon': 15420, 'crowds': 15421, 'reeves': 15422, 'croydonization': 15423, 'sprinter': 15424, 'frontline': 15425, 'lez': 15426, 'compliant': 15427, 'zergele': 15428, 'qendil': 15429, 'gasoline': 15430, 'jamessnyder22': 15431, 'milwaukee': 15432, 'indyfest': 15433, 'broseidonrex': 15434, 'dapurplesharpie': 15435, 'skimmed': 15436, 'chann': 15437, 'habbo': 15438, 'tic': 15439, 'tac': 15440, 'battleships': 15441, 'matchwood': 15442, 'creationmin': 15443, 'rwrabbit': 15444, 'gooneratheist': 15445, 'atheistic1': 15446, 'lolatjesus': 15447, '100nd': 15448, 'peel': 15449, 'male': 15450, 'southdown': 15451, 'windsor': 15452, 'lifethreatening': 15453, 'pundit': 15454, 'grave': 15455, 'hogan': 15456, 'thanking': 15457, 'publicityalthough': 15458, 'slimebeast': 15459, 'atchisonsean': 15460, 'dal': 15461, 'pity': 15462, 'partys': 15463, 'sorrowful': 15464, 'redemption': 15465, 'platt': 15466, 'lennonparham': 15467, 'jessicastclair': 15468, 'gilmoreguysshow': 15469, 'podcast': 15470, 'ihave44episodesofgg': 15471, 'nojoke': 15472, 'returning': 15473, 'southline': 15474, 'yennora': 15475, 'cabramatta': 15476, 'biblical': 15477, 'candle': 15478, 'cocoa': 15479, 'sip': 15480, 'awesomesauce': 15481, 'gorgeous': 15482, 'firearm': 15483, 'vector': 15484, 'cutter': 15485, 'rifle': 15486, 'coffees': 15487, 'rockstar': 15488, 'forming': 15489, 'guam': 15490, 'molave': 15491, 'martyrs': 15492, 'young\\x89û': 15493, 'spså¨': 15494, 'landi': 15495, 'peritoengrafoscopia': 15496, 'xeni': 15497, 'dua': 15498, 'legna989': 15499, 'roles': 15500, 'thenewshype': 15501, 'relaxinpr': 15502, 'miprv': 15503, 'latimes': 15504, 'freemurphy': 15505, 'hitchhiking': 15506, 'garbagebot': 15507, 'sorely': 15508, 'spell': 15509, 'properly': 15510, 'typos': 15511, 'ell': 15512, 'rubybot': 15513, 'biolab': 15514, 'dumbfounded': 15515, '0106': 15516, '325ci': 15517, '25ll6': 15518, 'smashing': 15519, 'pumpkins': 15520, '89x': 15521, 'nicole': 15522, 'fletcher': 15523, 'inspi': 15524, 'terrific': 15525, 'jyheffect': 15526, 'mechamacgyver': 15527, 'witnessed': 15528, 'spoke': 15529, 'kennedys': 15530, 'diplomacy': 15531, 'avert': 15532, 'bolster': 15533, 'crawling': 15534, 'hea': 15535, 'bailed': 15536, 'nite': 15537, 'showwent': 15538, 'crushit': 15539, 'overrated': 15540, 'experiencesmh': 15541, 'adamnibloe': 15542, '1040pm': 15543, 'defines': 15544, 'perpetrators': 15545, 'hebrooon': 15546, 'derivative': 15547, 'formula': 15548, 'lizzie363': 15549, 'cstsmith': 15550, 'floodrainstorm': 15551, '14000': 15552, 'thnk': 15553, 'rebeccaforreal': 15554, 'accepts': 15555, 'wisconsin': 15556, 'govwalker': 15557, 'nbc15': 15558, 'acarewornheart': 15559, 'sunbathe': 15560, 'joshcorman': 15561, 'ofr': 15562, 'imsushickoflove': 15563, 'alekalicante': 15564, 'gauze': 15565, '47km': 15566, 'northwestproof': 15567, 'zones': 15568, 'legionna': 15569, 'lynchburg': 15570, 'foxnewsvideo': 15571, 'aiiamericangiri': 15572, 'anhqdc': 15573, 'proud': 15574, 'urogyn': 15575, 'mesh': 15576, 'offenders': 15577, 'meshnewsdesk': 15578, 'nevadas': 15579, '\\x89û÷exceptional\\x89ûª': 15580, 'steady': 15581, 'nv': 15582, 'droughtgov': 15583, 'hammond': 15584, 'listing': 15585, 'suing': 15586, 'gorpuazikinak': 15587, 'puddle': 15588, 'joints': 15589, 'eliminate': 15590, 'homeimprovement': 15591, 'busty': 15592, 'natalia': 15593, 'starr': 15594, 'fucks': 15595, 'meetkakarotto': 15596, 'offline': 15597, 'hinata': 15598, 'determine': 15599, 'financially': 15600, 'ongoing': 15601, 'thorins': 15602, 'sandbox': 15603, 'elgeotaofeeq': 15604, 'ambition': 15605, 'ripple': 15606, 'tide': 15607, 'lesleychappelle': 15608, 'commas': 15609, 'testa': 15610, 'distinction': 15611, 'divers': 15612, 'htarvrgly': 15613, 'burglary': 15614, 'worldoil': 15615, 'subscription': 15616, 'capicapricapri': 15617, 'brentobento': 15618, 'wha': 15619, 'madisonpa': 15620, 'floored4': 15621, 'cups': 15622, 'lag': 15623, 'drink\\x89û': 15624, 'rosenthalauthor': 15625, 'crosslondon': 15626, 'accepte': 15627, 'greenlacey': 15628, 'vixmeldrew': 15629, 'beside': 15630, 'opener': 15631, 'gasping': 15632, 'giggling': 15633, 'alvinnelson07': 15634, 'withstand': 15635, 'collisions': 15636, 'immediate': 15637, 'redeemer': 15638, 'romanticsuspense': 15639, 'stevenontwatter': 15640, 'pussyxdestroyer': 15641, 'nuts': 15642, 'flavored': 15643, '1960s': 15644, 'oryx': 15645, 'symbol': 15646, 'peninsula': 15647, 'oliviamiles01': 15648, '60000': 15649, 'casper': 15650, 'planing': 15651, 'constellation': 15652, 'gaia': 15653, 'iclowns': 15654, 'drumstep': 15655, '2iclown': 15656, 'ohhmyjoshh': 15657, 'stevenrulles': 15658, 'hosts': 15659, 'reconnect': 15660, 'rally\\x89û': 15661, 'marek1330': 15662, 'zar': 15663, 'cringes': 15664, 'marek': 15665, 'toss': 15666, 'jaiden': 15667, 'telemarketing': 15668, 'jamaicaobserver': 15669, 'cnewslive': 15670, 'chilis': 15671, 'molten': 15672, 'misfortunebut': 15673, 'darchambau': 15674, 'convene': 15675, 'awards': 15676, 'gis': 15677, 'gisuserpr': 15678, 'geotech': 15679, 'hatchetwielding': 15680, 'unimaginable': 15681, 'salvadors': 15682, 'drivers': 15683, 'bit\\x89û': 15684, 'anarchicteapot': 15685, 'boironusa': 15686, 'zeno001': 15687, 'glononium': 15688, '6c': 15689, 'bashing': 15690, 'nitroglycerin': 15691, 'safyuan': 15692, 'citation': 15693, 'possesion': 15694, 'decriminalized': 15695, 'substance': 15696, 'malabamiandsons': 15697, 'proper': 15698, 'unu': 15699, 'uplifting': 15700, 'anchor': 15701, 'mango': 15702, 'icegtgtgtgt': 15703, 'scariest': 15704, 'vuln': 15705, 'hmmthis': 15706, 'researchers': 15707, 'select': 15708, 'shotgun': 15709, 'denton': 15710, '230': 15711, 'morningampi': 15712, 'tellyampi': 15713, 'bangampmy': 15714, 'dadwho': 15715, 'legwalked': 15716, 'vaccine': 15717, 'norge2040': 15718, 'chpsre': 15719, 'paris': 15720, 'rezaphotography': 15721, 'bulletproof': 15722, 'funeral': 15723, 'aampb': 15724, 'pipeliners': 15725, 'finsup': 15726, 'aa': 15727, 'ayyo': 15728, 'dei': 15729, 'bhavanas': 15730, 'awickedassassin': 15731, 'hugged': 15732, 'tightly': 15733}\n"
          ]
        }
      ]
    },
    {
      "cell_type": "code",
      "source": [
        "threshold = 2\n",
        "total_cnt = len(word_to_index) # 단어의 수\n",
        "rare_cnt = 0 # 등장 빈도수가 1인 것들 개수 카운트\n",
        "total_freq = 0 # 훈련 데이터 전체 단어 빈도수 총 합\n",
        "rare_freq = 0 # 등장 빈도수가 1인 것들의 등장 빈도수의 총 합\n",
        "\n",
        "# 단어와 빈도수의 쌍(pair)을 key와 value로 받는다.\n",
        "for key, value in tokenizer.word_counts.items():\n",
        "    total_freq = total_freq + value\n",
        "\n",
        "    if(value < threshold):\n",
        "        rare_cnt = rare_cnt + 1\n",
        "        rare_freq = rare_freq + value\n",
        "\n",
        "print('등장 빈도가 %s번 이하인 희귀 단어의 수: %s'%(threshold - 1, rare_cnt))\n",
        "print(\"단어 집합(vocabulary)에서 희귀 단어의 비율:\", (rare_cnt / total_cnt)*100)\n",
        "print(\"전체 등장 빈도에서 희귀 단어 등장 빈도 비율:\", (rare_freq / total_freq)*100)"
      ],
      "metadata": {
        "colab": {
          "base_uri": "https://localhost:8080/"
        },
        "id": "g_vMDY7-XFVK",
        "outputId": "544695e4-b73b-40be-e6b7-084768672f5c"
      },
      "execution_count": null,
      "outputs": [
        {
          "output_type": "stream",
          "name": "stdout",
          "text": [
            "등장 빈도가 1번 이하인 희귀 단어의 수: 9951\n",
            "단어 집합(vocabulary)에서 희귀 단어의 비율: 63.24922138180894\n",
            "전체 등장 빈도에서 희귀 단어 등장 빈도 비율: 11.642000584966365\n"
          ]
        }
      ]
    },
    {
      "cell_type": "code",
      "source": [
        "# 한번만 나오는 단어 제거!!!\n",
        "tokenizer = Tokenizer(num_words = total_cnt - rare_cnt + 1)"
      ],
      "metadata": {
        "id": "bgBTnm7QXpq4"
      },
      "execution_count": null,
      "outputs": []
    },
    {
      "cell_type": "code",
      "source": [
        "vocab_size = len(word_to_index) + 1\n",
        "print('단어 집합의 크기: {}'.format((vocab_size)))"
      ],
      "metadata": {
        "colab": {
          "base_uri": "https://localhost:8080/"
        },
        "id": "1BFSEk7qXv2a",
        "outputId": "6681fee3-ccc5-47fa-d0a7-89e74dd8318f"
      },
      "execution_count": null,
      "outputs": [
        {
          "output_type": "stream",
          "name": "stdout",
          "text": [
            "단어 집합의 크기: 15734\n"
          ]
        }
      ]
    },
    {
      "cell_type": "code",
      "source": [
        "print('메일의 최대 길이 : %d' % max(len(sample) for sample in X_train_encoded))\n",
        "print('메일의 평균 길이 : %f' % (sum(map(len, X_train_encoded))/len(X_train_encoded)))"
      ],
      "metadata": {
        "colab": {
          "base_uri": "https://localhost:8080/"
        },
        "id": "M4qiYwGlX46U",
        "outputId": "d4b4bbb9-fb79-490b-a693-1dcf98bd1361"
      },
      "execution_count": null,
      "outputs": [
        {
          "output_type": "stream",
          "name": "stdout",
          "text": [
            "메일의 최대 길이 : 31\n",
            "메일의 평균 길이 : 14.035304\n"
          ]
        }
      ]
    },
    {
      "cell_type": "code",
      "source": [
        "max_len = 189\n",
        "X_train_padded = pad_sequences(X_train_encoded, maxlen = max_len)     # padding\n",
        "print(\"훈련 데이터의 크기(shape):\", X_train_padded.shape)"
      ],
      "metadata": {
        "colab": {
          "base_uri": "https://localhost:8080/"
        },
        "id": "cA3iYpOSYCqV",
        "outputId": "52b5ae15-b897-4f0f-f211-5fe5ff6c377e"
      },
      "execution_count": null,
      "outputs": [
        {
          "output_type": "stream",
          "name": "stdout",
          "text": [
            "훈련 데이터의 크기(shape): (6090, 189)\n"
          ]
        }
      ]
    },
    {
      "cell_type": "code",
      "source": [
        "from tensorflow.keras.layers import SimpleRNN, Embedding, Dense\n",
        "from tensorflow.keras.models import Sequential\n",
        "\n",
        "embedding_dim = 32\n",
        "hidden_units = 32\n",
        "\n",
        "model = Sequential()\n",
        "model.add(Embedding(vocab_size, embedding_dim))\n",
        "model.add(SimpleRNN(hidden_units))\n",
        "model.add(Dense(1, activation='sigmoid'))\n",
        "\n",
        "model.compile(optimizer='rmsprop', loss='binary_crossentropy', metrics=BinaryAccuracy('accuracy'))\n",
        "\n",
        "callbacks_list = [\n",
        "    tf.keras.callbacks.EarlyStopping(\n",
        "        monitor='val_accuracy',                    \n",
        "        patience=2                                 \n",
        "    ) \n",
        "    ]\n",
        "\n",
        "history = model.fit(X_train_padded, y_train, epochs=20, batch_size=64, callbacks = callbacks_list, validation_split=0.2)"
      ],
      "metadata": {
        "colab": {
          "base_uri": "https://localhost:8080/"
        },
        "id": "1-qKjX8lYD6N",
        "outputId": "879f3ab6-3589-4a1c-d582-9720feec918c"
      },
      "execution_count": null,
      "outputs": [
        {
          "output_type": "stream",
          "name": "stdout",
          "text": [
            "Epoch 1/20\n",
            "77/77 [==============================] - 24s 287ms/step - loss: 0.6417 - accuracy: 0.6344 - val_loss: 0.5592 - val_accuracy: 0.7282\n",
            "Epoch 2/20\n",
            "77/77 [==============================] - 17s 223ms/step - loss: 0.4655 - accuracy: 0.7943 - val_loss: 0.5392 - val_accuracy: 0.7151\n",
            "Epoch 3/20\n",
            "77/77 [==============================] - 19s 244ms/step - loss: 0.3290 - accuracy: 0.8690 - val_loss: 0.5556 - val_accuracy: 0.7455\n",
            "Epoch 4/20\n",
            "77/77 [==============================] - 17s 218ms/step - loss: 0.2747 - accuracy: 0.8898 - val_loss: 0.5359 - val_accuracy: 0.7471\n",
            "Epoch 5/20\n",
            "77/77 [==============================] - 17s 219ms/step - loss: 0.1748 - accuracy: 0.9368 - val_loss: 0.5218 - val_accuracy: 0.7775\n",
            "Epoch 6/20\n",
            "77/77 [==============================] - 16s 214ms/step - loss: 0.1345 - accuracy: 0.9548 - val_loss: 0.5820 - val_accuracy: 0.7430\n",
            "Epoch 7/20\n",
            "77/77 [==============================] - 18s 233ms/step - loss: 0.0993 - accuracy: 0.9682 - val_loss: 0.6643 - val_accuracy: 0.7299\n"
          ]
        }
      ]
    },
    {
      "cell_type": "markdown",
      "source": [
        "# LSTM"
      ],
      "metadata": {
        "id": "hW_zlfrwheZy"
      }
    },
    {
      "cell_type": "code",
      "source": [
        "df.dropna(subset = ['text'], inplace = True)\n",
        "\n",
        "X = df['text']\n",
        "y = df['target']"
      ],
      "metadata": {
        "id": "8UabnCFbjl2Y"
      },
      "execution_count": null,
      "outputs": []
    },
    {
      "cell_type": "code",
      "source": [
        "# Nan 제거\n",
        "nan_indices = np.isnan(y)\n",
        "X = X[~nan_indices]\n",
        "y = y[~nan_indices]"
      ],
      "metadata": {
        "id": "jkAtcAVlj7Uc"
      },
      "execution_count": null,
      "outputs": []
    },
    {
      "cell_type": "code",
      "source": [
        "def get_model():\n",
        "    model = tf.keras.Sequential([\n",
        "        Input(name='inputs',shape=[MAX_LEN]),\n",
        "        Embedding(len(tok.word_index), 128),\n",
        "        Bidirectional(tf.keras.layers.LSTM(128,  return_sequences=True)),\n",
        "        Bidirectional(tf.keras.layers.LSTM(64)),\n",
        "        Dense(64, activation='relu'),\n",
        "        Dropout(0.5),\n",
        "        Dense(1, activation='sigmoid')\n",
        "    ])\n",
        "\n",
        "    model.compile(loss=tf.keras.losses.BinaryCrossentropy(),\n",
        "                  optimizer=tf.keras.optimizers.Adam(1e-4),\n",
        "                  metrics=['accuracy'])\n",
        "    \n",
        "    return model"
      ],
      "metadata": {
        "id": "CIqS06mohwjQ"
      },
      "execution_count": null,
      "outputs": []
    },
    {
      "cell_type": "code",
      "source": [
        "X_train, X_test, y_train, y_test = train_test_split(X, y, stratify = y, test_size = 0.2, random_state = 0)"
      ],
      "metadata": {
        "id": "ZtcdiiTyh7G6"
      },
      "execution_count": null,
      "outputs": []
    },
    {
      "cell_type": "code",
      "source": [
        "from tensorflow.keras.layers import Input\n",
        "from tensorflow.keras.layers import Bidirectional\n",
        "from tensorflow.keras.layers import Dropout\n",
        "\n",
        "\n",
        "MAX_LEN = 50\n",
        "\n",
        "tok = Tokenizer()\n",
        "tok.fit_on_texts(X_train)\n",
        "\n",
        "sequences = tok.texts_to_sequences(X_train)\n",
        "test_sequences = tok.texts_to_sequences(X_test)\n",
        "\n",
        "X_train_seq = pad_sequences(sequences,maxlen=MAX_LEN)\n",
        "X_test_seq = pad_sequences(test_sequences,maxlen=MAX_LEN)\n",
        "\n",
        "\n",
        "model = get_model()\n",
        "\n",
        "history = model.fit(X_train_seq, y_train, \n",
        "                    epochs=50, validation_split = 0.2, batch_size = 32, \n",
        "                    callbacks=[EarlyStopping(monitor='val_accuracy',mode='max', patience=6, verbose=False,restore_best_weights=True)])"
      ],
      "metadata": {
        "colab": {
          "base_uri": "https://localhost:8080/"
        },
        "id": "7IHMJ563kVYp",
        "outputId": "09d970dc-80e1-4fc1-b2e2-b43b1fc99219"
      },
      "execution_count": null,
      "outputs": [
        {
          "output_type": "stream",
          "name": "stdout",
          "text": [
            "Epoch 1/50\n",
            "153/153 [==============================] - 29s 126ms/step - loss: 0.6844 - accuracy: 0.5606 - val_loss: 0.6680 - val_accuracy: 0.5961\n",
            "Epoch 2/50\n",
            "153/153 [==============================] - 7s 41ms/step - loss: 0.6137 - accuracy: 0.6677 - val_loss: 0.5036 - val_accuracy: 0.7726\n",
            "Epoch 3/50\n",
            "153/153 [==============================] - 5s 33ms/step - loss: 0.3668 - accuracy: 0.8487 - val_loss: 0.5052 - val_accuracy: 0.7849\n",
            "Epoch 4/50\n",
            "153/153 [==============================] - 3s 22ms/step - loss: 0.2427 - accuracy: 0.9146 - val_loss: 0.5536 - val_accuracy: 0.7890\n",
            "Epoch 5/50\n",
            "153/153 [==============================] - 5s 31ms/step - loss: 0.1510 - accuracy: 0.9497 - val_loss: 0.6226 - val_accuracy: 0.7586\n",
            "Epoch 6/50\n",
            "153/153 [==============================] - 4s 25ms/step - loss: 0.1121 - accuracy: 0.9680 - val_loss: 0.7070 - val_accuracy: 0.7923\n",
            "Epoch 7/50\n",
            "153/153 [==============================] - 3s 18ms/step - loss: 0.0860 - accuracy: 0.9752 - val_loss: 0.8537 - val_accuracy: 0.7479\n",
            "Epoch 8/50\n",
            "153/153 [==============================] - 3s 19ms/step - loss: 0.0657 - accuracy: 0.9799 - val_loss: 0.8504 - val_accuracy: 0.7660\n",
            "Epoch 9/50\n",
            "153/153 [==============================] - 2s 16ms/step - loss: 0.0584 - accuracy: 0.9830 - val_loss: 0.9093 - val_accuracy: 0.7668\n",
            "Epoch 10/50\n",
            "153/153 [==============================] - 4s 23ms/step - loss: 0.0456 - accuracy: 0.9842 - val_loss: 0.9027 - val_accuracy: 0.7660\n",
            "Epoch 11/50\n",
            "153/153 [==============================] - 3s 19ms/step - loss: 0.0481 - accuracy: 0.9826 - val_loss: 1.0517 - val_accuracy: 0.7644\n",
            "Epoch 12/50\n",
            "153/153 [==============================] - 3s 18ms/step - loss: 0.0428 - accuracy: 0.9844 - val_loss: 1.0272 - val_accuracy: 0.7635\n"
          ]
        }
      ]
    },
    {
      "cell_type": "markdown",
      "source": [
        "# ELMO"
      ],
      "metadata": {
        "id": "Blyv0EwpZB6r"
      }
    },
    {
      "cell_type": "code",
      "source": [],
      "metadata": {
        "id": "RuWtwO9uZIAl"
      },
      "execution_count": null,
      "outputs": []
    },
    {
      "cell_type": "markdown",
      "source": [
        "# BERT"
      ],
      "metadata": {
        "id": "QsTn9g1b9ac4"
      }
    },
    {
      "cell_type": "code",
      "source": [
        "max_length = max([len(sent.split()) for sent in df_train.text ])\n",
        "print(max_length)"
      ],
      "metadata": {
        "colab": {
          "base_uri": "https://localhost:8080/"
        },
        "id": "jvnYvpV_ifRP",
        "outputId": "c36b4dbd-74bf-418d-9743-77a72dea5e86"
      },
      "execution_count": null,
      "outputs": [
        {
          "output_type": "stream",
          "name": "stdout",
          "text": [
            "31\n"
          ]
        }
      ]
    },
    {
      "cell_type": "code",
      "source": [
        "max_length = max([len(sent.split()) for sent in df_test.text ])\n",
        "print(max_length)"
      ],
      "metadata": {
        "colab": {
          "base_uri": "https://localhost:8080/"
        },
        "id": "xVltvOxMiim2",
        "outputId": "c445fce7-40c4-4230-e9e8-f87ba73142bd"
      },
      "execution_count": null,
      "outputs": [
        {
          "output_type": "stream",
          "name": "stdout",
          "text": [
            "31\n"
          ]
        }
      ]
    },
    {
      "cell_type": "code",
      "source": [
        "!pip install transformers"
      ],
      "metadata": {
        "id": "ZoJP4Vo_r6Yc",
        "outputId": "7c2cfa6f-e6c0-4c05-c6d4-7a71111deab8",
        "colab": {
          "base_uri": "https://localhost:8080/"
        }
      },
      "execution_count": null,
      "outputs": [
        {
          "output_type": "stream",
          "name": "stdout",
          "text": [
            "Looking in indexes: https://pypi.org/simple, https://us-python.pkg.dev/colab-wheels/public/simple/\n",
            "Collecting transformers\n",
            "  Downloading transformers-4.29.2-py3-none-any.whl (7.1 MB)\n",
            "\u001b[2K     \u001b[90m━━━━━━━━━━━━━━━━━━━━━━━━━━━━━━━━━━━━━━━━\u001b[0m \u001b[32m7.1/7.1 MB\u001b[0m \u001b[31m97.1 MB/s\u001b[0m eta \u001b[36m0:00:00\u001b[0m\n",
            "\u001b[?25hRequirement already satisfied: filelock in /usr/local/lib/python3.10/dist-packages (from transformers) (3.12.0)\n",
            "Collecting huggingface-hub<1.0,>=0.14.1 (from transformers)\n",
            "  Downloading huggingface_hub-0.14.1-py3-none-any.whl (224 kB)\n",
            "\u001b[2K     \u001b[90m━━━━━━━━━━━━━━━━━━━━━━━━━━━━━━━━━━━━━━\u001b[0m \u001b[32m224.5/224.5 kB\u001b[0m \u001b[31m28.7 MB/s\u001b[0m eta \u001b[36m0:00:00\u001b[0m\n",
            "\u001b[?25hRequirement already satisfied: numpy>=1.17 in /usr/local/lib/python3.10/dist-packages (from transformers) (1.22.4)\n",
            "Requirement already satisfied: packaging>=20.0 in /usr/local/lib/python3.10/dist-packages (from transformers) (23.1)\n",
            "Requirement already satisfied: pyyaml>=5.1 in /usr/local/lib/python3.10/dist-packages (from transformers) (6.0)\n",
            "Requirement already satisfied: regex!=2019.12.17 in /usr/local/lib/python3.10/dist-packages (from transformers) (2022.10.31)\n",
            "Requirement already satisfied: requests in /usr/local/lib/python3.10/dist-packages (from transformers) (2.27.1)\n",
            "Collecting tokenizers!=0.11.3,<0.14,>=0.11.1 (from transformers)\n",
            "  Downloading tokenizers-0.13.3-cp310-cp310-manylinux_2_17_x86_64.manylinux2014_x86_64.whl (7.8 MB)\n",
            "\u001b[2K     \u001b[90m━━━━━━━━━━━━━━━━━━━━━━━━━━━━━━━━━━━━━━━━\u001b[0m \u001b[32m7.8/7.8 MB\u001b[0m \u001b[31m103.7 MB/s\u001b[0m eta \u001b[36m0:00:00\u001b[0m\n",
            "\u001b[?25hRequirement already satisfied: tqdm>=4.27 in /usr/local/lib/python3.10/dist-packages (from transformers) (4.65.0)\n",
            "Requirement already satisfied: fsspec in /usr/local/lib/python3.10/dist-packages (from huggingface-hub<1.0,>=0.14.1->transformers) (2023.4.0)\n",
            "Requirement already satisfied: typing-extensions>=3.7.4.3 in /usr/local/lib/python3.10/dist-packages (from huggingface-hub<1.0,>=0.14.1->transformers) (4.5.0)\n",
            "Requirement already satisfied: urllib3<1.27,>=1.21.1 in /usr/local/lib/python3.10/dist-packages (from requests->transformers) (1.26.15)\n",
            "Requirement already satisfied: certifi>=2017.4.17 in /usr/local/lib/python3.10/dist-packages (from requests->transformers) (2022.12.7)\n",
            "Requirement already satisfied: charset-normalizer~=2.0.0 in /usr/local/lib/python3.10/dist-packages (from requests->transformers) (2.0.12)\n",
            "Requirement already satisfied: idna<4,>=2.5 in /usr/local/lib/python3.10/dist-packages (from requests->transformers) (3.4)\n",
            "Installing collected packages: tokenizers, huggingface-hub, transformers\n",
            "Successfully installed huggingface-hub-0.14.1 tokenizers-0.13.3 transformers-4.29.2\n"
          ]
        }
      ]
    },
    {
      "cell_type": "code",
      "source": [
        "from transformers import AutoTokenizer, TFBertModel\n",
        "tokenizer = AutoTokenizer.from_pretrained('bert-base-uncased')\n",
        "bert = TFBertModel.from_pretrained('bert-base-uncased')"
      ],
      "metadata": {
        "id": "HnCf0kAgryyx",
        "outputId": "c67a2165-3039-419b-ca74-df3be8ba6a82",
        "colab": {
          "base_uri": "https://localhost:8080/",
          "height": 270,
          "referenced_widgets": [
            "874fd947d9a84cc496d42e585604683e",
            "44bded3eccdc48a689a4c6f33e78ac9e",
            "182db6abdab3486ea500b71a521fbedb",
            "c8722005ba934af0bd2c0cbb1e85c3d3",
            "34c0f85f072c4438ab51625f27eab3fe",
            "c8749aa02683491fa3b8c9a4465eef5a",
            "b3eeec32e687458286be10055d293820",
            "48e32a4d4f6145ed83942299f4c72d4d",
            "c7443b7d71894ac1b261e9fefda98e6a",
            "4bf5c40b1e49428da3c9aa3f10db352f",
            "7203a417564841d0923ad42305117881",
            "5b48cde099f04257b9015e41ed4367db",
            "d8075fe8d5c449a48d670db75c99fb69",
            "d58f0110a8ed4affac7f64a3962a59e6",
            "7aec2409def5428f86e1ed26dd29bf9c",
            "ec1b874be5864eee876ddca2dfc7e90d",
            "e2766c1e7aba4324ad8b51c8ff2909ae",
            "9f7dbdf9f1b14027b94e9a48be7e708f",
            "e6277174d44847bb9e8b1c4483dee5b9",
            "f08c1f41b35f4fa0b08f6de90614c78e",
            "056be94d410b475e8462f8a0d7a4a1b4",
            "339b27cc039f4879b008510f33ba2d74",
            "2adf9f1a751747ada8994f7ac9799aaa",
            "3ec33fed60ce4c419ddbc9389009c637",
            "33272edb2c464c44bbffc73e013b58df",
            "4573959ee2554e708f2e5bda113c5bc0",
            "b66af55995714e35b3c51ac88449f384",
            "0a8109477c244ef79ab648698ebe5930",
            "2a26f66069414fa2a854ea85219486fc",
            "25897e82253740ca9fea9d5ce52b1e7a",
            "160a9402c6064e78a1b9d336d0e40d6b",
            "f92414b93a63439294f415067b8fceff",
            "2f11d7f7a98f45849dca49ef3feb1185",
            "8a49c5c185364a0b8e707282d7df5365",
            "e03cf21c6eec4467ad110876dca7c833",
            "1371251f35804b2ba38bf7be5b41acfa",
            "00b200b597ff4e19ad2cce02662b738f",
            "7aa4668d06234426993c3b38a14bcb55",
            "05aaac5abbc64d6eadad15cb701a1893",
            "003a306008604c0fa4d8382877e818e5",
            "b54371ef1850493d818128cd3415141d",
            "4131ffb1f3674ee8933ccc2f94f2424b",
            "8fb6c4360a76445d873250f01cb5952b",
            "6a9eb863b3a84e1b9fa399a5433d4fd2",
            "3cc95fe730a645be87e41edbf122f4d0",
            "f453ef2e37a14156ac00a1dbcdc784ff",
            "ac29a524356a4e22b6f8a6add1d9dcd5",
            "858bbfc1dda74cecbfdd20f1b8059a08",
            "5555ac26c5c144e7a57082bfa540d0c5",
            "f18bc50e9ae04972911fdef465092cb9",
            "d525d981ab6e4983a6036b8b48e8768a",
            "72c47ea26b5d415db8e628580ed6a188",
            "e20ed1b883194df689ce51a544e5dd00",
            "f36f6cdd70c348ebb0ddc14f56e63e7d",
            "888526ec84a8464197489b57c8cfc515"
          ]
        }
      },
      "execution_count": null,
      "outputs": [
        {
          "output_type": "display_data",
          "data": {
            "text/plain": [
              "Downloading (…)okenizer_config.json:   0%|          | 0.00/28.0 [00:00<?, ?B/s]"
            ],
            "application/vnd.jupyter.widget-view+json": {
              "version_major": 2,
              "version_minor": 0,
              "model_id": "874fd947d9a84cc496d42e585604683e"
            }
          },
          "metadata": {}
        },
        {
          "output_type": "display_data",
          "data": {
            "text/plain": [
              "Downloading (…)lve/main/config.json:   0%|          | 0.00/570 [00:00<?, ?B/s]"
            ],
            "application/vnd.jupyter.widget-view+json": {
              "version_major": 2,
              "version_minor": 0,
              "model_id": "5b48cde099f04257b9015e41ed4367db"
            }
          },
          "metadata": {}
        },
        {
          "output_type": "display_data",
          "data": {
            "text/plain": [
              "Downloading (…)solve/main/vocab.txt:   0%|          | 0.00/232k [00:00<?, ?B/s]"
            ],
            "application/vnd.jupyter.widget-view+json": {
              "version_major": 2,
              "version_minor": 0,
              "model_id": "2adf9f1a751747ada8994f7ac9799aaa"
            }
          },
          "metadata": {}
        },
        {
          "output_type": "display_data",
          "data": {
            "text/plain": [
              "Downloading (…)/main/tokenizer.json:   0%|          | 0.00/466k [00:00<?, ?B/s]"
            ],
            "application/vnd.jupyter.widget-view+json": {
              "version_major": 2,
              "version_minor": 0,
              "model_id": "8a49c5c185364a0b8e707282d7df5365"
            }
          },
          "metadata": {}
        },
        {
          "output_type": "display_data",
          "data": {
            "text/plain": [
              "Downloading tf_model.h5:   0%|          | 0.00/536M [00:00<?, ?B/s]"
            ],
            "application/vnd.jupyter.widget-view+json": {
              "version_major": 2,
              "version_minor": 0,
              "model_id": "3cc95fe730a645be87e41edbf122f4d0"
            }
          },
          "metadata": {}
        },
        {
          "output_type": "stream",
          "name": "stderr",
          "text": [
            "Some layers from the model checkpoint at bert-base-uncased were not used when initializing TFBertModel: ['nsp___cls', 'mlm___cls']\n",
            "- This IS expected if you are initializing TFBertModel from the checkpoint of a model trained on another task or with another architecture (e.g. initializing a BertForSequenceClassification model from a BertForPreTraining model).\n",
            "- This IS NOT expected if you are initializing TFBertModel from the checkpoint of a model that you expect to be exactly identical (initializing a BertForSequenceClassification model from a BertForSequenceClassification model).\n",
            "All the layers of TFBertModel were initialized from the model checkpoint at bert-base-uncased.\n",
            "If your task is similar to the task the model of the checkpoint was trained on, you can already use TFBertModel for predictions without further training.\n"
          ]
        }
      ]
    },
    {
      "cell_type": "code",
      "source": [
        "train_data, val_data, train_labels, val_labels = train_test_split(df_train.text.values, df_train.target.values, test_size=0.2, random_state=10)"
      ],
      "metadata": {
        "id": "ItPpGxy_T9y8"
      },
      "execution_count": null,
      "outputs": []
    },
    {
      "cell_type": "code",
      "source": [
        "train_data = tokenizer(\n",
        "text = train_data.tolist(),\n",
        "    add_special_tokens = True,\n",
        "    max_length = 34,\n",
        "    truncation = True,\n",
        "    padding = True,\n",
        "    return_tensors = 'tf',\n",
        "    return_token_type_ids = False,\n",
        "    return_attention_mask = True,\n",
        "    verbose = True\n",
        "    \n",
        ")"
      ],
      "metadata": {
        "id": "H6rBXI7wiRqg"
      },
      "execution_count": null,
      "outputs": []
    },
    {
      "cell_type": "code",
      "source": [
        "train_data"
      ],
      "metadata": {
        "colab": {
          "base_uri": "https://localhost:8080/"
        },
        "id": "dV8bNxFDjYKi",
        "outputId": "b596c18d-c24a-4d7e-a1c0-58828b45b033"
      },
      "execution_count": null,
      "outputs": [
        {
          "output_type": "execute_result",
          "data": {
            "text/plain": [
              "{'input_ids': <tf.Tensor: shape=(6090, 34), dtype=int32, numpy=\n",
              "array([[  101,  5796,  4328, ...,     0,     0,     0],\n",
              "       [  101,  8026, 14887, ...,     0,     0,     0],\n",
              "       [  101,  3963,  2086, ...,     0,     0,     0],\n",
              "       ...,\n",
              "       [  101,  5043,  2007, ...,     0,     0,     0],\n",
              "       [  101,  2663,  5622, ...,     0,     0,     0],\n",
              "       [  101,  5506,  2314, ...,     0,     0,     0]], dtype=int32)>, 'attention_mask': <tf.Tensor: shape=(6090, 34), dtype=int32, numpy=\n",
              "array([[1, 1, 1, ..., 0, 0, 0],\n",
              "       [1, 1, 1, ..., 0, 0, 0],\n",
              "       [1, 1, 1, ..., 0, 0, 0],\n",
              "       ...,\n",
              "       [1, 1, 1, ..., 0, 0, 0],\n",
              "       [1, 1, 1, ..., 0, 0, 0],\n",
              "       [1, 1, 1, ..., 0, 0, 0]], dtype=int32)>}"
            ]
          },
          "metadata": {},
          "execution_count": 36
        }
      ]
    },
    {
      "cell_type": "code",
      "source": [
        "val_data = tokenizer(\n",
        "text = val_data.tolist(),\n",
        "    add_special_tokens = True,\n",
        "    max_length = 34,\n",
        "    truncation = True,\n",
        "    padding = True,\n",
        "    return_tensors = 'tf',\n",
        "    return_token_type_ids = False,\n",
        "    return_attention_mask = True,\n",
        "    verbose = True\n",
        "    \n",
        ")"
      ],
      "metadata": {
        "id": "tNPeY2I7VaiQ"
      },
      "execution_count": null,
      "outputs": []
    },
    {
      "cell_type": "markdown",
      "source": [
        "##Model"
      ],
      "metadata": {
        "id": "bPr9J2yCisih"
      }
    },
    {
      "cell_type": "code",
      "source": [
        "import tensorflow as tf\n",
        "from tensorflow import keras\n",
        "from tensorflow.keras import layers\n",
        "from tensorflow.keras.optimizers import Adam\n",
        "from tensorflow.keras.callbacks import EarlyStopping\n",
        "from tensorflow.keras.initializers import TruncatedNormal\n",
        "from tensorflow.keras.losses import CategoricalCrossentropy,BinaryCrossentropy\n",
        "from tensorflow.keras.metrics import CategoricalAccuracy,BinaryAccuracy\n",
        "from tensorflow.keras.utils import to_categorical\n",
        "from tensorflow.keras.utils import plot_model"
      ],
      "metadata": {
        "id": "cyoE3br3isa_"
      },
      "execution_count": null,
      "outputs": []
    },
    {
      "cell_type": "code",
      "source": [
        "max_len = 34\n",
        "\n",
        "\n",
        "input_ids = keras.Input(shape = (max_len,), dtype = tf.int32, name = 'input_ids')\n",
        "input_mask = keras.Input(shape = (max_len,), dtype = tf.int32, name = 'input_mask')\n",
        "\n",
        "embeddings = bert([input_ids, input_mask])[1]\n",
        "\n",
        "out = tf.keras.layers.Dropout(0.1)(embeddings)\n",
        "\n",
        "out = Dense(128, activation='relu')(out)\n",
        "out = tf.keras.layers.Dropout(0.1)(out)\n",
        "out = Dense(32,activation = 'relu')(out)\n",
        "\n",
        "y = Dense(1,activation = 'sigmoid')(out)\n",
        "    \n",
        "model = tf.keras.Model(inputs=[input_ids, input_mask], outputs=y)\n",
        "model.layers[2].trainable = True"
      ],
      "metadata": {
        "id": "MK942QLUkISi"
      },
      "execution_count": null,
      "outputs": []
    },
    {
      "cell_type": "code",
      "source": [
        "model.summary()"
      ],
      "metadata": {
        "id": "gvigHui-kRwh"
      },
      "execution_count": null,
      "outputs": []
    },
    {
      "cell_type": "code",
      "source": [
        "train_data['input_ids']"
      ],
      "metadata": {
        "id": "N-n-g8PKmG9O"
      },
      "execution_count": null,
      "outputs": []
    },
    {
      "cell_type": "code",
      "source": [
        "from keras.optimizers import Adam\n",
        "optimizer = Adam(\n",
        "    learning_rate=6e-06, # this learning rate is for bert model , taken from huggingface website \n",
        "    epsilon=1e-08,\n",
        "    decay=0.01,\n",
        "    clipnorm=1.0)\n",
        "loss = BinaryCrossentropy(from_logits = True)\n",
        "metric = BinaryAccuracy('accuracy')\n",
        "\n",
        "\n",
        "model.compile(\n",
        "    optimizer = optimizer,\n",
        "    loss = loss, \n",
        "    metrics = metric)\n",
        "\n",
        "callbacks_list = [\n",
        "    tf.keras.callbacks.EarlyStopping(\n",
        "        monitor='val_accuracy',                    \n",
        "        patience=2                                 \n",
        "    ),\n",
        "    tf.keras.callbacks.ModelCheckpoint(                \n",
        "        filepath=\"checkpoint_path.keras\",        \n",
        "        monitor='val_accuracy',                          \n",
        "        save_best_only=True,                       \n",
        "        verbose=1                                   \n",
        "    )\n",
        "]"
      ],
      "metadata": {
        "id": "5F8X-6wekX3E"
      },
      "execution_count": null,
      "outputs": []
    },
    {
      "cell_type": "code",
      "source": [
        "train_history = model.fit(\n",
        "    x ={'input_ids':train_data['input_ids'],'input_mask':train_data['attention_mask']} ,\n",
        "    y = train_labels,\n",
        "    validation_data = ({'input_ids':val_data['input_ids'],'input_mask':val_data['attention_mask']},val_labels),\n",
        "    callbacks=callbacks_list,\n",
        "    #validation_split = 0.1,\n",
        "    epochs=20,\n",
        "    batch_size=10\n",
        ")"
      ],
      "metadata": {
        "colab": {
          "base_uri": "https://localhost:8080/",
          "height": 247
        },
        "id": "tlFyzInUkS2W",
        "outputId": "1ea218f1-3c04-4bdf-f916-6af0b9afb0f0"
      },
      "execution_count": null,
      "outputs": [
        {
          "output_type": "error",
          "ename": "IndexError",
          "evalue": "ignored",
          "traceback": [
            "\u001b[0;31m---------------------------------------------------------------------------\u001b[0m",
            "\u001b[0;31mIndexError\u001b[0m                                Traceback (most recent call last)",
            "\u001b[0;32m<ipython-input-58-6dd81c5bb0ab>\u001b[0m in \u001b[0;36m<cell line: 1>\u001b[0;34m()\u001b[0m\n\u001b[1;32m      1\u001b[0m train_history = model.fit(\n\u001b[0;32m----> 2\u001b[0;31m     \u001b[0mx\u001b[0m \u001b[0;34m=\u001b[0m\u001b[0;34m{\u001b[0m\u001b[0;34m'input_ids'\u001b[0m\u001b[0;34m:\u001b[0m\u001b[0mtrain_data\u001b[0m\u001b[0;34m[\u001b[0m\u001b[0;34m'input_ids'\u001b[0m\u001b[0;34m]\u001b[0m\u001b[0;34m,\u001b[0m\u001b[0;34m'input_mask'\u001b[0m\u001b[0;34m:\u001b[0m\u001b[0mtrain_data\u001b[0m\u001b[0;34m[\u001b[0m\u001b[0;34m'attention_mask'\u001b[0m\u001b[0;34m]\u001b[0m\u001b[0;34m}\u001b[0m \u001b[0;34m,\u001b[0m\u001b[0;34m\u001b[0m\u001b[0;34m\u001b[0m\u001b[0m\n\u001b[0m\u001b[1;32m      3\u001b[0m     \u001b[0my\u001b[0m \u001b[0;34m=\u001b[0m \u001b[0mtrain_labels\u001b[0m\u001b[0;34m,\u001b[0m\u001b[0;34m\u001b[0m\u001b[0;34m\u001b[0m\u001b[0m\n\u001b[1;32m      4\u001b[0m     \u001b[0mvalidation_data\u001b[0m \u001b[0;34m=\u001b[0m \u001b[0;34m(\u001b[0m\u001b[0;34m{\u001b[0m\u001b[0;34m'input_ids'\u001b[0m\u001b[0;34m:\u001b[0m\u001b[0mval_data\u001b[0m\u001b[0;34m[\u001b[0m\u001b[0;34m'input_ids'\u001b[0m\u001b[0;34m]\u001b[0m\u001b[0;34m,\u001b[0m\u001b[0;34m'input_mask'\u001b[0m\u001b[0;34m:\u001b[0m\u001b[0mval_data\u001b[0m\u001b[0;34m[\u001b[0m\u001b[0;34m'attention_mask'\u001b[0m\u001b[0;34m]\u001b[0m\u001b[0;34m}\u001b[0m\u001b[0;34m,\u001b[0m\u001b[0mval_labels\u001b[0m\u001b[0;34m)\u001b[0m\u001b[0;34m,\u001b[0m\u001b[0;34m\u001b[0m\u001b[0;34m\u001b[0m\u001b[0m\n\u001b[1;32m      5\u001b[0m     \u001b[0mcallbacks\u001b[0m\u001b[0;34m=\u001b[0m\u001b[0mcallbacks_list\u001b[0m\u001b[0;34m,\u001b[0m\u001b[0;34m\u001b[0m\u001b[0;34m\u001b[0m\u001b[0m\n",
            "\u001b[0;31mIndexError\u001b[0m: only integers, slices (`:`), ellipsis (`...`), numpy.newaxis (`None`) and integer or boolean arrays are valid indices"
          ]
        }
      ]
    },
    {
      "cell_type": "code",
      "source": [
        "loaded_model = tf.keras.models.load_model('checkpoint_path.keras', custom_objects={\"TFBertModel\": TFBertModel})"
      ],
      "metadata": {
        "id": "eFeY60bMxDa4"
      },
      "execution_count": null,
      "outputs": []
    },
    {
      "cell_type": "code",
      "source": [
        "x_test = tokenizer(\n",
        "    text=df_test.text.tolist(),\n",
        "    add_special_tokens=True,\n",
        "    max_length=34,\n",
        "    truncation=True,\n",
        "    padding=True, \n",
        "    return_tensors='tf',\n",
        "    return_token_type_ids = False,\n",
        "    return_attention_mask = True,\n",
        "    verbose = True)"
      ],
      "metadata": {
        "id": "kS2bWiTIyD07",
        "colab": {
          "base_uri": "https://localhost:8080/"
        },
        "outputId": "71311b5b-4c00-440a-eaec-6df8e3ee861e"
      },
      "execution_count": null,
      "outputs": [
        {
          "output_type": "error",
          "ename": "TypeError",
          "evalue": "ignored",
          "traceback": [
            "\u001b[0;31m---------------------------------------------------------------------------\u001b[0m",
            "\u001b[0;31mTypeError\u001b[0m                                 Traceback (most recent call last)",
            "\u001b[0;32m<ipython-input-42-6da08b6960f1>\u001b[0m in \u001b[0;36m<cell line: 1>\u001b[0;34m()\u001b[0m\n\u001b[0;32m----> 1\u001b[0;31m x_test = tokenizer(\n\u001b[0m\u001b[1;32m      2\u001b[0m     \u001b[0mtext\u001b[0m\u001b[0;34m=\u001b[0m\u001b[0mdf_test\u001b[0m\u001b[0;34m.\u001b[0m\u001b[0mtext\u001b[0m\u001b[0;34m.\u001b[0m\u001b[0mtolist\u001b[0m\u001b[0;34m(\u001b[0m\u001b[0;34m)\u001b[0m\u001b[0;34m,\u001b[0m\u001b[0;34m\u001b[0m\u001b[0;34m\u001b[0m\u001b[0m\n\u001b[1;32m      3\u001b[0m     \u001b[0madd_special_tokens\u001b[0m\u001b[0;34m=\u001b[0m\u001b[0;32mTrue\u001b[0m\u001b[0;34m,\u001b[0m\u001b[0;34m\u001b[0m\u001b[0;34m\u001b[0m\u001b[0m\n\u001b[1;32m      4\u001b[0m     \u001b[0mmax_length\u001b[0m\u001b[0;34m=\u001b[0m\u001b[0;36m34\u001b[0m\u001b[0;34m,\u001b[0m\u001b[0;34m\u001b[0m\u001b[0;34m\u001b[0m\u001b[0m\n\u001b[1;32m      5\u001b[0m     \u001b[0mtruncation\u001b[0m\u001b[0;34m=\u001b[0m\u001b[0;32mTrue\u001b[0m\u001b[0;34m,\u001b[0m\u001b[0;34m\u001b[0m\u001b[0;34m\u001b[0m\u001b[0m\n",
            "\u001b[0;31mTypeError\u001b[0m: 'Tokenizer' object is not callable"
          ]
        }
      ]
    },
    {
      "cell_type": "code",
      "source": [
        "x_test['attention_mask']"
      ],
      "metadata": {
        "id": "emw0XBARyHVO"
      },
      "execution_count": null,
      "outputs": []
    },
    {
      "cell_type": "code",
      "source": [
        "predicted = loaded_model.predict({'input_ids':x_test['input_ids'],'input_mask':x_test['attention_mask']})"
      ],
      "metadata": {
        "id": "93xTYO0ayJCW",
        "colab": {
          "base_uri": "https://localhost:8080/"
        },
        "outputId": "05c3accf-a570-464e-8474-48414842d2d1"
      },
      "execution_count": null,
      "outputs": [
        {
          "output_type": "error",
          "ename": "NameError",
          "evalue": "ignored",
          "traceback": [
            "\u001b[0;31m---------------------------------------------------------------------------\u001b[0m",
            "\u001b[0;31mNameError\u001b[0m                                 Traceback (most recent call last)",
            "\u001b[0;32m<ipython-input-43-90a8c67f8fb8>\u001b[0m in \u001b[0;36m<cell line: 1>\u001b[0;34m()\u001b[0m\n\u001b[0;32m----> 1\u001b[0;31m \u001b[0mpredicted\u001b[0m \u001b[0;34m=\u001b[0m \u001b[0mloaded_model\u001b[0m\u001b[0;34m.\u001b[0m\u001b[0mpredict\u001b[0m\u001b[0;34m(\u001b[0m\u001b[0;34m{\u001b[0m\u001b[0;34m'input_ids'\u001b[0m\u001b[0;34m:\u001b[0m\u001b[0mx_test\u001b[0m\u001b[0;34m[\u001b[0m\u001b[0;34m'input_ids'\u001b[0m\u001b[0;34m]\u001b[0m\u001b[0;34m,\u001b[0m\u001b[0;34m'input_mask'\u001b[0m\u001b[0;34m:\u001b[0m\u001b[0mx_test\u001b[0m\u001b[0;34m[\u001b[0m\u001b[0;34m'attention_mask'\u001b[0m\u001b[0;34m]\u001b[0m\u001b[0;34m}\u001b[0m\u001b[0;34m)\u001b[0m\u001b[0;34m\u001b[0m\u001b[0;34m\u001b[0m\u001b[0m\n\u001b[0m",
            "\u001b[0;31mNameError\u001b[0m: name 'loaded_model' is not defined"
          ]
        }
      ]
    },
    {
      "cell_type": "code",
      "source": [
        "y_predicted = np.where(predicted>0.5,1,0)\n",
        "y_predicted = y_predicted.reshape((1,3263))[0]\n",
        "df_sample['id'] = df_test.id\n",
        "df_sample['target'] = y_predicted\n",
        "df_sample.to_csv('submission.csv',index = False)"
      ],
      "metadata": {
        "id": "YJRUShIzyg8o"
      },
      "execution_count": null,
      "outputs": []
    },
    {
      "cell_type": "markdown",
      "source": [
        "# 리더보드 0.82929"
      ],
      "metadata": {
        "id": "fcIElItHaJhK"
      }
    },
    {
      "cell_type": "markdown",
      "source": [
        "# BERTweet"
      ],
      "metadata": {
        "id": "FdlVh87AZlYx"
      }
    },
    {
      "cell_type": "code",
      "source": [],
      "metadata": {
        "id": "lAdqwHHMZoPr"
      },
      "execution_count": null,
      "outputs": []
    }
  ],
  "metadata": {
    "colab": {
      "provenance": [],
      "gpuType": "T4",
      "collapsed_sections": [
        "jkxF_Rw8_Bfi",
        "GtXo_job9ZkC",
        "g_pxwIczOeQC",
        "Blyv0EwpZB6r",
        "QsTn9g1b9ac4"
      ]
    },
    "kernelspec": {
      "display_name": "Python 3",
      "name": "python3"
    },
    "widgets": {
      "application/vnd.jupyter.widget-state+json": {
        "874fd947d9a84cc496d42e585604683e": {
          "model_module": "@jupyter-widgets/controls",
          "model_name": "HBoxModel",
          "model_module_version": "1.5.0",
          "state": {
            "_dom_classes": [],
            "_model_module": "@jupyter-widgets/controls",
            "_model_module_version": "1.5.0",
            "_model_name": "HBoxModel",
            "_view_count": null,
            "_view_module": "@jupyter-widgets/controls",
            "_view_module_version": "1.5.0",
            "_view_name": "HBoxView",
            "box_style": "",
            "children": [
              "IPY_MODEL_44bded3eccdc48a689a4c6f33e78ac9e",
              "IPY_MODEL_182db6abdab3486ea500b71a521fbedb",
              "IPY_MODEL_c8722005ba934af0bd2c0cbb1e85c3d3"
            ],
            "layout": "IPY_MODEL_34c0f85f072c4438ab51625f27eab3fe"
          }
        },
        "44bded3eccdc48a689a4c6f33e78ac9e": {
          "model_module": "@jupyter-widgets/controls",
          "model_name": "HTMLModel",
          "model_module_version": "1.5.0",
          "state": {
            "_dom_classes": [],
            "_model_module": "@jupyter-widgets/controls",
            "_model_module_version": "1.5.0",
            "_model_name": "HTMLModel",
            "_view_count": null,
            "_view_module": "@jupyter-widgets/controls",
            "_view_module_version": "1.5.0",
            "_view_name": "HTMLView",
            "description": "",
            "description_tooltip": null,
            "layout": "IPY_MODEL_c8749aa02683491fa3b8c9a4465eef5a",
            "placeholder": "​",
            "style": "IPY_MODEL_b3eeec32e687458286be10055d293820",
            "value": "Downloading (…)okenizer_config.json: 100%"
          }
        },
        "182db6abdab3486ea500b71a521fbedb": {
          "model_module": "@jupyter-widgets/controls",
          "model_name": "FloatProgressModel",
          "model_module_version": "1.5.0",
          "state": {
            "_dom_classes": [],
            "_model_module": "@jupyter-widgets/controls",
            "_model_module_version": "1.5.0",
            "_model_name": "FloatProgressModel",
            "_view_count": null,
            "_view_module": "@jupyter-widgets/controls",
            "_view_module_version": "1.5.0",
            "_view_name": "ProgressView",
            "bar_style": "success",
            "description": "",
            "description_tooltip": null,
            "layout": "IPY_MODEL_48e32a4d4f6145ed83942299f4c72d4d",
            "max": 28,
            "min": 0,
            "orientation": "horizontal",
            "style": "IPY_MODEL_c7443b7d71894ac1b261e9fefda98e6a",
            "value": 28
          }
        },
        "c8722005ba934af0bd2c0cbb1e85c3d3": {
          "model_module": "@jupyter-widgets/controls",
          "model_name": "HTMLModel",
          "model_module_version": "1.5.0",
          "state": {
            "_dom_classes": [],
            "_model_module": "@jupyter-widgets/controls",
            "_model_module_version": "1.5.0",
            "_model_name": "HTMLModel",
            "_view_count": null,
            "_view_module": "@jupyter-widgets/controls",
            "_view_module_version": "1.5.0",
            "_view_name": "HTMLView",
            "description": "",
            "description_tooltip": null,
            "layout": "IPY_MODEL_4bf5c40b1e49428da3c9aa3f10db352f",
            "placeholder": "​",
            "style": "IPY_MODEL_7203a417564841d0923ad42305117881",
            "value": " 28.0/28.0 [00:00&lt;00:00, 1.48kB/s]"
          }
        },
        "34c0f85f072c4438ab51625f27eab3fe": {
          "model_module": "@jupyter-widgets/base",
          "model_name": "LayoutModel",
          "model_module_version": "1.2.0",
          "state": {
            "_model_module": "@jupyter-widgets/base",
            "_model_module_version": "1.2.0",
            "_model_name": "LayoutModel",
            "_view_count": null,
            "_view_module": "@jupyter-widgets/base",
            "_view_module_version": "1.2.0",
            "_view_name": "LayoutView",
            "align_content": null,
            "align_items": null,
            "align_self": null,
            "border": null,
            "bottom": null,
            "display": null,
            "flex": null,
            "flex_flow": null,
            "grid_area": null,
            "grid_auto_columns": null,
            "grid_auto_flow": null,
            "grid_auto_rows": null,
            "grid_column": null,
            "grid_gap": null,
            "grid_row": null,
            "grid_template_areas": null,
            "grid_template_columns": null,
            "grid_template_rows": null,
            "height": null,
            "justify_content": null,
            "justify_items": null,
            "left": null,
            "margin": null,
            "max_height": null,
            "max_width": null,
            "min_height": null,
            "min_width": null,
            "object_fit": null,
            "object_position": null,
            "order": null,
            "overflow": null,
            "overflow_x": null,
            "overflow_y": null,
            "padding": null,
            "right": null,
            "top": null,
            "visibility": null,
            "width": null
          }
        },
        "c8749aa02683491fa3b8c9a4465eef5a": {
          "model_module": "@jupyter-widgets/base",
          "model_name": "LayoutModel",
          "model_module_version": "1.2.0",
          "state": {
            "_model_module": "@jupyter-widgets/base",
            "_model_module_version": "1.2.0",
            "_model_name": "LayoutModel",
            "_view_count": null,
            "_view_module": "@jupyter-widgets/base",
            "_view_module_version": "1.2.0",
            "_view_name": "LayoutView",
            "align_content": null,
            "align_items": null,
            "align_self": null,
            "border": null,
            "bottom": null,
            "display": null,
            "flex": null,
            "flex_flow": null,
            "grid_area": null,
            "grid_auto_columns": null,
            "grid_auto_flow": null,
            "grid_auto_rows": null,
            "grid_column": null,
            "grid_gap": null,
            "grid_row": null,
            "grid_template_areas": null,
            "grid_template_columns": null,
            "grid_template_rows": null,
            "height": null,
            "justify_content": null,
            "justify_items": null,
            "left": null,
            "margin": null,
            "max_height": null,
            "max_width": null,
            "min_height": null,
            "min_width": null,
            "object_fit": null,
            "object_position": null,
            "order": null,
            "overflow": null,
            "overflow_x": null,
            "overflow_y": null,
            "padding": null,
            "right": null,
            "top": null,
            "visibility": null,
            "width": null
          }
        },
        "b3eeec32e687458286be10055d293820": {
          "model_module": "@jupyter-widgets/controls",
          "model_name": "DescriptionStyleModel",
          "model_module_version": "1.5.0",
          "state": {
            "_model_module": "@jupyter-widgets/controls",
            "_model_module_version": "1.5.0",
            "_model_name": "DescriptionStyleModel",
            "_view_count": null,
            "_view_module": "@jupyter-widgets/base",
            "_view_module_version": "1.2.0",
            "_view_name": "StyleView",
            "description_width": ""
          }
        },
        "48e32a4d4f6145ed83942299f4c72d4d": {
          "model_module": "@jupyter-widgets/base",
          "model_name": "LayoutModel",
          "model_module_version": "1.2.0",
          "state": {
            "_model_module": "@jupyter-widgets/base",
            "_model_module_version": "1.2.0",
            "_model_name": "LayoutModel",
            "_view_count": null,
            "_view_module": "@jupyter-widgets/base",
            "_view_module_version": "1.2.0",
            "_view_name": "LayoutView",
            "align_content": null,
            "align_items": null,
            "align_self": null,
            "border": null,
            "bottom": null,
            "display": null,
            "flex": null,
            "flex_flow": null,
            "grid_area": null,
            "grid_auto_columns": null,
            "grid_auto_flow": null,
            "grid_auto_rows": null,
            "grid_column": null,
            "grid_gap": null,
            "grid_row": null,
            "grid_template_areas": null,
            "grid_template_columns": null,
            "grid_template_rows": null,
            "height": null,
            "justify_content": null,
            "justify_items": null,
            "left": null,
            "margin": null,
            "max_height": null,
            "max_width": null,
            "min_height": null,
            "min_width": null,
            "object_fit": null,
            "object_position": null,
            "order": null,
            "overflow": null,
            "overflow_x": null,
            "overflow_y": null,
            "padding": null,
            "right": null,
            "top": null,
            "visibility": null,
            "width": null
          }
        },
        "c7443b7d71894ac1b261e9fefda98e6a": {
          "model_module": "@jupyter-widgets/controls",
          "model_name": "ProgressStyleModel",
          "model_module_version": "1.5.0",
          "state": {
            "_model_module": "@jupyter-widgets/controls",
            "_model_module_version": "1.5.0",
            "_model_name": "ProgressStyleModel",
            "_view_count": null,
            "_view_module": "@jupyter-widgets/base",
            "_view_module_version": "1.2.0",
            "_view_name": "StyleView",
            "bar_color": null,
            "description_width": ""
          }
        },
        "4bf5c40b1e49428da3c9aa3f10db352f": {
          "model_module": "@jupyter-widgets/base",
          "model_name": "LayoutModel",
          "model_module_version": "1.2.0",
          "state": {
            "_model_module": "@jupyter-widgets/base",
            "_model_module_version": "1.2.0",
            "_model_name": "LayoutModel",
            "_view_count": null,
            "_view_module": "@jupyter-widgets/base",
            "_view_module_version": "1.2.0",
            "_view_name": "LayoutView",
            "align_content": null,
            "align_items": null,
            "align_self": null,
            "border": null,
            "bottom": null,
            "display": null,
            "flex": null,
            "flex_flow": null,
            "grid_area": null,
            "grid_auto_columns": null,
            "grid_auto_flow": null,
            "grid_auto_rows": null,
            "grid_column": null,
            "grid_gap": null,
            "grid_row": null,
            "grid_template_areas": null,
            "grid_template_columns": null,
            "grid_template_rows": null,
            "height": null,
            "justify_content": null,
            "justify_items": null,
            "left": null,
            "margin": null,
            "max_height": null,
            "max_width": null,
            "min_height": null,
            "min_width": null,
            "object_fit": null,
            "object_position": null,
            "order": null,
            "overflow": null,
            "overflow_x": null,
            "overflow_y": null,
            "padding": null,
            "right": null,
            "top": null,
            "visibility": null,
            "width": null
          }
        },
        "7203a417564841d0923ad42305117881": {
          "model_module": "@jupyter-widgets/controls",
          "model_name": "DescriptionStyleModel",
          "model_module_version": "1.5.0",
          "state": {
            "_model_module": "@jupyter-widgets/controls",
            "_model_module_version": "1.5.0",
            "_model_name": "DescriptionStyleModel",
            "_view_count": null,
            "_view_module": "@jupyter-widgets/base",
            "_view_module_version": "1.2.0",
            "_view_name": "StyleView",
            "description_width": ""
          }
        },
        "5b48cde099f04257b9015e41ed4367db": {
          "model_module": "@jupyter-widgets/controls",
          "model_name": "HBoxModel",
          "model_module_version": "1.5.0",
          "state": {
            "_dom_classes": [],
            "_model_module": "@jupyter-widgets/controls",
            "_model_module_version": "1.5.0",
            "_model_name": "HBoxModel",
            "_view_count": null,
            "_view_module": "@jupyter-widgets/controls",
            "_view_module_version": "1.5.0",
            "_view_name": "HBoxView",
            "box_style": "",
            "children": [
              "IPY_MODEL_d8075fe8d5c449a48d670db75c99fb69",
              "IPY_MODEL_d58f0110a8ed4affac7f64a3962a59e6",
              "IPY_MODEL_7aec2409def5428f86e1ed26dd29bf9c"
            ],
            "layout": "IPY_MODEL_ec1b874be5864eee876ddca2dfc7e90d"
          }
        },
        "d8075fe8d5c449a48d670db75c99fb69": {
          "model_module": "@jupyter-widgets/controls",
          "model_name": "HTMLModel",
          "model_module_version": "1.5.0",
          "state": {
            "_dom_classes": [],
            "_model_module": "@jupyter-widgets/controls",
            "_model_module_version": "1.5.0",
            "_model_name": "HTMLModel",
            "_view_count": null,
            "_view_module": "@jupyter-widgets/controls",
            "_view_module_version": "1.5.0",
            "_view_name": "HTMLView",
            "description": "",
            "description_tooltip": null,
            "layout": "IPY_MODEL_e2766c1e7aba4324ad8b51c8ff2909ae",
            "placeholder": "​",
            "style": "IPY_MODEL_9f7dbdf9f1b14027b94e9a48be7e708f",
            "value": "Downloading (…)lve/main/config.json: 100%"
          }
        },
        "d58f0110a8ed4affac7f64a3962a59e6": {
          "model_module": "@jupyter-widgets/controls",
          "model_name": "FloatProgressModel",
          "model_module_version": "1.5.0",
          "state": {
            "_dom_classes": [],
            "_model_module": "@jupyter-widgets/controls",
            "_model_module_version": "1.5.0",
            "_model_name": "FloatProgressModel",
            "_view_count": null,
            "_view_module": "@jupyter-widgets/controls",
            "_view_module_version": "1.5.0",
            "_view_name": "ProgressView",
            "bar_style": "success",
            "description": "",
            "description_tooltip": null,
            "layout": "IPY_MODEL_e6277174d44847bb9e8b1c4483dee5b9",
            "max": 570,
            "min": 0,
            "orientation": "horizontal",
            "style": "IPY_MODEL_f08c1f41b35f4fa0b08f6de90614c78e",
            "value": 570
          }
        },
        "7aec2409def5428f86e1ed26dd29bf9c": {
          "model_module": "@jupyter-widgets/controls",
          "model_name": "HTMLModel",
          "model_module_version": "1.5.0",
          "state": {
            "_dom_classes": [],
            "_model_module": "@jupyter-widgets/controls",
            "_model_module_version": "1.5.0",
            "_model_name": "HTMLModel",
            "_view_count": null,
            "_view_module": "@jupyter-widgets/controls",
            "_view_module_version": "1.5.0",
            "_view_name": "HTMLView",
            "description": "",
            "description_tooltip": null,
            "layout": "IPY_MODEL_056be94d410b475e8462f8a0d7a4a1b4",
            "placeholder": "​",
            "style": "IPY_MODEL_339b27cc039f4879b008510f33ba2d74",
            "value": " 570/570 [00:00&lt;00:00, 33.9kB/s]"
          }
        },
        "ec1b874be5864eee876ddca2dfc7e90d": {
          "model_module": "@jupyter-widgets/base",
          "model_name": "LayoutModel",
          "model_module_version": "1.2.0",
          "state": {
            "_model_module": "@jupyter-widgets/base",
            "_model_module_version": "1.2.0",
            "_model_name": "LayoutModel",
            "_view_count": null,
            "_view_module": "@jupyter-widgets/base",
            "_view_module_version": "1.2.0",
            "_view_name": "LayoutView",
            "align_content": null,
            "align_items": null,
            "align_self": null,
            "border": null,
            "bottom": null,
            "display": null,
            "flex": null,
            "flex_flow": null,
            "grid_area": null,
            "grid_auto_columns": null,
            "grid_auto_flow": null,
            "grid_auto_rows": null,
            "grid_column": null,
            "grid_gap": null,
            "grid_row": null,
            "grid_template_areas": null,
            "grid_template_columns": null,
            "grid_template_rows": null,
            "height": null,
            "justify_content": null,
            "justify_items": null,
            "left": null,
            "margin": null,
            "max_height": null,
            "max_width": null,
            "min_height": null,
            "min_width": null,
            "object_fit": null,
            "object_position": null,
            "order": null,
            "overflow": null,
            "overflow_x": null,
            "overflow_y": null,
            "padding": null,
            "right": null,
            "top": null,
            "visibility": null,
            "width": null
          }
        },
        "e2766c1e7aba4324ad8b51c8ff2909ae": {
          "model_module": "@jupyter-widgets/base",
          "model_name": "LayoutModel",
          "model_module_version": "1.2.0",
          "state": {
            "_model_module": "@jupyter-widgets/base",
            "_model_module_version": "1.2.0",
            "_model_name": "LayoutModel",
            "_view_count": null,
            "_view_module": "@jupyter-widgets/base",
            "_view_module_version": "1.2.0",
            "_view_name": "LayoutView",
            "align_content": null,
            "align_items": null,
            "align_self": null,
            "border": null,
            "bottom": null,
            "display": null,
            "flex": null,
            "flex_flow": null,
            "grid_area": null,
            "grid_auto_columns": null,
            "grid_auto_flow": null,
            "grid_auto_rows": null,
            "grid_column": null,
            "grid_gap": null,
            "grid_row": null,
            "grid_template_areas": null,
            "grid_template_columns": null,
            "grid_template_rows": null,
            "height": null,
            "justify_content": null,
            "justify_items": null,
            "left": null,
            "margin": null,
            "max_height": null,
            "max_width": null,
            "min_height": null,
            "min_width": null,
            "object_fit": null,
            "object_position": null,
            "order": null,
            "overflow": null,
            "overflow_x": null,
            "overflow_y": null,
            "padding": null,
            "right": null,
            "top": null,
            "visibility": null,
            "width": null
          }
        },
        "9f7dbdf9f1b14027b94e9a48be7e708f": {
          "model_module": "@jupyter-widgets/controls",
          "model_name": "DescriptionStyleModel",
          "model_module_version": "1.5.0",
          "state": {
            "_model_module": "@jupyter-widgets/controls",
            "_model_module_version": "1.5.0",
            "_model_name": "DescriptionStyleModel",
            "_view_count": null,
            "_view_module": "@jupyter-widgets/base",
            "_view_module_version": "1.2.0",
            "_view_name": "StyleView",
            "description_width": ""
          }
        },
        "e6277174d44847bb9e8b1c4483dee5b9": {
          "model_module": "@jupyter-widgets/base",
          "model_name": "LayoutModel",
          "model_module_version": "1.2.0",
          "state": {
            "_model_module": "@jupyter-widgets/base",
            "_model_module_version": "1.2.0",
            "_model_name": "LayoutModel",
            "_view_count": null,
            "_view_module": "@jupyter-widgets/base",
            "_view_module_version": "1.2.0",
            "_view_name": "LayoutView",
            "align_content": null,
            "align_items": null,
            "align_self": null,
            "border": null,
            "bottom": null,
            "display": null,
            "flex": null,
            "flex_flow": null,
            "grid_area": null,
            "grid_auto_columns": null,
            "grid_auto_flow": null,
            "grid_auto_rows": null,
            "grid_column": null,
            "grid_gap": null,
            "grid_row": null,
            "grid_template_areas": null,
            "grid_template_columns": null,
            "grid_template_rows": null,
            "height": null,
            "justify_content": null,
            "justify_items": null,
            "left": null,
            "margin": null,
            "max_height": null,
            "max_width": null,
            "min_height": null,
            "min_width": null,
            "object_fit": null,
            "object_position": null,
            "order": null,
            "overflow": null,
            "overflow_x": null,
            "overflow_y": null,
            "padding": null,
            "right": null,
            "top": null,
            "visibility": null,
            "width": null
          }
        },
        "f08c1f41b35f4fa0b08f6de90614c78e": {
          "model_module": "@jupyter-widgets/controls",
          "model_name": "ProgressStyleModel",
          "model_module_version": "1.5.0",
          "state": {
            "_model_module": "@jupyter-widgets/controls",
            "_model_module_version": "1.5.0",
            "_model_name": "ProgressStyleModel",
            "_view_count": null,
            "_view_module": "@jupyter-widgets/base",
            "_view_module_version": "1.2.0",
            "_view_name": "StyleView",
            "bar_color": null,
            "description_width": ""
          }
        },
        "056be94d410b475e8462f8a0d7a4a1b4": {
          "model_module": "@jupyter-widgets/base",
          "model_name": "LayoutModel",
          "model_module_version": "1.2.0",
          "state": {
            "_model_module": "@jupyter-widgets/base",
            "_model_module_version": "1.2.0",
            "_model_name": "LayoutModel",
            "_view_count": null,
            "_view_module": "@jupyter-widgets/base",
            "_view_module_version": "1.2.0",
            "_view_name": "LayoutView",
            "align_content": null,
            "align_items": null,
            "align_self": null,
            "border": null,
            "bottom": null,
            "display": null,
            "flex": null,
            "flex_flow": null,
            "grid_area": null,
            "grid_auto_columns": null,
            "grid_auto_flow": null,
            "grid_auto_rows": null,
            "grid_column": null,
            "grid_gap": null,
            "grid_row": null,
            "grid_template_areas": null,
            "grid_template_columns": null,
            "grid_template_rows": null,
            "height": null,
            "justify_content": null,
            "justify_items": null,
            "left": null,
            "margin": null,
            "max_height": null,
            "max_width": null,
            "min_height": null,
            "min_width": null,
            "object_fit": null,
            "object_position": null,
            "order": null,
            "overflow": null,
            "overflow_x": null,
            "overflow_y": null,
            "padding": null,
            "right": null,
            "top": null,
            "visibility": null,
            "width": null
          }
        },
        "339b27cc039f4879b008510f33ba2d74": {
          "model_module": "@jupyter-widgets/controls",
          "model_name": "DescriptionStyleModel",
          "model_module_version": "1.5.0",
          "state": {
            "_model_module": "@jupyter-widgets/controls",
            "_model_module_version": "1.5.0",
            "_model_name": "DescriptionStyleModel",
            "_view_count": null,
            "_view_module": "@jupyter-widgets/base",
            "_view_module_version": "1.2.0",
            "_view_name": "StyleView",
            "description_width": ""
          }
        },
        "2adf9f1a751747ada8994f7ac9799aaa": {
          "model_module": "@jupyter-widgets/controls",
          "model_name": "HBoxModel",
          "model_module_version": "1.5.0",
          "state": {
            "_dom_classes": [],
            "_model_module": "@jupyter-widgets/controls",
            "_model_module_version": "1.5.0",
            "_model_name": "HBoxModel",
            "_view_count": null,
            "_view_module": "@jupyter-widgets/controls",
            "_view_module_version": "1.5.0",
            "_view_name": "HBoxView",
            "box_style": "",
            "children": [
              "IPY_MODEL_3ec33fed60ce4c419ddbc9389009c637",
              "IPY_MODEL_33272edb2c464c44bbffc73e013b58df",
              "IPY_MODEL_4573959ee2554e708f2e5bda113c5bc0"
            ],
            "layout": "IPY_MODEL_b66af55995714e35b3c51ac88449f384"
          }
        },
        "3ec33fed60ce4c419ddbc9389009c637": {
          "model_module": "@jupyter-widgets/controls",
          "model_name": "HTMLModel",
          "model_module_version": "1.5.0",
          "state": {
            "_dom_classes": [],
            "_model_module": "@jupyter-widgets/controls",
            "_model_module_version": "1.5.0",
            "_model_name": "HTMLModel",
            "_view_count": null,
            "_view_module": "@jupyter-widgets/controls",
            "_view_module_version": "1.5.0",
            "_view_name": "HTMLView",
            "description": "",
            "description_tooltip": null,
            "layout": "IPY_MODEL_0a8109477c244ef79ab648698ebe5930",
            "placeholder": "​",
            "style": "IPY_MODEL_2a26f66069414fa2a854ea85219486fc",
            "value": "Downloading (…)solve/main/vocab.txt: 100%"
          }
        },
        "33272edb2c464c44bbffc73e013b58df": {
          "model_module": "@jupyter-widgets/controls",
          "model_name": "FloatProgressModel",
          "model_module_version": "1.5.0",
          "state": {
            "_dom_classes": [],
            "_model_module": "@jupyter-widgets/controls",
            "_model_module_version": "1.5.0",
            "_model_name": "FloatProgressModel",
            "_view_count": null,
            "_view_module": "@jupyter-widgets/controls",
            "_view_module_version": "1.5.0",
            "_view_name": "ProgressView",
            "bar_style": "success",
            "description": "",
            "description_tooltip": null,
            "layout": "IPY_MODEL_25897e82253740ca9fea9d5ce52b1e7a",
            "max": 231508,
            "min": 0,
            "orientation": "horizontal",
            "style": "IPY_MODEL_160a9402c6064e78a1b9d336d0e40d6b",
            "value": 231508
          }
        },
        "4573959ee2554e708f2e5bda113c5bc0": {
          "model_module": "@jupyter-widgets/controls",
          "model_name": "HTMLModel",
          "model_module_version": "1.5.0",
          "state": {
            "_dom_classes": [],
            "_model_module": "@jupyter-widgets/controls",
            "_model_module_version": "1.5.0",
            "_model_name": "HTMLModel",
            "_view_count": null,
            "_view_module": "@jupyter-widgets/controls",
            "_view_module_version": "1.5.0",
            "_view_name": "HTMLView",
            "description": "",
            "description_tooltip": null,
            "layout": "IPY_MODEL_f92414b93a63439294f415067b8fceff",
            "placeholder": "​",
            "style": "IPY_MODEL_2f11d7f7a98f45849dca49ef3feb1185",
            "value": " 232k/232k [00:00&lt;00:00, 6.77MB/s]"
          }
        },
        "b66af55995714e35b3c51ac88449f384": {
          "model_module": "@jupyter-widgets/base",
          "model_name": "LayoutModel",
          "model_module_version": "1.2.0",
          "state": {
            "_model_module": "@jupyter-widgets/base",
            "_model_module_version": "1.2.0",
            "_model_name": "LayoutModel",
            "_view_count": null,
            "_view_module": "@jupyter-widgets/base",
            "_view_module_version": "1.2.0",
            "_view_name": "LayoutView",
            "align_content": null,
            "align_items": null,
            "align_self": null,
            "border": null,
            "bottom": null,
            "display": null,
            "flex": null,
            "flex_flow": null,
            "grid_area": null,
            "grid_auto_columns": null,
            "grid_auto_flow": null,
            "grid_auto_rows": null,
            "grid_column": null,
            "grid_gap": null,
            "grid_row": null,
            "grid_template_areas": null,
            "grid_template_columns": null,
            "grid_template_rows": null,
            "height": null,
            "justify_content": null,
            "justify_items": null,
            "left": null,
            "margin": null,
            "max_height": null,
            "max_width": null,
            "min_height": null,
            "min_width": null,
            "object_fit": null,
            "object_position": null,
            "order": null,
            "overflow": null,
            "overflow_x": null,
            "overflow_y": null,
            "padding": null,
            "right": null,
            "top": null,
            "visibility": null,
            "width": null
          }
        },
        "0a8109477c244ef79ab648698ebe5930": {
          "model_module": "@jupyter-widgets/base",
          "model_name": "LayoutModel",
          "model_module_version": "1.2.0",
          "state": {
            "_model_module": "@jupyter-widgets/base",
            "_model_module_version": "1.2.0",
            "_model_name": "LayoutModel",
            "_view_count": null,
            "_view_module": "@jupyter-widgets/base",
            "_view_module_version": "1.2.0",
            "_view_name": "LayoutView",
            "align_content": null,
            "align_items": null,
            "align_self": null,
            "border": null,
            "bottom": null,
            "display": null,
            "flex": null,
            "flex_flow": null,
            "grid_area": null,
            "grid_auto_columns": null,
            "grid_auto_flow": null,
            "grid_auto_rows": null,
            "grid_column": null,
            "grid_gap": null,
            "grid_row": null,
            "grid_template_areas": null,
            "grid_template_columns": null,
            "grid_template_rows": null,
            "height": null,
            "justify_content": null,
            "justify_items": null,
            "left": null,
            "margin": null,
            "max_height": null,
            "max_width": null,
            "min_height": null,
            "min_width": null,
            "object_fit": null,
            "object_position": null,
            "order": null,
            "overflow": null,
            "overflow_x": null,
            "overflow_y": null,
            "padding": null,
            "right": null,
            "top": null,
            "visibility": null,
            "width": null
          }
        },
        "2a26f66069414fa2a854ea85219486fc": {
          "model_module": "@jupyter-widgets/controls",
          "model_name": "DescriptionStyleModel",
          "model_module_version": "1.5.0",
          "state": {
            "_model_module": "@jupyter-widgets/controls",
            "_model_module_version": "1.5.0",
            "_model_name": "DescriptionStyleModel",
            "_view_count": null,
            "_view_module": "@jupyter-widgets/base",
            "_view_module_version": "1.2.0",
            "_view_name": "StyleView",
            "description_width": ""
          }
        },
        "25897e82253740ca9fea9d5ce52b1e7a": {
          "model_module": "@jupyter-widgets/base",
          "model_name": "LayoutModel",
          "model_module_version": "1.2.0",
          "state": {
            "_model_module": "@jupyter-widgets/base",
            "_model_module_version": "1.2.0",
            "_model_name": "LayoutModel",
            "_view_count": null,
            "_view_module": "@jupyter-widgets/base",
            "_view_module_version": "1.2.0",
            "_view_name": "LayoutView",
            "align_content": null,
            "align_items": null,
            "align_self": null,
            "border": null,
            "bottom": null,
            "display": null,
            "flex": null,
            "flex_flow": null,
            "grid_area": null,
            "grid_auto_columns": null,
            "grid_auto_flow": null,
            "grid_auto_rows": null,
            "grid_column": null,
            "grid_gap": null,
            "grid_row": null,
            "grid_template_areas": null,
            "grid_template_columns": null,
            "grid_template_rows": null,
            "height": null,
            "justify_content": null,
            "justify_items": null,
            "left": null,
            "margin": null,
            "max_height": null,
            "max_width": null,
            "min_height": null,
            "min_width": null,
            "object_fit": null,
            "object_position": null,
            "order": null,
            "overflow": null,
            "overflow_x": null,
            "overflow_y": null,
            "padding": null,
            "right": null,
            "top": null,
            "visibility": null,
            "width": null
          }
        },
        "160a9402c6064e78a1b9d336d0e40d6b": {
          "model_module": "@jupyter-widgets/controls",
          "model_name": "ProgressStyleModel",
          "model_module_version": "1.5.0",
          "state": {
            "_model_module": "@jupyter-widgets/controls",
            "_model_module_version": "1.5.0",
            "_model_name": "ProgressStyleModel",
            "_view_count": null,
            "_view_module": "@jupyter-widgets/base",
            "_view_module_version": "1.2.0",
            "_view_name": "StyleView",
            "bar_color": null,
            "description_width": ""
          }
        },
        "f92414b93a63439294f415067b8fceff": {
          "model_module": "@jupyter-widgets/base",
          "model_name": "LayoutModel",
          "model_module_version": "1.2.0",
          "state": {
            "_model_module": "@jupyter-widgets/base",
            "_model_module_version": "1.2.0",
            "_model_name": "LayoutModel",
            "_view_count": null,
            "_view_module": "@jupyter-widgets/base",
            "_view_module_version": "1.2.0",
            "_view_name": "LayoutView",
            "align_content": null,
            "align_items": null,
            "align_self": null,
            "border": null,
            "bottom": null,
            "display": null,
            "flex": null,
            "flex_flow": null,
            "grid_area": null,
            "grid_auto_columns": null,
            "grid_auto_flow": null,
            "grid_auto_rows": null,
            "grid_column": null,
            "grid_gap": null,
            "grid_row": null,
            "grid_template_areas": null,
            "grid_template_columns": null,
            "grid_template_rows": null,
            "height": null,
            "justify_content": null,
            "justify_items": null,
            "left": null,
            "margin": null,
            "max_height": null,
            "max_width": null,
            "min_height": null,
            "min_width": null,
            "object_fit": null,
            "object_position": null,
            "order": null,
            "overflow": null,
            "overflow_x": null,
            "overflow_y": null,
            "padding": null,
            "right": null,
            "top": null,
            "visibility": null,
            "width": null
          }
        },
        "2f11d7f7a98f45849dca49ef3feb1185": {
          "model_module": "@jupyter-widgets/controls",
          "model_name": "DescriptionStyleModel",
          "model_module_version": "1.5.0",
          "state": {
            "_model_module": "@jupyter-widgets/controls",
            "_model_module_version": "1.5.0",
            "_model_name": "DescriptionStyleModel",
            "_view_count": null,
            "_view_module": "@jupyter-widgets/base",
            "_view_module_version": "1.2.0",
            "_view_name": "StyleView",
            "description_width": ""
          }
        },
        "8a49c5c185364a0b8e707282d7df5365": {
          "model_module": "@jupyter-widgets/controls",
          "model_name": "HBoxModel",
          "model_module_version": "1.5.0",
          "state": {
            "_dom_classes": [],
            "_model_module": "@jupyter-widgets/controls",
            "_model_module_version": "1.5.0",
            "_model_name": "HBoxModel",
            "_view_count": null,
            "_view_module": "@jupyter-widgets/controls",
            "_view_module_version": "1.5.0",
            "_view_name": "HBoxView",
            "box_style": "",
            "children": [
              "IPY_MODEL_e03cf21c6eec4467ad110876dca7c833",
              "IPY_MODEL_1371251f35804b2ba38bf7be5b41acfa",
              "IPY_MODEL_00b200b597ff4e19ad2cce02662b738f"
            ],
            "layout": "IPY_MODEL_7aa4668d06234426993c3b38a14bcb55"
          }
        },
        "e03cf21c6eec4467ad110876dca7c833": {
          "model_module": "@jupyter-widgets/controls",
          "model_name": "HTMLModel",
          "model_module_version": "1.5.0",
          "state": {
            "_dom_classes": [],
            "_model_module": "@jupyter-widgets/controls",
            "_model_module_version": "1.5.0",
            "_model_name": "HTMLModel",
            "_view_count": null,
            "_view_module": "@jupyter-widgets/controls",
            "_view_module_version": "1.5.0",
            "_view_name": "HTMLView",
            "description": "",
            "description_tooltip": null,
            "layout": "IPY_MODEL_05aaac5abbc64d6eadad15cb701a1893",
            "placeholder": "​",
            "style": "IPY_MODEL_003a306008604c0fa4d8382877e818e5",
            "value": "Downloading (…)/main/tokenizer.json: 100%"
          }
        },
        "1371251f35804b2ba38bf7be5b41acfa": {
          "model_module": "@jupyter-widgets/controls",
          "model_name": "FloatProgressModel",
          "model_module_version": "1.5.0",
          "state": {
            "_dom_classes": [],
            "_model_module": "@jupyter-widgets/controls",
            "_model_module_version": "1.5.0",
            "_model_name": "FloatProgressModel",
            "_view_count": null,
            "_view_module": "@jupyter-widgets/controls",
            "_view_module_version": "1.5.0",
            "_view_name": "ProgressView",
            "bar_style": "success",
            "description": "",
            "description_tooltip": null,
            "layout": "IPY_MODEL_b54371ef1850493d818128cd3415141d",
            "max": 466062,
            "min": 0,
            "orientation": "horizontal",
            "style": "IPY_MODEL_4131ffb1f3674ee8933ccc2f94f2424b",
            "value": 466062
          }
        },
        "00b200b597ff4e19ad2cce02662b738f": {
          "model_module": "@jupyter-widgets/controls",
          "model_name": "HTMLModel",
          "model_module_version": "1.5.0",
          "state": {
            "_dom_classes": [],
            "_model_module": "@jupyter-widgets/controls",
            "_model_module_version": "1.5.0",
            "_model_name": "HTMLModel",
            "_view_count": null,
            "_view_module": "@jupyter-widgets/controls",
            "_view_module_version": "1.5.0",
            "_view_name": "HTMLView",
            "description": "",
            "description_tooltip": null,
            "layout": "IPY_MODEL_8fb6c4360a76445d873250f01cb5952b",
            "placeholder": "​",
            "style": "IPY_MODEL_6a9eb863b3a84e1b9fa399a5433d4fd2",
            "value": " 466k/466k [00:00&lt;00:00, 737kB/s]"
          }
        },
        "7aa4668d06234426993c3b38a14bcb55": {
          "model_module": "@jupyter-widgets/base",
          "model_name": "LayoutModel",
          "model_module_version": "1.2.0",
          "state": {
            "_model_module": "@jupyter-widgets/base",
            "_model_module_version": "1.2.0",
            "_model_name": "LayoutModel",
            "_view_count": null,
            "_view_module": "@jupyter-widgets/base",
            "_view_module_version": "1.2.0",
            "_view_name": "LayoutView",
            "align_content": null,
            "align_items": null,
            "align_self": null,
            "border": null,
            "bottom": null,
            "display": null,
            "flex": null,
            "flex_flow": null,
            "grid_area": null,
            "grid_auto_columns": null,
            "grid_auto_flow": null,
            "grid_auto_rows": null,
            "grid_column": null,
            "grid_gap": null,
            "grid_row": null,
            "grid_template_areas": null,
            "grid_template_columns": null,
            "grid_template_rows": null,
            "height": null,
            "justify_content": null,
            "justify_items": null,
            "left": null,
            "margin": null,
            "max_height": null,
            "max_width": null,
            "min_height": null,
            "min_width": null,
            "object_fit": null,
            "object_position": null,
            "order": null,
            "overflow": null,
            "overflow_x": null,
            "overflow_y": null,
            "padding": null,
            "right": null,
            "top": null,
            "visibility": null,
            "width": null
          }
        },
        "05aaac5abbc64d6eadad15cb701a1893": {
          "model_module": "@jupyter-widgets/base",
          "model_name": "LayoutModel",
          "model_module_version": "1.2.0",
          "state": {
            "_model_module": "@jupyter-widgets/base",
            "_model_module_version": "1.2.0",
            "_model_name": "LayoutModel",
            "_view_count": null,
            "_view_module": "@jupyter-widgets/base",
            "_view_module_version": "1.2.0",
            "_view_name": "LayoutView",
            "align_content": null,
            "align_items": null,
            "align_self": null,
            "border": null,
            "bottom": null,
            "display": null,
            "flex": null,
            "flex_flow": null,
            "grid_area": null,
            "grid_auto_columns": null,
            "grid_auto_flow": null,
            "grid_auto_rows": null,
            "grid_column": null,
            "grid_gap": null,
            "grid_row": null,
            "grid_template_areas": null,
            "grid_template_columns": null,
            "grid_template_rows": null,
            "height": null,
            "justify_content": null,
            "justify_items": null,
            "left": null,
            "margin": null,
            "max_height": null,
            "max_width": null,
            "min_height": null,
            "min_width": null,
            "object_fit": null,
            "object_position": null,
            "order": null,
            "overflow": null,
            "overflow_x": null,
            "overflow_y": null,
            "padding": null,
            "right": null,
            "top": null,
            "visibility": null,
            "width": null
          }
        },
        "003a306008604c0fa4d8382877e818e5": {
          "model_module": "@jupyter-widgets/controls",
          "model_name": "DescriptionStyleModel",
          "model_module_version": "1.5.0",
          "state": {
            "_model_module": "@jupyter-widgets/controls",
            "_model_module_version": "1.5.0",
            "_model_name": "DescriptionStyleModel",
            "_view_count": null,
            "_view_module": "@jupyter-widgets/base",
            "_view_module_version": "1.2.0",
            "_view_name": "StyleView",
            "description_width": ""
          }
        },
        "b54371ef1850493d818128cd3415141d": {
          "model_module": "@jupyter-widgets/base",
          "model_name": "LayoutModel",
          "model_module_version": "1.2.0",
          "state": {
            "_model_module": "@jupyter-widgets/base",
            "_model_module_version": "1.2.0",
            "_model_name": "LayoutModel",
            "_view_count": null,
            "_view_module": "@jupyter-widgets/base",
            "_view_module_version": "1.2.0",
            "_view_name": "LayoutView",
            "align_content": null,
            "align_items": null,
            "align_self": null,
            "border": null,
            "bottom": null,
            "display": null,
            "flex": null,
            "flex_flow": null,
            "grid_area": null,
            "grid_auto_columns": null,
            "grid_auto_flow": null,
            "grid_auto_rows": null,
            "grid_column": null,
            "grid_gap": null,
            "grid_row": null,
            "grid_template_areas": null,
            "grid_template_columns": null,
            "grid_template_rows": null,
            "height": null,
            "justify_content": null,
            "justify_items": null,
            "left": null,
            "margin": null,
            "max_height": null,
            "max_width": null,
            "min_height": null,
            "min_width": null,
            "object_fit": null,
            "object_position": null,
            "order": null,
            "overflow": null,
            "overflow_x": null,
            "overflow_y": null,
            "padding": null,
            "right": null,
            "top": null,
            "visibility": null,
            "width": null
          }
        },
        "4131ffb1f3674ee8933ccc2f94f2424b": {
          "model_module": "@jupyter-widgets/controls",
          "model_name": "ProgressStyleModel",
          "model_module_version": "1.5.0",
          "state": {
            "_model_module": "@jupyter-widgets/controls",
            "_model_module_version": "1.5.0",
            "_model_name": "ProgressStyleModel",
            "_view_count": null,
            "_view_module": "@jupyter-widgets/base",
            "_view_module_version": "1.2.0",
            "_view_name": "StyleView",
            "bar_color": null,
            "description_width": ""
          }
        },
        "8fb6c4360a76445d873250f01cb5952b": {
          "model_module": "@jupyter-widgets/base",
          "model_name": "LayoutModel",
          "model_module_version": "1.2.0",
          "state": {
            "_model_module": "@jupyter-widgets/base",
            "_model_module_version": "1.2.0",
            "_model_name": "LayoutModel",
            "_view_count": null,
            "_view_module": "@jupyter-widgets/base",
            "_view_module_version": "1.2.0",
            "_view_name": "LayoutView",
            "align_content": null,
            "align_items": null,
            "align_self": null,
            "border": null,
            "bottom": null,
            "display": null,
            "flex": null,
            "flex_flow": null,
            "grid_area": null,
            "grid_auto_columns": null,
            "grid_auto_flow": null,
            "grid_auto_rows": null,
            "grid_column": null,
            "grid_gap": null,
            "grid_row": null,
            "grid_template_areas": null,
            "grid_template_columns": null,
            "grid_template_rows": null,
            "height": null,
            "justify_content": null,
            "justify_items": null,
            "left": null,
            "margin": null,
            "max_height": null,
            "max_width": null,
            "min_height": null,
            "min_width": null,
            "object_fit": null,
            "object_position": null,
            "order": null,
            "overflow": null,
            "overflow_x": null,
            "overflow_y": null,
            "padding": null,
            "right": null,
            "top": null,
            "visibility": null,
            "width": null
          }
        },
        "6a9eb863b3a84e1b9fa399a5433d4fd2": {
          "model_module": "@jupyter-widgets/controls",
          "model_name": "DescriptionStyleModel",
          "model_module_version": "1.5.0",
          "state": {
            "_model_module": "@jupyter-widgets/controls",
            "_model_module_version": "1.5.0",
            "_model_name": "DescriptionStyleModel",
            "_view_count": null,
            "_view_module": "@jupyter-widgets/base",
            "_view_module_version": "1.2.0",
            "_view_name": "StyleView",
            "description_width": ""
          }
        },
        "3cc95fe730a645be87e41edbf122f4d0": {
          "model_module": "@jupyter-widgets/controls",
          "model_name": "HBoxModel",
          "model_module_version": "1.5.0",
          "state": {
            "_dom_classes": [],
            "_model_module": "@jupyter-widgets/controls",
            "_model_module_version": "1.5.0",
            "_model_name": "HBoxModel",
            "_view_count": null,
            "_view_module": "@jupyter-widgets/controls",
            "_view_module_version": "1.5.0",
            "_view_name": "HBoxView",
            "box_style": "",
            "children": [
              "IPY_MODEL_f453ef2e37a14156ac00a1dbcdc784ff",
              "IPY_MODEL_ac29a524356a4e22b6f8a6add1d9dcd5",
              "IPY_MODEL_858bbfc1dda74cecbfdd20f1b8059a08"
            ],
            "layout": "IPY_MODEL_5555ac26c5c144e7a57082bfa540d0c5"
          }
        },
        "f453ef2e37a14156ac00a1dbcdc784ff": {
          "model_module": "@jupyter-widgets/controls",
          "model_name": "HTMLModel",
          "model_module_version": "1.5.0",
          "state": {
            "_dom_classes": [],
            "_model_module": "@jupyter-widgets/controls",
            "_model_module_version": "1.5.0",
            "_model_name": "HTMLModel",
            "_view_count": null,
            "_view_module": "@jupyter-widgets/controls",
            "_view_module_version": "1.5.0",
            "_view_name": "HTMLView",
            "description": "",
            "description_tooltip": null,
            "layout": "IPY_MODEL_f18bc50e9ae04972911fdef465092cb9",
            "placeholder": "​",
            "style": "IPY_MODEL_d525d981ab6e4983a6036b8b48e8768a",
            "value": "Downloading tf_model.h5: 100%"
          }
        },
        "ac29a524356a4e22b6f8a6add1d9dcd5": {
          "model_module": "@jupyter-widgets/controls",
          "model_name": "FloatProgressModel",
          "model_module_version": "1.5.0",
          "state": {
            "_dom_classes": [],
            "_model_module": "@jupyter-widgets/controls",
            "_model_module_version": "1.5.0",
            "_model_name": "FloatProgressModel",
            "_view_count": null,
            "_view_module": "@jupyter-widgets/controls",
            "_view_module_version": "1.5.0",
            "_view_name": "ProgressView",
            "bar_style": "success",
            "description": "",
            "description_tooltip": null,
            "layout": "IPY_MODEL_72c47ea26b5d415db8e628580ed6a188",
            "max": 536063208,
            "min": 0,
            "orientation": "horizontal",
            "style": "IPY_MODEL_e20ed1b883194df689ce51a544e5dd00",
            "value": 536063208
          }
        },
        "858bbfc1dda74cecbfdd20f1b8059a08": {
          "model_module": "@jupyter-widgets/controls",
          "model_name": "HTMLModel",
          "model_module_version": "1.5.0",
          "state": {
            "_dom_classes": [],
            "_model_module": "@jupyter-widgets/controls",
            "_model_module_version": "1.5.0",
            "_model_name": "HTMLModel",
            "_view_count": null,
            "_view_module": "@jupyter-widgets/controls",
            "_view_module_version": "1.5.0",
            "_view_name": "HTMLView",
            "description": "",
            "description_tooltip": null,
            "layout": "IPY_MODEL_f36f6cdd70c348ebb0ddc14f56e63e7d",
            "placeholder": "​",
            "style": "IPY_MODEL_888526ec84a8464197489b57c8cfc515",
            "value": " 536M/536M [00:01&lt;00:00, 340MB/s]"
          }
        },
        "5555ac26c5c144e7a57082bfa540d0c5": {
          "model_module": "@jupyter-widgets/base",
          "model_name": "LayoutModel",
          "model_module_version": "1.2.0",
          "state": {
            "_model_module": "@jupyter-widgets/base",
            "_model_module_version": "1.2.0",
            "_model_name": "LayoutModel",
            "_view_count": null,
            "_view_module": "@jupyter-widgets/base",
            "_view_module_version": "1.2.0",
            "_view_name": "LayoutView",
            "align_content": null,
            "align_items": null,
            "align_self": null,
            "border": null,
            "bottom": null,
            "display": null,
            "flex": null,
            "flex_flow": null,
            "grid_area": null,
            "grid_auto_columns": null,
            "grid_auto_flow": null,
            "grid_auto_rows": null,
            "grid_column": null,
            "grid_gap": null,
            "grid_row": null,
            "grid_template_areas": null,
            "grid_template_columns": null,
            "grid_template_rows": null,
            "height": null,
            "justify_content": null,
            "justify_items": null,
            "left": null,
            "margin": null,
            "max_height": null,
            "max_width": null,
            "min_height": null,
            "min_width": null,
            "object_fit": null,
            "object_position": null,
            "order": null,
            "overflow": null,
            "overflow_x": null,
            "overflow_y": null,
            "padding": null,
            "right": null,
            "top": null,
            "visibility": null,
            "width": null
          }
        },
        "f18bc50e9ae04972911fdef465092cb9": {
          "model_module": "@jupyter-widgets/base",
          "model_name": "LayoutModel",
          "model_module_version": "1.2.0",
          "state": {
            "_model_module": "@jupyter-widgets/base",
            "_model_module_version": "1.2.0",
            "_model_name": "LayoutModel",
            "_view_count": null,
            "_view_module": "@jupyter-widgets/base",
            "_view_module_version": "1.2.0",
            "_view_name": "LayoutView",
            "align_content": null,
            "align_items": null,
            "align_self": null,
            "border": null,
            "bottom": null,
            "display": null,
            "flex": null,
            "flex_flow": null,
            "grid_area": null,
            "grid_auto_columns": null,
            "grid_auto_flow": null,
            "grid_auto_rows": null,
            "grid_column": null,
            "grid_gap": null,
            "grid_row": null,
            "grid_template_areas": null,
            "grid_template_columns": null,
            "grid_template_rows": null,
            "height": null,
            "justify_content": null,
            "justify_items": null,
            "left": null,
            "margin": null,
            "max_height": null,
            "max_width": null,
            "min_height": null,
            "min_width": null,
            "object_fit": null,
            "object_position": null,
            "order": null,
            "overflow": null,
            "overflow_x": null,
            "overflow_y": null,
            "padding": null,
            "right": null,
            "top": null,
            "visibility": null,
            "width": null
          }
        },
        "d525d981ab6e4983a6036b8b48e8768a": {
          "model_module": "@jupyter-widgets/controls",
          "model_name": "DescriptionStyleModel",
          "model_module_version": "1.5.0",
          "state": {
            "_model_module": "@jupyter-widgets/controls",
            "_model_module_version": "1.5.0",
            "_model_name": "DescriptionStyleModel",
            "_view_count": null,
            "_view_module": "@jupyter-widgets/base",
            "_view_module_version": "1.2.0",
            "_view_name": "StyleView",
            "description_width": ""
          }
        },
        "72c47ea26b5d415db8e628580ed6a188": {
          "model_module": "@jupyter-widgets/base",
          "model_name": "LayoutModel",
          "model_module_version": "1.2.0",
          "state": {
            "_model_module": "@jupyter-widgets/base",
            "_model_module_version": "1.2.0",
            "_model_name": "LayoutModel",
            "_view_count": null,
            "_view_module": "@jupyter-widgets/base",
            "_view_module_version": "1.2.0",
            "_view_name": "LayoutView",
            "align_content": null,
            "align_items": null,
            "align_self": null,
            "border": null,
            "bottom": null,
            "display": null,
            "flex": null,
            "flex_flow": null,
            "grid_area": null,
            "grid_auto_columns": null,
            "grid_auto_flow": null,
            "grid_auto_rows": null,
            "grid_column": null,
            "grid_gap": null,
            "grid_row": null,
            "grid_template_areas": null,
            "grid_template_columns": null,
            "grid_template_rows": null,
            "height": null,
            "justify_content": null,
            "justify_items": null,
            "left": null,
            "margin": null,
            "max_height": null,
            "max_width": null,
            "min_height": null,
            "min_width": null,
            "object_fit": null,
            "object_position": null,
            "order": null,
            "overflow": null,
            "overflow_x": null,
            "overflow_y": null,
            "padding": null,
            "right": null,
            "top": null,
            "visibility": null,
            "width": null
          }
        },
        "e20ed1b883194df689ce51a544e5dd00": {
          "model_module": "@jupyter-widgets/controls",
          "model_name": "ProgressStyleModel",
          "model_module_version": "1.5.0",
          "state": {
            "_model_module": "@jupyter-widgets/controls",
            "_model_module_version": "1.5.0",
            "_model_name": "ProgressStyleModel",
            "_view_count": null,
            "_view_module": "@jupyter-widgets/base",
            "_view_module_version": "1.2.0",
            "_view_name": "StyleView",
            "bar_color": null,
            "description_width": ""
          }
        },
        "f36f6cdd70c348ebb0ddc14f56e63e7d": {
          "model_module": "@jupyter-widgets/base",
          "model_name": "LayoutModel",
          "model_module_version": "1.2.0",
          "state": {
            "_model_module": "@jupyter-widgets/base",
            "_model_module_version": "1.2.0",
            "_model_name": "LayoutModel",
            "_view_count": null,
            "_view_module": "@jupyter-widgets/base",
            "_view_module_version": "1.2.0",
            "_view_name": "LayoutView",
            "align_content": null,
            "align_items": null,
            "align_self": null,
            "border": null,
            "bottom": null,
            "display": null,
            "flex": null,
            "flex_flow": null,
            "grid_area": null,
            "grid_auto_columns": null,
            "grid_auto_flow": null,
            "grid_auto_rows": null,
            "grid_column": null,
            "grid_gap": null,
            "grid_row": null,
            "grid_template_areas": null,
            "grid_template_columns": null,
            "grid_template_rows": null,
            "height": null,
            "justify_content": null,
            "justify_items": null,
            "left": null,
            "margin": null,
            "max_height": null,
            "max_width": null,
            "min_height": null,
            "min_width": null,
            "object_fit": null,
            "object_position": null,
            "order": null,
            "overflow": null,
            "overflow_x": null,
            "overflow_y": null,
            "padding": null,
            "right": null,
            "top": null,
            "visibility": null,
            "width": null
          }
        },
        "888526ec84a8464197489b57c8cfc515": {
          "model_module": "@jupyter-widgets/controls",
          "model_name": "DescriptionStyleModel",
          "model_module_version": "1.5.0",
          "state": {
            "_model_module": "@jupyter-widgets/controls",
            "_model_module_version": "1.5.0",
            "_model_name": "DescriptionStyleModel",
            "_view_count": null,
            "_view_module": "@jupyter-widgets/base",
            "_view_module_version": "1.2.0",
            "_view_name": "StyleView",
            "description_width": ""
          }
        }
      }
    },
    "accelerator": "GPU"
  },
  "nbformat": 4,
  "nbformat_minor": 0
}